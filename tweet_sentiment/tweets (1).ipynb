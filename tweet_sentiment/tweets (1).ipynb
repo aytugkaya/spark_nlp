{
 "cells": [
  {
   "cell_type": "code",
   "execution_count": 1,
   "metadata": {
    "ExecuteTime": {
     "end_time": "2020-08-09T14:35:11.474591Z",
     "start_time": "2020-08-09T14:35:11.328046Z"
    }
   },
   "outputs": [
    {
     "data": {
      "text/html": [
       "<style>.container { width:100% !important; }</style>"
      ],
      "text/plain": [
       "<IPython.core.display.HTML object>"
      ]
     },
     "metadata": {},
     "output_type": "display_data"
    }
   ],
   "source": [
    "import pyspark.sql.functions as F\n",
    "from pyspark.sql.types import StringType\n",
    "import sparknlp\n",
    "from sparknlp.pretrained import PretrainedPipeline\n",
    "from sparknlp.base import *\n",
    "from sparknlp.annotator import *\n",
    "\n",
    "\n",
    "\n",
    "from IPython.core.display import display, HTML\n",
    "display(HTML(\"<style>.container { width:100% !important; }</style>\"))"
   ]
  },
  {
   "cell_type": "code",
   "execution_count": 2,
   "metadata": {
    "ExecuteTime": {
     "end_time": "2020-08-09T14:35:15.161433Z",
     "start_time": "2020-08-09T14:35:12.701409Z"
    }
   },
   "outputs": [
    {
     "data": {
      "text/plain": [
       "'2.5.5'"
      ]
     },
     "execution_count": 2,
     "metadata": {},
     "output_type": "execute_result"
    }
   ],
   "source": [
    "spark = sparknlp.start()\n",
    "sparknlp.version()"
   ]
  },
  {
   "cell_type": "code",
   "execution_count": 3,
   "metadata": {
    "ExecuteTime": {
     "end_time": "2020-08-09T14:35:16.643364Z",
     "start_time": "2020-08-09T14:35:16.641584Z"
    }
   },
   "outputs": [],
   "source": [
    "# Import Spark NLP \n",
    "from sparknlp.base import *\n",
    "from sparknlp.annotator import *\n",
    "#from sparknlp.embeddings import *\n"
   ]
  },
  {
   "cell_type": "code",
   "execution_count": 35,
   "metadata": {
    "ExecuteTime": {
     "end_time": "2020-08-09T14:41:49.263370Z",
     "start_time": "2020-08-09T14:41:49.210392Z"
    }
   },
   "outputs": [],
   "source": [
    "spark_df = spark.read.csv('Sentiment.csv',header=True,encoding='utf-8')"
   ]
  },
  {
   "cell_type": "code",
   "execution_count": 36,
   "metadata": {
    "ExecuteTime": {
     "end_time": "2020-08-09T14:41:53.478028Z",
     "start_time": "2020-08-09T14:41:53.432647Z"
    }
   },
   "outputs": [
    {
     "name": "stdout",
     "output_type": "stream",
     "text": [
      "+----------+----------+--------------------+-----------+----------------------+----------+--------------------+--------------+-------------------------+--------------+----------+----------------+-------------+--------------+-------------------+----------+-----------+-------------+----------+--------------+-------------+\n",
      "|        id| candidate|candidate_confidence|relevant_yn|relevant_yn_confidence| sentiment|sentiment_confidence|subject_matter|subject_matter_confidence|candidate_gold|      name|relevant_yn_gold|retweet_count|sentiment_gold|subject_matter_gold|      text|tweet_coord|tweet_created|  tweet_id|tweet_location|user_timezone|\n",
      "+----------+----------+--------------------+-----------+----------------------+----------+--------------------+--------------+-------------------------+--------------+----------+----------------+-------------+--------------+-------------------+----------+-----------+-------------+----------+--------------+-------------+\n",
      "|         1|No cand...|                 1.0|        yes|                   1.0|   Neutral|              0.6578|    None of...|                      1.0|          null|I_Am_Kenzi|            null|            5|          null|               null|RT @Nan...|       null|   2015-08...|6296972...|          null|        Quito|\n",
      "|         2|Scott W...|                 1.0|        yes|                   1.0|  Positive|              0.6333|    None of...|                      1.0|          null|Peacefu...|            null|           26|          null|               null|RT @Sco...|       null|   2015-08...|6296971...|          null|         null|\n",
      "|         3|No cand...|                 1.0|        yes|                   1.0|   Neutral|              0.6629|    None of...|                   0.6629|          null|Pussssy...|            null|           27|          null|               null|RT @TJM...|       null|   2015-08...|6296971...|          null|         null|\n",
      "|         4|No cand...|                 1.0|        yes|                   1.0|  Positive|                 1.0|    None of...|                   0.7039|          null|MattFro...|            null|          138|          null|               null|RT @Rob...|       null|   2015-08...|6296971...|         Texas|   Central...|\n",
      "|         5|Donald ...|                 1.0|        yes|                   1.0|  Positive|              0.7045|    None of...|                      1.0|          null|sharonDay5|            null|          156|          null|               null|RT @Dan...|       null|   2015-08...|6296971...|          null|      Arizona|\n",
      "|         6|  Ted Cruz|              0.6332|        yes|                   1.0|  Positive|              0.6332|    None of...|                      1.0|          null|DRJohns...|            null|          228|          null|               null|\"RT @Gr...|       null|   2015-08...|6296971...|          null|   Central...|\n",
      "|         7|No cand...|                 1.0|        yes|                   1.0|  Negative|              0.6761|    FOX New...|                      1.0|          null|DebWill...|            null|           17|          null|               null|RT @war...|       null|   2015-08...|6296971...|    North G...|   Eastern...|\n",
      "|         8|No cand...|                 1.0|        yes|                   1.0|   Neutral|                 1.0|    None of...|                      1.0|          null|RaulAReyes|            null|            0|          null|               null|Going o...|       null|   2015-08...|6296971...|    New Yor...|   Eastern...|\n",
      "|         9|Ben Carson|                 1.0|        yes|                   1.0|  Negative|              0.6889|    None of...|                   0.6444|          null|   kengpdx|            null|            0|          null|               null|Deer in...|       null|   2015-08...|6296971...|          null|   Pacific...|\n",
      "|        10|No cand...|              0.4594|        yes|                0.6778|  Negative|              0.6778|    None of...|                   0.4594|          null|Kathiel...|            null|            1|          null|               null|RT @Nan...|       null|   2015-08...|6296971...|          null|         null|\n",
      "|        11|Donald ...|                 1.0|        yes|                   1.0|  Negative|                 1.0|    None of...|                      1.0|          null|   jnjsmom|            null|            0|          null|               null|@JGreen...|       null|   2015-08...|6296971...|    Peoria, IL|   Central...|\n",
      "|        12|Mike Hu...|                 1.0|        yes|                   1.0|  Positive|                 1.0|    Foreign...|                    0.652|          null| KLWorster|            null|          188|          null|               null|RT @Way...|       null|         null|      null|          null|         null|\n",
      "|Best li...|      null|          2015-08...| 6296971...|             Fargo, ND|Central...|                null|          null|                     null|          null|      null|            null|         null|          null|               null|      null|       null|         null|      null|          null|         null|\n",
      "|        13|No cand...|                 1.0|        yes|                   1.0|  Negative|              0.6957|    None of...|                      1.0|          null|wiggerb...|            null|            0|          null|               null|Me read...|       null|   2015-08...|6296971...|          null|         null|\n",
      "|        14|  Jeb Bush|              0.6947|        yes|                   1.0|   Neutral|              0.6421|    Foreign...|                      1.0|          null|NCBible...|            null|            5|          null|               null|\"RT @Ar...|       null|   2015-08...|6296971...|    Montgom...|   Central...|\n",
      "|        15|Scott W...|                 1.0|        yes|                   1.0|  Positive|                 1.0|    None of...|                      1.0|          null|In_Rela...|            null|          215|          null|               null|RT @pat...|       null|   2015-08...|6296971...|    San Die...|   Pacific...|\n",
      "|        16|Chris C...|                 1.0|        yes|                   1.0|  Negative|                 1.0|    None of...|                   0.6778|          null|  MDiner92|            null|            0|          null|               null|Hey @Ch...|       null|   2015-08...|6296971...|          null|   Central...|\n",
      "|        17|Donald ...|              0.3923|        yes|                0.6264|  Negative|              0.6264|    Women's...|                   0.3923|          null|gina_ca...|            null|           45|          null|               null|RT @Car...|       null|   2015-08...|6296971...|          null|         null|\n",
      "|        18|Donald ...|              0.6404|        yes|                   1.0|  Negative|              0.6629|    FOX New...|                      1.0|          null|ERNESTZ...|            null|            7|          null|               null|RT @joh...|       null|   2015-08...|6296971...|          null|   Mountai...|\n",
      "|        19|No cand...|                 1.0|        yes|                   1.0|  Negative|                 1.0|    None of...|               0.68599...|          null|LordWha...|            null|            0|          null|               null|reason ...|       null|   2015-08...|6296971...|          null|   Eastern...|\n",
      "+----------+----------+--------------------+-----------+----------------------+----------+--------------------+--------------+-------------------------+--------------+----------+----------------+-------------+--------------+-------------------+----------+-----------+-------------+----------+--------------+-------------+\n",
      "only showing top 20 rows\n",
      "\n"
     ]
    }
   ],
   "source": [
    "spark_df.show(truncate=10)"
   ]
  },
  {
   "cell_type": "code",
   "execution_count": 37,
   "metadata": {
    "ExecuteTime": {
     "end_time": "2020-08-09T14:41:55.623599Z",
     "start_time": "2020-08-09T14:41:55.610989Z"
    }
   },
   "outputs": [],
   "source": [
    "spark_df = spark_df.select('text').filter(\"text is not null\")"
   ]
  },
  {
   "cell_type": "code",
   "execution_count": 38,
   "metadata": {
    "ExecuteTime": {
     "end_time": "2020-08-09T14:41:56.704702Z",
     "start_time": "2020-08-09T14:41:56.702032Z"
    }
   },
   "outputs": [
    {
     "data": {
      "text/plain": [
       "['text']"
      ]
     },
     "execution_count": 38,
     "metadata": {},
     "output_type": "execute_result"
    }
   ],
   "source": [
    "spark_df.columns"
   ]
  },
  {
   "cell_type": "code",
   "execution_count": 39,
   "metadata": {
    "ExecuteTime": {
     "end_time": "2020-08-09T14:41:59.201408Z",
     "start_time": "2020-08-09T14:41:59.178579Z"
    }
   },
   "outputs": [],
   "source": [
    "spark_df = spark_df.select(F.regexp_replace('text',\"\\w+:\\/{2}[\\d\\w\\-]+(\\.[\\d\\w\\-]+)*(?:(?:\\/[^\\s/]*))*\",\"\").alias('text')).filter(\"text is not null\")\\\n",
    "                .select(F.regexp_replace('text',\"http.{1,10}…\",\"\").alias('text')).select(F.regexp_replace('text',\"…\",\"\").alias('text')).filter(\"text is not null\")"
   ]
  },
  {
   "cell_type": "code",
   "execution_count": 40,
   "metadata": {
    "ExecuteTime": {
     "end_time": "2020-08-09T14:42:03.102822Z",
     "start_time": "2020-08-09T14:42:03.012684Z"
    }
   },
   "outputs": [
    {
     "name": "stdout",
     "output_type": "stream",
     "text": [
      "+-------------------------------------------------------------------------------------------------------------------------------------------------------+\n",
      "|text                                                                                                                                                   |\n",
      "+-------------------------------------------------------------------------------------------------------------------------------------------------------+\n",
      "|RT @NancyLeeGrahn: How did everyone feel about the Climate Change question last night? Exactly. #GOPDebate                                             |\n",
      "|RT @ScottWalker: Didn't catch the full #GOPdebate last night. Here are some of Scott's best lines in 90 seconds. #Walker16                             |\n",
      "|RT @TJMShow: No mention of Tamir Rice and the #GOPDebate was held in Cleveland? Wow.                                                                   |\n",
      "|RT @RobGeorge: That Carly Fiorina is trending -- hours after HER debate -- above any of the men in just-completed #GOPdebate says she's on             |\n",
      "|RT @DanScavino: #GOPDebate w/ @realDonaldTrump delivered the highest ratings in the history of presidential debates. #Trump2016                        |\n",
      "|\"RT @GregAbbott_TX: @TedCruz: \"\"On my first day I will rescind every illegal executive action taken by Barack Obama.\"\" #GOPDebate @FoxNews\"            |\n",
      "|RT @warriorwoman91: I liked her and was happy when I heard she was going to be the moderator. Not anymore. #GOPDebate @megynkelly                      |\n",
      "|Going on #MSNBC Live with @ThomasARoberts around 2 PM ET.  #GOPDebate                                                                                  |\n",
      "|Deer in the headlights RT @lizzwinstead: Ben Carson, may be the only brain surgeon who has performed a lobotomy on himself. #GOPDebate                 |\n",
      "|RT @NancyOsborne180: Last night's debate proved it! #GOPDebate #BATsAsk @BadassTeachersA #TBATs                                                        |\n",
      "|@JGreenDC @realDonaldTrump In all fairness #BillClinton owns that phrase.#GOPDebate                                                                    |\n",
      "|RT @WayneDupreeShow: Just woke up to tweet this out #GOPDebate                                                                                         |\n",
      "|Me reading my family's comments about how great the #GOPDebate was                                                                                     |\n",
      "|\"RT @ArcticFox2016: RT @AllenWestRepub \"\"Dear @JebBush #GOPDebate #NotAMistake                                                                         |\n",
      "|RT @pattonoswalt: I loved Scott Walker as Mark Harmon's romantic rival in SUMMER SCHOOL. Look it up. #GOPDebate                                        |\n",
      "|Hey @ChrisChristie exploiting the tragedy of 9/11 for your own political gain is @rudygiulianiGOP's thing #GOPDebate                                   |\n",
      "|RT @CarolCNN: #DonaldTrump under fire for comments about women @PeterBeinart @SL_Schaeffer @IWF @@MyRkiger weigh in on #GOPdebate .                    |\n",
      "|RT @johncardillo: Guess who had most speaking time at the #GOPDebate. @FoxNews moderators with 31.7% of time.                                          |\n",
      "|reason comment is funny 'in case you're ignorant' is the #gop #tcot are the reason the government isn't working for the people #gopdebate              |\n",
      "|RT @PamelaGeller: Huckabee: Paying for transgender surgery for soldiers, sailors and airmen does not make our country safer #Ha #GOPDebate             |\n",
      "|RT @ChuckNellis: Cruz has class &amp; truth, that gets my vote! #GOPDebate                                                                             |\n",
      "|RT @mchamric: RT “@TeaTraitors: #GOPDebate was still Clown Show! I'm glad Head Clown Trump helping destroy GOP.                                        |\n",
      "|RT @erinmallorylong: No *I* hate Planned Parenthood and women more! NO I HATE PLANNED PARENTHOOD AND WOMEN MORE!!!!! #GOPDebate                        |\n",
      "|RT @thekevinryder: #GOPDebate (Vine by @dabulldawg88)                                                                                                  |\n",
      "|RT @MrPooni: Fox News trying to convince us young Black Americans are more worried about ISIS than police terrorism #GOPDebate                         |\n",
      "|#GOPDebate rankings: worst to be performance - Rubio, Kasich, Christie, Bush, Trump, Cruz, Walker, Paul, Huckabee, Carson.                             |\n",
      "|RT @TheBaxterBean: Scott Walker's Abortion Ban Allows Rapist Father To Sue For Emotional Distress  #GOPDebate @Badger                                  |\n",
      "|RT @feministabulous: It's not a competition, but how have we moved so far on gay rights but women's rights is worse than it's ever been? #G            |\n",
      "|RT @mch7576: RT “@TeaTraitors: #GOPDebate was still Clown Show! I'm glad Head Clown Trump helping destroy GOP.                                         |\n",
      "|RT @HillaryClinton: Watch the #GOPdebate? Bet you feel like donating to a Democrat right about now.                                                    |\n",
      "|@fbhw they're going to need to borrow the train horn for the next #GOPDebate ! The little bell was wimpy! #hornmeansyouredone                          |\n",
      "|RT @LisaVikingstad: Ted Cruz at the #GOPDebate will be like Ted Cruz in bed. He will keep a confusingly sad look on his face and refuse to             |\n",
      "|The First #GOPDebate: Social Media Reaction and More                                                                                                   |\n",
      "|#SocialMedia: The First #GOPDebate: Social Media Reaction and More                                                                                     |\n",
      "|RT WinesdayPodcast : An update on FoxNews tech failures for the #GOPDebate                                                                             |\n",
      "|RT @AmyMek: The Torched has been passed -&gt;.@CandyCrowley is no longer the most Famous Political Assassin! Congratulations @megynkelly, U Wi         |\n",
      "|RT @stockwizards3: Trump/Carson ticket would win in a landslide...                                                                                     |\n",
      "|\"RT @kvxrdashian: Jeb Bush: \"\"Obama is at fault                                                                                                        |\n",
      "|RT @ali: After the Fox News #GOPDebate, we primary voters are none the wiser on the policy plans these folks are putting forth. Journalism             |\n",
      "|RT @itsashlyperez: listening to fetty wap while packing because i'm a true american #GOPDebate #doesthishashtagexpire?                                 |\n",
      "|RT @mgell: Trump is a cross between the shrug emoji and President Business from the Lego movie. #GOPDebate                                             |\n",
      "|RT @JamelleMyBelle: Meanwhile, in the White House...  #GOPDebate                                                                                       |\n",
      "|RT @RowdyGentleman: If you’re planning out a #GOPDebate drinking game right now, you’re a Rowdy Gentleman.                                             |\n",
      "|RT @brownblaze: PLEASE RT. #KKKorGOP #GOPDebate                                                                                                        |\n",
      "|\"Trump thinks criticism of his misogynistic remarks is a \"\"political correctness\"\" problem. Nope                                                       |\n",
      "|RT @LeKarmaSucre: How the #GOPDebate handled #BlackLivesMatter                                                                                         |\n",
      "|RT @palmaceiahome1: The goal of #FoxNews last night was to take out Trump and pave the way for a RINO like Bush or Kasich. #GOPDebate                  |\n",
      "|RT @philstockworld: From our Live Chat Room: #GOPDebate #Trump #Futures $SPY #NonFarmPayrolls #Jobs #Netflix --  http                                  |\n",
      "|“@DanScavino: #GOPDebate w/ @realDonaldTrump delivered the highest ratings in the history of presidential debates. #Trump2016 Fox say thanks           |\n",
      "|\"RT @gov: Most-Tweeted @GovMikeHuckabee #GOPDebate moment: saying purpose of military \"\"to kill people/break things\"\" re trans servicemembers\"         |\n",
      "|RT @ariannahuff: The best and worst from the #GOPDebate                                                                                                |\n",
      "|RT @megynkelly: .@ChrisStirewalt: Big moments were @RandPaul vs. @ChrisChristie, and @realDonaldTrump reaction to women question. #KellyFil            |\n",
      "|RT @STYLEMOM: Here's a question, WHY in the hell are WOMEN &amp; our body parts even in this debate? Foh, stop it, it's not 1965 wtf #GOPDebate        |\n",
      "|@rushlimbaugh Americans getting beheaded overseas and @megynkelly is worried whether @realDonaldTrump calls Rosie O'Donnell fat? #GOPDebate            |\n",
      "|RT @ChuckNellis: I won't defend @FoxNews, they were FAR from fair OR balanced last night, but name calling is juvenile. #GOPDebate                     |\n",
      "|\"RT @theskysgoneout: To non-Christians, #GOPDebate \"\"God\"\" questions underline how little anyone really cares about religious minorities. Chri\"        |\n",
      "|RT @Bipartisanism: The #GOPDebate response to #BlackLivesMatter was pathetic.                                                                          |\n",
      "|RT @factcheckdotorg: .@JebBush said he cut FL taxes by $19B. But that includes cuts in estate taxes mandated by federal law. #GOPDebate. ht            |\n",
      "|RT @mydaughtersarmy: Dear GOP,                                                                                                                         |\n",
      "|RT @KarrattiPaul: Join ISIS and sign your death warrant,                                                                                               |\n",
      "|RT @P0TUS: #GOPDebate closing statements:                                                                                                              |\n",
      "|RT @AmyMek: Status 👉 Single                                                                                                                           |\n",
      "|RT @FrankLuntz: Before the #GOPDebate, 14 focus groupers said they had favorable view of Trump.                                                        |\n",
      "|RT @_Holly_Renee: Just made my first donation to @CarlyFiorina.                                                                                        |\n",
      "|RT @TheJimHughes: If we want to stop sending foreign aid to places that burn our flag can we start with Berkeley? #GOPDebate                           |\n",
      "|RT @frankthorpNBC: The Rand Paul eye roll to Chris Christie at the #GOPDebate                                                                          |\n",
      "|RT @JohnKasich: Scrap the President's Iran deal. Iran can’t get a nuke. #Kasich4Us #GOPDebate                                                          |\n",
      "|Trying to decide if it's too early to come back to Twitter fulltime. Was gonna wait closer to election but the #GOPDebate may have me hooked           |\n",
      "|RT @MsPackyetti: Donald Trump's campaign reveals 1 important thing: Twitter Trolls are real people.                                                    |\n",
      "|\"RT @Bipartisanism: Those saying \"\"don't worry                                                                                                         |\n",
      "|\"Fox News Had Its Own #GOPDebate Agenda: Promote Carly \"\"never mention fired from HP\"\" Fiorina                                                         |\n",
      "|RT @HlLLARY: Oh, one more thing. Did anyone hear anything about affordable child care for working families last night in the #GOPDebate ? I            |\n",
      "|\"RT @NaughtyBeyotch: RT @AllenWestRepub \"\"Dear @JebBush #GOPDebate #NotAMistake                                                                        |\n",
      "|@marthamaccallum @billhemmer #gopdebate Bill and Martha were the A Team in the first debate. 2nd debate was an ambush.                                 |\n",
      "|\"The Country's going to hell and Megyn Kelly on #FoxNews is attacking Trump for a \"\"war on women?\"\" #GOPDebate\"                                        |\n",
      "|RT @Franklin_Graham: 1st #GOPDebate--Encouraging to see several candidates express their faith in God and His Son, Jesus Christ.                       |\n",
      "|RT @SnarkyDemo: #DonaldTrump said he’s not “politically correct.”  Which, of course, is Trumpspeak for “Let’s face it, I’m huge asshole.” #            |\n",
      "|RT @Bipartisanism: A message to the #GOPDebate candidates:                                                                                             |\n",
      "|RT @davidcicilline: This is the worst episode of The Apprentice that I've ever seen. #GOPDebate                                                        |\n",
      "|\"RT @GovMikeHuckabee: Luntz: \"\"As the lines go up                                                                                                      |\n",
      "|\"RT @lolhayley: \"\"The purpose of the military is to kill people and break things.\"\" - something an actual man running for president just said \"        |\n",
      "|Wondering if I could get the Republican Party to pay for my liver transplant after playing @mtaibbi #GOPDebate drinking game last night.               |\n",
      "|RT @BrandonDHowell: Great way to start Friday. #CarlyFiorina @CarlyFiorina #GOPDebate                                                                  |\n",
      "|RT @tedcruz: If elected, on my first day as President, I'll rescind every illegal and unconstitutional executive order enacted by Pres. Oba            |\n",
      "|RT @Ronnie2K: Donald Trump during #GOPDebate be like...                                                                                                |\n",
      "|RT @bruneski: Was upstairs putting the kids to bed. How many questions about climate change did I miss? #GOPDebate #GOPClownCar                        |\n",
      "|They’re all Todd Akin now: How the Planned Parenthood sting backfired on Republicans #GOPDebate #StandwithPP                                           |\n",
      "|RT @learjetter: Hey @Foxnews let #REPUBLICANS digest #GOPDebate before allowing crazy @DWStweets to TRASH OUR #GOP! @LadySandersfarm                   |\n",
      "|RT @TheBaxterBean: Watch Donald Trump Receive Enormous Applause for Horribly Misogynistic #GOPDebate Answer                                            |\n",
      "|A few of my favorite #Twitter responses to the #GOPDebate last night:                                                                                  |\n",
      "|Even though she's a super conservative reporter, I actually like Megyn Kelly's interview style &amp; she did great at the #GOPDebate                   |\n",
      "|RT @kingsthings: The #GOPdebate is not a debate at all. It's a series of 1 minute opportunities to avoid answering a question one candidate            |\n",
      "|RT @MelissaGracey: Credit for this joke goes to someone else but it is funny! #GOPDebate                                                               |\n",
      "|RT @Reince: Simply incredible.  Last night's #GOPDebate doubled the previous record for most-watched primary debate i                                  |\n",
      "|\"RT @KateThomas: This literally couldn't be more true for me. \"\"I Watched the #GOPDebate &amp; All I Got Was a Lousy Hangover\"\"                        |\n",
      "|RT @fl_dreamer: Haha a little saas from @voxdotcom this morning towards @realDonaldTrump. #FactChecked #GOPDebate                                      |\n",
      "|\"RT @TexasCruzn: RT @AllenWestRepub \"\"Dear @JebBush #GOPDebate #NotAMistake                                                                            |\n",
      "|RT @zellieimani: What people saw in person vs what we saw on tv. #GOPDebate                                                                            |\n",
      "|RT @TheBaxterBean: Marco Rubio Told To His Face He's 'Candidate Of Yesterday' For His Anti-Gay Bigotry  #GOPDebate ht                                  |\n",
      "|RT @carIisIe: None of them have made Trump look out of place or foolish yet. Think about that. When you're done crying, think about it agai            |\n",
      "|\"RT @akbarjenkins: Maybe the GOP just got Piven &amp; Cloward confused with Pinkard &amp; Bowden? \"\"She thinks I steal cars...\"\" @kevinbaker @KevinMKr\"|\n",
      "|Had a great time watching the #GOPDebate last night                                                                                                    |\n",
      "|\"RT @JRehling: #GOPDebate Donald Trump says that he doesn't have time for political correctness. How does calling women \"\"fat pigs\"\" save him \"        |\n",
      "|RT @theonlyadult: This is the @POTUS we have now. One of the people on TV now might be the next one. RIP everything. #GOPDebate                        |\n",
      "|I think @realDonaldTrump was caught by surprise by that first question and was never able to recover his equilibrium. #GOPDebate                       |\n",
      "|\"RT @kirahoffy: \"\"@FoxNews web stream and mobile app fail during #GOPDebate”  Why am I not surprised?                                                  |\n",
      "|RT @JohnKasich: John Kasich helped Ohioans create 350,000 new jobs. He can do it for America. #GOPDebate                                               |\n",
      "|Please help the Maryknoll Sisters replace windows in their convent  #Catholic #gofundme #trcot #GOPDebate                                              |\n",
      "|RT @CarlyFiorina: At #GOPDebate, I won over our largest audience yet. Can you chip in $3 to help us keep it up?                                        |\n",
      "|Trump just said @JebBush is a true gentleman &amp; then they started violently 69ing. #GOPDebate                                                       |\n",
      "|RT @cameronesposito: Ugh will these guys ever shut up about how much they respect women? #GOPDebate                                                    |\n",
      "|RT @SnarkyDemo: What did the #GOPDebate teach us about a future President Trump?  America probably won’t be safe, except if we’re attacked             |\n",
      "|RT @congoboy: This is going to be a long, tiring election season.                                                                                      |\n",
      "|\"RT @AmyMek: \"\"God has blessed the Republican party with many great candidates                                                                         |\n",
      "|RT @JohnKasich: The miracle can happen to you. Grow opportunity and grow jobs. #GOPDebate                                                              |\n",
      "|RT @MattyIceAZ: Scott Walker can't even carry his own state. #GOPDebate                                                                                |\n",
      "|RT @XLNB: Black people, if you need anymore indication why Republicans hate us. Peep this. #GOPDebate                                                  |\n",
      "|RT @Smethanie: Sure, God told me I should run, and the Tooth Fairy agreed and all the Teletubbies voted yes, so here I am. #GOPDebate                  |\n",
      "|RT @palmaceiahome1: Trump should have told Megyn Kelly to go to HELL! #FoxNews #GOPDebate                                                              |\n",
      "|\"RT @palmaceiahome1: Caller on the Rush Limbaugh show:\"\"I have lost all respect for Fox News.\"\" #FoxNews #GOPDebate\"                                   |\n",
      "|\"RT @realDonaldTrump: \"\"@stinger_inc: @realDonaldTrump  @megynkelly's behaviour at the #GOPDebate was astonishingly biased.\"\"\"                         |\n",
      "|Republicans Debate Economics: Rubio Wins, Bush Falters, Huckabee Exaggerates  #GOPdebate #knowmorenotless @GPNAPLang                                   |\n",
      "|RT @JamesViser: Huh. Half of Clinton's charity went to...the Clintons!  #copolitics #Hillary2016 #StopHillary #UniteB                                  |\n",
      "|\"RT @kraig4u: #GOPDebate  The order was to \"\"take out Trump\"\"                                                                                          |\n",
      "|RT @DiegoUK: Democrats watching the #GOPDebate last night                                                                                              |\n",
      "|RT @AmyMek: We all owe @realDonaldTrump a huge thank you 4 exposing to the world👉@megynkelly, Chris Wallace, &amp; @FrankLuntz are true Rhinos!       |\n",
      "|RT @TheBaxterBean: Scott Walker Lies: Says WI Budget Has $535M Surplus (Actually Has $1.76B Deficit)  #GOPDebate http                                  |\n",
      "|You're right Last I heard @SenSanders was that only women could give birth to s child. Has that changed? #GOPDebate                                    |\n",
      "|\"RT @pattonoswalt: \"\"Have any of you received a word from God?\"\" = \"\"Are any of you soup-sandwich crazy?\"\" #GOPDebate\"                                 |\n",
      "|\"RT @FrankConniff: Fox News #GOPDebate interviewer to candidates: \"\"What's your take on these GOP talking points I'm feeding you?\"\"\"                   |\n",
      "|RT @LeslieMac: But the murder of black ppl is just fine- just not unborn black babies? #GOPLogic #GOPDebate                                            |\n",
      "|RT @HillaryClinton: Missing Jon Stewart already. #GOPdebate #JonVoyage -H                                                                              |\n",
      "|RT @CharlotteLaws: Chris Christie is really standing out at the #GOPdebate                                                                             |\n",
      "|\"RT @libertyjibbet: Hey .@realDonaldTrump You know who didn't whine about \"\"unfair\"\" questions? @CarlyFiorina Grow a set why don't ya'. #GOPDe\"        |\n",
      "|You can't be pro-life AND have watched that 2 hour abortion last night.                                                                                |\n",
      "|RT @DanScavino: .@MegynKelly,                                                                                                                          |\n",
      "|RT @edstetzer: Btw... when you mix politics and religion, you get politics. #GOPDebate                                                                 |\n",
      "|RT @TeamMarco: Marco nailed it on abortion. We must protect life. #GOPDebate                                                                           |\n",
      "|@megynkelly @BretBaier @foxnews WTF was up with Chris Wallace attacking #Trump2016 on bankruptcy then giving Rubio a softball? #GOPDebate              |\n",
      "|They obviously didn't get the memo about #SeersuckerThursday. #GOPDebate                                                                               |\n",
      "|RT @VH1: Honestly, Donald Trump you were ALL types of petty at last night's #GOPDebate 😒 --&gt;                                                       |\n",
      "|RT @TuxcedoCat: All Republican dopefuls who say they'll take US back to 2009 on 'Day One' will never see one day in White House! #GOPDebate            |\n",
      "|Trump gloating abt buying GOP+Dem pols &amp;them doing his bidding IS my 2000s Billionaire caricature MyaCash #GOPDebate                               |\n",
      "|RT @peddoc63: Go Carly📢                                                                                                                               |\n",
      "|RT @Daenerys: Listening to the #GOPDebate like                                                                                                         |\n",
      "|RT @ScorpionsPriest: Best moment of the #GOPDebate last night: Rand telling Christie to go get another hug from Obama.                                 |\n",
      "|RT @JohnFugelsang: If you missed either #GOPDebate all you need to know is there's no $ for struggling Americans and unlimited $ for war.              |\n",
      "|RT @pfikac: .@JebBush 'We are on the verge of the greatest time to be alive in this world but Washington is holding us back' #mysa #txlege             |\n",
      "|RT @DrMartyFox: #Trump Wins Drudge                                                                                                                     |\n",
      "|\"RT @SiteROI: @GovernorPerry fights back against \"\"what will you do abt immigration\"\" Q. Says border is porous                                         |\n",
      "|Summary is the #GOPDebate: Status quo shit show                                                                                                        |\n",
      "|RT @ThePatriot143: Debbie Blocks Tweeter Who Questioned Dem Debate Schedule   #GOPDebate @DWStweets                                                    |\n",
      "|RT @sallykohn: Hey look, it’s 10 men standing on a stage arguing why they should get to control women’s bodies and choices. #GOPDebate                 |\n",
      "|RT @TheBaxterBean: Rubio Budget Raises MiddleClass Taxes, Adds $4.5T Deficit, Cuts InvestmentTax To $0  #GOPDebate ht                                  |\n",
      "|RT @ChrisJZullo: Last night at the #GOPdebate all I saw was a bunch of Rich and Old despots with ZERO solutions to our nations problems #un            |\n",
      "|RT @NancyOsborne180: #GOPDebate #BATsAsk @BadassTeachersA #TBATs Debate over We learned nothing new                                                    |\n",
      "|RT @RFHKerry: If you think ANY of these people are qualified...unfollow me.  #GOPDebate                                                                |\n",
      "|RT @Bipartisanism: Ben Carson spoke about science at the #GOPDebate and @neiltyson was like:                                                           |\n",
      "|Who's the real illegal alien- #GOPDebate  Farrakhan on Immigration  the Mexican Bor...  via @YouTube                                                   |\n",
      "|#GOPDebate The talking heads put on the debate now the talking heads are telling us how the debates went. Maybe we wasted our time watching            |\n",
      "|RT @STEEL5757: 🎀 #DonaldTrump Plaza Casino #TeddyBear Plush in #Tuxedo 🎀  🎀 #CoolStuff #GOPDebate                                                   |\n",
      "|#Trump is right about @megynkelly but really needs to study Matthew 7, verses 3-5. #GOPDebate                                                          |\n",
      "|RT @AC360: It wasn’t all #DonaldTrump. The most memorable #GOPDebate moments right now on #AC360.                                                      |\n",
      "|#GOPDebate in one picture                                                                                                                              |\n",
      "|\"RT @maureenjohnson: \"\"Where do you think women should sleep when they have The Curse? The shed? Or in an open field                                   |\n",
      "|\"\"\"I think God's a pretty fair guy\"\" -Ben Carson                                                                                                       |\n",
      "|\"RT @NancyLeeGrahn: The cheers from #GOPDebate  audience afterTrump defiantly named @Rosie as the woman he called \"\"Fat Pig\"\" were the voices \"        |\n",
      "|#BlackLives don't matter, apparently, to Republican candidates for president   / or to @FoxNews #uniteblue #GOPDebate                                  |\n",
      "|Overall the main thing we learned from the #GOPDebate is that only straight, white, men matter.                                                        |\n",
      "|@USFree4life I thought @seanhannity had the best post #GOPDebate interviews of the night, gave them all a chance 2straighten their position.           |\n",
      "|RT @JohnKasich: Hey @RealDonaldTrump, if you're still looking to chip in, check out                                                                    |\n",
      "|\"@megynkelly @BretBaier #ChrisWallace, #America is criticizing UR PERFORMANCES during #GOPDebate b/c U did a REALLY bad job as \"\"moderators.\"\"\"        |\n",
      "|\"“@GovMikeHuckabee: Luntz: \"\"As the lines go up                                                                                                        |\n",
      "|RT @oftenimprudent: I wish we could teach teenage girls to love themselves as much as Donald Trump loves himself. #GOPdebate                           |\n",
      "|RT @AmyMek: Conservatives are a people without a Network!                                                                                              |\n",
      "|RT @BHowl_: How come there's no talk about climate change? Has anyone here even seen California right now? #GOPDebate #DebateWithBernie                |\n",
      "|RT @travisconsidine: .@GovernorPerry #GOPDebate Performance Review-Reel:  #Perry2016                                                                   |\n",
      "|RT @ChrisJZullo: Last night they could have have raised their hands. I'm a spoiled billionaire, I'm an oligarch, I'm a racist, I'm a religi            |\n",
      "|#GOPDebate 2016 #teamdrbencarson @RealBenCarson  WOW! Brilliant, Cool, Calm &amp; Collected.#empowering                                                |\n",
      "|RT @SooperMexican: Ted Cruz doesn't appreciate your emphatically sarcastic air quotes, megan kelly. #GOPDebate                                         |\n",
      "|RT @BenJamminWalker: Under no circumstances should 10 men dictate abortion rights to women. It's the 21st Century, we are better than that.            |\n",
      "|RT @DanScavino: #GOPDebate Winner!                                                                                                                     |\n",
      "|\"RT @JoePrich: .@megynkelly  In 2012 you chided @CandyCrowley for \"\"going from objective moderator to active participant\"\" #GOPDebate \"                |\n",
      "|#GOPDebate @FoxNews @realDonaldTrump  in1996 you called @billclinton a two timing slut.  Do you stand by that statement!?                              |\n",
      "|RT @renomarky: ☑ never watch #KellyFile again                                                                                                          |\n",
      "|IMHO #GOPDebate                                                                                                                                        |\n",
      "|RT @JohnKasich: SMALLER GOVT: Ohio government payroll is smaller than it's been in 3 decades.  #GOPDebate                                              |\n",
      "|RT @zellieimani: Twitter Users Takeover #GOPDebate Hashtag to Drag GOP Candidates  #KKKorGOP                                                           |\n",
      "|\"RT @JebBush: \"\"Challenging the teacher's unions and beating them is the way to go.\"\" – Jeb  #GOPDebate\"                                               |\n",
      "|RT @billyeichner: Thank you all for watching the #GOPDebate tonight. @julieklausner and I had a blast writing it.                                      |\n",
      "|@theblaze The REAL war on women!@realDonaldTrump @megynkelly @rushlimbaugh #GOPDebate @AnnCoulter                                                      |\n",
      "|\"RT @GovernorPerry: .@GovernorPerry's \"\"On Fire\"\" Debate Performance  #GOPDebate #Perry2016 #tcot\"                                                     |\n",
      "|RT @blowticious: Pro-life Republicans be like #GOPDebate                                                                                               |\n",
      "|RT @GovernorPerry: ICYMI: @GovernorPerry on Border Security/Illegal Immigration #GOPDebate  #Perry2016 #tcot                                           |\n",
      "|RT @AllThingsFlynn: This Trump vs. Fox News conflict is quite the conundrum. It’s like the personification of Greed vs. Hate. Who do I root            |\n",
      "|RT @CarlyFiorina: I know how extraordinary this nation is. #GOPDebate                                                                                  |\n",
      "|RT @LAXnOREOS: Meanwhile, in the White House...  #GOPDebate                                                                                            |\n",
      "|#rubio still my preference but i can see point of his critics over opportunism, inconsistency #gopdebate                                               |\n",
      "|Did @realDonaldTrump ever tell @megynkelly to go wait in the car? Her bad attitude suggests it. #WarOnWomen #GOPDebate                                 |\n",
      "|\"RT @TheTexasPhoenix: He was on fire! .@GovernorPerry's \"\"On Fire\"\" Debate Performance:  #GOPDebate #Perry2016\"                                        |\n",
      "|RT @Playing_Dad: Settling in for the #GOPDebate                                                                                                        |\n",
      "|\"RT @realDonaldTrump: \"\"@FrankLuntz: I'm getting a lot of @MegynKelly hatemail tonight. 😆 #GOPDebate\"\" She is totally overrated and angry. She\"       |\n",
      "|\"This literally couldn't be more true for me. \"\"I Watched the #GOPDebate &amp; All I Got Was a Lousy Hangover\"\"  @robinmarty\"                          |\n",
      "|#JonVoyage was half as long as the #GOPDebate  but twice as intelligible.                                                                              |\n",
      "|RT @LisaBloom: Not a single question in last night's #GOPDebate about the most urgent issue of our time: climate change.                               |\n",
      "|\"#GOPDebate What was up with #FoxNews &amp; their \"\"gotcha\"\" questions? They seemed designed to elicit typical political \"\"spin\"\" responses. #tlot\"    |\n",
      "|After the #GOPDebate all of the promises being made by startups at this tech conference seem quite reasonable.                                         |\n",
      "|RT @Roy___Rogers: @KnucklDraginSam @GOP @realDonaldTrump @yobynnad1127 AMEN! #Trump2016 #WakeUpAmerica #GOPDebate #tcot #stoprush .                    |\n",
      "|RT @CarlyFiorina: The highest calling of leadership is to challenge the status quo &amp; unlock potential in others. #GOPDebate. #Carly2016            |\n",
      "|RT @zzcrane: Me watching the Donald Trump bandwagon pass.                                                                                              |\n",
      "|\"RT @deray: Before the #GOPDebate began, didn't the moderators say that 8 million ppl were discussing \"\"racial issues\"\"? What happened to thos\"        |\n",
      "|RT @feministabulous: There's nothing like listening to ten dudes who will never need an abortion, talk about whether I should have a right             |\n",
      "|RT @SenWhitehouse: FOX silenced by Koch billions too? Not a single question at last night's #GOPDebate to #climatechange deniers about Mond            |\n",
      "|RT @tyriquex: These republicans are rich, they don't care about the poverty of America &amp; they definitely don't care bout the poverty of bla        |\n",
      "|So we just had an office chat about the #GOPDebate,  &amp; I was outed as both a flaming liberal and a politics geek. Probably not surprising.         |\n",
      "|Catching up on my #GOPDebate @LindseyGrahamSC what a childish &amp; cheap move to call out @billclinton &amp; @HillaryClinton on a 17 year old story   |\n",
      "|RT @TomHall: The only thing that could've made last night's #GOPDebate more amusing would have been:                                                   |\n",
      "|RT @kesgardner: All Ted Cruz does is attack other Republicans. #GOPDebate                                                                              |\n",
      "|\"RT @GovernorPerry: ICYMI: Not just no, but \"\"hell no\"\" to the #IranDeal! #GOPDebate #Perry2016 #tcot                                                  |\n",
      "|RT @FrankConniff: Hard to say who won the #GOPDebate - Bernie or Hillary?                                                                              |\n",
      "|RT @larhunter: If Donald Trump wins the election, then we'll know we're on the Biff-stole-the-almanac timeline. #GOPDebate                             |\n",
      "|RT @CarlyFiorina: Can you chip in $3 to keep the momentum going? #GOPdebate #Carly2016                                                                 |\n",
      "|RT @cenkuygur: Chris Christie just said you have to work two more years before retiring.And that you'll get tens of thousands less you paid            |\n",
      "|RT @JohnKasich: John Kasich is ready to lead. Join the team, Claire!:                                                                                  |\n",
      "|RT @edwrather: The biggest losers in the debate were the Fox moderators who attacked instead of moderating #GOPDebate                                  |\n",
      "|RT @WhitneyNeal: Trump has yet to give a single, evidence-based answer to a direct question about policy. That should frighten you. #GOPDeb            |\n",
      "|On my way to the studio -- about to appear on @CNN to discuss last night's #GOPDebate. Tune in!                                                        |\n",
      "|RT @Blkfeminst: I honestly think sometimes these guys forgot they came from wombs too. #KKKorGOP #GOPDebate                                            |\n",
      "|RT @GrnEyedMandy: Women who shame other women for having abortions deserve to be shamed for having no soul or self respect.                            |\n",
      "|RT @AmandaJoGomez: Me: *watches the #GOPDebate *                                                                                                       |\n",
      "|RT @IcarusPundit: Donald Trump’s closing statement is every dinner conversation had at The Villages, ever. #GOPDebate                                  |\n",
      "|\"RT @TheXclass: \"\"When the rich wage war it's the poor who die.\"\" Jean-Paul Sartre                                                                     |\n",
      "|At the #GOPDebate, we saw the candidates completely miss the mark on race &amp; #BlackLivesMatter                                                      |\n",
      "|RT @SeaBassThePhish: S/O to the GOP for being proud of defeating teachers union even though they just wanted higher wages #GOPDebate                   |\n",
      "|RT @Writeintrump: Obama better not leave his prayer rug behind in the Oval Office when I get elected because I'll throw it out.   #GOPDebate           |\n",
      "|@ChuckNellis @FoxNews You got that right! #GOPDebate                                                                                                   |\n",
      "|RT @mrskimcam: Trump just said the U.S. is stupid, so let's vote him President. WTF people. #GOPDebate                                                 |\n",
      "|So excited for @johnkasich #GOPDebate #Kasich4Us #Republicandebate #kasich2016 been waiting for 20 years!!                                             |\n",
      "|RT @ChadPergram: Rep Engel is 2nd major Jewish Democrat to announce opposition to Iran deal during #GOPDebate, following Schumer opposition.           |\n",
      "|Hey look it's my feelings about Donald Trump summed up in one gif #GOPDebate                                                                           |\n",
      "|RT @tommychong: Are any of these dudes for the legalization of marijuana, or what? #GOPDebate                                                          |\n",
      "|RT @CBeresniova: What I learned from the #GOPDebate:                                                                                                   |\n",
      "|RT @TheBaxterBean: Marco Rubio Briefly Backed Immigration Reform Then Privately Berated DREAMers  #GOPDebate                                           |\n",
      "|RT @DamienFahey: “I french-kissed Jesus Christ!” - Every candidate #GOPDebate                                                                          |\n",
      "|#GOPDebate #Closingstatements @GovMikeHuckabee just be honest. u were defs talking about @realDonaldTrump coz he's stealing ur schtick                 |\n",
      "|When cnn, msnbc ,and the new York times praise fox moderators then you know the moderators fucked up. #GOPDebate                                       |\n",
      "|RT @kesgardner: Trump is a lunatic. #GOPDebate                                                                                                         |\n",
      "|Cruz has class &amp; truth, that gets my vote! #GOPDebate                                                                                              |\n",
      "|RT @kesgardner: AssClown: I'm the only reason anyone is even talking about illegal immigration. Keep digging, Donald! #GOPDebate                       |\n",
      "|RT @BernieSanders: Tom Hanks. Finally. Somebody who makes some sense. #GOPDebate #DebateWithBernie                                                     |\n",
      "|RT @SouthernHomo: Olivia Pope would not vote for any of these guys #GOPDebate                                                                          |\n",
      "|All #GOP candidates want to reduce taxes while #Huckabee wants to legalize prostitution and drugs so we can tax it. #GOPDebate                         |\n",
      "|RT @kesgardner: Hi Fox panel, can you just ask Donald every single question? Hand him a shovel while you're at it so he can keep digging. #            |\n",
      "|RT @JosephKapsch: And then hillaryclinton @barackobama joebiden were all... #GOPDebate                                                                 |\n",
      "|#GOPDebate #Trump is Breaking Records! So what he's not a polished Politician. Makes me love him even more.                                            |\n",
      "|RT @BernieSanders: Oh. It was just a movie trailer. #GOPDebate #DebateWithBernie                                                                       |\n",
      "|RT @TacticalDissent: So Sally Kohn &amp; Debbie Wasserman Schultz both  praising Megyn Kelly tonight. That should tell you everything you need         |\n",
      "|Why are all the Trump accessory women wearing the same shoes?!  #GOPDebate                                                                             |\n",
      "|funniest line coming fr #republican 'People are frustrated, they’re fed up, they don’t think the government’s working for them' #gopdebate             |\n",
      "|And Donald Trump is an absolute nut! So entertaining LOL #GOPDebate                                                                                    |\n",
      "|\"\"\"@thehill: Top GOP pundits pick their #GOPdebate winners:                                                                                            |\n",
      "|RT @DykstraDame: Candidates went after @HillaryClinton 32 times in the #GOPdebate-but remained silent about the issues that affect us. http            |\n",
      "|RT @DanScavino: .@MegynKelly trying 2show up @realDonaldTrump w @FoxNews. Trying 2take him down. Trying 2destroy him. Not happening. #Kelly            |\n",
      "|RT @gov: Most-Tweeted #GOPDebate moment for @RealBenCarson: saying he wouldn't publicize to the world his answer on waterboarding.                     |\n",
      "|I give him a e for his big ego. #GOPDebate A's are earned for excellence. Rhymes with rump.                                                            |\n",
      "|Passion of the #GOPDebate #ReligiousUpaMovie                                                                                                           |\n",
      "|\"RT @NRO: \"\"@marcorubio got the best reviews                                                                                                           |\n",
      "|RT @OhNoSheTwitnt: Can't wait to see which Lannister they kill off in the next episode of #GOPDebate                                                   |\n",
      "|RT @kesgardner: Brutal question to the AssClown from Megan Kelly. The lesson here: be careful what you tweet on Twitter! #GOPDebate                    |\n",
      "|RT @TUSK81: Democrats watching this #GOPDebate                                                                                                         |\n",
      "|Trump changed his mind on supporting PARTIAL BIRTH ABORTION because a friend changed their mind on aborting &amp; had a great kid. #GOPDebate          |\n",
      "|Best closing statement: @RealBenCarson #GOPDebate                                                                                                      |\n",
      "|RT @ChrisChristie: We have to stop worrying about being loved &amp; start worrying about being respected. #TellingItLikeItIs #GOPDebate                |\n",
      "|\"RT @lesleyabravanel: Trump sycophants want to know what @megynkelly's \"\"hidden agenda\"\" was last night. Answer is simple: it's called a vagin\"        |\n",
      "|The Real #GOPDebate Winner: Republican Voters - Fox Nation                                                                                             |\n",
      "|Donald Trump is a really nasty piece of work. Hope he disappears quickly. #GOPDebate                                                                   |\n",
      "|RT @amaraconda: FETUSES ARE NOT UNBORN BABIES THEY ARE CLUSTERS OF CELLS STOP SHAMING PEOPLE WHO WANT/HAVE HAD ABORTIONS #GOPDebate                    |\n",
      "|RT @mattkbh: These were far and away the best tweets of last night #DebateWithBernie #GOPDebate                                                        |\n",
      "|I know now who it is that #ChrisChristie reminds me of: actor Andy Devine. #GOPDebate                                                                  |\n",
      "|RT @pattonoswalt: Despite what Huckabee says, I always make sure my prostitute AND her pimp pay FICA and pension. #GOPDebate                           |\n",
      "|RT @Bipartisanism: Hillary Clinton was watching the #GOPDebate like:                                                                                   |\n",
      "|@FoxNews did great by challenging the candidates in #GOPDebate. If these candidates can't handle a tough question they could never b #POTUS            |\n",
      "|RT @k_mcq: I’d say it was the opposite. Megan Kelly acted like some SJW on Tumblr whining about feminism. Very sad. #GOPDebate                         |\n",
      "|RT @Conssista: Rightly so Frank. Rightly so. #GOPDebate                                                                                                |\n",
      "|the number of times that ronald reagan is mentioned in the #GOPDebate is TOO DAMN HIGH                                                                 |\n",
      "|\"RT @pattonoswalt: If Trump is against \"\"p.c. culture                                                                                                  |\n",
      "|RT @carljacksonshow: #BenCarson great close! He operates on brains so he doesn't worry about skin color. #GOPDebate                                    |\n",
      "|\"RT @Davante_R: Women that would be offended by Trumps \"\"Misogyny\"\" most certainly don't vote Republican.                                              |\n",
      "|RT @Auntcol54: Keep religion out of politics! #GOPDebate                                                                                               |\n",
      "|\"RT @DianneG: \"\"I won't be bought &amp; I won't be sold\"\" @randpaul after reiterating his points against @realDonaldTrump during #gopdebate\"           |\n",
      "|RT @wilw: Boy, I bet the mood in the clown car is going to be TENSE when these jerks leave the #GOPDebate.                                             |\n",
      "|RT @CampeauElliot: Dr. Ben Carson did a great job tonight! Loved your closing statement! @RealBenCarson #GOPDebate                                     |\n",
      "|RT @RedheadAndRight: Meet the new darling of the left 》 Megyn Gotcha Kelly. #GOPDebate @FoxNews #DonaldTrump #MegynKelly                              |\n",
      "|“@foxnewspolitics: Behind the Fox debate: How the anchors hashed out the questions #GOPDebate They Failed                                              |\n",
      "|Did anyone get trashed playing @RollingStone's #GOPDebate drinking game?   #drinkinggame                                                               |\n",
      "|If #DonaldTrump donates to U..He can call in a favor years later?? Sounds like #TheGodfather                                                           |\n",
      "|RT @jediane9: Ugh to think there were actually people sitting on their couch last night saying YES YES THIS IS REASONABLE. #GOPDebate                  |\n",
      "|\"RT @BarracudaMama: RT @AllenWestRepub \"\"Dear @JebBush #GOPDebate #NotAMistake                                                                         |\n",
      "|RT @kesgardner: If politics can be even partially rational, Trump's campaign for the GOP nomination just ended. #GOPDebate                             |\n",
      "|\"RT @AndrewHClark: .@GayPatriot's takeaway from last night: \"\"America Doesn't Deserve Ben Carson.\"\"  #GOPDebate\"                                       |\n",
      "+-------------------------------------------------------------------------------------------------------------------------------------------------------+\n",
      "only showing top 300 rows\n",
      "\n"
     ]
    }
   ],
   "source": [
    "spark_df.show(300,truncate=False)"
   ]
  },
  {
   "cell_type": "code",
   "execution_count": 41,
   "metadata": {
    "ExecuteTime": {
     "end_time": "2020-08-09T14:42:18.635750Z",
     "start_time": "2020-08-09T14:42:18.625331Z"
    }
   },
   "outputs": [],
   "source": [
    "spark_df = spark_df.select(F.regexp_replace('text',\"RT\\s.*\\:\\s\",\"\").alias('text')).filter(\"text is not null\")"
   ]
  },
  {
   "cell_type": "code",
   "execution_count": 42,
   "metadata": {
    "ExecuteTime": {
     "end_time": "2020-08-09T14:42:19.887141Z",
     "start_time": "2020-08-09T14:42:19.785204Z"
    }
   },
   "outputs": [
    {
     "name": "stdout",
     "output_type": "stream",
     "text": [
      "+----------------------------------------------------------------------------------------------------------------------------------------------------+\n",
      "|text                                                                                                                                                |\n",
      "+----------------------------------------------------------------------------------------------------------------------------------------------------+\n",
      "|How did everyone feel about the Climate Change question last night? Exactly. #GOPDebate                                                             |\n",
      "|Didn't catch the full #GOPdebate last night. Here are some of Scott's best lines in 90 seconds. #Walker16                                           |\n",
      "|No mention of Tamir Rice and the #GOPDebate was held in Cleveland? Wow.                                                                             |\n",
      "|That Carly Fiorina is trending -- hours after HER debate -- above any of the men in just-completed #GOPdebate says she's on                         |\n",
      "|#GOPDebate w/ @realDonaldTrump delivered the highest ratings in the history of presidential debates. #Trump2016                                     |\n",
      "|\"\"\"On my first day I will rescind every illegal executive action taken by Barack Obama.\"\" #GOPDebate @FoxNews\"                                      |\n",
      "|I liked her and was happy when I heard she was going to be the moderator. Not anymore. #GOPDebate @megynkelly                                       |\n",
      "|Going on #MSNBC Live with @ThomasARoberts around 2 PM ET.  #GOPDebate                                                                               |\n",
      "|Deer in the headlights Ben Carson, may be the only brain surgeon who has performed a lobotomy on himself. #GOPDebate                                |\n",
      "|Last night's debate proved it! #GOPDebate #BATsAsk @BadassTeachersA #TBATs                                                                          |\n",
      "|@JGreenDC @realDonaldTrump In all fairness #BillClinton owns that phrase.#GOPDebate                                                                 |\n",
      "|Just woke up to tweet this out #GOPDebate                                                                                                           |\n",
      "|Me reading my family's comments about how great the #GOPDebate was                                                                                  |\n",
      "|\"RT @AllenWestRepub \"\"Dear @JebBush #GOPDebate #NotAMistake                                                                                         |\n",
      "|I loved Scott Walker as Mark Harmon's romantic rival in SUMMER SCHOOL. Look it up. #GOPDebate                                                       |\n",
      "|Hey @ChrisChristie exploiting the tragedy of 9/11 for your own political gain is @rudygiulianiGOP's thing #GOPDebate                                |\n",
      "|#DonaldTrump under fire for comments about women @PeterBeinart @SL_Schaeffer @IWF @@MyRkiger weigh in on #GOPdebate .                               |\n",
      "|Guess who had most speaking time at the #GOPDebate. @FoxNews moderators with 31.7% of time.                                                         |\n",
      "|reason comment is funny 'in case you're ignorant' is the #gop #tcot are the reason the government isn't working for the people #gopdebate           |\n",
      "|Paying for transgender surgery for soldiers, sailors and airmen does not make our country safer #Ha #GOPDebate                                      |\n",
      "|Cruz has class &amp; truth, that gets my vote! #GOPDebate                                                                                           |\n",
      "|#GOPDebate was still Clown Show! I'm glad Head Clown Trump helping destroy GOP.                                                                     |\n",
      "|No *I* hate Planned Parenthood and women more! NO I HATE PLANNED PARENTHOOD AND WOMEN MORE!!!!! #GOPDebate                                          |\n",
      "|#GOPDebate (Vine by @dabulldawg88)                                                                                                                  |\n",
      "|Fox News trying to convince us young Black Americans are more worried about ISIS than police terrorism #GOPDebate                                   |\n",
      "|#GOPDebate rankings: worst to be performance - Rubio, Kasich, Christie, Bush, Trump, Cruz, Walker, Paul, Huckabee, Carson.                          |\n",
      "|Scott Walker's Abortion Ban Allows Rapist Father To Sue For Emotional Distress  #GOPDebate @Badger                                                  |\n",
      "|It's not a competition, but how have we moved so far on gay rights but women's rights is worse than it's ever been? #G                              |\n",
      "|#GOPDebate was still Clown Show! I'm glad Head Clown Trump helping destroy GOP.                                                                     |\n",
      "|Watch the #GOPdebate? Bet you feel like donating to a Democrat right about now.                                                                     |\n",
      "|@fbhw they're going to need to borrow the train horn for the next #GOPDebate ! The little bell was wimpy! #hornmeansyouredone                       |\n",
      "|Ted Cruz at the #GOPDebate will be like Ted Cruz in bed. He will keep a confusingly sad look on his face and refuse to                              |\n",
      "|The First #GOPDebate: Social Media Reaction and More                                                                                                |\n",
      "|#SocialMedia: The First #GOPDebate: Social Media Reaction and More                                                                                  |\n",
      "|An update on FoxNews tech failures for the #GOPDebate                                                                                               |\n",
      "|The Torched has been passed -&gt;.@CandyCrowley is no longer the most Famous Political Assassin! Congratulations @megynkelly, U Wi                  |\n",
      "|Trump/Carson ticket would win in a landslide...                                                                                                     |\n",
      "|\"\"\"Obama is at fault                                                                                                                                |\n",
      "|After the Fox News #GOPDebate, we primary voters are none the wiser on the policy plans these folks are putting forth. Journalism                   |\n",
      "|listening to fetty wap while packing because i'm a true american #GOPDebate #doesthishashtagexpire?                                                 |\n",
      "|Trump is a cross between the shrug emoji and President Business from the Lego movie. #GOPDebate                                                     |\n",
      "|Meanwhile, in the White House...  #GOPDebate                                                                                                        |\n",
      "|If you’re planning out a #GOPDebate drinking game right now, you’re a Rowdy Gentleman.                                                              |\n",
      "|PLEASE RT. #KKKorGOP #GOPDebate                                                                                                                     |\n",
      "|\"Trump thinks criticism of his misogynistic remarks is a \"\"political correctness\"\" problem. Nope                                                    |\n",
      "|How the #GOPDebate handled #BlackLivesMatter                                                                                                        |\n",
      "|The goal of #FoxNews last night was to take out Trump and pave the way for a RINO like Bush or Kasich. #GOPDebate                                   |\n",
      "|#GOPDebate #Trump #Futures $SPY #NonFarmPayrolls #Jobs #Netflix --  http                                                                            |\n",
      "|“@DanScavino: #GOPDebate w/ @realDonaldTrump delivered the highest ratings in the history of presidential debates. #Trump2016 Fox say thanks        |\n",
      "|\"saying purpose of military \"\"to kill people/break things\"\" re trans servicemembers\"                                                                |\n",
      "|The best and worst from the #GOPDebate                                                                                                              |\n",
      "|Big moments were @RandPaul vs. @ChrisChristie, and @realDonaldTrump reaction to women question. #KellyFil                                           |\n",
      "|Here's a question, WHY in the hell are WOMEN &amp; our body parts even in this debate? Foh, stop it, it's not 1965 wtf #GOPDebate                   |\n",
      "|@rushlimbaugh Americans getting beheaded overseas and @megynkelly is worried whether @realDonaldTrump calls Rosie O'Donnell fat? #GOPDebate         |\n",
      "|I won't defend @FoxNews, they were FAR from fair OR balanced last night, but name calling is juvenile. #GOPDebate                                   |\n",
      "|\"To non-Christians, #GOPDebate \"\"God\"\" questions underline how little anyone really cares about religious minorities. Chri\"                         |\n",
      "|The #GOPDebate response to #BlackLivesMatter was pathetic.                                                                                          |\n",
      "|.@JebBush said he cut FL taxes by $19B. But that includes cuts in estate taxes mandated by federal law. #GOPDebate. ht                              |\n",
      "|Dear GOP,                                                                                                                                           |\n",
      "|Join ISIS and sign your death warrant,                                                                                                              |\n",
      "|                                                                                                                                                    |\n",
      "|Status 👉 Single                                                                                                                                    |\n",
      "|Before the #GOPDebate, 14 focus groupers said they had favorable view of Trump.                                                                     |\n",
      "|Just made my first donation to @CarlyFiorina.                                                                                                       |\n",
      "|If we want to stop sending foreign aid to places that burn our flag can we start with Berkeley? #GOPDebate                                          |\n",
      "|The Rand Paul eye roll to Chris Christie at the #GOPDebate                                                                                          |\n",
      "|Scrap the President's Iran deal. Iran can’t get a nuke. #Kasich4Us #GOPDebate                                                                       |\n",
      "|Trying to decide if it's too early to come back to Twitter fulltime. Was gonna wait closer to election but the #GOPDebate may have me hooked        |\n",
      "|Twitter Trolls are real people.                                                                                                                     |\n",
      "|\"Those saying \"\"don't worry                                                                                                                         |\n",
      "|\"Fox News Had Its Own #GOPDebate Agenda: Promote Carly \"\"never mention fired from HP\"\" Fiorina                                                      |\n",
      "|Oh, one more thing. Did anyone hear anything about affordable child care for working families last night in the #GOPDebate ? I                      |\n",
      "|\"RT @AllenWestRepub \"\"Dear @JebBush #GOPDebate #NotAMistake                                                                                         |\n",
      "|@marthamaccallum @billhemmer #gopdebate Bill and Martha were the A Team in the first debate. 2nd debate was an ambush.                              |\n",
      "|\"The Country's going to hell and Megyn Kelly on #FoxNews is attacking Trump for a \"\"war on women?\"\" #GOPDebate\"                                     |\n",
      "|1st #GOPDebate--Encouraging to see several candidates express their faith in God and His Son, Jesus Christ.                                         |\n",
      "|#DonaldTrump said he’s not “politically correct.”  Which, of course, is Trumpspeak for “Let’s face it, I’m huge asshole.” #                         |\n",
      "|                                                                                                                                                    |\n",
      "|This is the worst episode of The Apprentice that I've ever seen. #GOPDebate                                                                         |\n",
      "|\"\"\"As the lines go up                                                                                                                               |\n",
      "|\"\"\"The purpose of the military is to kill people and break things.\"\" - something an actual man running for president just said \"                    |\n",
      "|Wondering if I could get the Republican Party to pay for my liver transplant after playing @mtaibbi #GOPDebate drinking game last night.            |\n",
      "|Great way to start Friday. #CarlyFiorina @CarlyFiorina #GOPDebate                                                                                   |\n",
      "|If elected, on my first day as President, I'll rescind every illegal and unconstitutional executive order enacted by Pres. Oba                      |\n",
      "|Donald Trump during #GOPDebate be like...                                                                                                           |\n",
      "|Was upstairs putting the kids to bed. How many questions about climate change did I miss? #GOPDebate #GOPClownCar                                   |\n",
      "|They’re all Todd Akin now: How the Planned Parenthood sting backfired on Republicans #GOPDebate #StandwithPP                                        |\n",
      "|Hey @Foxnews let #REPUBLICANS digest #GOPDebate before allowing crazy @DWStweets to TRASH OUR #GOP! @LadySandersfarm                                |\n",
      "|Watch Donald Trump Receive Enormous Applause for Horribly Misogynistic #GOPDebate Answer                                                            |\n",
      "|A few of my favorite #Twitter responses to the #GOPDebate last night:                                                                               |\n",
      "|Even though she's a super conservative reporter, I actually like Megyn Kelly's interview style &amp; she did great at the #GOPDebate                |\n",
      "|The #GOPdebate is not a debate at all. It's a series of 1 minute opportunities to avoid answering a question one candidate                          |\n",
      "|Credit for this joke goes to someone else but it is funny! #GOPDebate                                                                               |\n",
      "|Simply incredible.  Last night's #GOPDebate doubled the previous record for most-watched primary debate i                                           |\n",
      "|\"This literally couldn't be more true for me. \"\"I Watched the #GOPDebate &amp; All I Got Was a Lousy Hangover\"\"                                     |\n",
      "|Haha a little saas from @voxdotcom this morning towards @realDonaldTrump. #FactChecked #GOPDebate                                                   |\n",
      "|\"RT @AllenWestRepub \"\"Dear @JebBush #GOPDebate #NotAMistake                                                                                         |\n",
      "|What people saw in person vs what we saw on tv. #GOPDebate                                                                                          |\n",
      "|Marco Rubio Told To His Face He's 'Candidate Of Yesterday' For His Anti-Gay Bigotry  #GOPDebate ht                                                  |\n",
      "|None of them have made Trump look out of place or foolish yet. Think about that. When you're done crying, think about it agai                       |\n",
      "|\"Maybe the GOP just got Piven &amp; Cloward confused with Pinkard &amp; Bowden? \"\"She thinks I steal cars...\"\" @kevinbaker @KevinMKr\"               |\n",
      "|Had a great time watching the #GOPDebate last night                                                                                                 |\n",
      "|\"#GOPDebate Donald Trump says that he doesn't have time for political correctness. How does calling women \"\"fat pigs\"\" save him \"                   |\n",
      "|This is the @POTUS we have now. One of the people on TV now might be the next one. RIP everything. #GOPDebate                                       |\n",
      "|I think @realDonaldTrump was caught by surprise by that first question and was never able to recover his equilibrium. #GOPDebate                    |\n",
      "|\"\"\"@FoxNews web stream and mobile app fail during #GOPDebate”  Why am I not surprised?                                                              |\n",
      "|John Kasich helped Ohioans create 350,000 new jobs. He can do it for America. #GOPDebate                                                            |\n",
      "|Please help the Maryknoll Sisters replace windows in their convent  #Catholic #gofundme #trcot #GOPDebate                                           |\n",
      "|At #GOPDebate, I won over our largest audience yet. Can you chip in $3 to help us keep it up?                                                       |\n",
      "|Trump just said @JebBush is a true gentleman &amp; then they started violently 69ing. #GOPDebate                                                    |\n",
      "|Ugh will these guys ever shut up about how much they respect women? #GOPDebate                                                                      |\n",
      "|What did the #GOPDebate teach us about a future President Trump?  America probably won’t be safe, except if we’re attacked                          |\n",
      "|This is going to be a long, tiring election season.                                                                                                 |\n",
      "|\"\"\"God has blessed the Republican party with many great candidates                                                                                  |\n",
      "|The miracle can happen to you. Grow opportunity and grow jobs. #GOPDebate                                                                           |\n",
      "|Scott Walker can't even carry his own state. #GOPDebate                                                                                             |\n",
      "|Black people, if you need anymore indication why Republicans hate us. Peep this. #GOPDebate                                                         |\n",
      "|Sure, God told me I should run, and the Tooth Fairy agreed and all the Teletubbies voted yes, so here I am. #GOPDebate                              |\n",
      "|Trump should have told Megyn Kelly to go to HELL! #FoxNews #GOPDebate                                                                               |\n",
      "|\"Caller on the Rush Limbaugh show:\"\"I have lost all respect for Fox News.\"\" #FoxNews #GOPDebate\"                                                    |\n",
      "|\"@realDonaldTrump  @megynkelly's behaviour at the #GOPDebate was astonishingly biased.\"\"\"                                                           |\n",
      "|Republicans Debate Economics: Rubio Wins, Bush Falters, Huckabee Exaggerates  #GOPdebate #knowmorenotless @GPNAPLang                                |\n",
      "|Huh. Half of Clinton's charity went to...the Clintons!  #copolitics #Hillary2016 #StopHillary #UniteB                                               |\n",
      "|\"#GOPDebate  The order was to \"\"take out Trump\"\"                                                                                                    |\n",
      "|Democrats watching the #GOPDebate last night                                                                                                        |\n",
      "|We all owe @realDonaldTrump a huge thank you 4 exposing to the world👉@megynkelly, Chris Wallace, &amp; @FrankLuntz are true Rhinos!                |\n",
      "|Says WI Budget Has $535M Surplus (Actually Has $1.76B Deficit)  #GOPDebate http                                                                     |\n",
      "|You're right Last I heard @SenSanders was that only women could give birth to s child. Has that changed? #GOPDebate                                 |\n",
      "|\"\"\"Have any of you received a word from God?\"\" = \"\"Are any of you soup-sandwich crazy?\"\" #GOPDebate\"                                                |\n",
      "|\"\"\"What's your take on these GOP talking points I'm feeding you?\"\"\"                                                                                 |\n",
      "|But the murder of black ppl is just fine- just not unborn black babies? #GOPLogic #GOPDebate                                                        |\n",
      "|Missing Jon Stewart already. #GOPdebate #JonVoyage -H                                                                                               |\n",
      "|Chris Christie is really standing out at the #GOPdebate                                                                                             |\n",
      "|\"Hey .@realDonaldTrump You know who didn't whine about \"\"unfair\"\" questions? @CarlyFiorina Grow a set why don't ya'. #GOPDe\"                        |\n",
      "|You can't be pro-life AND have watched that 2 hour abortion last night.                                                                             |\n",
      "|.@MegynKelly,                                                                                                                                       |\n",
      "|Btw... when you mix politics and religion, you get politics. #GOPDebate                                                                             |\n",
      "|Marco nailed it on abortion. We must protect life. #GOPDebate                                                                                       |\n",
      "|@megynkelly @BretBaier @foxnews WTF was up with Chris Wallace attacking #Trump2016 on bankruptcy then giving Rubio a softball? #GOPDebate           |\n",
      "|They obviously didn't get the memo about #SeersuckerThursday. #GOPDebate                                                                            |\n",
      "|Honestly, Donald Trump you were ALL types of petty at last night's #GOPDebate 😒 --&gt;                                                             |\n",
      "|All Republican dopefuls who say they'll take US back to 2009 on 'Day One' will never see one day in White House! #GOPDebate                         |\n",
      "|Trump gloating abt buying GOP+Dem pols &amp;them doing his bidding IS my 2000s Billionaire caricature MyaCash #GOPDebate                            |\n",
      "|Go Carly📢                                                                                                                                          |\n",
      "|Listening to the #GOPDebate like                                                                                                                    |\n",
      "|Rand telling Christie to go get another hug from Obama.                                                                                             |\n",
      "|If you missed either #GOPDebate all you need to know is there's no $ for struggling Americans and unlimited $ for war.                              |\n",
      "|.@JebBush 'We are on the verge of the greatest time to be alive in this world but Washington is holding us back' #mysa #txlege                      |\n",
      "|#Trump Wins Drudge                                                                                                                                  |\n",
      "|\"@GovernorPerry fights back against \"\"what will you do abt immigration\"\" Q. Says border is porous                                                   |\n",
      "|Summary is the #GOPDebate: Status quo shit show                                                                                                     |\n",
      "|Debbie Blocks Tweeter Who Questioned Dem Debate Schedule   #GOPDebate @DWStweets                                                                    |\n",
      "|Hey look, it’s 10 men standing on a stage arguing why they should get to control women’s bodies and choices. #GOPDebate                             |\n",
      "|Rubio Budget Raises MiddleClass Taxes, Adds $4.5T Deficit, Cuts InvestmentTax To $0  #GOPDebate ht                                                  |\n",
      "|Last night at the #GOPdebate all I saw was a bunch of Rich and Old despots with ZERO solutions to our nations problems #un                          |\n",
      "|#GOPDebate #BATsAsk @BadassTeachersA #TBATs Debate over We learned nothing new                                                                      |\n",
      "|If you think ANY of these people are qualified...unfollow me.  #GOPDebate                                                                           |\n",
      "|                                                                                                                                                    |\n",
      "|Who's the real illegal alien- #GOPDebate  Farrakhan on Immigration  the Mexican Bor...  via @YouTube                                                |\n",
      "|#GOPDebate The talking heads put on the debate now the talking heads are telling us how the debates went. Maybe we wasted our time watching         |\n",
      "|🎀 #DonaldTrump Plaza Casino #TeddyBear Plush in #Tuxedo 🎀  🎀 #CoolStuff #GOPDebate                                                               |\n",
      "|#Trump is right about @megynkelly but really needs to study Matthew 7, verses 3-5. #GOPDebate                                                       |\n",
      "|It wasn’t all #DonaldTrump. The most memorable #GOPDebate moments right now on #AC360.                                                              |\n",
      "|#GOPDebate in one picture                                                                                                                           |\n",
      "|\"\"\"Where do you think women should sleep when they have The Curse? The shed? Or in an open field                                                    |\n",
      "|\"\"\"I think God's a pretty fair guy\"\" -Ben Carson                                                                                                    |\n",
      "|\"The cheers from #GOPDebate  audience afterTrump defiantly named @Rosie as the woman he called \"\"Fat Pig\"\" were the voices \"                        |\n",
      "|#BlackLives don't matter, apparently, to Republican candidates for president   / or to @FoxNews #uniteblue #GOPDebate                               |\n",
      "|Overall the main thing we learned from the #GOPDebate is that only straight, white, men matter.                                                     |\n",
      "|@USFree4life I thought @seanhannity had the best post #GOPDebate interviews of the night, gave them all a chance 2straighten their position.        |\n",
      "|Hey @RealDonaldTrump, if you're still looking to chip in, check out                                                                                 |\n",
      "|\"@megynkelly @BretBaier #ChrisWallace, #America is criticizing UR PERFORMANCES during #GOPDebate b/c U did a REALLY bad job as \"\"moderators.\"\"\"     |\n",
      "|\"“@GovMikeHuckabee: Luntz: \"\"As the lines go up                                                                                                     |\n",
      "|I wish we could teach teenage girls to love themselves as much as Donald Trump loves himself. #GOPdebate                                            |\n",
      "|Conservatives are a people without a Network!                                                                                                       |\n",
      "|How come there's no talk about climate change? Has anyone here even seen California right now? #GOPDebate #DebateWithBernie                         |\n",
      "| #Perry2016                                                                                                                                         |\n",
      "|Last night they could have have raised their hands. I'm a spoiled billionaire, I'm an oligarch, I'm a racist, I'm a religi                          |\n",
      "|#GOPDebate 2016 #teamdrbencarson @RealBenCarson  WOW! Brilliant, Cool, Calm &amp; Collected.#empowering                                             |\n",
      "|Ted Cruz doesn't appreciate your emphatically sarcastic air quotes, megan kelly. #GOPDebate                                                         |\n",
      "|Under no circumstances should 10 men dictate abortion rights to women. It's the 21st Century, we are better than that.                              |\n",
      "|#GOPDebate Winner!                                                                                                                                  |\n",
      "|\".@megynkelly  In 2012 you chided @CandyCrowley for \"\"going from objective moderator to active participant\"\" #GOPDebate \"                           |\n",
      "|#GOPDebate @FoxNews @realDonaldTrump  in1996 you called @billclinton a two timing slut.  Do you stand by that statement!?                           |\n",
      "|☑ never watch #KellyFile again                                                                                                                      |\n",
      "|IMHO #GOPDebate                                                                                                                                     |\n",
      "|Ohio government payroll is smaller than it's been in 3 decades.  #GOPDebate                                                                         |\n",
      "|Twitter Users Takeover #GOPDebate Hashtag to Drag GOP Candidates  #KKKorGOP                                                                         |\n",
      "|\"\"\"Challenging the teacher's unions and beating them is the way to go.\"\" – Jeb  #GOPDebate\"                                                         |\n",
      "|Thank you all for watching the #GOPDebate tonight. @julieklausner and I had a blast writing it.                                                     |\n",
      "|@theblaze The REAL war on women!@realDonaldTrump @megynkelly @rushlimbaugh #GOPDebate @AnnCoulter                                                   |\n",
      "|\".@GovernorPerry's \"\"On Fire\"\" Debate Performance  #GOPDebate #Perry2016 #tcot\"                                                                     |\n",
      "|Pro-life Republicans be like #GOPDebate                                                                                                             |\n",
      "|@GovernorPerry on Border Security/Illegal Immigration #GOPDebate  #Perry2016 #tcot                                                                  |\n",
      "|This Trump vs. Fox News conflict is quite the conundrum. It’s like the personification of Greed vs. Hate. Who do I root                             |\n",
      "|I know how extraordinary this nation is. #GOPDebate                                                                                                 |\n",
      "|Meanwhile, in the White House...  #GOPDebate                                                                                                        |\n",
      "|#rubio still my preference but i can see point of his critics over opportunism, inconsistency #gopdebate                                            |\n",
      "|Did @realDonaldTrump ever tell @megynkelly to go wait in the car? Her bad attitude suggests it. #WarOnWomen #GOPDebate                              |\n",
      "|\" #GOPDebate #Perry2016\"                                                                                                                            |\n",
      "|Settling in for the #GOPDebate                                                                                                                      |\n",
      "|\"I'm getting a lot of @MegynKelly hatemail tonight. 😆 #GOPDebate\"\" She is totally overrated and angry. She\"                                        |\n",
      "|\"This literally couldn't be more true for me. \"\"I Watched the #GOPDebate &amp; All I Got Was a Lousy Hangover\"\"  @robinmarty\"                       |\n",
      "|#JonVoyage was half as long as the #GOPDebate  but twice as intelligible.                                                                           |\n",
      "|climate change.                                                                                                                                     |\n",
      "|\"#GOPDebate What was up with #FoxNews &amp; their \"\"gotcha\"\" questions? They seemed designed to elicit typical political \"\"spin\"\" responses. #tlot\" |\n",
      "|After the #GOPDebate all of the promises being made by startups at this tech conference seem quite reasonable.                                      |\n",
      "|@KnucklDraginSam @GOP @realDonaldTrump @yobynnad1127 AMEN! #Trump2016 #WakeUpAmerica #GOPDebate #tcot #stoprush .                                   |\n",
      "|The highest calling of leadership is to challenge the status quo &amp; unlock potential in others. #GOPDebate. #Carly2016                           |\n",
      "|Me watching the Donald Trump bandwagon pass.                                                                                                        |\n",
      "|\"Before the #GOPDebate began, didn't the moderators say that 8 million ppl were discussing \"\"racial issues\"\"? What happened to thos\"                |\n",
      "|There's nothing like listening to ten dudes who will never need an abortion, talk about whether I should have a right                               |\n",
      "|FOX silenced by Koch billions too? Not a single question at last night's #GOPDebate to #climatechange deniers about Mond                            |\n",
      "|These republicans are rich, they don't care about the poverty of America &amp; they definitely don't care bout the poverty of bla                   |\n",
      "|So we just had an office chat about the #GOPDebate,  &amp; I was outed as both a flaming liberal and a politics geek. Probably not surprising.      |\n",
      "|Catching up on my #GOPDebate @LindseyGrahamSC what a childish &amp; cheap move to call out @billclinton &amp; @HillaryClinton on a 17 year old story|\n",
      "|The only thing that could've made last night's #GOPDebate more amusing would have been:                                                             |\n",
      "|All Ted Cruz does is attack other Republicans. #GOPDebate                                                                                           |\n",
      "|\"Not just no, but \"\"hell no\"\" to the #IranDeal! #GOPDebate #Perry2016 #tcot                                                                         |\n",
      "|Hard to say who won the #GOPDebate - Bernie or Hillary?                                                                                             |\n",
      "|If Donald Trump wins the election, then we'll know we're on the Biff-stole-the-almanac timeline. #GOPDebate                                         |\n",
      "|Can you chip in $3 to keep the momentum going? #GOPdebate #Carly2016                                                                                |\n",
      "|Chris Christie just said you have to work two more years before retiring.And that you'll get tens of thousands less you paid                        |\n",
      "|                                                                                                                                                    |\n",
      "|The biggest losers in the debate were the Fox moderators who attacked instead of moderating #GOPDebate                                              |\n",
      "|Trump has yet to give a single, evidence-based answer to a direct question about policy. That should frighten you. #GOPDeb                          |\n",
      "|On my way to the studio -- about to appear on @CNN to discuss last night's #GOPDebate. Tune in!                                                     |\n",
      "|I honestly think sometimes these guys forgot they came from wombs too. #KKKorGOP #GOPDebate                                                         |\n",
      "|Women who shame other women for having abortions deserve to be shamed for having no soul or self respect.                                           |\n",
      "|*watches the #GOPDebate *                                                                                                                           |\n",
      "|Donald Trump’s closing statement is every dinner conversation had at The Villages, ever. #GOPDebate                                                 |\n",
      "|\"\"\"When the rich wage war it's the poor who die.\"\" Jean-Paul Sartre                                                                                 |\n",
      "|At the #GOPDebate, we saw the candidates completely miss the mark on race &amp; #BlackLivesMatter                                                   |\n",
      "|S/O to the GOP for being proud of defeating teachers union even though they just wanted higher wages #GOPDebate                                     |\n",
      "|Obama better not leave his prayer rug behind in the Oval Office when I get elected because I'll throw it out.   #GOPDebate                          |\n",
      "|@ChuckNellis @FoxNews You got that right! #GOPDebate                                                                                                |\n",
      "|Trump just said the U.S. is stupid, so let's vote him President. WTF people. #GOPDebate                                                             |\n",
      "|So excited for @johnkasich #GOPDebate #Kasich4Us #Republicandebate #kasich2016 been waiting for 20 years!!                                          |\n",
      "|Rep Engel is 2nd major Jewish Democrat to announce opposition to Iran deal during #GOPDebate, following Schumer opposition.                         |\n",
      "|Hey look it's my feelings about Donald Trump summed up in one gif #GOPDebate                                                                        |\n",
      "|Are any of these dudes for the legalization of marijuana, or what? #GOPDebate                                                                       |\n",
      "|What I learned from the #GOPDebate:                                                                                                                 |\n",
      "|Marco Rubio Briefly Backed Immigration Reform Then Privately Berated DREAMers  #GOPDebate                                                           |\n",
      "|“I french-kissed Jesus Christ!” - Every candidate #GOPDebate                                                                                        |\n",
      "|#GOPDebate #Closingstatements @GovMikeHuckabee just be honest. u were defs talking about @realDonaldTrump coz he's stealing ur schtick              |\n",
      "|When cnn, msnbc ,and the new York times praise fox moderators then you know the moderators fucked up. #GOPDebate                                    |\n",
      "|Trump is a lunatic. #GOPDebate                                                                                                                      |\n",
      "|Cruz has class &amp; truth, that gets my vote! #GOPDebate                                                                                           |\n",
      "|I'm the only reason anyone is even talking about illegal immigration. Keep digging, Donald! #GOPDebate                                              |\n",
      "|Tom Hanks. Finally. Somebody who makes some sense. #GOPDebate #DebateWithBernie                                                                     |\n",
      "|Olivia Pope would not vote for any of these guys #GOPDebate                                                                                         |\n",
      "|All #GOP candidates want to reduce taxes while #Huckabee wants to legalize prostitution and drugs so we can tax it. #GOPDebate                      |\n",
      "|Hi Fox panel, can you just ask Donald every single question? Hand him a shovel while you're at it so he can keep digging. #                         |\n",
      "|And then hillaryclinton @barackobama joebiden were all... #GOPDebate                                                                                |\n",
      "|#GOPDebate #Trump is Breaking Records! So what he's not a polished Politician. Makes me love him even more.                                         |\n",
      "|Oh. It was just a movie trailer. #GOPDebate #DebateWithBernie                                                                                       |\n",
      "|So Sally Kohn &amp; Debbie Wasserman Schultz both  praising Megyn Kelly tonight. That should tell you everything you need                           |\n",
      "|Why are all the Trump accessory women wearing the same shoes?!  #GOPDebate                                                                          |\n",
      "|funniest line coming fr #republican 'People are frustrated, they’re fed up, they don’t think the government’s working for them' #gopdebate          |\n",
      "|And Donald Trump is an absolute nut! So entertaining LOL #GOPDebate                                                                                 |\n",
      "|\"\"\"@thehill: Top GOP pundits pick their #GOPdebate winners:                                                                                         |\n",
      "|Candidates went after @HillaryClinton 32 times in the #GOPdebate-but remained silent about the issues that affect us. http                          |\n",
      "|.@MegynKelly trying 2show up @realDonaldTrump w @FoxNews. Trying 2take him down. Trying 2destroy him. Not happening. #Kelly                         |\n",
      "|saying he wouldn't publicize to the world his answer on waterboarding.                                                                              |\n",
      "|I give him a e for his big ego. #GOPDebate A's are earned for excellence. Rhymes with rump.                                                         |\n",
      "|Passion of the #GOPDebate #ReligiousUpaMovie                                                                                                        |\n",
      "|\"\"\"@marcorubio got the best reviews                                                                                                                 |\n",
      "|Can't wait to see which Lannister they kill off in the next episode of #GOPDebate                                                                   |\n",
      "|be careful what you tweet on Twitter! #GOPDebate                                                                                                    |\n",
      "|Democrats watching this #GOPDebate                                                                                                                  |\n",
      "|Trump changed his mind on supporting PARTIAL BIRTH ABORTION because a friend changed their mind on aborting &amp; had a great kid. #GOPDebate       |\n",
      "|Best closing statement: @RealBenCarson #GOPDebate                                                                                                   |\n",
      "|We have to stop worrying about being loved &amp; start worrying about being respected. #TellingItLikeItIs #GOPDebate                                |\n",
      "|\"it's called a vagin\"                                                                                                                               |\n",
      "|The Real #GOPDebate Winner: Republican Voters - Fox Nation                                                                                          |\n",
      "|Donald Trump is a really nasty piece of work. Hope he disappears quickly. #GOPDebate                                                                |\n",
      "|FETUSES ARE NOT UNBORN BABIES THEY ARE CLUSTERS OF CELLS STOP SHAMING PEOPLE WHO WANT/HAVE HAD ABORTIONS #GOPDebate                                 |\n",
      "|These were far and away the best tweets of last night #DebateWithBernie #GOPDebate                                                                  |\n",
      "|I know now who it is that #ChrisChristie reminds me of: actor Andy Devine. #GOPDebate                                                               |\n",
      "|Despite what Huckabee says, I always make sure my prostitute AND her pimp pay FICA and pension. #GOPDebate                                          |\n",
      "|Hillary Clinton was watching the #GOPDebate like:                                                                                                   |\n",
      "|@FoxNews did great by challenging the candidates in #GOPDebate. If these candidates can't handle a tough question they could never b #POTUS         |\n",
      "|I’d say it was the opposite. Megan Kelly acted like some SJW on Tumblr whining about feminism. Very sad. #GOPDebate                                 |\n",
      "|Rightly so Frank. Rightly so. #GOPDebate                                                                                                            |\n",
      "|the number of times that ronald reagan is mentioned in the #GOPDebate is TOO DAMN HIGH                                                              |\n",
      "|\"If Trump is against \"\"p.c. culture                                                                                                                 |\n",
      "|#BenCarson great close! He operates on brains so he doesn't worry about skin color. #GOPDebate                                                      |\n",
      "|\"Women that would be offended by Trumps \"\"Misogyny\"\" most certainly don't vote Republican.                                                          |\n",
      "|Keep religion out of politics! #GOPDebate                                                                                                           |\n",
      "|\"\"\"I won't be bought &amp; I won't be sold\"\" @randpaul after reiterating his points against @realDonaldTrump during #gopdebate\"                     |\n",
      "|Boy, I bet the mood in the clown car is going to be TENSE when these jerks leave the #GOPDebate.                                                    |\n",
      "|Dr. Ben Carson did a great job tonight! Loved your closing statement! @RealBenCarson #GOPDebate                                                     |\n",
      "|Meet the new darling of the left 》 Megyn Gotcha Kelly. #GOPDebate @FoxNews #DonaldTrump #MegynKelly                                                |\n",
      "|“@foxnewspolitics: Behind the Fox debate: How the anchors hashed out the questions #GOPDebate They Failed                                           |\n",
      "|Did anyone get trashed playing @RollingStone's #GOPDebate drinking game?   #drinkinggame                                                            |\n",
      "|If #DonaldTrump donates to U..He can call in a favor years later?? Sounds like #TheGodfather                                                        |\n",
      "|Ugh to think there were actually people sitting on their couch last night saying YES YES THIS IS REASONABLE. #GOPDebate                             |\n",
      "|\"RT @AllenWestRepub \"\"Dear @JebBush #GOPDebate #NotAMistake                                                                                         |\n",
      "|If politics can be even partially rational, Trump's campaign for the GOP nomination just ended. #GOPDebate                                          |\n",
      "|\"\"\"America Doesn't Deserve Ben Carson.\"\"  #GOPDebate\"                                                                                               |\n",
      "+----------------------------------------------------------------------------------------------------------------------------------------------------+\n",
      "only showing top 300 rows\n",
      "\n"
     ]
    }
   ],
   "source": [
    "spark_df.show(300,truncate=False)"
   ]
  },
  {
   "cell_type": "code",
   "execution_count": 43,
   "metadata": {
    "ExecuteTime": {
     "end_time": "2020-08-09T14:42:25.633479Z",
     "start_time": "2020-08-09T14:42:25.625905Z"
    },
    "scrolled": false
   },
   "outputs": [],
   "source": [
    "spark_df = spark_df.withColumn('text',F.trim(F.col('text'))).filter(spark_df[\"text\"] != '' )"
   ]
  },
  {
   "cell_type": "code",
   "execution_count": 44,
   "metadata": {
    "ExecuteTime": {
     "end_time": "2020-08-09T14:42:26.721576Z",
     "start_time": "2020-08-09T14:42:26.719771Z"
    }
   },
   "outputs": [],
   "source": [
    "MODEL_NAME = 'sentimentdl_use_twitter'"
   ]
  },
  {
   "cell_type": "code",
   "execution_count": 45,
   "metadata": {
    "ExecuteTime": {
     "end_time": "2020-08-09T14:42:33.565162Z",
     "start_time": "2020-08-09T14:42:27.675664Z"
    },
    "scrolled": false
   },
   "outputs": [
    {
     "name": "stdout",
     "output_type": "stream",
     "text": [
      "tfhub_use download started this may take some time.\n",
      "Approximate size to download 923.7 MB\n",
      "[OK!]\n",
      "sentimentdl_use_twitter download started this may take some time.\n",
      "Approximate size to download 11.9 MB\n",
      "[OK!]\n"
     ]
    }
   ],
   "source": [
    "documentAssembler = DocumentAssembler()\\\n",
    "    .setInputCol(\"text\")\\\n",
    "    .setOutputCol(\"document\")\n",
    "    \n",
    "use = UniversalSentenceEncoder.pretrained(name=\"tfhub_use\", lang=\"en\")\\\n",
    " .setInputCols([\"document\"])\\\n",
    " .setOutputCol(\"sentence_embeddings\")\n",
    "\n",
    "\n",
    "sentimentdl = SentimentDLModel.pretrained(name=MODEL_NAME, lang=\"en\")\\\n",
    "    .setInputCols([\"sentence_embeddings\"])\\\n",
    "    .setOutputCol(\"pr_sentiment\")\n",
    "\n",
    "nlpPipeline = Pipeline(\n",
    "      stages = [\n",
    "          documentAssembler,\n",
    "          use,\n",
    "          sentimentdl\n",
    "      ])\n",
    "\n",
    "empty_df = spark.createDataFrame([['']]).toDF(\"text\")\n",
    "\n",
    "pipelineModel = nlpPipeline.fit(empty_df)"
   ]
  },
  {
   "cell_type": "code",
   "execution_count": 46,
   "metadata": {
    "ExecuteTime": {
     "end_time": "2020-08-09T14:42:34.557756Z",
     "start_time": "2020-08-09T14:42:34.516130Z"
    }
   },
   "outputs": [],
   "source": [
    "match_df = pipelineModel.transform(spark_df)\n"
   ]
  },
  {
   "cell_type": "code",
   "execution_count": 47,
   "metadata": {
    "ExecuteTime": {
     "end_time": "2020-08-09T14:42:35.549278Z",
     "start_time": "2020-08-09T14:42:35.544248Z"
    }
   },
   "outputs": [],
   "source": [
    "#match_df = match_df.withColumnRenamed('sentiment', 'pr_sentiment')"
   ]
  },
  {
   "cell_type": "code",
   "execution_count": 48,
   "metadata": {
    "ExecuteTime": {
     "end_time": "2020-08-09T14:42:36.212859Z",
     "start_time": "2020-08-09T14:42:36.024619Z"
    }
   },
   "outputs": [
    {
     "name": "stdout",
     "output_type": "stream",
     "text": [
      "+--------------------------------------------------+--------------------------------------------------+--------------------------------------------------+--------------------------------------------------+\n",
      "|                                              text|                                          document|                               sentence_embeddings|                                      pr_sentiment|\n",
      "+--------------------------------------------------+--------------------------------------------------+--------------------------------------------------+--------------------------------------------------+\n",
      "|How did everyone feel about the Climate Change ...|[[document, 0, 86, How did everyone feel about ...|[[sentence_embeddings, 0, 86, How did everyone ...|[[category, 0, 86, positive, [sentence -> 0, po...|\n",
      "|Didn't catch the full #GOPdebate last night. He...|[[document, 0, 104, Didn't catch the full #GOPd...|[[sentence_embeddings, 0, 104, Didn't catch the...|[[category, 0, 104, positive, [sentence -> 0, p...|\n",
      "|No mention of Tamir Rice and the #GOPDebate was...|[[document, 0, 70, No mention of Tamir Rice and...|[[sentence_embeddings, 0, 70, No mention of Tam...|[[category, 0, 70, negative, [sentence -> 0, po...|\n",
      "|That Carly Fiorina is trending -- hours after H...|[[document, 0, 122, That Carly Fiorina is trend...|[[sentence_embeddings, 0, 122, That Carly Fiori...|[[category, 0, 122, negative, [sentence -> 0, p...|\n",
      "|#GOPDebate w/ @realDonaldTrump delivered the hi...|[[document, 0, 110, #GOPDebate w/ @realDonaldTr...|[[sentence_embeddings, 0, 110, #GOPDebate w/ @r...|[[category, 0, 110, positive, [sentence -> 0, p...|\n",
      "|\"\"\"On my first day I will rescind every illegal...|[[document, 0, 109, \"\"\"On my first day I will r...|[[sentence_embeddings, 0, 109, \"\"\"On my first d...|[[category, 0, 109, negative, [sentence -> 0, p...|\n",
      "|I liked her and was happy when I heard she was ...|[[document, 0, 108, I liked her and was happy w...|[[sentence_embeddings, 0, 108, I liked her and ...|[[category, 0, 108, negative, [sentence -> 0, p...|\n",
      "|Going on #MSNBC Live with @ThomasARoberts aroun...|[[document, 0, 68, Going on #MSNBC Live with @T...|[[sentence_embeddings, 0, 68, Going on #MSNBC L...|[[category, 0, 68, positive, [sentence -> 0, po...|\n",
      "|Deer in the headlights Ben Carson, may be the o...|[[document, 0, 115, Deer in the headlights Ben ...|[[sentence_embeddings, 0, 115, Deer in the head...|[[category, 0, 115, negative, [sentence -> 0, p...|\n",
      "|Last night's debate proved it! #GOPDebate #BATs...|[[document, 0, 73, Last night's debate proved i...|[[sentence_embeddings, 0, 73, Last night's deba...|[[category, 0, 73, positive, [sentence -> 0, po...|\n",
      "|@JGreenDC @realDonaldTrump In all fairness #Bil...|[[document, 0, 82, @JGreenDC @realDonaldTrump I...|[[sentence_embeddings, 0, 82, @JGreenDC @realDo...|[[category, 0, 82, negative, [sentence -> 0, po...|\n",
      "|         Just woke up to tweet this out #GOPDebate|[[document, 0, 40, Just woke up to tweet this o...|[[sentence_embeddings, 0, 40, Just woke up to t...|[[category, 0, 40, positive, [sentence -> 0, po...|\n",
      "|Me reading my family's comments about how great...|[[document, 0, 65, Me reading my family's comme...|[[sentence_embeddings, 0, 65, Me reading my fam...|[[category, 0, 65, positive, [sentence -> 0, po...|\n",
      "|\"RT @AllenWestRepub \"\"Dear @JebBush #GOPDebate ...|[[document, 0, 58, \"RT @AllenWestRepub \"\"Dear @...|[[sentence_embeddings, 0, 58, \"RT @AllenWestRep...|[[category, 0, 58, positive, [sentence -> 0, po...|\n",
      "|I loved Scott Walker as Mark Harmon's romantic ...|[[document, 0, 92, I loved Scott Walker as Mark...|[[sentence_embeddings, 0, 92, I loved Scott Wal...|[[category, 0, 92, positive, [sentence -> 0, po...|\n",
      "|Hey @ChrisChristie exploiting the tragedy of 9/...|[[document, 0, 115, Hey @ChrisChristie exploiti...|[[sentence_embeddings, 0, 115, Hey @ChrisChrist...|[[category, 0, 115, negative, [sentence -> 0, p...|\n",
      "|#DonaldTrump under fire for comments about wome...|[[document, 0, 116, #DonaldTrump under fire for...|[[sentence_embeddings, 0, 116, #DonaldTrump und...|[[category, 0, 116, positive, [sentence -> 0, p...|\n",
      "|Guess who had most speaking time at the #GOPDeb...|[[document, 0, 90, Guess who had most speaking ...|[[sentence_embeddings, 0, 90, Guess who had mos...|[[category, 0, 90, positive, [sentence -> 0, po...|\n",
      "|reason comment is funny 'in case you're ignoran...|[[document, 0, 136, reason comment is funny 'in...|[[sentence_embeddings, 0, 136, reason comment i...|[[category, 0, 136, negative, [sentence -> 0, p...|\n",
      "|Paying for transgender surgery for soldiers, sa...|[[document, 0, 109, Paying for transgender surg...|[[sentence_embeddings, 0, 109, Paying for trans...|[[category, 0, 109, negative, [sentence -> 0, p...|\n",
      "|Cruz has class &amp; truth, that gets my vote! ...|[[document, 0, 56, Cruz has class &amp; truth, ...|[[sentence_embeddings, 0, 56, Cruz has class &a...|[[category, 0, 56, positive, [sentence -> 0, po...|\n",
      "|#GOPDebate was still Clown Show! I'm glad Head ...|[[document, 0, 78, #GOPDebate was still Clown S...|[[sentence_embeddings, 0, 78, #GOPDebate was st...|[[category, 0, 78, negative, [sentence -> 0, po...|\n",
      "|No *I* hate Planned Parenthood and women more! ...|[[document, 0, 105, No *I* hate Planned Parenth...|[[sentence_embeddings, 0, 105, No *I* hate Plan...|[[category, 0, 105, negative, [sentence -> 0, p...|\n",
      "|                #GOPDebate (Vine by @dabulldawg88)|[[document, 0, 33, #GOPDebate (Vine by @dabulld...|[[sentence_embeddings, 0, 33, #GOPDebate (Vine ...|[[category, 0, 33, positive, [sentence -> 0, po...|\n",
      "|Fox News trying to convince us young Black Amer...|[[document, 0, 112, Fox News trying to convince...|[[sentence_embeddings, 0, 112, Fox News trying ...|[[category, 0, 112, negative, [sentence -> 0, p...|\n",
      "|#GOPDebate rankings: worst to be performance - ...|[[document, 0, 121, #GOPDebate rankings: worst ...|[[sentence_embeddings, 0, 121, #GOPDebate ranki...|[[category, 0, 121, negative, [sentence -> 0, p...|\n",
      "|Scott Walker's Abortion Ban Allows Rapist Fathe...|[[document, 0, 97, Scott Walker's Abortion Ban ...|[[sentence_embeddings, 0, 97, Scott Walker's Ab...|[[category, 0, 97, negative, [sentence -> 0, po...|\n",
      "|It's not a competition, but how have we moved s...|[[document, 0, 117, It's not a competition, but...|[[sentence_embeddings, 0, 117, It's not a compe...|[[category, 0, 117, negative, [sentence -> 0, p...|\n",
      "|#GOPDebate was still Clown Show! I'm glad Head ...|[[document, 0, 78, #GOPDebate was still Clown S...|[[sentence_embeddings, 0, 78, #GOPDebate was st...|[[category, 0, 78, negative, [sentence -> 0, po...|\n",
      "|Watch the #GOPdebate? Bet you feel like donatin...|[[document, 0, 78, Watch the #GOPdebate? Bet yo...|[[sentence_embeddings, 0, 78, Watch the #GOPdeb...|[[category, 0, 78, positive, [sentence -> 0, po...|\n",
      "+--------------------------------------------------+--------------------------------------------------+--------------------------------------------------+--------------------------------------------------+\n",
      "only showing top 30 rows\n",
      "\n"
     ]
    }
   ],
   "source": [
    "match_df.show(30,truncate=50)"
   ]
  },
  {
   "cell_type": "code",
   "execution_count": 49,
   "metadata": {
    "ExecuteTime": {
     "end_time": "2020-08-09T14:42:38.452394Z",
     "start_time": "2020-08-09T14:42:38.443832Z"
    }
   },
   "outputs": [],
   "source": [
    "match_df = match_df.select(F.col(\"document.result\").alias('text'),\\\n",
    "                F.explode('pr_sentiment.result').alias('pr_sentiment'))"
   ]
  },
  {
   "cell_type": "code",
   "execution_count": 50,
   "metadata": {
    "ExecuteTime": {
     "end_time": "2020-08-09T14:42:44.067368Z",
     "start_time": "2020-08-09T14:42:44.057316Z"
    }
   },
   "outputs": [
    {
     "data": {
      "text/plain": [
       "['text', 'pr_sentiment']"
      ]
     },
     "execution_count": 50,
     "metadata": {},
     "output_type": "execute_result"
    }
   ],
   "source": [
    "match_df.columns"
   ]
  },
  {
   "cell_type": "code",
   "execution_count": 51,
   "metadata": {
    "ExecuteTime": {
     "end_time": "2020-08-09T14:42:45.014449Z",
     "start_time": "2020-08-09T14:42:45.001411Z"
    }
   },
   "outputs": [],
   "source": [
    "match_df = match_df.select(F.explode(\"text\").alias('text'),\\\n",
    "                'pr_sentiment').filter(\"sentiment is not null\")"
   ]
  },
  {
   "cell_type": "code",
   "execution_count": 58,
   "metadata": {
    "ExecuteTime": {
     "end_time": "2020-08-09T14:43:54.239386Z",
     "start_time": "2020-08-09T14:43:54.114952Z"
    },
    "scrolled": false
   },
   "outputs": [
    {
     "name": "stdout",
     "output_type": "stream",
     "text": [
      "+-----------------------------------------------------------------------------------------------------------------------------------------+------------+\n",
      "|                                                                                                                                     text|pr_sentiment|\n",
      "+-----------------------------------------------------------------------------------------------------------------------------------------+------------+\n",
      "|                                                  How did everyone feel about the Climate Change question last night? Exactly. #GOPDebate|    positive|\n",
      "|                                Didn't catch the full #GOPdebate last night. Here are some of Scott's best lines in 90 seconds. #Walker16|    positive|\n",
      "|                                                                  No mention of Tamir Rice and the #GOPDebate was held in Cleveland? Wow.|    negative|\n",
      "|              That Carly Fiorina is trending -- hours after HER debate -- above any of the men in just-completed #GOPdebate says she's on|    negative|\n",
      "|                          #GOPDebate w/ @realDonaldTrump delivered the highest ratings in the history of presidential debates. #Trump2016|    positive|\n",
      "|                           \"\"\"On my first day I will rescind every illegal executive action taken by Barack Obama.\"\" #GOPDebate @FoxNews\"|    negative|\n",
      "|                            I liked her and was happy when I heard she was going to be the moderator. Not anymore. #GOPDebate @megynkelly|    negative|\n",
      "|                                                                    Going on #MSNBC Live with @ThomasARoberts around 2 PM ET.  #GOPDebate|    positive|\n",
      "|                     Deer in the headlights Ben Carson, may be the only brain surgeon who has performed a lobotomy on himself. #GOPDebate|    negative|\n",
      "|                                                               Last night's debate proved it! #GOPDebate #BATsAsk @BadassTeachersA #TBATs|    positive|\n",
      "|                                                      @JGreenDC @realDonaldTrump In all fairness #BillClinton owns that phrase.#GOPDebate|    negative|\n",
      "|                                                                                                Just woke up to tweet this out #GOPDebate|    positive|\n",
      "|                                                                       Me reading my family's comments about how great the #GOPDebate was|    positive|\n",
      "|                                                                              \"RT @AllenWestRepub \"\"Dear @JebBush #GOPDebate #NotAMistake|    positive|\n",
      "|                                            I loved Scott Walker as Mark Harmon's romantic rival in SUMMER SCHOOL. Look it up. #GOPDebate|    positive|\n",
      "|                     Hey @ChrisChristie exploiting the tragedy of 9/11 for your own political gain is @rudygiulianiGOP's thing #GOPDebate|    negative|\n",
      "|                    #DonaldTrump under fire for comments about women @PeterBeinart @SL_Schaeffer @IWF @@MyRkiger weigh in on #GOPdebate .|    positive|\n",
      "|                                              Guess who had most speaking time at the #GOPDebate. @FoxNews moderators with 31.7% of time.|    positive|\n",
      "|reason comment is funny 'in case you're ignorant' is the #gop #tcot are the reason the government isn't working for the people #gopdebate|    negative|\n",
      "|                           Paying for transgender surgery for soldiers, sailors and airmen does not make our country safer #Ha #GOPDebate|    negative|\n",
      "+-----------------------------------------------------------------------------------------------------------------------------------------+------------+\n",
      "only showing top 20 rows\n",
      "\n"
     ]
    }
   ],
   "source": [
    "match_df.show(20,truncate=150)"
   ]
  },
  {
   "cell_type": "code",
   "execution_count": 57,
   "metadata": {
    "ExecuteTime": {
     "end_time": "2020-08-09T14:43:49.668192Z",
     "start_time": "2020-08-09T14:43:49.512627Z"
    }
   },
   "outputs": [
    {
     "data": {
      "text/plain": [
       "[Row(text='How did everyone feel about the Climate Change question last night? Exactly. #GOPDebate'),\n",
       " Row(text=\"Didn't catch the full #GOPdebate last night. Here are some of Scott's best lines in 90 seconds. #Walker16\"),\n",
       " Row(text='No mention of Tamir Rice and the #GOPDebate was held in Cleveland? Wow.'),\n",
       " Row(text=\"That Carly Fiorina is trending -- hours after HER debate -- above any of the men in just-completed #GOPdebate says she's on\"),\n",
       " Row(text='#GOPDebate w/ @realDonaldTrump delivered the highest ratings in the history of presidential debates. #Trump2016'),\n",
       " Row(text='\"\"\"On my first day I will rescind every illegal executive action taken by Barack Obama.\"\" #GOPDebate @FoxNews\"'),\n",
       " Row(text='I liked her and was happy when I heard she was going to be the moderator. Not anymore. #GOPDebate @megynkelly'),\n",
       " Row(text='Going on #MSNBC Live with @ThomasARoberts around 2 PM ET.  #GOPDebate'),\n",
       " Row(text='Deer in the headlights Ben Carson, may be the only brain surgeon who has performed a lobotomy on himself. #GOPDebate'),\n",
       " Row(text=\"Last night's debate proved it! #GOPDebate #BATsAsk @BadassTeachersA #TBATs\"),\n",
       " Row(text='@JGreenDC @realDonaldTrump In all fairness #BillClinton owns that phrase.#GOPDebate'),\n",
       " Row(text='Just woke up to tweet this out #GOPDebate'),\n",
       " Row(text=\"Me reading my family's comments about how great the #GOPDebate was\"),\n",
       " Row(text='\"RT @AllenWestRepub \"\"Dear @JebBush #GOPDebate #NotAMistake'),\n",
       " Row(text=\"I loved Scott Walker as Mark Harmon's romantic rival in SUMMER SCHOOL. Look it up. #GOPDebate\"),\n",
       " Row(text=\"Hey @ChrisChristie exploiting the tragedy of 9/11 for your own political gain is @rudygiulianiGOP's thing #GOPDebate\"),\n",
       " Row(text='#DonaldTrump under fire for comments about women @PeterBeinart @SL_Schaeffer @IWF @@MyRkiger weigh in on #GOPdebate .'),\n",
       " Row(text='Guess who had most speaking time at the #GOPDebate. @FoxNews moderators with 31.7% of time.'),\n",
       " Row(text=\"reason comment is funny 'in case you're ignorant' is the #gop #tcot are the reason the government isn't working for the people #gopdebate\"),\n",
       " Row(text='Paying for transgender surgery for soldiers, sailors and airmen does not make our country safer #Ha #GOPDebate')]"
      ]
     },
     "execution_count": 57,
     "metadata": {},
     "output_type": "execute_result"
    }
   ],
   "source": [
    "match_df.filter(\"text is not null\").filter(match_df[\"text\"]!='').select('text').take(20)"
   ]
  },
  {
   "cell_type": "markdown",
   "metadata": {},
   "source": [
    "### Second Dataset"
   ]
  },
  {
   "cell_type": "code",
   "execution_count": 60,
   "metadata": {
    "ExecuteTime": {
     "end_time": "2020-08-09T14:45:07.557326Z",
     "start_time": "2020-08-09T14:45:07.486761Z"
    }
   },
   "outputs": [],
   "source": [
    "spark_df1 = spark.read.csv('Tweets.csv',header=True,encoding='utf-8')\n",
    "spark_df1 = spark_df1.select('text','airline_sentiment').filter(\"text is not null\")"
   ]
  },
  {
   "cell_type": "code",
   "execution_count": 61,
   "metadata": {
    "ExecuteTime": {
     "end_time": "2020-08-09T14:45:10.400206Z",
     "start_time": "2020-08-09T14:45:10.389502Z"
    }
   },
   "outputs": [],
   "source": [
    "spark_df1 = spark_df1.withColumnRenamed('airline_sentiment', 'sentiment')"
   ]
  },
  {
   "cell_type": "code",
   "execution_count": null,
   "metadata": {},
   "outputs": [],
   "source": []
  },
  {
   "cell_type": "code",
   "execution_count": 62,
   "metadata": {
    "ExecuteTime": {
     "end_time": "2020-08-09T14:45:11.837849Z",
     "start_time": "2020-08-09T14:45:11.815836Z"
    }
   },
   "outputs": [],
   "source": [
    "spark_df1 =  spark_df1.select(F.regexp_replace('text',\"\\w+:\\/{2}[\\d\\w\\-]+(\\.[\\d\\w\\-]+)*(?:(?:\\/[^\\s/]*))*\",\"\").alias('text'),'sentiment').filter(\"text is not null\")\\\n",
    "                .select(F.regexp_replace('text',\"http.{1,10}…\",\"\").alias('text'),'sentiment').select(F.regexp_replace('text',\"…\",\"\").alias('text'),'sentiment')"
   ]
  },
  {
   "cell_type": "code",
   "execution_count": 63,
   "metadata": {
    "ExecuteTime": {
     "end_time": "2020-08-09T14:45:12.825916Z",
     "start_time": "2020-08-09T14:45:12.782541Z"
    }
   },
   "outputs": [
    {
     "name": "stdout",
     "output_type": "stream",
     "text": [
      "+----------------------------------------------------------------------------------------------------------------------------------+---------+\n",
      "|text                                                                                                                              |sentiment|\n",
      "+----------------------------------------------------------------------------------------------------------------------------------+---------+\n",
      "|@VirginAmerica What @dhepburn said.                                                                                               |neutral  |\n",
      "|@VirginAmerica plus you've added commercials to the experience... tacky.                                                          |positive |\n",
      "|@VirginAmerica I didn't today... Must mean I need to take another trip!                                                           |neutral  |\n",
      "|\"@VirginAmerica it's really aggressive to blast obnoxious \"\"entertainment\"\" in your guests' faces &amp; they have little recourse\"|negative |\n",
      "|@VirginAmerica and it's a really big bad thing about it                                                                           |negative |\n",
      "|@VirginAmerica seriously would pay $30 a flight for seats that didn't have this playing.                                          |negative |\n",
      "|@VirginAmerica yes, nearly every time I fly VX this “ear worm” won’t go away :)                                                   |positive |\n",
      "|@VirginAmerica Really missed a prime opportunity for Men Without Hats parody, there.                                              |neutral  |\n",
      "|@virginamerica Well, I didn'tbut NOW I DO! :-D                                                                                    |positive |\n",
      "|@VirginAmerica it was amazing, and arrived an hour early. You're too good to me.                                                  |positive |\n",
      "+----------------------------------------------------------------------------------------------------------------------------------+---------+\n",
      "only showing top 10 rows\n",
      "\n"
     ]
    }
   ],
   "source": [
    "spark_df1.show(10,truncate=False)"
   ]
  },
  {
   "cell_type": "code",
   "execution_count": 64,
   "metadata": {
    "ExecuteTime": {
     "end_time": "2020-08-09T14:45:13.915692Z",
     "start_time": "2020-08-09T14:45:13.906654Z"
    }
   },
   "outputs": [],
   "source": [
    "spark_df1 = spark_df1.select(F.regexp_replace('text',\"RT\\s.*\\:\\s\",\"\").alias('text'),'sentiment').filter(\"text is not null\")\n",
    "                \n"
   ]
  },
  {
   "cell_type": "code",
   "execution_count": 65,
   "metadata": {
    "ExecuteTime": {
     "end_time": "2020-08-09T14:45:15.132947Z",
     "start_time": "2020-08-09T14:45:15.053438Z"
    }
   },
   "outputs": [
    {
     "name": "stdout",
     "output_type": "stream",
     "text": [
      "+--------------------+---------+\n",
      "|                text|sentiment|\n",
      "+--------------------+---------+\n",
      "|@VirginAmerica Wh...|  neutral|\n",
      "|@VirginAmerica pl...| positive|\n",
      "|@VirginAmerica I ...|  neutral|\n",
      "|\"@VirginAmerica i...| negative|\n",
      "|@VirginAmerica an...| negative|\n",
      "|@VirginAmerica se...| negative|\n",
      "|@VirginAmerica ye...| positive|\n",
      "|@VirginAmerica Re...|  neutral|\n",
      "|@virginamerica We...| positive|\n",
      "|@VirginAmerica it...| positive|\n",
      "|@VirginAmerica di...|  neutral|\n",
      "|@VirginAmerica I ...| positive|\n",
      "|@VirginAmerica Th...| positive|\n",
      "|@VirginAmerica @v...| positive|\n",
      "|@VirginAmerica Th...| positive|\n",
      "|@VirginAmerica SF...| negative|\n",
      "|@VirginAmerica So...| positive|\n",
      "|@VirginAmerica  I...| negative|\n",
      "|I ❤️ flying @Virg...| positive|\n",
      "|@VirginAmerica yo...| positive|\n",
      "+--------------------+---------+\n",
      "only showing top 20 rows\n",
      "\n"
     ]
    }
   ],
   "source": [
    "spark_df1.show()"
   ]
  },
  {
   "cell_type": "code",
   "execution_count": 66,
   "metadata": {
    "ExecuteTime": {
     "end_time": "2020-08-09T14:45:16.168735Z",
     "start_time": "2020-08-09T14:45:16.166610Z"
    }
   },
   "outputs": [],
   "source": [
    "MODEL_NAME='sentimentdl_use_twitter'"
   ]
  },
  {
   "cell_type": "code",
   "execution_count": 67,
   "metadata": {
    "ExecuteTime": {
     "end_time": "2020-08-09T14:45:22.349883Z",
     "start_time": "2020-08-09T14:45:16.761918Z"
    }
   },
   "outputs": [
    {
     "name": "stdout",
     "output_type": "stream",
     "text": [
      "tfhub_use download started this may take some time.\n",
      "Approximate size to download 923.7 MB\n",
      "[OK!]\n",
      "sentimentdl_use_twitter download started this may take some time.\n",
      "Approximate size to download 11.9 MB\n",
      "[OK!]\n"
     ]
    }
   ],
   "source": [
    "documentAssembler = DocumentAssembler()\\\n",
    "    .setInputCol(\"text\")\\\n",
    "    .setOutputCol(\"document\")\n",
    "\n",
    "\n",
    "\n",
    "use = UniversalSentenceEncoder.pretrained(name=\"tfhub_use\", lang=\"en\")\\\n",
    " .setInputCols([\"document\"])\\\n",
    " .setOutputCol(\"sentence_embeddings\")\n",
    "\n",
    "\n",
    "sentimentdl = SentimentDLModel.pretrained(name=MODEL_NAME, lang=\"en\")\\\n",
    "    .setInputCols([\"sentence_embeddings\"])\\\n",
    "    .setOutputCol(\"pr_sentiment\")\n",
    "\n",
    "nlpPipeline = Pipeline(\n",
    "      stages = [\n",
    "          documentAssembler,\n",
    "          use,\n",
    "          sentimentdl\n",
    "      ])\n"
   ]
  },
  {
   "cell_type": "code",
   "execution_count": 68,
   "metadata": {
    "ExecuteTime": {
     "end_time": "2020-08-09T14:45:23.222856Z",
     "start_time": "2020-08-09T14:45:23.210688Z"
    }
   },
   "outputs": [],
   "source": [
    "empty_df = spark.createDataFrame([['']]).toDF(\"text\")\n",
    "\n",
    "pipelineModel = nlpPipeline.fit(empty_df)\n",
    "\n"
   ]
  },
  {
   "cell_type": "code",
   "execution_count": 69,
   "metadata": {
    "ExecuteTime": {
     "end_time": "2020-08-09T14:45:24.373113Z",
     "start_time": "2020-08-09T14:45:24.339023Z"
    }
   },
   "outputs": [],
   "source": [
    "#df = spark.createDataFrame(pd.DataFrame({\"text\":text_list}))\n",
    "result3 = pipelineModel.transform(spark_df1)"
   ]
  },
  {
   "cell_type": "code",
   "execution_count": 70,
   "metadata": {
    "ExecuteTime": {
     "end_time": "2020-08-09T14:45:25.535514Z",
     "start_time": "2020-08-09T14:45:25.530230Z"
    }
   },
   "outputs": [],
   "source": [
    "result3=result3.withColumnRenamed('airline_sentiment','sentiment')"
   ]
  },
  {
   "cell_type": "code",
   "execution_count": 71,
   "metadata": {
    "ExecuteTime": {
     "end_time": "2020-08-09T14:45:26.705976Z",
     "start_time": "2020-08-09T14:45:26.559998Z"
    }
   },
   "outputs": [
    {
     "name": "stdout",
     "output_type": "stream",
     "text": [
      "+--------------------+---------+--------------------+--------------------+--------------------+\n",
      "|                text|sentiment|            document| sentence_embeddings|        pr_sentiment|\n",
      "+--------------------+---------+--------------------+--------------------+--------------------+\n",
      "|@VirginAmerica Wh...|  neutral|[[document, 0, 34...|[[sentence_embedd...|[[category, 0, 34...|\n",
      "|@VirginAmerica pl...| positive|[[document, 0, 71...|[[sentence_embedd...|[[category, 0, 71...|\n",
      "|@VirginAmerica I ...|  neutral|[[document, 0, 70...|[[sentence_embedd...|[[category, 0, 70...|\n",
      "|\"@VirginAmerica i...| negative|[[document, 0, 12...|[[sentence_embedd...|[[category, 0, 12...|\n",
      "|@VirginAmerica an...| negative|[[document, 0, 54...|[[sentence_embedd...|[[category, 0, 54...|\n",
      "|@VirginAmerica se...| negative|[[document, 0, 87...|[[sentence_embedd...|[[category, 0, 87...|\n",
      "|@VirginAmerica ye...| positive|[[document, 0, 78...|[[sentence_embedd...|[[category, 0, 78...|\n",
      "|@VirginAmerica Re...|  neutral|[[document, 0, 84...|[[sentence_embedd...|[[category, 0, 84...|\n",
      "|@virginamerica We...| positive|[[document, 0, 45...|[[sentence_embedd...|[[category, 0, 45...|\n",
      "|@VirginAmerica it...| positive|[[document, 0, 79...|[[sentence_embedd...|[[category, 0, 79...|\n",
      "|@VirginAmerica di...|  neutral|[[document, 0, 94...|[[sentence_embedd...|[[category, 0, 94...|\n",
      "|@VirginAmerica I ...| positive|[[document, 0, 82...|[[sentence_embedd...|[[category, 0, 82...|\n",
      "|@VirginAmerica Th...| positive|[[document, 0, 13...|[[sentence_embedd...|[[category, 0, 13...|\n",
      "|@VirginAmerica @v...| positive|[[document, 0, 11...|[[sentence_embedd...|[[category, 0, 11...|\n",
      "|@VirginAmerica Th...| positive|[[document, 0, 21...|[[sentence_embedd...|[[category, 0, 21...|\n",
      "|@VirginAmerica SF...| negative|[[document, 0, 44...|[[sentence_embedd...|[[category, 0, 44...|\n",
      "|@VirginAmerica So...| positive|[[document, 0, 13...|[[sentence_embedd...|[[category, 0, 13...|\n",
      "|@VirginAmerica  I...| negative|[[document, 0, 13...|[[sentence_embedd...|[[category, 0, 13...|\n",
      "|I ❤️ flying @Virg...| positive|[[document, 0, 31...|[[sentence_embedd...|[[category, 0, 31...|\n",
      "|@VirginAmerica yo...| positive|[[document, 0, 10...|[[sentence_embedd...|[[category, 0, 10...|\n",
      "+--------------------+---------+--------------------+--------------------+--------------------+\n",
      "only showing top 20 rows\n",
      "\n"
     ]
    }
   ],
   "source": [
    "result3.show()"
   ]
  },
  {
   "cell_type": "code",
   "execution_count": 72,
   "metadata": {
    "ExecuteTime": {
     "end_time": "2020-08-09T14:45:28.400149Z",
     "start_time": "2020-08-09T14:45:28.338014Z"
    },
    "scrolled": false
   },
   "outputs": [],
   "source": [
    "result4=result3.select(F.explode(F.arrays_zip('document.result', 'pr_sentiment.result')).alias(\"cols\"),'sentiment').filter(\"pr_sentiment is not null\").filter(\"document.result is not null\").filter(\"pr_sentiment.result is not null\") \\\n",
    ".select(F.expr(\"cols['0']\").alias(\"document\"),\n",
    "        F.expr(\"cols['1']\").alias(\"pr_sentiment\"),'sentiment')"
   ]
  },
  {
   "cell_type": "code",
   "execution_count": 78,
   "metadata": {
    "ExecuteTime": {
     "end_time": "2020-08-09T14:52:01.873964Z",
     "start_time": "2020-08-09T14:52:01.682926Z"
    },
    "scrolled": true
   },
   "outputs": [
    {
     "name": "stdout",
     "output_type": "stream",
     "text": [
      "+--------------------------------------------------------------------------------------------------------------------------------------------+------------+---------+\n",
      "|document                                                                                                                                    |pr_sentiment|sentiment|\n",
      "+--------------------------------------------------------------------------------------------------------------------------------------------+------------+---------+\n",
      "|@VirginAmerica What @dhepburn said.                                                                                                         |positive    |neutral  |\n",
      "|@VirginAmerica plus you've added commercials to the experience... tacky.                                                                    |positive    |positive |\n",
      "|@VirginAmerica I didn't today... Must mean I need to take another trip!                                                                     |negative    |neutral  |\n",
      "|\"@VirginAmerica it's really aggressive to blast obnoxious \"\"entertainment\"\" in your guests' faces &amp; they have little recourse\"          |positive    |negative |\n",
      "|@VirginAmerica and it's a really big bad thing about it                                                                                     |positive    |negative |\n",
      "|@VirginAmerica seriously would pay $30 a flight for seats that didn't have this playing.                                                    |negative    |negative |\n",
      "|@VirginAmerica yes, nearly every time I fly VX this “ear worm” won’t go away :)                                                             |negative    |positive |\n",
      "|@VirginAmerica Really missed a prime opportunity for Men Without Hats parody, there.                                                        |negative    |neutral  |\n",
      "|@virginamerica Well, I didn'tbut NOW I DO! :-D                                                                                              |positive    |positive |\n",
      "|@VirginAmerica it was amazing, and arrived an hour early. You're too good to me.                                                            |positive    |positive |\n",
      "|@VirginAmerica did you know that suicide is the second leading cause of death among teens 10-24                                             |positive    |neutral  |\n",
      "|@VirginAmerica I &lt;3 pretty graphics. so much better than minimal iconography. :D                                                         |positive    |positive |\n",
      "|@VirginAmerica This is such a great deal! Already thinking about my 2nd trip to @Australia &amp; I haven't even gone on my 1st trip yet! ;p |negative    |positive |\n",
      "|@VirginAmerica @virginmedia I'm flying your #fabulous #Seductive skies again! U take all the #stress away from travel                       |positive    |positive |\n",
      "|@VirginAmerica Thanks!                                                                                                                      |positive    |positive |\n",
      "|@VirginAmerica SFO-PDX schedule is still MIA.                                                                                               |negative    |negative |\n",
      "|@VirginAmerica So excited for my first cross country flight LAX to MCO I've heard nothing but great things about Virgin America. #29DaysToGo|positive    |positive |\n",
      "|@VirginAmerica  I flew from NYC to SFO last week and couldn't fully sit in my seat due to two large gentleman on either side of me. HELP!   |negative    |negative |\n",
      "|I ❤️ flying @VirginAmerica. ☺️👍                                                                                                            |positive    |positive |\n",
      "|@VirginAmerica you know what would be amazingly awesome? BOS-FLL PLEASE!!!!!!! I want to fly with only you.                                 |positive    |positive |\n",
      "+--------------------------------------------------------------------------------------------------------------------------------------------+------------+---------+\n",
      "only showing top 20 rows\n",
      "\n"
     ]
    }
   ],
   "source": [
    "result4.show(20,truncate=False)"
   ]
  }
 ],
 "metadata": {
  "kernelspec": {
   "display_name": "Python 3",
   "language": "python",
   "name": "python3"
  },
  "language_info": {
   "codemirror_mode": {
    "name": "ipython",
    "version": 3
   },
   "file_extension": ".py",
   "mimetype": "text/x-python",
   "name": "python",
   "nbconvert_exporter": "python",
   "pygments_lexer": "ipython3",
   "version": "3.7.6"
  }
 },
 "nbformat": 4,
 "nbformat_minor": 4
}
