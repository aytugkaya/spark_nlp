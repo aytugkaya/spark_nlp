{
 "cells": [
  {
   "cell_type": "code",
   "execution_count": 1,
   "metadata": {
    "ExecuteTime": {
     "end_time": "2020-08-06T22:20:58.401402Z",
     "start_time": "2020-08-06T22:20:58.395441Z"
    }
   },
   "outputs": [
    {
     "data": {
      "text/html": [
       "<style>.container { width:100% !important; }</style>"
      ],
      "text/plain": [
       "<IPython.core.display.HTML object>"
      ]
     },
     "metadata": {},
     "output_type": "display_data"
    }
   ],
   "source": [
    "from IPython.core.display import display, HTML\n",
    "display(HTML(\"<style>.container { width:100% !important; }</style>\"))"
   ]
  },
  {
   "cell_type": "code",
   "execution_count": 2,
   "metadata": {
    "ExecuteTime": {
     "end_time": "2020-08-06T22:21:01.857803Z",
     "start_time": "2020-08-06T22:20:59.313218Z"
    }
   },
   "outputs": [
    {
     "data": {
      "text/html": [
       "\n",
       "            <div>\n",
       "                <p><b>SparkSession - in-memory</b></p>\n",
       "                \n",
       "        <div>\n",
       "            <p><b>SparkContext</b></p>\n",
       "\n",
       "            <p><a href=\"http://aytu-MS-7B17.zyxel.com:4041\">Spark UI</a></p>\n",
       "\n",
       "            <dl>\n",
       "              <dt>Version</dt>\n",
       "                <dd><code>v2.4.6</code></dd>\n",
       "              <dt>Master</dt>\n",
       "                <dd><code>local[*]</code></dd>\n",
       "              <dt>AppName</dt>\n",
       "                <dd><code>Spark NLP</code></dd>\n",
       "            </dl>\n",
       "        </div>\n",
       "        \n",
       "            </div>\n",
       "        "
      ],
      "text/plain": [
       "<pyspark.sql.session.SparkSession at 0x7fa6697bc6d0>"
      ]
     },
     "execution_count": 2,
     "metadata": {},
     "output_type": "execute_result"
    }
   ],
   "source": [
    "import sparknlp\n",
    "sparknlp.start()"
   ]
  },
  {
   "cell_type": "code",
   "execution_count": 3,
   "metadata": {
    "ExecuteTime": {
     "end_time": "2020-08-06T22:21:04.886003Z",
     "start_time": "2020-08-06T22:21:04.880022Z"
    }
   },
   "outputs": [],
   "source": [
    "from pyspark.sql import SparkSession\n",
    "spark = SparkSession.builder.getOrCreate()\n",
    "\n",
    "import pyspark.sql.functions as F\n",
    "from pyspark.sql.types import StringType"
   ]
  },
  {
   "cell_type": "code",
   "execution_count": 4,
   "metadata": {
    "ExecuteTime": {
     "end_time": "2020-08-06T22:21:06.445248Z",
     "start_time": "2020-08-06T22:21:06.441859Z"
    }
   },
   "outputs": [
    {
     "data": {
      "text/plain": [
       "'2.5.3'"
      ]
     },
     "execution_count": 4,
     "metadata": {},
     "output_type": "execute_result"
    }
   ],
   "source": [
    "import sparknlp\n",
    "from sparknlp.pretrained import PretrainedPipeline\n",
    "#create or get Spark Session\n",
    "#spark = sparknlp.start()\n",
    "sparknlp.version()\n"
   ]
  },
  {
   "cell_type": "code",
   "execution_count": 5,
   "metadata": {
    "ExecuteTime": {
     "end_time": "2020-08-06T22:21:07.371491Z",
     "start_time": "2020-08-06T22:21:07.365388Z"
    }
   },
   "outputs": [],
   "source": [
    "# Import Spark NLP \n",
    "from sparknlp.base import *\n",
    "from sparknlp.annotator import *\n",
    "#from sparknlp.embeddings import *\n"
   ]
  },
  {
   "cell_type": "code",
   "execution_count": 6,
   "metadata": {
    "ExecuteTime": {
     "end_time": "2020-08-06T22:21:12.042240Z",
     "start_time": "2020-08-06T22:21:09.161215Z"
    }
   },
   "outputs": [],
   "source": [
    "spark_df = spark.read.csv('Sentiment.csv',header=True)"
   ]
  },
  {
   "cell_type": "code",
   "execution_count": 7,
   "metadata": {
    "ExecuteTime": {
     "end_time": "2020-08-06T22:21:12.185398Z",
     "start_time": "2020-08-06T22:21:12.043239Z"
    }
   },
   "outputs": [
    {
     "name": "stdout",
     "output_type": "stream",
     "text": [
      "+----------+----------+--------------------+-----------+----------------------+----------+--------------------+--------------+-------------------------+--------------+----------+----------------+-------------+--------------+-------------------+----------+-----------+-------------+----------+--------------+-------------+\n",
      "|        id| candidate|candidate_confidence|relevant_yn|relevant_yn_confidence| sentiment|sentiment_confidence|subject_matter|subject_matter_confidence|candidate_gold|      name|relevant_yn_gold|retweet_count|sentiment_gold|subject_matter_gold|      text|tweet_coord|tweet_created|  tweet_id|tweet_location|user_timezone|\n",
      "+----------+----------+--------------------+-----------+----------------------+----------+--------------------+--------------+-------------------------+--------------+----------+----------------+-------------+--------------+-------------------+----------+-----------+-------------+----------+--------------+-------------+\n",
      "|         1|No cand...|                 1.0|        yes|                   1.0|   Neutral|              0.6578|    None of...|                      1.0|          null|I_Am_Kenzi|            null|            5|          null|               null|RT @Nan...|       null|   2015-08...|6296972...|          null|        Quito|\n",
      "|         2|Scott W...|                 1.0|        yes|                   1.0|  Positive|              0.6333|    None of...|                      1.0|          null|Peacefu...|            null|           26|          null|               null|RT @Sco...|       null|   2015-08...|6296971...|          null|         null|\n",
      "|         3|No cand...|                 1.0|        yes|                   1.0|   Neutral|              0.6629|    None of...|                   0.6629|          null|Pussssy...|            null|           27|          null|               null|RT @TJM...|       null|   2015-08...|6296971...|          null|         null|\n",
      "|         4|No cand...|                 1.0|        yes|                   1.0|  Positive|                 1.0|    None of...|                   0.7039|          null|MattFro...|            null|          138|          null|               null|RT @Rob...|       null|   2015-08...|6296971...|         Texas|   Central...|\n",
      "|         5|Donald ...|                 1.0|        yes|                   1.0|  Positive|              0.7045|    None of...|                      1.0|          null|sharonDay5|            null|          156|          null|               null|RT @Dan...|       null|   2015-08...|6296971...|          null|      Arizona|\n",
      "|         6|  Ted Cruz|              0.6332|        yes|                   1.0|  Positive|              0.6332|    None of...|                      1.0|          null|DRJohns...|            null|          228|          null|               null|\"RT @Gr...|       null|   2015-08...|6296971...|          null|   Central...|\n",
      "|         7|No cand...|                 1.0|        yes|                   1.0|  Negative|              0.6761|    FOX New...|                      1.0|          null|DebWill...|            null|           17|          null|               null|RT @war...|       null|   2015-08...|6296971...|    North G...|   Eastern...|\n",
      "|         8|No cand...|                 1.0|        yes|                   1.0|   Neutral|                 1.0|    None of...|                      1.0|          null|RaulAReyes|            null|            0|          null|               null|Going o...|       null|   2015-08...|6296971...|    New Yor...|   Eastern...|\n",
      "|         9|Ben Carson|                 1.0|        yes|                   1.0|  Negative|              0.6889|    None of...|                   0.6444|          null|   kengpdx|            null|            0|          null|               null|Deer in...|       null|   2015-08...|6296971...|          null|   Pacific...|\n",
      "|        10|No cand...|              0.4594|        yes|                0.6778|  Negative|              0.6778|    None of...|                   0.4594|          null|Kathiel...|            null|            1|          null|               null|RT @Nan...|       null|   2015-08...|6296971...|          null|         null|\n",
      "|        11|Donald ...|                 1.0|        yes|                   1.0|  Negative|                 1.0|    None of...|                      1.0|          null|   jnjsmom|            null|            0|          null|               null|@JGreen...|       null|   2015-08...|6296971...|    Peoria, IL|   Central...|\n",
      "|        12|Mike Hu...|                 1.0|        yes|                   1.0|  Positive|                 1.0|    Foreign...|                    0.652|          null| KLWorster|            null|          188|          null|               null|RT @Way...|       null|         null|      null|          null|         null|\n",
      "|Best li...|      null|          2015-08...| 6296971...|             Fargo, ND|Central...|                null|          null|                     null|          null|      null|            null|         null|          null|               null|      null|       null|         null|      null|          null|         null|\n",
      "|        13|No cand...|                 1.0|        yes|                   1.0|  Negative|              0.6957|    None of...|                      1.0|          null|wiggerb...|            null|            0|          null|               null|Me read...|       null|   2015-08...|6296971...|          null|         null|\n",
      "|        14|  Jeb Bush|              0.6947|        yes|                   1.0|   Neutral|              0.6421|    Foreign...|                      1.0|          null|NCBible...|            null|            5|          null|               null|\"RT @Ar...|       null|   2015-08...|6296971...|    Montgom...|   Central...|\n",
      "|        15|Scott W...|                 1.0|        yes|                   1.0|  Positive|                 1.0|    None of...|                      1.0|          null|In_Rela...|            null|          215|          null|               null|RT @pat...|       null|   2015-08...|6296971...|    San Die...|   Pacific...|\n",
      "|        16|Chris C...|                 1.0|        yes|                   1.0|  Negative|                 1.0|    None of...|                   0.6778|          null|  MDiner92|            null|            0|          null|               null|Hey @Ch...|       null|   2015-08...|6296971...|          null|   Central...|\n",
      "|        17|Donald ...|              0.3923|        yes|                0.6264|  Negative|              0.6264|    Women's...|                   0.3923|          null|gina_ca...|            null|           45|          null|               null|RT @Car...|       null|   2015-08...|6296971...|          null|         null|\n",
      "|        18|Donald ...|              0.6404|        yes|                   1.0|  Negative|              0.6629|    FOX New...|                      1.0|          null|ERNESTZ...|            null|            7|          null|               null|RT @joh...|       null|   2015-08...|6296971...|          null|   Mountai...|\n",
      "|        19|No cand...|                 1.0|        yes|                   1.0|  Negative|                 1.0|    None of...|               0.68599...|          null|LordWha...|            null|            0|          null|               null|reason ...|       null|   2015-08...|6296971...|          null|   Eastern...|\n",
      "+----------+----------+--------------------+-----------+----------------------+----------+--------------------+--------------+-------------------------+--------------+----------+----------------+-------------+--------------+-------------------+----------+-----------+-------------+----------+--------------+-------------+\n",
      "only showing top 20 rows\n",
      "\n"
     ]
    }
   ],
   "source": [
    "spark_df.show(truncate=10)"
   ]
  },
  {
   "cell_type": "code",
   "execution_count": 8,
   "metadata": {
    "ExecuteTime": {
     "end_time": "2020-08-06T22:21:13.328474Z",
     "start_time": "2020-08-06T22:21:13.223561Z"
    }
   },
   "outputs": [],
   "source": [
    "spark_df = spark_df.select('text','sentiment').filter(\"text is not null\")"
   ]
  },
  {
   "cell_type": "code",
   "execution_count": 9,
   "metadata": {
    "ExecuteTime": {
     "end_time": "2020-08-06T22:21:14.542940Z",
     "start_time": "2020-08-06T22:21:14.495435Z"
    }
   },
   "outputs": [
    {
     "data": {
      "text/plain": [
       "['text', 'sentiment']"
      ]
     },
     "execution_count": 9,
     "metadata": {},
     "output_type": "execute_result"
    }
   ],
   "source": [
    "spark_df.columns"
   ]
  },
  {
   "cell_type": "code",
   "execution_count": 10,
   "metadata": {
    "ExecuteTime": {
     "end_time": "2020-08-06T22:21:15.099668Z",
     "start_time": "2020-08-06T22:21:15.085143Z"
    }
   },
   "outputs": [],
   "source": [
    "spark_df = spark_df.withColumn('sentiment', F.lower(F.col('sentiment')))"
   ]
  },
  {
   "cell_type": "code",
   "execution_count": 11,
   "metadata": {
    "ExecuteTime": {
     "end_time": "2020-08-06T22:21:15.784527Z",
     "start_time": "2020-08-06T22:21:15.781795Z"
    }
   },
   "outputs": [
    {
     "data": {
      "text/plain": [
       "['text', 'sentiment']"
      ]
     },
     "execution_count": 11,
     "metadata": {},
     "output_type": "execute_result"
    }
   ],
   "source": [
    "spark_df.columns"
   ]
  },
  {
   "cell_type": "code",
   "execution_count": 12,
   "metadata": {
    "ExecuteTime": {
     "end_time": "2020-08-06T22:21:16.655100Z",
     "start_time": "2020-08-06T22:21:16.603441Z"
    }
   },
   "outputs": [],
   "source": [
    "spark_df = spark_df.select(F.regexp_replace('text',\"\\w+:\\/{2}[\\d\\w\\-]+(\\.[\\d\\w\\-]+)*(?:(?:\\/[^\\s/]*))*\",\"\").alias('text'),'sentiment').filter(\"text is not null\")\\\n",
    "                .select(F.regexp_replace('text',\"http.{1,10}…\",\"\").alias('text'),'sentiment').select(F.regexp_replace('text',\"…\",\"\").alias('text'),'sentiment').filter(\"text is not null\")"
   ]
  },
  {
   "cell_type": "code",
   "execution_count": 13,
   "metadata": {
    "ExecuteTime": {
     "end_time": "2020-08-06T22:21:18.008847Z",
     "start_time": "2020-08-06T22:21:17.812166Z"
    }
   },
   "outputs": [
    {
     "name": "stdout",
     "output_type": "stream",
     "text": [
      "+-------------------------------------------------------------------------------------------------------------------------------------------------------+---------+\n",
      "|text                                                                                                                                                   |sentiment|\n",
      "+-------------------------------------------------------------------------------------------------------------------------------------------------------+---------+\n",
      "|RT @NancyLeeGrahn: How did everyone feel about the Climate Change question last night? Exactly. #GOPDebate                                             |neutral  |\n",
      "|RT @ScottWalker: Didn't catch the full #GOPdebate last night. Here are some of Scott's best lines in 90 seconds. #Walker16                             |positive |\n",
      "|RT @TJMShow: No mention of Tamir Rice and the #GOPDebate was held in Cleveland? Wow.                                                                   |neutral  |\n",
      "|RT @RobGeorge: That Carly Fiorina is trending -- hours after HER debate -- above any of the men in just-completed #GOPdebate says she's on             |positive |\n",
      "|RT @DanScavino: #GOPDebate w/ @realDonaldTrump delivered the highest ratings in the history of presidential debates. #Trump2016                        |positive |\n",
      "|\"RT @GregAbbott_TX: @TedCruz: \"\"On my first day I will rescind every illegal executive action taken by Barack Obama.\"\" #GOPDebate @FoxNews\"            |positive |\n",
      "|RT @warriorwoman91: I liked her and was happy when I heard she was going to be the moderator. Not anymore. #GOPDebate @megynkelly                      |negative |\n",
      "|Going on #MSNBC Live with @ThomasARoberts around 2 PM ET.  #GOPDebate                                                                                  |neutral  |\n",
      "|Deer in the headlights RT @lizzwinstead: Ben Carson, may be the only brain surgeon who has performed a lobotomy on himself. #GOPDebate                 |negative |\n",
      "|RT @NancyOsborne180: Last night's debate proved it! #GOPDebate #BATsAsk @BadassTeachersA #TBATs                                                        |negative |\n",
      "|@JGreenDC @realDonaldTrump In all fairness #BillClinton owns that phrase.#GOPDebate                                                                    |negative |\n",
      "|RT @WayneDupreeShow: Just woke up to tweet this out #GOPDebate                                                                                         |positive |\n",
      "|Me reading my family's comments about how great the #GOPDebate was                                                                                     |negative |\n",
      "|\"RT @ArcticFox2016: RT @AllenWestRepub \"\"Dear @JebBush #GOPDebate #NotAMistake                                                                         |neutral  |\n",
      "|RT @pattonoswalt: I loved Scott Walker as Mark Harmon's romantic rival in SUMMER SCHOOL. Look it up. #GOPDebate                                        |positive |\n",
      "|Hey @ChrisChristie exploiting the tragedy of 9/11 for your own political gain is @rudygiulianiGOP's thing #GOPDebate                                   |negative |\n",
      "|RT @CarolCNN: #DonaldTrump under fire for comments about women @PeterBeinart @SL_Schaeffer @IWF @@MyRkiger weigh in on #GOPdebate .                    |negative |\n",
      "|RT @johncardillo: Guess who had most speaking time at the #GOPDebate. @FoxNews moderators with 31.7% of time.                                          |negative |\n",
      "|reason comment is funny 'in case you're ignorant' is the #gop #tcot are the reason the government isn't working for the people #gopdebate              |negative |\n",
      "|RT @PamelaGeller: Huckabee: Paying for transgender surgery for soldiers, sailors and airmen does not make our country safer #Ha #GOPDebate             |negative |\n",
      "|RT @ChuckNellis: Cruz has class &amp; truth, that gets my vote! #GOPDebate                                                                             |positive |\n",
      "|RT @mchamric: RT “@TeaTraitors: #GOPDebate was still Clown Show! I'm glad Head Clown Trump helping destroy GOP.                                        |negative |\n",
      "|RT @erinmallorylong: No *I* hate Planned Parenthood and women more! NO I HATE PLANNED PARENTHOOD AND WOMEN MORE!!!!! #GOPDebate                        |negative |\n",
      "|RT @thekevinryder: #GOPDebate (Vine by @dabulldawg88)                                                                                                  |neutral  |\n",
      "|RT @MrPooni: Fox News trying to convince us young Black Americans are more worried about ISIS than police terrorism #GOPDebate                         |negative |\n",
      "|#GOPDebate rankings: worst to be performance - Rubio, Kasich, Christie, Bush, Trump, Cruz, Walker, Paul, Huckabee, Carson.                             |negative |\n",
      "|RT @TheBaxterBean: Scott Walker's Abortion Ban Allows Rapist Father To Sue For Emotional Distress  #GOPDebate @Badger                                  |negative |\n",
      "|RT @feministabulous: It's not a competition, but how have we moved so far on gay rights but women's rights is worse than it's ever been? #G            |negative |\n",
      "|RT @mch7576: RT “@TeaTraitors: #GOPDebate was still Clown Show! I'm glad Head Clown Trump helping destroy GOP.                                         |negative |\n",
      "|RT @HillaryClinton: Watch the #GOPdebate? Bet you feel like donating to a Democrat right about now.                                                    |negative |\n",
      "|@fbhw they're going to need to borrow the train horn for the next #GOPDebate ! The little bell was wimpy! #hornmeansyouredone                          |negative |\n",
      "|RT @LisaVikingstad: Ted Cruz at the #GOPDebate will be like Ted Cruz in bed. He will keep a confusingly sad look on his face and refuse to             |negative |\n",
      "|The First #GOPDebate: Social Media Reaction and More                                                                                                   |neutral  |\n",
      "|#SocialMedia: The First #GOPDebate: Social Media Reaction and More                                                                                     |neutral  |\n",
      "|RT WinesdayPodcast : An update on FoxNews tech failures for the #GOPDebate                                                                             |negative |\n",
      "|RT @AmyMek: The Torched has been passed -&gt;.@CandyCrowley is no longer the most Famous Political Assassin! Congratulations @megynkelly, U Wi         |negative |\n",
      "|RT @stockwizards3: Trump/Carson ticket would win in a landslide...                                                                                     |negative |\n",
      "|\"RT @kvxrdashian: Jeb Bush: \"\"Obama is at fault                                                                                                        |negative |\n",
      "|RT @ali: After the Fox News #GOPDebate, we primary voters are none the wiser on the policy plans these folks are putting forth. Journalism             |negative |\n",
      "|RT @itsashlyperez: listening to fetty wap while packing because i'm a true american #GOPDebate #doesthishashtagexpire?                                 |neutral  |\n",
      "|RT @mgell: Trump is a cross between the shrug emoji and President Business from the Lego movie. #GOPDebate                                             |negative |\n",
      "|RT @JamelleMyBelle: Meanwhile, in the White House...  #GOPDebate                                                                                       |negative |\n",
      "|RT @RowdyGentleman: If you’re planning out a #GOPDebate drinking game right now, you’re a Rowdy Gentleman.                                             |neutral  |\n",
      "|RT @brownblaze: PLEASE RT. #KKKorGOP #GOPDebate                                                                                                        |negative |\n",
      "|\"Trump thinks criticism of his misogynistic remarks is a \"\"political correctness\"\" problem. Nope                                                       |negative |\n",
      "|RT @LeKarmaSucre: How the #GOPDebate handled #BlackLivesMatter                                                                                         |negative |\n",
      "|RT @palmaceiahome1: The goal of #FoxNews last night was to take out Trump and pave the way for a RINO like Bush or Kasich. #GOPDebate                  |neutral  |\n",
      "|RT @philstockworld: From our Live Chat Room: #GOPDebate #Trump #Futures $SPY #NonFarmPayrolls #Jobs #Netflix --  http                                  |neutral  |\n",
      "|“@DanScavino: #GOPDebate w/ @realDonaldTrump delivered the highest ratings in the history of presidential debates. #Trump2016 Fox say thanks           |positive |\n",
      "|\"RT @gov: Most-Tweeted @GovMikeHuckabee #GOPDebate moment: saying purpose of military \"\"to kill people/break things\"\" re trans servicemembers\"         |negative |\n",
      "|RT @ariannahuff: The best and worst from the #GOPDebate                                                                                                |neutral  |\n",
      "|RT @megynkelly: .@ChrisStirewalt: Big moments were @RandPaul vs. @ChrisChristie, and @realDonaldTrump reaction to women question. #KellyFil            |positive |\n",
      "|RT @STYLEMOM: Here's a question, WHY in the hell are WOMEN &amp; our body parts even in this debate? Foh, stop it, it's not 1965 wtf #GOPDebate        |negative |\n",
      "|@rushlimbaugh Americans getting beheaded overseas and @megynkelly is worried whether @realDonaldTrump calls Rosie O'Donnell fat? #GOPDebate            |negative |\n",
      "|RT @ChuckNellis: I won't defend @FoxNews, they were FAR from fair OR balanced last night, but name calling is juvenile. #GOPDebate                     |negative |\n",
      "|\"RT @theskysgoneout: To non-Christians, #GOPDebate \"\"God\"\" questions underline how little anyone really cares about religious minorities. Chri\"        |negative |\n",
      "|RT @Bipartisanism: The #GOPDebate response to #BlackLivesMatter was pathetic.                                                                          |negative |\n",
      "|RT @factcheckdotorg: .@JebBush said he cut FL taxes by $19B. But that includes cuts in estate taxes mandated by federal law. #GOPDebate. ht            |negative |\n",
      "|RT @mydaughtersarmy: Dear GOP,                                                                                                                         |negative |\n",
      "|RT @KarrattiPaul: Join ISIS and sign your death warrant,                                                                                               |positive |\n",
      "|RT @P0TUS: #GOPDebate closing statements:                                                                                                              |negative |\n",
      "|RT @AmyMek: Status 👉 Single                                                                                                                           |negative |\n",
      "|RT @FrankLuntz: Before the #GOPDebate, 14 focus groupers said they had favorable view of Trump.                                                        |positive |\n",
      "|RT @_Holly_Renee: Just made my first donation to @CarlyFiorina.                                                                                        |positive |\n",
      "|RT @TheJimHughes: If we want to stop sending foreign aid to places that burn our flag can we start with Berkeley? #GOPDebate                           |negative |\n",
      "|RT @frankthorpNBC: The Rand Paul eye roll to Chris Christie at the #GOPDebate                                                                          |neutral  |\n",
      "|RT @JohnKasich: Scrap the President's Iran deal. Iran can’t get a nuke. #Kasich4Us #GOPDebate                                                          |neutral  |\n",
      "|Trying to decide if it's too early to come back to Twitter fulltime. Was gonna wait closer to election but the #GOPDebate may have me hooked           |neutral  |\n",
      "|RT @MsPackyetti: Donald Trump's campaign reveals 1 important thing: Twitter Trolls are real people.                                                    |positive |\n",
      "|\"RT @Bipartisanism: Those saying \"\"don't worry                                                                                                         |negative |\n",
      "|\"Fox News Had Its Own #GOPDebate Agenda: Promote Carly \"\"never mention fired from HP\"\" Fiorina                                                         |negative |\n",
      "|RT @HlLLARY: Oh, one more thing. Did anyone hear anything about affordable child care for working families last night in the #GOPDebate ? I            |negative |\n",
      "|\"RT @NaughtyBeyotch: RT @AllenWestRepub \"\"Dear @JebBush #GOPDebate #NotAMistake                                                                        |negative |\n",
      "|@marthamaccallum @billhemmer #gopdebate Bill and Martha were the A Team in the first debate. 2nd debate was an ambush.                                 |positive |\n",
      "|\"The Country's going to hell and Megyn Kelly on #FoxNews is attacking Trump for a \"\"war on women?\"\" #GOPDebate\"                                        |negative |\n",
      "|RT @Franklin_Graham: 1st #GOPDebate--Encouraging to see several candidates express their faith in God and His Son, Jesus Christ.                       |positive |\n",
      "|RT @SnarkyDemo: #DonaldTrump said he’s not “politically correct.”  Which, of course, is Trumpspeak for “Let’s face it, I’m huge asshole.” #            |negative |\n",
      "|RT @Bipartisanism: A message to the #GOPDebate candidates:                                                                                             |negative |\n",
      "|RT @davidcicilline: This is the worst episode of The Apprentice that I've ever seen. #GOPDebate                                                        |negative |\n",
      "|\"RT @GovMikeHuckabee: Luntz: \"\"As the lines go up                                                                                                      |neutral  |\n",
      "|\"RT @lolhayley: \"\"The purpose of the military is to kill people and break things.\"\" - something an actual man running for president just said \"        |negative |\n",
      "|Wondering if I could get the Republican Party to pay for my liver transplant after playing @mtaibbi #GOPDebate drinking game last night.               |negative |\n",
      "|RT @BrandonDHowell: Great way to start Friday. #CarlyFiorina @CarlyFiorina #GOPDebate                                                                  |positive |\n",
      "|RT @tedcruz: If elected, on my first day as President, I'll rescind every illegal and unconstitutional executive order enacted by Pres. Oba            |positive |\n",
      "|RT @Ronnie2K: Donald Trump during #GOPDebate be like...                                                                                                |neutral  |\n",
      "|RT @bruneski: Was upstairs putting the kids to bed. How many questions about climate change did I miss? #GOPDebate #GOPClownCar                        |neutral  |\n",
      "|They’re all Todd Akin now: How the Planned Parenthood sting backfired on Republicans #GOPDebate #StandwithPP                                           |negative |\n",
      "|RT @learjetter: Hey @Foxnews let #REPUBLICANS digest #GOPDebate before allowing crazy @DWStweets to TRASH OUR #GOP! @LadySandersfarm                   |negative |\n",
      "|RT @TheBaxterBean: Watch Donald Trump Receive Enormous Applause for Horribly Misogynistic #GOPDebate Answer                                            |negative |\n",
      "|A few of my favorite #Twitter responses to the #GOPDebate last night:                                                                                  |neutral  |\n",
      "|Even though she's a super conservative reporter, I actually like Megyn Kelly's interview style &amp; she did great at the #GOPDebate                   |positive |\n",
      "|RT @kingsthings: The #GOPdebate is not a debate at all. It's a series of 1 minute opportunities to avoid answering a question one candidate            |negative |\n",
      "|RT @MelissaGracey: Credit for this joke goes to someone else but it is funny! #GOPDebate                                                               |positive |\n",
      "|RT @Reince: Simply incredible.  Last night's #GOPDebate doubled the previous record for most-watched primary debate i                                  |positive |\n",
      "|\"RT @KateThomas: This literally couldn't be more true for me. \"\"I Watched the #GOPDebate &amp; All I Got Was a Lousy Hangover\"\"                        |negative |\n",
      "|RT @fl_dreamer: Haha a little saas from @voxdotcom this morning towards @realDonaldTrump. #FactChecked #GOPDebate                                      |negative |\n",
      "|\"RT @TexasCruzn: RT @AllenWestRepub \"\"Dear @JebBush #GOPDebate #NotAMistake                                                                            |neutral  |\n",
      "|RT @zellieimani: What people saw in person vs what we saw on tv. #GOPDebate                                                                            |negative |\n",
      "|RT @TheBaxterBean: Marco Rubio Told To His Face He's 'Candidate Of Yesterday' For His Anti-Gay Bigotry  #GOPDebate ht                                  |negative |\n",
      "|RT @carIisIe: None of them have made Trump look out of place or foolish yet. Think about that. When you're done crying, think about it agai            |negative |\n",
      "|\"RT @akbarjenkins: Maybe the GOP just got Piven &amp; Cloward confused with Pinkard &amp; Bowden? \"\"She thinks I steal cars...\"\" @kevinbaker @KevinMKr\"|neutral  |\n",
      "|Had a great time watching the #GOPDebate last night                                                                                                    |positive |\n",
      "|\"RT @JRehling: #GOPDebate Donald Trump says that he doesn't have time for political correctness. How does calling women \"\"fat pigs\"\" save him \"        |negative |\n",
      "|RT @theonlyadult: This is the @POTUS we have now. One of the people on TV now might be the next one. RIP everything. #GOPDebate                        |negative |\n",
      "|I think @realDonaldTrump was caught by surprise by that first question and was never able to recover his equilibrium. #GOPDebate                       |neutral  |\n",
      "|\"RT @kirahoffy: \"\"@FoxNews web stream and mobile app fail during #GOPDebate”  Why am I not surprised?                                                  |negative |\n",
      "|RT @JohnKasich: John Kasich helped Ohioans create 350,000 new jobs. He can do it for America. #GOPDebate                                               |positive |\n",
      "|Please help the Maryknoll Sisters replace windows in their convent  #Catholic #gofundme #trcot #GOPDebate                                              |positive |\n",
      "|RT @CarlyFiorina: At #GOPDebate, I won over our largest audience yet. Can you chip in $3 to help us keep it up?                                        |neutral  |\n",
      "|Trump just said @JebBush is a true gentleman &amp; then they started violently 69ing. #GOPDebate                                                       |negative |\n",
      "|RT @cameronesposito: Ugh will these guys ever shut up about how much they respect women? #GOPDebate                                                    |negative |\n",
      "|RT @SnarkyDemo: What did the #GOPDebate teach us about a future President Trump?  America probably won’t be safe, except if we’re attacked             |negative |\n",
      "|RT @congoboy: This is going to be a long, tiring election season.                                                                                      |negative |\n",
      "|\"RT @AmyMek: \"\"God has blessed the Republican party with many great candidates                                                                         |neutral  |\n",
      "|RT @JohnKasich: The miracle can happen to you. Grow opportunity and grow jobs. #GOPDebate                                                              |neutral  |\n",
      "|RT @MattyIceAZ: Scott Walker can't even carry his own state. #GOPDebate                                                                                |negative |\n",
      "|RT @XLNB: Black people, if you need anymore indication why Republicans hate us. Peep this. #GOPDebate                                                  |negative |\n",
      "|RT @Smethanie: Sure, God told me I should run, and the Tooth Fairy agreed and all the Teletubbies voted yes, so here I am. #GOPDebate                  |negative |\n",
      "|RT @palmaceiahome1: Trump should have told Megyn Kelly to go to HELL! #FoxNews #GOPDebate                                                              |negative |\n",
      "|\"RT @palmaceiahome1: Caller on the Rush Limbaugh show:\"\"I have lost all respect for Fox News.\"\" #FoxNews #GOPDebate\"                                   |negative |\n",
      "|\"RT @realDonaldTrump: \"\"@stinger_inc: @realDonaldTrump  @megynkelly's behaviour at the #GOPDebate was astonishingly biased.\"\"\"                         |negative |\n",
      "|Republicans Debate Economics: Rubio Wins, Bush Falters, Huckabee Exaggerates  #GOPdebate #knowmorenotless @GPNAPLang                                   |positive |\n",
      "|RT @JamesViser: Huh. Half of Clinton's charity went to...the Clintons!  #copolitics #Hillary2016 #StopHillary #UniteB                                  |negative |\n",
      "|\"RT @kraig4u: #GOPDebate  The order was to \"\"take out Trump\"\"                                                                                          |negative |\n",
      "|RT @DiegoUK: Democrats watching the #GOPDebate last night                                                                                              |neutral  |\n",
      "|RT @AmyMek: We all owe @realDonaldTrump a huge thank you 4 exposing to the world👉@megynkelly, Chris Wallace, &amp; @FrankLuntz are true Rhinos!       |negative |\n",
      "|RT @TheBaxterBean: Scott Walker Lies: Says WI Budget Has $535M Surplus (Actually Has $1.76B Deficit)  #GOPDebate http                                  |negative |\n",
      "|You're right Last I heard @SenSanders was that only women could give birth to s child. Has that changed? #GOPDebate                                    |positive |\n",
      "|\"RT @pattonoswalt: \"\"Have any of you received a word from God?\"\" = \"\"Are any of you soup-sandwich crazy?\"\" #GOPDebate\"                                 |neutral  |\n",
      "|\"RT @FrankConniff: Fox News #GOPDebate interviewer to candidates: \"\"What's your take on these GOP talking points I'm feeding you?\"\"\"                   |negative |\n",
      "|RT @LeslieMac: But the murder of black ppl is just fine- just not unborn black babies? #GOPLogic #GOPDebate                                            |negative |\n",
      "|RT @HillaryClinton: Missing Jon Stewart already. #GOPdebate #JonVoyage -H                                                                              |neutral  |\n",
      "|RT @CharlotteLaws: Chris Christie is really standing out at the #GOPdebate                                                                             |positive |\n",
      "|\"RT @libertyjibbet: Hey .@realDonaldTrump You know who didn't whine about \"\"unfair\"\" questions? @CarlyFiorina Grow a set why don't ya'. #GOPDe\"        |positive |\n",
      "|You can't be pro-life AND have watched that 2 hour abortion last night.                                                                                |negative |\n",
      "|RT @DanScavino: .@MegynKelly,                                                                                                                          |negative |\n",
      "|RT @edstetzer: Btw... when you mix politics and religion, you get politics. #GOPDebate                                                                 |negative |\n",
      "|RT @TeamMarco: Marco nailed it on abortion. We must protect life. #GOPDebate                                                                           |positive |\n",
      "|@megynkelly @BretBaier @foxnews WTF was up with Chris Wallace attacking #Trump2016 on bankruptcy then giving Rubio a softball? #GOPDebate              |negative |\n",
      "|They obviously didn't get the memo about #SeersuckerThursday. #GOPDebate                                                                               |negative |\n",
      "|RT @VH1: Honestly, Donald Trump you were ALL types of petty at last night's #GOPDebate 😒 --&gt;                                                       |negative |\n",
      "|RT @TuxcedoCat: All Republican dopefuls who say they'll take US back to 2009 on 'Day One' will never see one day in White House! #GOPDebate            |negative |\n",
      "|Trump gloating abt buying GOP+Dem pols &amp;them doing his bidding IS my 2000s Billionaire caricature MyaCash #GOPDebate                               |negative |\n",
      "|RT @peddoc63: Go Carly📢                                                                                                                               |positive |\n",
      "|RT @Daenerys: Listening to the #GOPDebate like                                                                                                         |negative |\n",
      "|RT @ScorpionsPriest: Best moment of the #GOPDebate last night: Rand telling Christie to go get another hug from Obama.                                 |positive |\n",
      "|RT @JohnFugelsang: If you missed either #GOPDebate all you need to know is there's no $ for struggling Americans and unlimited $ for war.              |negative |\n",
      "|RT @pfikac: .@JebBush 'We are on the verge of the greatest time to be alive in this world but Washington is holding us back' #mysa #txlege             |negative |\n",
      "|RT @DrMartyFox: #Trump Wins Drudge                                                                                                                     |negative |\n",
      "|\"RT @SiteROI: @GovernorPerry fights back against \"\"what will you do abt immigration\"\" Q. Says border is porous                                         |positive |\n",
      "|Summary is the #GOPDebate: Status quo shit show                                                                                                        |negative |\n",
      "|RT @ThePatriot143: Debbie Blocks Tweeter Who Questioned Dem Debate Schedule   #GOPDebate @DWStweets                                                    |negative |\n",
      "|RT @sallykohn: Hey look, it’s 10 men standing on a stage arguing why they should get to control women’s bodies and choices. #GOPDebate                 |negative |\n",
      "|RT @TheBaxterBean: Rubio Budget Raises MiddleClass Taxes, Adds $4.5T Deficit, Cuts InvestmentTax To $0  #GOPDebate ht                                  |neutral  |\n",
      "|RT @ChrisJZullo: Last night at the #GOPdebate all I saw was a bunch of Rich and Old despots with ZERO solutions to our nations problems #un            |negative |\n",
      "|RT @NancyOsborne180: #GOPDebate #BATsAsk @BadassTeachersA #TBATs Debate over We learned nothing new                                                    |neutral  |\n",
      "|RT @RFHKerry: If you think ANY of these people are qualified...unfollow me.  #GOPDebate                                                                |negative |\n",
      "|RT @Bipartisanism: Ben Carson spoke about science at the #GOPDebate and @neiltyson was like:                                                           |neutral  |\n",
      "|Who's the real illegal alien- #GOPDebate  Farrakhan on Immigration  the Mexican Bor...  via @YouTube                                                   |negative |\n",
      "|#GOPDebate The talking heads put on the debate now the talking heads are telling us how the debates went. Maybe we wasted our time watching            |negative |\n",
      "|RT @STEEL5757: 🎀 #DonaldTrump Plaza Casino #TeddyBear Plush in #Tuxedo 🎀  🎀 #CoolStuff #GOPDebate                                                   |neutral  |\n",
      "|#Trump is right about @megynkelly but really needs to study Matthew 7, verses 3-5. #GOPDebate                                                          |positive |\n",
      "|RT @AC360: It wasn’t all #DonaldTrump. The most memorable #GOPDebate moments right now on #AC360.                                                      |neutral  |\n",
      "|#GOPDebate in one picture                                                                                                                              |neutral  |\n",
      "|\"RT @maureenjohnson: \"\"Where do you think women should sleep when they have The Curse? The shed? Or in an open field                                   |negative |\n",
      "|\"\"\"I think God's a pretty fair guy\"\" -Ben Carson                                                                                                       |negative |\n",
      "|\"RT @NancyLeeGrahn: The cheers from #GOPDebate  audience afterTrump defiantly named @Rosie as the woman he called \"\"Fat Pig\"\" were the voices \"        |negative |\n",
      "|#BlackLives don't matter, apparently, to Republican candidates for president   / or to @FoxNews #uniteblue #GOPDebate                                  |negative |\n",
      "|Overall the main thing we learned from the #GOPDebate is that only straight, white, men matter.                                                        |negative |\n",
      "|@USFree4life I thought @seanhannity had the best post #GOPDebate interviews of the night, gave them all a chance 2straighten their position.           |positive |\n",
      "|RT @JohnKasich: Hey @RealDonaldTrump, if you're still looking to chip in, check out                                                                    |negative |\n",
      "|\"@megynkelly @BretBaier #ChrisWallace, #America is criticizing UR PERFORMANCES during #GOPDebate b/c U did a REALLY bad job as \"\"moderators.\"\"\"        |negative |\n",
      "|\"“@GovMikeHuckabee: Luntz: \"\"As the lines go up                                                                                                        |negative |\n",
      "|RT @oftenimprudent: I wish we could teach teenage girls to love themselves as much as Donald Trump loves himself. #GOPdebate                           |negative |\n",
      "|RT @AmyMek: Conservatives are a people without a Network!                                                                                              |negative |\n",
      "|RT @BHowl_: How come there's no talk about climate change? Has anyone here even seen California right now? #GOPDebate #DebateWithBernie                |negative |\n",
      "|RT @travisconsidine: .@GovernorPerry #GOPDebate Performance Review-Reel:  #Perry2016                                                                   |neutral  |\n",
      "|RT @ChrisJZullo: Last night they could have have raised their hands. I'm a spoiled billionaire, I'm an oligarch, I'm a racist, I'm a religi            |negative |\n",
      "|#GOPDebate 2016 #teamdrbencarson @RealBenCarson  WOW! Brilliant, Cool, Calm &amp; Collected.#empowering                                                |positive |\n",
      "|RT @SooperMexican: Ted Cruz doesn't appreciate your emphatically sarcastic air quotes, megan kelly. #GOPDebate                                         |neutral  |\n",
      "|RT @BenJamminWalker: Under no circumstances should 10 men dictate abortion rights to women. It's the 21st Century, we are better than that.            |negative |\n",
      "|RT @DanScavino: #GOPDebate Winner!                                                                                                                     |positive |\n",
      "|\"RT @JoePrich: .@megynkelly  In 2012 you chided @CandyCrowley for \"\"going from objective moderator to active participant\"\" #GOPDebate \"                |negative |\n",
      "|#GOPDebate @FoxNews @realDonaldTrump  in1996 you called @billclinton a two timing slut.  Do you stand by that statement!?                              |negative |\n",
      "|RT @renomarky: ☑ never watch #KellyFile again                                                                                                          |negative |\n",
      "|IMHO #GOPDebate                                                                                                                                        |positive |\n",
      "|RT @JohnKasich: SMALLER GOVT: Ohio government payroll is smaller than it's been in 3 decades.  #GOPDebate                                              |positive |\n",
      "|RT @zellieimani: Twitter Users Takeover #GOPDebate Hashtag to Drag GOP Candidates  #KKKorGOP                                                           |neutral  |\n",
      "|\"RT @JebBush: \"\"Challenging the teacher's unions and beating them is the way to go.\"\" – Jeb  #GOPDebate\"                                               |negative |\n",
      "|RT @billyeichner: Thank you all for watching the #GOPDebate tonight. @julieklausner and I had a blast writing it.                                      |neutral  |\n",
      "|@theblaze The REAL war on women!@realDonaldTrump @megynkelly @rushlimbaugh #GOPDebate @AnnCoulter                                                      |negative |\n",
      "|\"RT @GovernorPerry: .@GovernorPerry's \"\"On Fire\"\" Debate Performance  #GOPDebate #Perry2016 #tcot\"                                                     |neutral  |\n",
      "|RT @blowticious: Pro-life Republicans be like #GOPDebate                                                                                               |neutral  |\n",
      "|RT @GovernorPerry: ICYMI: @GovernorPerry on Border Security/Illegal Immigration #GOPDebate  #Perry2016 #tcot                                           |neutral  |\n",
      "|RT @AllThingsFlynn: This Trump vs. Fox News conflict is quite the conundrum. It’s like the personification of Greed vs. Hate. Who do I root            |negative |\n",
      "|RT @CarlyFiorina: I know how extraordinary this nation is. #GOPDebate                                                                                  |positive |\n",
      "|RT @LAXnOREOS: Meanwhile, in the White House...  #GOPDebate                                                                                            |negative |\n",
      "|#rubio still my preference but i can see point of his critics over opportunism, inconsistency #gopdebate                                               |positive |\n",
      "|Did @realDonaldTrump ever tell @megynkelly to go wait in the car? Her bad attitude suggests it. #WarOnWomen #GOPDebate                                 |positive |\n",
      "|\"RT @TheTexasPhoenix: He was on fire! .@GovernorPerry's \"\"On Fire\"\" Debate Performance:  #GOPDebate #Perry2016\"                                        |positive |\n",
      "|RT @Playing_Dad: Settling in for the #GOPDebate                                                                                                        |neutral  |\n",
      "|\"RT @realDonaldTrump: \"\"@FrankLuntz: I'm getting a lot of @MegynKelly hatemail tonight. 😆 #GOPDebate\"\" She is totally overrated and angry. She\"       |negative |\n",
      "|\"This literally couldn't be more true for me. \"\"I Watched the #GOPDebate &amp; All I Got Was a Lousy Hangover\"\"  @robinmarty\"                          |negative |\n",
      "|#JonVoyage was half as long as the #GOPDebate  but twice as intelligible.                                                                              |negative |\n",
      "|RT @LisaBloom: Not a single question in last night's #GOPDebate about the most urgent issue of our time: climate change.                               |negative |\n",
      "|\"#GOPDebate What was up with #FoxNews &amp; their \"\"gotcha\"\" questions? They seemed designed to elicit typical political \"\"spin\"\" responses. #tlot\"    |negative |\n",
      "|After the #GOPDebate all of the promises being made by startups at this tech conference seem quite reasonable.                                         |positive |\n",
      "|RT @Roy___Rogers: @KnucklDraginSam @GOP @realDonaldTrump @yobynnad1127 AMEN! #Trump2016 #WakeUpAmerica #GOPDebate #tcot #stoprush .                    |negative |\n",
      "|RT @CarlyFiorina: The highest calling of leadership is to challenge the status quo &amp; unlock potential in others. #GOPDebate. #Carly2016            |neutral  |\n",
      "|RT @zzcrane: Me watching the Donald Trump bandwagon pass.                                                                                              |negative |\n",
      "|\"RT @deray: Before the #GOPDebate began, didn't the moderators say that 8 million ppl were discussing \"\"racial issues\"\"? What happened to thos\"        |negative |\n",
      "|RT @feministabulous: There's nothing like listening to ten dudes who will never need an abortion, talk about whether I should have a right             |negative |\n",
      "|RT @SenWhitehouse: FOX silenced by Koch billions too? Not a single question at last night's #GOPDebate to #climatechange deniers about Mond            |negative |\n",
      "|RT @tyriquex: These republicans are rich, they don't care about the poverty of America &amp; they definitely don't care bout the poverty of bla        |negative |\n",
      "|So we just had an office chat about the #GOPDebate,  &amp; I was outed as both a flaming liberal and a politics geek. Probably not surprising.         |neutral  |\n",
      "|Catching up on my #GOPDebate @LindseyGrahamSC what a childish &amp; cheap move to call out @billclinton &amp; @HillaryClinton on a 17 year old story   |negative |\n",
      "|RT @TomHall: The only thing that could've made last night's #GOPDebate more amusing would have been:                                                   |neutral  |\n",
      "|RT @kesgardner: All Ted Cruz does is attack other Republicans. #GOPDebate                                                                              |negative |\n",
      "|\"RT @GovernorPerry: ICYMI: Not just no, but \"\"hell no\"\" to the #IranDeal! #GOPDebate #Perry2016 #tcot                                                  |negative |\n",
      "|RT @FrankConniff: Hard to say who won the #GOPDebate - Bernie or Hillary?                                                                              |neutral  |\n",
      "|RT @larhunter: If Donald Trump wins the election, then we'll know we're on the Biff-stole-the-almanac timeline. #GOPDebate                             |negative |\n",
      "|RT @CarlyFiorina: Can you chip in $3 to keep the momentum going? #GOPdebate #Carly2016                                                                 |neutral  |\n",
      "|RT @cenkuygur: Chris Christie just said you have to work two more years before retiring.And that you'll get tens of thousands less you paid            |negative |\n",
      "|RT @JohnKasich: John Kasich is ready to lead. Join the team, Claire!:                                                                                  |positive |\n",
      "|RT @edwrather: The biggest losers in the debate were the Fox moderators who attacked instead of moderating #GOPDebate                                  |negative |\n",
      "|RT @WhitneyNeal: Trump has yet to give a single, evidence-based answer to a direct question about policy. That should frighten you. #GOPDeb            |negative |\n",
      "|On my way to the studio -- about to appear on @CNN to discuss last night's #GOPDebate. Tune in!                                                        |neutral  |\n",
      "|RT @Blkfeminst: I honestly think sometimes these guys forgot they came from wombs too. #KKKorGOP #GOPDebate                                            |negative |\n",
      "|RT @GrnEyedMandy: Women who shame other women for having abortions deserve to be shamed for having no soul or self respect.                            |negative |\n",
      "|RT @AmandaJoGomez: Me: *watches the #GOPDebate *                                                                                                       |neutral  |\n",
      "|RT @IcarusPundit: Donald Trump’s closing statement is every dinner conversation had at The Villages, ever. #GOPDebate                                  |negative |\n",
      "|\"RT @TheXclass: \"\"When the rich wage war it's the poor who die.\"\" Jean-Paul Sartre                                                                     |negative |\n",
      "|At the #GOPDebate, we saw the candidates completely miss the mark on race &amp; #BlackLivesMatter                                                      |negative |\n",
      "|RT @SeaBassThePhish: S/O to the GOP for being proud of defeating teachers union even though they just wanted higher wages #GOPDebate                   |negative |\n",
      "|RT @Writeintrump: Obama better not leave his prayer rug behind in the Oval Office when I get elected because I'll throw it out.   #GOPDebate           |neutral  |\n",
      "|@ChuckNellis @FoxNews You got that right! #GOPDebate                                                                                                   |negative |\n",
      "|RT @mrskimcam: Trump just said the U.S. is stupid, so let's vote him President. WTF people. #GOPDebate                                                 |negative |\n",
      "|So excited for @johnkasich #GOPDebate #Kasich4Us #Republicandebate #kasich2016 been waiting for 20 years!!                                             |positive |\n",
      "|RT @ChadPergram: Rep Engel is 2nd major Jewish Democrat to announce opposition to Iran deal during #GOPDebate, following Schumer opposition.           |neutral  |\n",
      "|Hey look it's my feelings about Donald Trump summed up in one gif #GOPDebate                                                                           |negative |\n",
      "|RT @tommychong: Are any of these dudes for the legalization of marijuana, or what? #GOPDebate                                                          |neutral  |\n",
      "|RT @CBeresniova: What I learned from the #GOPDebate:                                                                                                   |neutral  |\n",
      "|RT @TheBaxterBean: Marco Rubio Briefly Backed Immigration Reform Then Privately Berated DREAMers  #GOPDebate                                           |negative |\n",
      "|RT @DamienFahey: “I french-kissed Jesus Christ!” - Every candidate #GOPDebate                                                                          |negative |\n",
      "|#GOPDebate #Closingstatements @GovMikeHuckabee just be honest. u were defs talking about @realDonaldTrump coz he's stealing ur schtick                 |negative |\n",
      "|When cnn, msnbc ,and the new York times praise fox moderators then you know the moderators fucked up. #GOPDebate                                       |negative |\n",
      "|RT @kesgardner: Trump is a lunatic. #GOPDebate                                                                                                         |negative |\n",
      "|Cruz has class &amp; truth, that gets my vote! #GOPDebate                                                                                              |positive |\n",
      "|RT @kesgardner: AssClown: I'm the only reason anyone is even talking about illegal immigration. Keep digging, Donald! #GOPDebate                       |negative |\n",
      "|RT @BernieSanders: Tom Hanks. Finally. Somebody who makes some sense. #GOPDebate #DebateWithBernie                                                     |positive |\n",
      "|RT @SouthernHomo: Olivia Pope would not vote for any of these guys #GOPDebate                                                                          |negative |\n",
      "|All #GOP candidates want to reduce taxes while #Huckabee wants to legalize prostitution and drugs so we can tax it. #GOPDebate                         |negative |\n",
      "|RT @kesgardner: Hi Fox panel, can you just ask Donald every single question? Hand him a shovel while you're at it so he can keep digging. #            |negative |\n",
      "|RT @JosephKapsch: And then hillaryclinton @barackobama joebiden were all... #GOPDebate                                                                 |neutral  |\n",
      "|#GOPDebate #Trump is Breaking Records! So what he's not a polished Politician. Makes me love him even more.                                            |positive |\n",
      "|RT @BernieSanders: Oh. It was just a movie trailer. #GOPDebate #DebateWithBernie                                                                       |negative |\n",
      "|RT @TacticalDissent: So Sally Kohn &amp; Debbie Wasserman Schultz both  praising Megyn Kelly tonight. That should tell you everything you need         |negative |\n",
      "|Why are all the Trump accessory women wearing the same shoes?!  #GOPDebate                                                                             |negative |\n",
      "|funniest line coming fr #republican 'People are frustrated, they’re fed up, they don’t think the government’s working for them' #gopdebate             |neutral  |\n",
      "|And Donald Trump is an absolute nut! So entertaining LOL #GOPDebate                                                                                    |negative |\n",
      "|\"\"\"@thehill: Top GOP pundits pick their #GOPdebate winners:                                                                                            |negative |\n",
      "|RT @DykstraDame: Candidates went after @HillaryClinton 32 times in the #GOPdebate-but remained silent about the issues that affect us. http            |negative |\n",
      "|RT @DanScavino: .@MegynKelly trying 2show up @realDonaldTrump w @FoxNews. Trying 2take him down. Trying 2destroy him. Not happening. #Kelly            |negative |\n",
      "|RT @gov: Most-Tweeted #GOPDebate moment for @RealBenCarson: saying he wouldn't publicize to the world his answer on waterboarding.                     |negative |\n",
      "|I give him a e for his big ego. #GOPDebate A's are earned for excellence. Rhymes with rump.                                                            |negative |\n",
      "|Passion of the #GOPDebate #ReligiousUpaMovie                                                                                                           |positive |\n",
      "|\"RT @NRO: \"\"@marcorubio got the best reviews                                                                                                           |positive |\n",
      "|RT @OhNoSheTwitnt: Can't wait to see which Lannister they kill off in the next episode of #GOPDebate                                                   |neutral  |\n",
      "|RT @kesgardner: Brutal question to the AssClown from Megan Kelly. The lesson here: be careful what you tweet on Twitter! #GOPDebate                    |positive |\n",
      "|RT @TUSK81: Democrats watching this #GOPDebate                                                                                                         |neutral  |\n",
      "|Trump changed his mind on supporting PARTIAL BIRTH ABORTION because a friend changed their mind on aborting &amp; had a great kid. #GOPDebate          |negative |\n",
      "|Best closing statement: @RealBenCarson #GOPDebate                                                                                                      |positive |\n",
      "|RT @ChrisChristie: We have to stop worrying about being loved &amp; start worrying about being respected. #TellingItLikeItIs #GOPDebate                |positive |\n",
      "|\"RT @lesleyabravanel: Trump sycophants want to know what @megynkelly's \"\"hidden agenda\"\" was last night. Answer is simple: it's called a vagin\"        |negative |\n",
      "|The Real #GOPDebate Winner: Republican Voters - Fox Nation                                                                                             |neutral  |\n",
      "|Donald Trump is a really nasty piece of work. Hope he disappears quickly. #GOPDebate                                                                   |negative |\n",
      "|RT @amaraconda: FETUSES ARE NOT UNBORN BABIES THEY ARE CLUSTERS OF CELLS STOP SHAMING PEOPLE WHO WANT/HAVE HAD ABORTIONS #GOPDebate                    |negative |\n",
      "|RT @mattkbh: These were far and away the best tweets of last night #DebateWithBernie #GOPDebate                                                        |positive |\n",
      "|I know now who it is that #ChrisChristie reminds me of: actor Andy Devine. #GOPDebate                                                                  |neutral  |\n",
      "|RT @pattonoswalt: Despite what Huckabee says, I always make sure my prostitute AND her pimp pay FICA and pension. #GOPDebate                           |negative |\n",
      "|RT @Bipartisanism: Hillary Clinton was watching the #GOPDebate like:                                                                                   |neutral  |\n",
      "|@FoxNews did great by challenging the candidates in #GOPDebate. If these candidates can't handle a tough question they could never b #POTUS            |positive |\n",
      "|RT @k_mcq: I’d say it was the opposite. Megan Kelly acted like some SJW on Tumblr whining about feminism. Very sad. #GOPDebate                         |negative |\n",
      "|RT @Conssista: Rightly so Frank. Rightly so. #GOPDebate                                                                                                |positive |\n",
      "|the number of times that ronald reagan is mentioned in the #GOPDebate is TOO DAMN HIGH                                                                 |negative |\n",
      "|\"RT @pattonoswalt: If Trump is against \"\"p.c. culture                                                                                                  |negative |\n",
      "|RT @carljacksonshow: #BenCarson great close! He operates on brains so he doesn't worry about skin color. #GOPDebate                                    |positive |\n",
      "|\"RT @Davante_R: Women that would be offended by Trumps \"\"Misogyny\"\" most certainly don't vote Republican.                                              |negative |\n",
      "|RT @Auntcol54: Keep religion out of politics! #GOPDebate                                                                                               |negative |\n",
      "|\"RT @DianneG: \"\"I won't be bought &amp; I won't be sold\"\" @randpaul after reiterating his points against @realDonaldTrump during #gopdebate\"           |neutral  |\n",
      "|RT @wilw: Boy, I bet the mood in the clown car is going to be TENSE when these jerks leave the #GOPDebate.                                             |negative |\n",
      "|RT @CampeauElliot: Dr. Ben Carson did a great job tonight! Loved your closing statement! @RealBenCarson #GOPDebate                                     |positive |\n",
      "|RT @RedheadAndRight: Meet the new darling of the left 》 Megyn Gotcha Kelly. #GOPDebate @FoxNews #DonaldTrump #MegynKelly                              |neutral  |\n",
      "|“@foxnewspolitics: Behind the Fox debate: How the anchors hashed out the questions #GOPDebate They Failed                                              |negative |\n",
      "|Did anyone get trashed playing @RollingStone's #GOPDebate drinking game?   #drinkinggame                                                               |negative |\n",
      "|If #DonaldTrump donates to U..He can call in a favor years later?? Sounds like #TheGodfather                                                           |negative |\n",
      "|RT @jediane9: Ugh to think there were actually people sitting on their couch last night saying YES YES THIS IS REASONABLE. #GOPDebate                  |negative |\n",
      "|\"RT @BarracudaMama: RT @AllenWestRepub \"\"Dear @JebBush #GOPDebate #NotAMistake                                                                         |neutral  |\n",
      "|RT @kesgardner: If politics can be even partially rational, Trump's campaign for the GOP nomination just ended. #GOPDebate                             |negative |\n",
      "|\"RT @AndrewHClark: .@GayPatriot's takeaway from last night: \"\"America Doesn't Deserve Ben Carson.\"\"  #GOPDebate\"                                       |neutral  |\n",
      "+-------------------------------------------------------------------------------------------------------------------------------------------------------+---------+\n",
      "only showing top 300 rows\n",
      "\n"
     ]
    }
   ],
   "source": [
    "spark_df.show(300,truncate=False)"
   ]
  },
  {
   "cell_type": "code",
   "execution_count": 14,
   "metadata": {
    "ExecuteTime": {
     "end_time": "2020-08-06T22:21:23.107012Z",
     "start_time": "2020-08-06T22:21:23.105459Z"
    }
   },
   "outputs": [],
   "source": [
    "#spark_df = spark_df.select(F.regexp_replace('text',\"RT\\s.*\\:\\s\",\"\").alias('text'),'sentiment').filter(\"text is not null\")"
   ]
  },
  {
   "cell_type": "code",
   "execution_count": 15,
   "metadata": {
    "ExecuteTime": {
     "end_time": "2020-08-06T22:21:24.153070Z",
     "start_time": "2020-08-06T22:21:23.993220Z"
    }
   },
   "outputs": [
    {
     "name": "stdout",
     "output_type": "stream",
     "text": [
      "+-------------------------------------------------------------------------------------------------------------------------------------------------------+---------+\n",
      "|text                                                                                                                                                   |sentiment|\n",
      "+-------------------------------------------------------------------------------------------------------------------------------------------------------+---------+\n",
      "|RT @NancyLeeGrahn: How did everyone feel about the Climate Change question last night? Exactly. #GOPDebate                                             |neutral  |\n",
      "|RT @ScottWalker: Didn't catch the full #GOPdebate last night. Here are some of Scott's best lines in 90 seconds. #Walker16                             |positive |\n",
      "|RT @TJMShow: No mention of Tamir Rice and the #GOPDebate was held in Cleveland? Wow.                                                                   |neutral  |\n",
      "|RT @RobGeorge: That Carly Fiorina is trending -- hours after HER debate -- above any of the men in just-completed #GOPdebate says she's on             |positive |\n",
      "|RT @DanScavino: #GOPDebate w/ @realDonaldTrump delivered the highest ratings in the history of presidential debates. #Trump2016                        |positive |\n",
      "|\"RT @GregAbbott_TX: @TedCruz: \"\"On my first day I will rescind every illegal executive action taken by Barack Obama.\"\" #GOPDebate @FoxNews\"            |positive |\n",
      "|RT @warriorwoman91: I liked her and was happy when I heard she was going to be the moderator. Not anymore. #GOPDebate @megynkelly                      |negative |\n",
      "|Going on #MSNBC Live with @ThomasARoberts around 2 PM ET.  #GOPDebate                                                                                  |neutral  |\n",
      "|Deer in the headlights RT @lizzwinstead: Ben Carson, may be the only brain surgeon who has performed a lobotomy on himself. #GOPDebate                 |negative |\n",
      "|RT @NancyOsborne180: Last night's debate proved it! #GOPDebate #BATsAsk @BadassTeachersA #TBATs                                                        |negative |\n",
      "|@JGreenDC @realDonaldTrump In all fairness #BillClinton owns that phrase.#GOPDebate                                                                    |negative |\n",
      "|RT @WayneDupreeShow: Just woke up to tweet this out #GOPDebate                                                                                         |positive |\n",
      "|Me reading my family's comments about how great the #GOPDebate was                                                                                     |negative |\n",
      "|\"RT @ArcticFox2016: RT @AllenWestRepub \"\"Dear @JebBush #GOPDebate #NotAMistake                                                                         |neutral  |\n",
      "|RT @pattonoswalt: I loved Scott Walker as Mark Harmon's romantic rival in SUMMER SCHOOL. Look it up. #GOPDebate                                        |positive |\n",
      "|Hey @ChrisChristie exploiting the tragedy of 9/11 for your own political gain is @rudygiulianiGOP's thing #GOPDebate                                   |negative |\n",
      "|RT @CarolCNN: #DonaldTrump under fire for comments about women @PeterBeinart @SL_Schaeffer @IWF @@MyRkiger weigh in on #GOPdebate .                    |negative |\n",
      "|RT @johncardillo: Guess who had most speaking time at the #GOPDebate. @FoxNews moderators with 31.7% of time.                                          |negative |\n",
      "|reason comment is funny 'in case you're ignorant' is the #gop #tcot are the reason the government isn't working for the people #gopdebate              |negative |\n",
      "|RT @PamelaGeller: Huckabee: Paying for transgender surgery for soldiers, sailors and airmen does not make our country safer #Ha #GOPDebate             |negative |\n",
      "|RT @ChuckNellis: Cruz has class &amp; truth, that gets my vote! #GOPDebate                                                                             |positive |\n",
      "|RT @mchamric: RT “@TeaTraitors: #GOPDebate was still Clown Show! I'm glad Head Clown Trump helping destroy GOP.                                        |negative |\n",
      "|RT @erinmallorylong: No *I* hate Planned Parenthood and women more! NO I HATE PLANNED PARENTHOOD AND WOMEN MORE!!!!! #GOPDebate                        |negative |\n",
      "|RT @thekevinryder: #GOPDebate (Vine by @dabulldawg88)                                                                                                  |neutral  |\n",
      "|RT @MrPooni: Fox News trying to convince us young Black Americans are more worried about ISIS than police terrorism #GOPDebate                         |negative |\n",
      "|#GOPDebate rankings: worst to be performance - Rubio, Kasich, Christie, Bush, Trump, Cruz, Walker, Paul, Huckabee, Carson.                             |negative |\n",
      "|RT @TheBaxterBean: Scott Walker's Abortion Ban Allows Rapist Father To Sue For Emotional Distress  #GOPDebate @Badger                                  |negative |\n",
      "|RT @feministabulous: It's not a competition, but how have we moved so far on gay rights but women's rights is worse than it's ever been? #G            |negative |\n",
      "|RT @mch7576: RT “@TeaTraitors: #GOPDebate was still Clown Show! I'm glad Head Clown Trump helping destroy GOP.                                         |negative |\n",
      "|RT @HillaryClinton: Watch the #GOPdebate? Bet you feel like donating to a Democrat right about now.                                                    |negative |\n",
      "|@fbhw they're going to need to borrow the train horn for the next #GOPDebate ! The little bell was wimpy! #hornmeansyouredone                          |negative |\n",
      "|RT @LisaVikingstad: Ted Cruz at the #GOPDebate will be like Ted Cruz in bed. He will keep a confusingly sad look on his face and refuse to             |negative |\n",
      "|The First #GOPDebate: Social Media Reaction and More                                                                                                   |neutral  |\n",
      "|#SocialMedia: The First #GOPDebate: Social Media Reaction and More                                                                                     |neutral  |\n",
      "|RT WinesdayPodcast : An update on FoxNews tech failures for the #GOPDebate                                                                             |negative |\n",
      "|RT @AmyMek: The Torched has been passed -&gt;.@CandyCrowley is no longer the most Famous Political Assassin! Congratulations @megynkelly, U Wi         |negative |\n",
      "|RT @stockwizards3: Trump/Carson ticket would win in a landslide...                                                                                     |negative |\n",
      "|\"RT @kvxrdashian: Jeb Bush: \"\"Obama is at fault                                                                                                        |negative |\n",
      "|RT @ali: After the Fox News #GOPDebate, we primary voters are none the wiser on the policy plans these folks are putting forth. Journalism             |negative |\n",
      "|RT @itsashlyperez: listening to fetty wap while packing because i'm a true american #GOPDebate #doesthishashtagexpire?                                 |neutral  |\n",
      "|RT @mgell: Trump is a cross between the shrug emoji and President Business from the Lego movie. #GOPDebate                                             |negative |\n",
      "|RT @JamelleMyBelle: Meanwhile, in the White House...  #GOPDebate                                                                                       |negative |\n",
      "|RT @RowdyGentleman: If you’re planning out a #GOPDebate drinking game right now, you’re a Rowdy Gentleman.                                             |neutral  |\n",
      "|RT @brownblaze: PLEASE RT. #KKKorGOP #GOPDebate                                                                                                        |negative |\n",
      "|\"Trump thinks criticism of his misogynistic remarks is a \"\"political correctness\"\" problem. Nope                                                       |negative |\n",
      "|RT @LeKarmaSucre: How the #GOPDebate handled #BlackLivesMatter                                                                                         |negative |\n",
      "|RT @palmaceiahome1: The goal of #FoxNews last night was to take out Trump and pave the way for a RINO like Bush or Kasich. #GOPDebate                  |neutral  |\n",
      "|RT @philstockworld: From our Live Chat Room: #GOPDebate #Trump #Futures $SPY #NonFarmPayrolls #Jobs #Netflix --  http                                  |neutral  |\n",
      "|“@DanScavino: #GOPDebate w/ @realDonaldTrump delivered the highest ratings in the history of presidential debates. #Trump2016 Fox say thanks           |positive |\n",
      "|\"RT @gov: Most-Tweeted @GovMikeHuckabee #GOPDebate moment: saying purpose of military \"\"to kill people/break things\"\" re trans servicemembers\"         |negative |\n",
      "|RT @ariannahuff: The best and worst from the #GOPDebate                                                                                                |neutral  |\n",
      "|RT @megynkelly: .@ChrisStirewalt: Big moments were @RandPaul vs. @ChrisChristie, and @realDonaldTrump reaction to women question. #KellyFil            |positive |\n",
      "|RT @STYLEMOM: Here's a question, WHY in the hell are WOMEN &amp; our body parts even in this debate? Foh, stop it, it's not 1965 wtf #GOPDebate        |negative |\n",
      "|@rushlimbaugh Americans getting beheaded overseas and @megynkelly is worried whether @realDonaldTrump calls Rosie O'Donnell fat? #GOPDebate            |negative |\n",
      "|RT @ChuckNellis: I won't defend @FoxNews, they were FAR from fair OR balanced last night, but name calling is juvenile. #GOPDebate                     |negative |\n",
      "|\"RT @theskysgoneout: To non-Christians, #GOPDebate \"\"God\"\" questions underline how little anyone really cares about religious minorities. Chri\"        |negative |\n",
      "|RT @Bipartisanism: The #GOPDebate response to #BlackLivesMatter was pathetic.                                                                          |negative |\n",
      "|RT @factcheckdotorg: .@JebBush said he cut FL taxes by $19B. But that includes cuts in estate taxes mandated by federal law. #GOPDebate. ht            |negative |\n",
      "|RT @mydaughtersarmy: Dear GOP,                                                                                                                         |negative |\n",
      "|RT @KarrattiPaul: Join ISIS and sign your death warrant,                                                                                               |positive |\n",
      "|RT @P0TUS: #GOPDebate closing statements:                                                                                                              |negative |\n",
      "|RT @AmyMek: Status 👉 Single                                                                                                                           |negative |\n",
      "|RT @FrankLuntz: Before the #GOPDebate, 14 focus groupers said they had favorable view of Trump.                                                        |positive |\n",
      "|RT @_Holly_Renee: Just made my first donation to @CarlyFiorina.                                                                                        |positive |\n",
      "|RT @TheJimHughes: If we want to stop sending foreign aid to places that burn our flag can we start with Berkeley? #GOPDebate                           |negative |\n",
      "|RT @frankthorpNBC: The Rand Paul eye roll to Chris Christie at the #GOPDebate                                                                          |neutral  |\n",
      "|RT @JohnKasich: Scrap the President's Iran deal. Iran can’t get a nuke. #Kasich4Us #GOPDebate                                                          |neutral  |\n",
      "|Trying to decide if it's too early to come back to Twitter fulltime. Was gonna wait closer to election but the #GOPDebate may have me hooked           |neutral  |\n",
      "|RT @MsPackyetti: Donald Trump's campaign reveals 1 important thing: Twitter Trolls are real people.                                                    |positive |\n",
      "|\"RT @Bipartisanism: Those saying \"\"don't worry                                                                                                         |negative |\n",
      "|\"Fox News Had Its Own #GOPDebate Agenda: Promote Carly \"\"never mention fired from HP\"\" Fiorina                                                         |negative |\n",
      "|RT @HlLLARY: Oh, one more thing. Did anyone hear anything about affordable child care for working families last night in the #GOPDebate ? I            |negative |\n",
      "|\"RT @NaughtyBeyotch: RT @AllenWestRepub \"\"Dear @JebBush #GOPDebate #NotAMistake                                                                        |negative |\n",
      "|@marthamaccallum @billhemmer #gopdebate Bill and Martha were the A Team in the first debate. 2nd debate was an ambush.                                 |positive |\n",
      "|\"The Country's going to hell and Megyn Kelly on #FoxNews is attacking Trump for a \"\"war on women?\"\" #GOPDebate\"                                        |negative |\n",
      "|RT @Franklin_Graham: 1st #GOPDebate--Encouraging to see several candidates express their faith in God and His Son, Jesus Christ.                       |positive |\n",
      "|RT @SnarkyDemo: #DonaldTrump said he’s not “politically correct.”  Which, of course, is Trumpspeak for “Let’s face it, I’m huge asshole.” #            |negative |\n",
      "|RT @Bipartisanism: A message to the #GOPDebate candidates:                                                                                             |negative |\n",
      "|RT @davidcicilline: This is the worst episode of The Apprentice that I've ever seen. #GOPDebate                                                        |negative |\n",
      "|\"RT @GovMikeHuckabee: Luntz: \"\"As the lines go up                                                                                                      |neutral  |\n",
      "|\"RT @lolhayley: \"\"The purpose of the military is to kill people and break things.\"\" - something an actual man running for president just said \"        |negative |\n",
      "|Wondering if I could get the Republican Party to pay for my liver transplant after playing @mtaibbi #GOPDebate drinking game last night.               |negative |\n",
      "|RT @BrandonDHowell: Great way to start Friday. #CarlyFiorina @CarlyFiorina #GOPDebate                                                                  |positive |\n",
      "|RT @tedcruz: If elected, on my first day as President, I'll rescind every illegal and unconstitutional executive order enacted by Pres. Oba            |positive |\n",
      "|RT @Ronnie2K: Donald Trump during #GOPDebate be like...                                                                                                |neutral  |\n",
      "|RT @bruneski: Was upstairs putting the kids to bed. How many questions about climate change did I miss? #GOPDebate #GOPClownCar                        |neutral  |\n",
      "|They’re all Todd Akin now: How the Planned Parenthood sting backfired on Republicans #GOPDebate #StandwithPP                                           |negative |\n",
      "|RT @learjetter: Hey @Foxnews let #REPUBLICANS digest #GOPDebate before allowing crazy @DWStweets to TRASH OUR #GOP! @LadySandersfarm                   |negative |\n",
      "|RT @TheBaxterBean: Watch Donald Trump Receive Enormous Applause for Horribly Misogynistic #GOPDebate Answer                                            |negative |\n",
      "|A few of my favorite #Twitter responses to the #GOPDebate last night:                                                                                  |neutral  |\n",
      "|Even though she's a super conservative reporter, I actually like Megyn Kelly's interview style &amp; she did great at the #GOPDebate                   |positive |\n",
      "|RT @kingsthings: The #GOPdebate is not a debate at all. It's a series of 1 minute opportunities to avoid answering a question one candidate            |negative |\n",
      "|RT @MelissaGracey: Credit for this joke goes to someone else but it is funny! #GOPDebate                                                               |positive |\n",
      "|RT @Reince: Simply incredible.  Last night's #GOPDebate doubled the previous record for most-watched primary debate i                                  |positive |\n",
      "|\"RT @KateThomas: This literally couldn't be more true for me. \"\"I Watched the #GOPDebate &amp; All I Got Was a Lousy Hangover\"\"                        |negative |\n",
      "|RT @fl_dreamer: Haha a little saas from @voxdotcom this morning towards @realDonaldTrump. #FactChecked #GOPDebate                                      |negative |\n",
      "|\"RT @TexasCruzn: RT @AllenWestRepub \"\"Dear @JebBush #GOPDebate #NotAMistake                                                                            |neutral  |\n",
      "|RT @zellieimani: What people saw in person vs what we saw on tv. #GOPDebate                                                                            |negative |\n",
      "|RT @TheBaxterBean: Marco Rubio Told To His Face He's 'Candidate Of Yesterday' For His Anti-Gay Bigotry  #GOPDebate ht                                  |negative |\n",
      "|RT @carIisIe: None of them have made Trump look out of place or foolish yet. Think about that. When you're done crying, think about it agai            |negative |\n",
      "|\"RT @akbarjenkins: Maybe the GOP just got Piven &amp; Cloward confused with Pinkard &amp; Bowden? \"\"She thinks I steal cars...\"\" @kevinbaker @KevinMKr\"|neutral  |\n",
      "|Had a great time watching the #GOPDebate last night                                                                                                    |positive |\n",
      "|\"RT @JRehling: #GOPDebate Donald Trump says that he doesn't have time for political correctness. How does calling women \"\"fat pigs\"\" save him \"        |negative |\n",
      "|RT @theonlyadult: This is the @POTUS we have now. One of the people on TV now might be the next one. RIP everything. #GOPDebate                        |negative |\n",
      "|I think @realDonaldTrump was caught by surprise by that first question and was never able to recover his equilibrium. #GOPDebate                       |neutral  |\n",
      "|\"RT @kirahoffy: \"\"@FoxNews web stream and mobile app fail during #GOPDebate”  Why am I not surprised?                                                  |negative |\n",
      "|RT @JohnKasich: John Kasich helped Ohioans create 350,000 new jobs. He can do it for America. #GOPDebate                                               |positive |\n",
      "|Please help the Maryknoll Sisters replace windows in their convent  #Catholic #gofundme #trcot #GOPDebate                                              |positive |\n",
      "|RT @CarlyFiorina: At #GOPDebate, I won over our largest audience yet. Can you chip in $3 to help us keep it up?                                        |neutral  |\n",
      "|Trump just said @JebBush is a true gentleman &amp; then they started violently 69ing. #GOPDebate                                                       |negative |\n",
      "|RT @cameronesposito: Ugh will these guys ever shut up about how much they respect women? #GOPDebate                                                    |negative |\n",
      "|RT @SnarkyDemo: What did the #GOPDebate teach us about a future President Trump?  America probably won’t be safe, except if we’re attacked             |negative |\n",
      "|RT @congoboy: This is going to be a long, tiring election season.                                                                                      |negative |\n",
      "|\"RT @AmyMek: \"\"God has blessed the Republican party with many great candidates                                                                         |neutral  |\n",
      "|RT @JohnKasich: The miracle can happen to you. Grow opportunity and grow jobs. #GOPDebate                                                              |neutral  |\n",
      "|RT @MattyIceAZ: Scott Walker can't even carry his own state. #GOPDebate                                                                                |negative |\n",
      "|RT @XLNB: Black people, if you need anymore indication why Republicans hate us. Peep this. #GOPDebate                                                  |negative |\n",
      "|RT @Smethanie: Sure, God told me I should run, and the Tooth Fairy agreed and all the Teletubbies voted yes, so here I am. #GOPDebate                  |negative |\n",
      "|RT @palmaceiahome1: Trump should have told Megyn Kelly to go to HELL! #FoxNews #GOPDebate                                                              |negative |\n",
      "|\"RT @palmaceiahome1: Caller on the Rush Limbaugh show:\"\"I have lost all respect for Fox News.\"\" #FoxNews #GOPDebate\"                                   |negative |\n",
      "|\"RT @realDonaldTrump: \"\"@stinger_inc: @realDonaldTrump  @megynkelly's behaviour at the #GOPDebate was astonishingly biased.\"\"\"                         |negative |\n",
      "|Republicans Debate Economics: Rubio Wins, Bush Falters, Huckabee Exaggerates  #GOPdebate #knowmorenotless @GPNAPLang                                   |positive |\n",
      "|RT @JamesViser: Huh. Half of Clinton's charity went to...the Clintons!  #copolitics #Hillary2016 #StopHillary #UniteB                                  |negative |\n",
      "|\"RT @kraig4u: #GOPDebate  The order was to \"\"take out Trump\"\"                                                                                          |negative |\n",
      "|RT @DiegoUK: Democrats watching the #GOPDebate last night                                                                                              |neutral  |\n",
      "|RT @AmyMek: We all owe @realDonaldTrump a huge thank you 4 exposing to the world👉@megynkelly, Chris Wallace, &amp; @FrankLuntz are true Rhinos!       |negative |\n",
      "|RT @TheBaxterBean: Scott Walker Lies: Says WI Budget Has $535M Surplus (Actually Has $1.76B Deficit)  #GOPDebate http                                  |negative |\n",
      "|You're right Last I heard @SenSanders was that only women could give birth to s child. Has that changed? #GOPDebate                                    |positive |\n",
      "|\"RT @pattonoswalt: \"\"Have any of you received a word from God?\"\" = \"\"Are any of you soup-sandwich crazy?\"\" #GOPDebate\"                                 |neutral  |\n",
      "|\"RT @FrankConniff: Fox News #GOPDebate interviewer to candidates: \"\"What's your take on these GOP talking points I'm feeding you?\"\"\"                   |negative |\n",
      "|RT @LeslieMac: But the murder of black ppl is just fine- just not unborn black babies? #GOPLogic #GOPDebate                                            |negative |\n",
      "|RT @HillaryClinton: Missing Jon Stewart already. #GOPdebate #JonVoyage -H                                                                              |neutral  |\n",
      "|RT @CharlotteLaws: Chris Christie is really standing out at the #GOPdebate                                                                             |positive |\n",
      "|\"RT @libertyjibbet: Hey .@realDonaldTrump You know who didn't whine about \"\"unfair\"\" questions? @CarlyFiorina Grow a set why don't ya'. #GOPDe\"        |positive |\n",
      "|You can't be pro-life AND have watched that 2 hour abortion last night.                                                                                |negative |\n",
      "|RT @DanScavino: .@MegynKelly,                                                                                                                          |negative |\n",
      "|RT @edstetzer: Btw... when you mix politics and religion, you get politics. #GOPDebate                                                                 |negative |\n",
      "|RT @TeamMarco: Marco nailed it on abortion. We must protect life. #GOPDebate                                                                           |positive |\n",
      "|@megynkelly @BretBaier @foxnews WTF was up with Chris Wallace attacking #Trump2016 on bankruptcy then giving Rubio a softball? #GOPDebate              |negative |\n",
      "|They obviously didn't get the memo about #SeersuckerThursday. #GOPDebate                                                                               |negative |\n",
      "|RT @VH1: Honestly, Donald Trump you were ALL types of petty at last night's #GOPDebate 😒 --&gt;                                                       |negative |\n",
      "|RT @TuxcedoCat: All Republican dopefuls who say they'll take US back to 2009 on 'Day One' will never see one day in White House! #GOPDebate            |negative |\n",
      "|Trump gloating abt buying GOP+Dem pols &amp;them doing his bidding IS my 2000s Billionaire caricature MyaCash #GOPDebate                               |negative |\n",
      "|RT @peddoc63: Go Carly📢                                                                                                                               |positive |\n",
      "|RT @Daenerys: Listening to the #GOPDebate like                                                                                                         |negative |\n",
      "|RT @ScorpionsPriest: Best moment of the #GOPDebate last night: Rand telling Christie to go get another hug from Obama.                                 |positive |\n",
      "|RT @JohnFugelsang: If you missed either #GOPDebate all you need to know is there's no $ for struggling Americans and unlimited $ for war.              |negative |\n",
      "|RT @pfikac: .@JebBush 'We are on the verge of the greatest time to be alive in this world but Washington is holding us back' #mysa #txlege             |negative |\n",
      "|RT @DrMartyFox: #Trump Wins Drudge                                                                                                                     |negative |\n",
      "|\"RT @SiteROI: @GovernorPerry fights back against \"\"what will you do abt immigration\"\" Q. Says border is porous                                         |positive |\n",
      "|Summary is the #GOPDebate: Status quo shit show                                                                                                        |negative |\n",
      "|RT @ThePatriot143: Debbie Blocks Tweeter Who Questioned Dem Debate Schedule   #GOPDebate @DWStweets                                                    |negative |\n",
      "|RT @sallykohn: Hey look, it’s 10 men standing on a stage arguing why they should get to control women’s bodies and choices. #GOPDebate                 |negative |\n",
      "|RT @TheBaxterBean: Rubio Budget Raises MiddleClass Taxes, Adds $4.5T Deficit, Cuts InvestmentTax To $0  #GOPDebate ht                                  |neutral  |\n",
      "|RT @ChrisJZullo: Last night at the #GOPdebate all I saw was a bunch of Rich and Old despots with ZERO solutions to our nations problems #un            |negative |\n",
      "|RT @NancyOsborne180: #GOPDebate #BATsAsk @BadassTeachersA #TBATs Debate over We learned nothing new                                                    |neutral  |\n",
      "|RT @RFHKerry: If you think ANY of these people are qualified...unfollow me.  #GOPDebate                                                                |negative |\n",
      "|RT @Bipartisanism: Ben Carson spoke about science at the #GOPDebate and @neiltyson was like:                                                           |neutral  |\n",
      "|Who's the real illegal alien- #GOPDebate  Farrakhan on Immigration  the Mexican Bor...  via @YouTube                                                   |negative |\n",
      "|#GOPDebate The talking heads put on the debate now the talking heads are telling us how the debates went. Maybe we wasted our time watching            |negative |\n",
      "|RT @STEEL5757: 🎀 #DonaldTrump Plaza Casino #TeddyBear Plush in #Tuxedo 🎀  🎀 #CoolStuff #GOPDebate                                                   |neutral  |\n",
      "|#Trump is right about @megynkelly but really needs to study Matthew 7, verses 3-5. #GOPDebate                                                          |positive |\n",
      "|RT @AC360: It wasn’t all #DonaldTrump. The most memorable #GOPDebate moments right now on #AC360.                                                      |neutral  |\n",
      "|#GOPDebate in one picture                                                                                                                              |neutral  |\n",
      "|\"RT @maureenjohnson: \"\"Where do you think women should sleep when they have The Curse? The shed? Or in an open field                                   |negative |\n",
      "|\"\"\"I think God's a pretty fair guy\"\" -Ben Carson                                                                                                       |negative |\n",
      "|\"RT @NancyLeeGrahn: The cheers from #GOPDebate  audience afterTrump defiantly named @Rosie as the woman he called \"\"Fat Pig\"\" were the voices \"        |negative |\n",
      "|#BlackLives don't matter, apparently, to Republican candidates for president   / or to @FoxNews #uniteblue #GOPDebate                                  |negative |\n",
      "|Overall the main thing we learned from the #GOPDebate is that only straight, white, men matter.                                                        |negative |\n",
      "|@USFree4life I thought @seanhannity had the best post #GOPDebate interviews of the night, gave them all a chance 2straighten their position.           |positive |\n",
      "|RT @JohnKasich: Hey @RealDonaldTrump, if you're still looking to chip in, check out                                                                    |negative |\n",
      "|\"@megynkelly @BretBaier #ChrisWallace, #America is criticizing UR PERFORMANCES during #GOPDebate b/c U did a REALLY bad job as \"\"moderators.\"\"\"        |negative |\n",
      "|\"“@GovMikeHuckabee: Luntz: \"\"As the lines go up                                                                                                        |negative |\n",
      "|RT @oftenimprudent: I wish we could teach teenage girls to love themselves as much as Donald Trump loves himself. #GOPdebate                           |negative |\n",
      "|RT @AmyMek: Conservatives are a people without a Network!                                                                                              |negative |\n",
      "|RT @BHowl_: How come there's no talk about climate change? Has anyone here even seen California right now? #GOPDebate #DebateWithBernie                |negative |\n",
      "|RT @travisconsidine: .@GovernorPerry #GOPDebate Performance Review-Reel:  #Perry2016                                                                   |neutral  |\n",
      "|RT @ChrisJZullo: Last night they could have have raised their hands. I'm a spoiled billionaire, I'm an oligarch, I'm a racist, I'm a religi            |negative |\n",
      "|#GOPDebate 2016 #teamdrbencarson @RealBenCarson  WOW! Brilliant, Cool, Calm &amp; Collected.#empowering                                                |positive |\n",
      "|RT @SooperMexican: Ted Cruz doesn't appreciate your emphatically sarcastic air quotes, megan kelly. #GOPDebate                                         |neutral  |\n",
      "|RT @BenJamminWalker: Under no circumstances should 10 men dictate abortion rights to women. It's the 21st Century, we are better than that.            |negative |\n",
      "|RT @DanScavino: #GOPDebate Winner!                                                                                                                     |positive |\n",
      "|\"RT @JoePrich: .@megynkelly  In 2012 you chided @CandyCrowley for \"\"going from objective moderator to active participant\"\" #GOPDebate \"                |negative |\n",
      "|#GOPDebate @FoxNews @realDonaldTrump  in1996 you called @billclinton a two timing slut.  Do you stand by that statement!?                              |negative |\n",
      "|RT @renomarky: ☑ never watch #KellyFile again                                                                                                          |negative |\n",
      "|IMHO #GOPDebate                                                                                                                                        |positive |\n",
      "|RT @JohnKasich: SMALLER GOVT: Ohio government payroll is smaller than it's been in 3 decades.  #GOPDebate                                              |positive |\n",
      "|RT @zellieimani: Twitter Users Takeover #GOPDebate Hashtag to Drag GOP Candidates  #KKKorGOP                                                           |neutral  |\n",
      "|\"RT @JebBush: \"\"Challenging the teacher's unions and beating them is the way to go.\"\" – Jeb  #GOPDebate\"                                               |negative |\n",
      "|RT @billyeichner: Thank you all for watching the #GOPDebate tonight. @julieklausner and I had a blast writing it.                                      |neutral  |\n",
      "|@theblaze The REAL war on women!@realDonaldTrump @megynkelly @rushlimbaugh #GOPDebate @AnnCoulter                                                      |negative |\n",
      "|\"RT @GovernorPerry: .@GovernorPerry's \"\"On Fire\"\" Debate Performance  #GOPDebate #Perry2016 #tcot\"                                                     |neutral  |\n",
      "|RT @blowticious: Pro-life Republicans be like #GOPDebate                                                                                               |neutral  |\n",
      "|RT @GovernorPerry: ICYMI: @GovernorPerry on Border Security/Illegal Immigration #GOPDebate  #Perry2016 #tcot                                           |neutral  |\n",
      "|RT @AllThingsFlynn: This Trump vs. Fox News conflict is quite the conundrum. It’s like the personification of Greed vs. Hate. Who do I root            |negative |\n",
      "|RT @CarlyFiorina: I know how extraordinary this nation is. #GOPDebate                                                                                  |positive |\n",
      "|RT @LAXnOREOS: Meanwhile, in the White House...  #GOPDebate                                                                                            |negative |\n",
      "|#rubio still my preference but i can see point of his critics over opportunism, inconsistency #gopdebate                                               |positive |\n",
      "|Did @realDonaldTrump ever tell @megynkelly to go wait in the car? Her bad attitude suggests it. #WarOnWomen #GOPDebate                                 |positive |\n",
      "|\"RT @TheTexasPhoenix: He was on fire! .@GovernorPerry's \"\"On Fire\"\" Debate Performance:  #GOPDebate #Perry2016\"                                        |positive |\n",
      "|RT @Playing_Dad: Settling in for the #GOPDebate                                                                                                        |neutral  |\n",
      "|\"RT @realDonaldTrump: \"\"@FrankLuntz: I'm getting a lot of @MegynKelly hatemail tonight. 😆 #GOPDebate\"\" She is totally overrated and angry. She\"       |negative |\n",
      "|\"This literally couldn't be more true for me. \"\"I Watched the #GOPDebate &amp; All I Got Was a Lousy Hangover\"\"  @robinmarty\"                          |negative |\n",
      "|#JonVoyage was half as long as the #GOPDebate  but twice as intelligible.                                                                              |negative |\n",
      "|RT @LisaBloom: Not a single question in last night's #GOPDebate about the most urgent issue of our time: climate change.                               |negative |\n",
      "|\"#GOPDebate What was up with #FoxNews &amp; their \"\"gotcha\"\" questions? They seemed designed to elicit typical political \"\"spin\"\" responses. #tlot\"    |negative |\n",
      "|After the #GOPDebate all of the promises being made by startups at this tech conference seem quite reasonable.                                         |positive |\n",
      "|RT @Roy___Rogers: @KnucklDraginSam @GOP @realDonaldTrump @yobynnad1127 AMEN! #Trump2016 #WakeUpAmerica #GOPDebate #tcot #stoprush .                    |negative |\n",
      "|RT @CarlyFiorina: The highest calling of leadership is to challenge the status quo &amp; unlock potential in others. #GOPDebate. #Carly2016            |neutral  |\n",
      "|RT @zzcrane: Me watching the Donald Trump bandwagon pass.                                                                                              |negative |\n",
      "|\"RT @deray: Before the #GOPDebate began, didn't the moderators say that 8 million ppl were discussing \"\"racial issues\"\"? What happened to thos\"        |negative |\n",
      "|RT @feministabulous: There's nothing like listening to ten dudes who will never need an abortion, talk about whether I should have a right             |negative |\n",
      "|RT @SenWhitehouse: FOX silenced by Koch billions too? Not a single question at last night's #GOPDebate to #climatechange deniers about Mond            |negative |\n",
      "|RT @tyriquex: These republicans are rich, they don't care about the poverty of America &amp; they definitely don't care bout the poverty of bla        |negative |\n",
      "|So we just had an office chat about the #GOPDebate,  &amp; I was outed as both a flaming liberal and a politics geek. Probably not surprising.         |neutral  |\n",
      "|Catching up on my #GOPDebate @LindseyGrahamSC what a childish &amp; cheap move to call out @billclinton &amp; @HillaryClinton on a 17 year old story   |negative |\n",
      "|RT @TomHall: The only thing that could've made last night's #GOPDebate more amusing would have been:                                                   |neutral  |\n",
      "|RT @kesgardner: All Ted Cruz does is attack other Republicans. #GOPDebate                                                                              |negative |\n",
      "|\"RT @GovernorPerry: ICYMI: Not just no, but \"\"hell no\"\" to the #IranDeal! #GOPDebate #Perry2016 #tcot                                                  |negative |\n",
      "|RT @FrankConniff: Hard to say who won the #GOPDebate - Bernie or Hillary?                                                                              |neutral  |\n",
      "|RT @larhunter: If Donald Trump wins the election, then we'll know we're on the Biff-stole-the-almanac timeline. #GOPDebate                             |negative |\n",
      "|RT @CarlyFiorina: Can you chip in $3 to keep the momentum going? #GOPdebate #Carly2016                                                                 |neutral  |\n",
      "|RT @cenkuygur: Chris Christie just said you have to work two more years before retiring.And that you'll get tens of thousands less you paid            |negative |\n",
      "|RT @JohnKasich: John Kasich is ready to lead. Join the team, Claire!:                                                                                  |positive |\n",
      "|RT @edwrather: The biggest losers in the debate were the Fox moderators who attacked instead of moderating #GOPDebate                                  |negative |\n",
      "|RT @WhitneyNeal: Trump has yet to give a single, evidence-based answer to a direct question about policy. That should frighten you. #GOPDeb            |negative |\n",
      "|On my way to the studio -- about to appear on @CNN to discuss last night's #GOPDebate. Tune in!                                                        |neutral  |\n",
      "|RT @Blkfeminst: I honestly think sometimes these guys forgot they came from wombs too. #KKKorGOP #GOPDebate                                            |negative |\n",
      "|RT @GrnEyedMandy: Women who shame other women for having abortions deserve to be shamed for having no soul or self respect.                            |negative |\n",
      "|RT @AmandaJoGomez: Me: *watches the #GOPDebate *                                                                                                       |neutral  |\n",
      "|RT @IcarusPundit: Donald Trump’s closing statement is every dinner conversation had at The Villages, ever. #GOPDebate                                  |negative |\n",
      "|\"RT @TheXclass: \"\"When the rich wage war it's the poor who die.\"\" Jean-Paul Sartre                                                                     |negative |\n",
      "|At the #GOPDebate, we saw the candidates completely miss the mark on race &amp; #BlackLivesMatter                                                      |negative |\n",
      "|RT @SeaBassThePhish: S/O to the GOP for being proud of defeating teachers union even though they just wanted higher wages #GOPDebate                   |negative |\n",
      "|RT @Writeintrump: Obama better not leave his prayer rug behind in the Oval Office when I get elected because I'll throw it out.   #GOPDebate           |neutral  |\n",
      "|@ChuckNellis @FoxNews You got that right! #GOPDebate                                                                                                   |negative |\n",
      "|RT @mrskimcam: Trump just said the U.S. is stupid, so let's vote him President. WTF people. #GOPDebate                                                 |negative |\n",
      "|So excited for @johnkasich #GOPDebate #Kasich4Us #Republicandebate #kasich2016 been waiting for 20 years!!                                             |positive |\n",
      "|RT @ChadPergram: Rep Engel is 2nd major Jewish Democrat to announce opposition to Iran deal during #GOPDebate, following Schumer opposition.           |neutral  |\n",
      "|Hey look it's my feelings about Donald Trump summed up in one gif #GOPDebate                                                                           |negative |\n",
      "|RT @tommychong: Are any of these dudes for the legalization of marijuana, or what? #GOPDebate                                                          |neutral  |\n",
      "|RT @CBeresniova: What I learned from the #GOPDebate:                                                                                                   |neutral  |\n",
      "|RT @TheBaxterBean: Marco Rubio Briefly Backed Immigration Reform Then Privately Berated DREAMers  #GOPDebate                                           |negative |\n",
      "|RT @DamienFahey: “I french-kissed Jesus Christ!” - Every candidate #GOPDebate                                                                          |negative |\n",
      "|#GOPDebate #Closingstatements @GovMikeHuckabee just be honest. u were defs talking about @realDonaldTrump coz he's stealing ur schtick                 |negative |\n",
      "|When cnn, msnbc ,and the new York times praise fox moderators then you know the moderators fucked up. #GOPDebate                                       |negative |\n",
      "|RT @kesgardner: Trump is a lunatic. #GOPDebate                                                                                                         |negative |\n",
      "|Cruz has class &amp; truth, that gets my vote! #GOPDebate                                                                                              |positive |\n",
      "|RT @kesgardner: AssClown: I'm the only reason anyone is even talking about illegal immigration. Keep digging, Donald! #GOPDebate                       |negative |\n",
      "|RT @BernieSanders: Tom Hanks. Finally. Somebody who makes some sense. #GOPDebate #DebateWithBernie                                                     |positive |\n",
      "|RT @SouthernHomo: Olivia Pope would not vote for any of these guys #GOPDebate                                                                          |negative |\n",
      "|All #GOP candidates want to reduce taxes while #Huckabee wants to legalize prostitution and drugs so we can tax it. #GOPDebate                         |negative |\n",
      "|RT @kesgardner: Hi Fox panel, can you just ask Donald every single question? Hand him a shovel while you're at it so he can keep digging. #            |negative |\n",
      "|RT @JosephKapsch: And then hillaryclinton @barackobama joebiden were all... #GOPDebate                                                                 |neutral  |\n",
      "|#GOPDebate #Trump is Breaking Records! So what he's not a polished Politician. Makes me love him even more.                                            |positive |\n",
      "|RT @BernieSanders: Oh. It was just a movie trailer. #GOPDebate #DebateWithBernie                                                                       |negative |\n",
      "|RT @TacticalDissent: So Sally Kohn &amp; Debbie Wasserman Schultz both  praising Megyn Kelly tonight. That should tell you everything you need         |negative |\n",
      "|Why are all the Trump accessory women wearing the same shoes?!  #GOPDebate                                                                             |negative |\n",
      "|funniest line coming fr #republican 'People are frustrated, they’re fed up, they don’t think the government’s working for them' #gopdebate             |neutral  |\n",
      "|And Donald Trump is an absolute nut! So entertaining LOL #GOPDebate                                                                                    |negative |\n",
      "|\"\"\"@thehill: Top GOP pundits pick their #GOPdebate winners:                                                                                            |negative |\n",
      "|RT @DykstraDame: Candidates went after @HillaryClinton 32 times in the #GOPdebate-but remained silent about the issues that affect us. http            |negative |\n",
      "|RT @DanScavino: .@MegynKelly trying 2show up @realDonaldTrump w @FoxNews. Trying 2take him down. Trying 2destroy him. Not happening. #Kelly            |negative |\n",
      "|RT @gov: Most-Tweeted #GOPDebate moment for @RealBenCarson: saying he wouldn't publicize to the world his answer on waterboarding.                     |negative |\n",
      "|I give him a e for his big ego. #GOPDebate A's are earned for excellence. Rhymes with rump.                                                            |negative |\n",
      "|Passion of the #GOPDebate #ReligiousUpaMovie                                                                                                           |positive |\n",
      "|\"RT @NRO: \"\"@marcorubio got the best reviews                                                                                                           |positive |\n",
      "|RT @OhNoSheTwitnt: Can't wait to see which Lannister they kill off in the next episode of #GOPDebate                                                   |neutral  |\n",
      "|RT @kesgardner: Brutal question to the AssClown from Megan Kelly. The lesson here: be careful what you tweet on Twitter! #GOPDebate                    |positive |\n",
      "|RT @TUSK81: Democrats watching this #GOPDebate                                                                                                         |neutral  |\n",
      "|Trump changed his mind on supporting PARTIAL BIRTH ABORTION because a friend changed their mind on aborting &amp; had a great kid. #GOPDebate          |negative |\n",
      "|Best closing statement: @RealBenCarson #GOPDebate                                                                                                      |positive |\n",
      "|RT @ChrisChristie: We have to stop worrying about being loved &amp; start worrying about being respected. #TellingItLikeItIs #GOPDebate                |positive |\n",
      "|\"RT @lesleyabravanel: Trump sycophants want to know what @megynkelly's \"\"hidden agenda\"\" was last night. Answer is simple: it's called a vagin\"        |negative |\n",
      "|The Real #GOPDebate Winner: Republican Voters - Fox Nation                                                                                             |neutral  |\n",
      "|Donald Trump is a really nasty piece of work. Hope he disappears quickly. #GOPDebate                                                                   |negative |\n",
      "|RT @amaraconda: FETUSES ARE NOT UNBORN BABIES THEY ARE CLUSTERS OF CELLS STOP SHAMING PEOPLE WHO WANT/HAVE HAD ABORTIONS #GOPDebate                    |negative |\n",
      "|RT @mattkbh: These were far and away the best tweets of last night #DebateWithBernie #GOPDebate                                                        |positive |\n",
      "|I know now who it is that #ChrisChristie reminds me of: actor Andy Devine. #GOPDebate                                                                  |neutral  |\n",
      "|RT @pattonoswalt: Despite what Huckabee says, I always make sure my prostitute AND her pimp pay FICA and pension. #GOPDebate                           |negative |\n",
      "|RT @Bipartisanism: Hillary Clinton was watching the #GOPDebate like:                                                                                   |neutral  |\n",
      "|@FoxNews did great by challenging the candidates in #GOPDebate. If these candidates can't handle a tough question they could never b #POTUS            |positive |\n",
      "|RT @k_mcq: I’d say it was the opposite. Megan Kelly acted like some SJW on Tumblr whining about feminism. Very sad. #GOPDebate                         |negative |\n",
      "|RT @Conssista: Rightly so Frank. Rightly so. #GOPDebate                                                                                                |positive |\n",
      "|the number of times that ronald reagan is mentioned in the #GOPDebate is TOO DAMN HIGH                                                                 |negative |\n",
      "|\"RT @pattonoswalt: If Trump is against \"\"p.c. culture                                                                                                  |negative |\n",
      "|RT @carljacksonshow: #BenCarson great close! He operates on brains so he doesn't worry about skin color. #GOPDebate                                    |positive |\n",
      "|\"RT @Davante_R: Women that would be offended by Trumps \"\"Misogyny\"\" most certainly don't vote Republican.                                              |negative |\n",
      "|RT @Auntcol54: Keep religion out of politics! #GOPDebate                                                                                               |negative |\n",
      "|\"RT @DianneG: \"\"I won't be bought &amp; I won't be sold\"\" @randpaul after reiterating his points against @realDonaldTrump during #gopdebate\"           |neutral  |\n",
      "|RT @wilw: Boy, I bet the mood in the clown car is going to be TENSE when these jerks leave the #GOPDebate.                                             |negative |\n",
      "|RT @CampeauElliot: Dr. Ben Carson did a great job tonight! Loved your closing statement! @RealBenCarson #GOPDebate                                     |positive |\n",
      "|RT @RedheadAndRight: Meet the new darling of the left 》 Megyn Gotcha Kelly. #GOPDebate @FoxNews #DonaldTrump #MegynKelly                              |neutral  |\n",
      "|“@foxnewspolitics: Behind the Fox debate: How the anchors hashed out the questions #GOPDebate They Failed                                              |negative |\n",
      "|Did anyone get trashed playing @RollingStone's #GOPDebate drinking game?   #drinkinggame                                                               |negative |\n",
      "|If #DonaldTrump donates to U..He can call in a favor years later?? Sounds like #TheGodfather                                                           |negative |\n",
      "|RT @jediane9: Ugh to think there were actually people sitting on their couch last night saying YES YES THIS IS REASONABLE. #GOPDebate                  |negative |\n",
      "|\"RT @BarracudaMama: RT @AllenWestRepub \"\"Dear @JebBush #GOPDebate #NotAMistake                                                                         |neutral  |\n",
      "|RT @kesgardner: If politics can be even partially rational, Trump's campaign for the GOP nomination just ended. #GOPDebate                             |negative |\n",
      "|\"RT @AndrewHClark: .@GayPatriot's takeaway from last night: \"\"America Doesn't Deserve Ben Carson.\"\"  #GOPDebate\"                                       |neutral  |\n",
      "+-------------------------------------------------------------------------------------------------------------------------------------------------------+---------+\n",
      "only showing top 300 rows\n",
      "\n"
     ]
    }
   ],
   "source": [
    "spark_df.show(300,truncate=False)"
   ]
  },
  {
   "cell_type": "code",
   "execution_count": 16,
   "metadata": {
    "ExecuteTime": {
     "end_time": "2020-08-06T22:21:25.652558Z",
     "start_time": "2020-08-06T22:21:25.625368Z"
    },
    "scrolled": false
   },
   "outputs": [],
   "source": [
    "spark_df = spark_df.withColumn('text',F.trim(F.col('text'))).filter(spark_df[\"text\"] != '' )"
   ]
  },
  {
   "cell_type": "code",
   "execution_count": 17,
   "metadata": {
    "ExecuteTime": {
     "end_time": "2020-08-06T22:21:26.070874Z",
     "start_time": "2020-08-06T22:21:26.069351Z"
    }
   },
   "outputs": [],
   "source": [
    "MODEL_NAME = 'sentimentdl_use_twitter'"
   ]
  },
  {
   "cell_type": "code",
   "execution_count": 18,
   "metadata": {
    "ExecuteTime": {
     "end_time": "2020-08-06T22:21:46.750767Z",
     "start_time": "2020-08-06T22:21:27.365216Z"
    },
    "scrolled": false
   },
   "outputs": [
    {
     "name": "stdout",
     "output_type": "stream",
     "text": [
      "tfhub_use download started this may take some time.\n",
      "Approximate size to download 923.7 MB\n",
      "[OK!]\n",
      "sentimentdl_use_twitter download started this may take some time.\n",
      "Approximate size to download 11.9 MB\n",
      "[OK!]\n"
     ]
    }
   ],
   "source": [
    "documentAssembler = DocumentAssembler()\\\n",
    "    .setInputCol(\"text\")\\\n",
    "    .setOutputCol(\"document\")\n",
    "    \n",
    "use = UniversalSentenceEncoder.pretrained(name=\"tfhub_use\", lang=\"en\")\\\n",
    " .setInputCols([\"document\"])\\\n",
    " .setOutputCol(\"sentence_embeddings\")\n",
    "\n",
    "\n",
    "sentimentdl = SentimentDLModel.pretrained(name=MODEL_NAME, lang=\"en\")\\\n",
    "    .setInputCols([\"sentence_embeddings\"])\\\n",
    "    .setOutputCol(\"pr_sentiment\")\n",
    "\n",
    "nlpPipeline = Pipeline(\n",
    "      stages = [\n",
    "          documentAssembler,\n",
    "          use,\n",
    "          sentimentdl\n",
    "      ])\n",
    "\n",
    "empty_df = spark.createDataFrame([['']]).toDF(\"text\")\n",
    "\n",
    "pipelineModel = nlpPipeline.fit(empty_df)"
   ]
  },
  {
   "cell_type": "code",
   "execution_count": 19,
   "metadata": {
    "ExecuteTime": {
     "end_time": "2020-08-06T22:21:46.864118Z",
     "start_time": "2020-08-06T22:21:46.751736Z"
    }
   },
   "outputs": [],
   "source": [
    "match_df = pipelineModel.transform(spark_df)\n"
   ]
  },
  {
   "cell_type": "code",
   "execution_count": 20,
   "metadata": {
    "ExecuteTime": {
     "end_time": "2020-08-06T22:21:46.866658Z",
     "start_time": "2020-08-06T22:21:46.865206Z"
    }
   },
   "outputs": [],
   "source": [
    "#match_df = match_df.withColumnRenamed('sentiment', 'pr_sentiment')"
   ]
  },
  {
   "cell_type": "code",
   "execution_count": 21,
   "metadata": {
    "ExecuteTime": {
     "end_time": "2020-08-06T22:21:49.676214Z",
     "start_time": "2020-08-06T22:21:46.867616Z"
    }
   },
   "outputs": [
    {
     "name": "stdout",
     "output_type": "stream",
     "text": [
      "+--------------------+---------+--------------------+--------------------+--------------------+\n",
      "|                text|sentiment|            document| sentence_embeddings|        pr_sentiment|\n",
      "+--------------------+---------+--------------------+--------------------+--------------------+\n",
      "|RT @NancyLeeGrahn...|  neutral|[[document, 0, 10...|[[sentence_embedd...|[[category, 0, 10...|\n",
      "|RT @ScottWalker: ...| positive|[[document, 0, 12...|[[sentence_embedd...|[[category, 0, 12...|\n",
      "|RT @TJMShow: No m...|  neutral|[[document, 0, 83...|[[sentence_embedd...|[[category, 0, 83...|\n",
      "|RT @RobGeorge: Th...| positive|[[document, 0, 13...|[[sentence_embedd...|[[category, 0, 13...|\n",
      "|RT @DanScavino: #...| positive|[[document, 0, 12...|[[sentence_embedd...|[[category, 0, 12...|\n",
      "|\"RT @GregAbbott_T...| positive|[[document, 0, 13...|[[sentence_embedd...|[[category, 0, 13...|\n",
      "|RT @warriorwoman9...| negative|[[document, 0, 12...|[[sentence_embedd...|[[category, 0, 12...|\n",
      "|Going on #MSNBC L...|  neutral|[[document, 0, 68...|[[sentence_embedd...|[[category, 0, 68...|\n",
      "|Deer in the headl...| negative|[[document, 0, 13...|[[sentence_embedd...|[[category, 0, 13...|\n",
      "|RT @NancyOsborne1...| negative|[[document, 0, 94...|[[sentence_embedd...|[[category, 0, 94...|\n",
      "|@JGreenDC @realDo...| negative|[[document, 0, 82...|[[sentence_embedd...|[[category, 0, 82...|\n",
      "|RT @WayneDupreeSh...| positive|[[document, 0, 61...|[[sentence_embedd...|[[category, 0, 61...|\n",
      "|Me reading my fam...| negative|[[document, 0, 65...|[[sentence_embedd...|[[category, 0, 65...|\n",
      "|\"RT @ArcticFox201...|  neutral|[[document, 0, 77...|[[sentence_embedd...|[[category, 0, 77...|\n",
      "|RT @pattonoswalt:...| positive|[[document, 0, 11...|[[sentence_embedd...|[[category, 0, 11...|\n",
      "|Hey @ChrisChristi...| negative|[[document, 0, 11...|[[sentence_embedd...|[[category, 0, 11...|\n",
      "|RT @CarolCNN: #Do...| negative|[[document, 0, 13...|[[sentence_embedd...|[[category, 0, 13...|\n",
      "|RT @johncardillo:...| negative|[[document, 0, 10...|[[sentence_embedd...|[[category, 0, 10...|\n",
      "|reason comment is...| negative|[[document, 0, 13...|[[sentence_embedd...|[[category, 0, 13...|\n",
      "|RT @PamelaGeller:...| negative|[[document, 0, 13...|[[sentence_embedd...|[[category, 0, 13...|\n",
      "|RT @ChuckNellis: ...| positive|[[document, 0, 73...|[[sentence_embedd...|[[category, 0, 73...|\n",
      "|RT @mchamric: RT ...| negative|[[document, 0, 11...|[[sentence_embedd...|[[category, 0, 11...|\n",
      "|RT @erinmallorylo...| negative|[[document, 0, 12...|[[sentence_embedd...|[[category, 0, 12...|\n",
      "|RT @thekevinryder...|  neutral|[[document, 0, 52...|[[sentence_embedd...|[[category, 0, 52...|\n",
      "|RT @MrPooni: Fox ...| negative|[[document, 0, 12...|[[sentence_embedd...|[[category, 0, 12...|\n",
      "|#GOPDebate rankin...| negative|[[document, 0, 12...|[[sentence_embedd...|[[category, 0, 12...|\n",
      "|RT @TheBaxterBean...| negative|[[document, 0, 11...|[[sentence_embedd...|[[category, 0, 11...|\n",
      "|RT @feministabulo...| negative|[[document, 0, 13...|[[sentence_embedd...|[[category, 0, 13...|\n",
      "|RT @mch7576: RT “...| negative|[[document, 0, 10...|[[sentence_embedd...|[[category, 0, 10...|\n",
      "|RT @HillaryClinto...| negative|[[document, 0, 98...|[[sentence_embedd...|[[category, 0, 98...|\n",
      "|@fbhw they're goi...| negative|[[document, 0, 12...|[[sentence_embedd...|[[category, 0, 12...|\n",
      "|RT @LisaVikingsta...| negative|[[document, 0, 13...|[[sentence_embedd...|[[category, 0, 13...|\n",
      "|The First #GOPDeb...|  neutral|[[document, 0, 51...|[[sentence_embedd...|[[category, 0, 51...|\n",
      "|#SocialMedia: The...|  neutral|[[document, 0, 65...|[[sentence_embedd...|[[category, 0, 65...|\n",
      "|RT WinesdayPodcas...| negative|[[document, 0, 73...|[[sentence_embedd...|[[category, 0, 73...|\n",
      "|RT @AmyMek: The T...| negative|[[document, 0, 14...|[[sentence_embedd...|[[category, 0, 14...|\n",
      "|RT @stockwizards3...| negative|[[document, 0, 65...|[[sentence_embedd...|[[category, 0, 65...|\n",
      "|\"RT @kvxrdashian:...| negative|[[document, 0, 46...|[[sentence_embedd...|[[category, 0, 46...|\n",
      "|RT @ali: After th...| negative|[[document, 0, 13...|[[sentence_embedd...|[[category, 0, 13...|\n",
      "|RT @itsashlyperez...|  neutral|[[document, 0, 11...|[[sentence_embedd...|[[category, 0, 11...|\n",
      "|RT @mgell: Trump ...| negative|[[document, 0, 10...|[[sentence_embedd...|[[category, 0, 10...|\n",
      "|RT @JamelleMyBell...| negative|[[document, 0, 63...|[[sentence_embedd...|[[category, 0, 63...|\n",
      "|RT @RowdyGentlema...|  neutral|[[document, 0, 10...|[[sentence_embedd...|[[category, 0, 10...|\n",
      "|RT @brownblaze: P...| negative|[[document, 0, 46...|[[sentence_embedd...|[[category, 0, 46...|\n",
      "|\"Trump thinks cri...| negative|[[document, 0, 95...|[[sentence_embedd...|[[category, 0, 95...|\n",
      "|RT @LeKarmaSucre:...| negative|[[document, 0, 61...|[[sentence_embedd...|[[category, 0, 61...|\n",
      "|RT @palmaceiahome...|  neutral|[[document, 0, 13...|[[sentence_embedd...|[[category, 0, 13...|\n",
      "|RT @philstockworl...|  neutral|[[document, 0, 11...|[[sentence_embedd...|[[category, 0, 11...|\n",
      "|“@DanScavino: #GO...| positive|[[document, 0, 13...|[[sentence_embedd...|[[category, 0, 13...|\n",
      "|\"RT @gov: Most-Tw...| negative|[[document, 0, 14...|[[sentence_embedd...|[[category, 0, 14...|\n",
      "|RT @ariannahuff: ...|  neutral|[[document, 0, 54...|[[sentence_embedd...|[[category, 0, 54...|\n",
      "|RT @megynkelly: ....| positive|[[document, 0, 13...|[[sentence_embedd...|[[category, 0, 13...|\n",
      "|RT @STYLEMOM: Her...| negative|[[document, 0, 14...|[[sentence_embedd...|[[category, 0, 14...|\n",
      "|@rushlimbaugh Ame...| negative|[[document, 0, 13...|[[sentence_embedd...|[[category, 0, 13...|\n",
      "|RT @ChuckNellis: ...| negative|[[document, 0, 12...|[[sentence_embedd...|[[category, 0, 12...|\n",
      "|\"RT @theskysgoneo...| negative|[[document, 0, 14...|[[sentence_embedd...|[[category, 0, 14...|\n",
      "|RT @Bipartisanism...| negative|[[document, 0, 76...|[[sentence_embedd...|[[category, 0, 76...|\n",
      "|RT @factcheckdoto...| negative|[[document, 0, 13...|[[sentence_embedd...|[[category, 0, 13...|\n",
      "|RT @mydaughtersar...| negative|[[document, 0, 29...|[[sentence_embedd...|[[category, 0, 29...|\n",
      "|RT @KarrattiPaul:...| positive|[[document, 0, 55...|[[sentence_embedd...|[[category, 0, 55...|\n",
      "|RT @P0TUS: #GOPDe...| negative|[[document, 0, 40...|[[sentence_embedd...|[[category, 0, 40...|\n",
      "|RT @AmyMek: Statu...| negative|[[document, 0, 27...|[[sentence_embedd...|[[category, 0, 27...|\n",
      "|RT @FrankLuntz: B...| positive|[[document, 0, 94...|[[sentence_embedd...|[[category, 0, 94...|\n",
      "|RT @_Holly_Renee:...| positive|[[document, 0, 62...|[[sentence_embedd...|[[category, 0, 62...|\n",
      "|RT @TheJimHughes:...| negative|[[document, 0, 12...|[[sentence_embedd...|[[category, 0, 12...|\n",
      "|RT @frankthorpNBC...|  neutral|[[document, 0, 76...|[[sentence_embedd...|[[category, 0, 76...|\n",
      "|RT @JohnKasich: S...|  neutral|[[document, 0, 92...|[[sentence_embedd...|[[category, 0, 92...|\n",
      "|Trying to decide ...|  neutral|[[document, 0, 13...|[[sentence_embedd...|[[category, 0, 13...|\n",
      "|RT @MsPackyetti: ...| positive|[[document, 0, 98...|[[sentence_embedd...|[[category, 0, 98...|\n",
      "|\"RT @Bipartisanis...| negative|[[document, 0, 45...|[[sentence_embedd...|[[category, 0, 45...|\n",
      "|\"Fox News Had Its...| negative|[[document, 0, 93...|[[sentence_embedd...|[[category, 0, 93...|\n",
      "|RT @HlLLARY: Oh, ...| negative|[[document, 0, 13...|[[sentence_embedd...|[[category, 0, 13...|\n",
      "|\"RT @NaughtyBeyot...| negative|[[document, 0, 78...|[[sentence_embedd...|[[category, 0, 78...|\n",
      "|@marthamaccallum ...| positive|[[document, 0, 11...|[[sentence_embedd...|[[category, 0, 11...|\n",
      "|\"The Country's go...| negative|[[document, 0, 11...|[[sentence_embedd...|[[category, 0, 11...|\n",
      "|RT @Franklin_Grah...| positive|[[document, 0, 12...|[[sentence_embedd...|[[category, 0, 12...|\n",
      "|RT @SnarkyDemo: #...| negative|[[document, 0, 13...|[[sentence_embedd...|[[category, 0, 13...|\n",
      "|RT @Bipartisanism...| negative|[[document, 0, 57...|[[sentence_embedd...|[[category, 0, 57...|\n",
      "|RT @davidcicillin...| negative|[[document, 0, 94...|[[sentence_embedd...|[[category, 0, 94...|\n",
      "|\"RT @GovMikeHucka...|  neutral|[[document, 0, 48...|[[sentence_embedd...|[[category, 0, 48...|\n",
      "|\"RT @lolhayley: \"...| negative|[[document, 0, 14...|[[sentence_embedd...|[[category, 0, 14...|\n",
      "|Wondering if I co...| negative|[[document, 0, 13...|[[sentence_embedd...|[[category, 0, 13...|\n",
      "|RT @BrandonDHowel...| positive|[[document, 0, 84...|[[sentence_embedd...|[[category, 0, 84...|\n",
      "|RT @tedcruz: If e...| positive|[[document, 0, 13...|[[sentence_embedd...|[[category, 0, 13...|\n",
      "|RT @Ronnie2K: Don...|  neutral|[[document, 0, 54...|[[sentence_embedd...|[[category, 0, 54...|\n",
      "|RT @bruneski: Was...|  neutral|[[document, 0, 12...|[[sentence_embedd...|[[category, 0, 12...|\n",
      "|They’re all Todd ...| negative|[[document, 0, 10...|[[sentence_embedd...|[[category, 0, 10...|\n",
      "|RT @learjetter: H...| negative|[[document, 0, 13...|[[sentence_embedd...|[[category, 0, 13...|\n",
      "|RT @TheBaxterBean...| negative|[[document, 0, 10...|[[sentence_embedd...|[[category, 0, 10...|\n",
      "|A few of my favor...|  neutral|[[document, 0, 68...|[[sentence_embedd...|[[category, 0, 68...|\n",
      "|Even though she's...| positive|[[document, 0, 13...|[[sentence_embedd...|[[category, 0, 13...|\n",
      "|RT @kingsthings: ...| negative|[[document, 0, 13...|[[sentence_embedd...|[[category, 0, 13...|\n",
      "|RT @MelissaGracey...| positive|[[document, 0, 87...|[[sentence_embedd...|[[category, 0, 87...|\n",
      "|RT @Reince: Simpl...| positive|[[document, 0, 11...|[[sentence_embedd...|[[category, 0, 11...|\n",
      "|\"RT @KateThomas: ...| negative|[[document, 0, 12...|[[sentence_embedd...|[[category, 0, 12...|\n",
      "|RT @fl_dreamer: H...| negative|[[document, 0, 11...|[[sentence_embedd...|[[category, 0, 11...|\n",
      "|\"RT @TexasCruzn: ...|  neutral|[[document, 0, 74...|[[sentence_embedd...|[[category, 0, 74...|\n",
      "|RT @zellieimani: ...| negative|[[document, 0, 74...|[[sentence_embedd...|[[category, 0, 74...|\n",
      "|RT @TheBaxterBean...| negative|[[document, 0, 11...|[[sentence_embedd...|[[category, 0, 11...|\n",
      "|RT @carIisIe: Non...| negative|[[document, 0, 13...|[[sentence_embedd...|[[category, 0, 13...|\n",
      "|\"RT @akbarjenkins...|  neutral|[[document, 0, 15...|[[sentence_embedd...|[[category, 0, 15...|\n",
      "|Had a great time ...| positive|[[document, 0, 50...|[[sentence_embedd...|[[category, 0, 50...|\n",
      "|\"RT @JRehling: #G...| negative|[[document, 0, 14...|[[sentence_embedd...|[[category, 0, 14...|\n",
      "|RT @theonlyadult:...| negative|[[document, 0, 12...|[[sentence_embedd...|[[category, 0, 12...|\n",
      "|I think @realDona...|  neutral|[[document, 0, 12...|[[sentence_embedd...|[[category, 0, 12...|\n",
      "|\"RT @kirahoffy: \"...| negative|[[document, 0, 10...|[[sentence_embedd...|[[category, 0, 10...|\n",
      "|RT @JohnKasich: J...| positive|[[document, 0, 10...|[[sentence_embedd...|[[category, 0, 10...|\n",
      "|Please help the M...| positive|[[document, 0, 10...|[[sentence_embedd...|[[category, 0, 10...|\n",
      "|RT @CarlyFiorina:...|  neutral|[[document, 0, 11...|[[sentence_embedd...|[[category, 0, 11...|\n",
      "|Trump just said @...| negative|[[document, 0, 95...|[[sentence_embedd...|[[category, 0, 95...|\n",
      "|RT @cameronesposi...| negative|[[document, 0, 98...|[[sentence_embedd...|[[category, 0, 98...|\n",
      "|RT @SnarkyDemo: W...| negative|[[document, 0, 13...|[[sentence_embedd...|[[category, 0, 13...|\n",
      "|RT @congoboy: Thi...| negative|[[document, 0, 64...|[[sentence_embedd...|[[category, 0, 64...|\n",
      "|\"RT @AmyMek: \"\"Go...|  neutral|[[document, 0, 77...|[[sentence_embedd...|[[category, 0, 77...|\n",
      "|RT @JohnKasich: T...|  neutral|[[document, 0, 88...|[[sentence_embedd...|[[category, 0, 88...|\n",
      "|RT @MattyIceAZ: S...| negative|[[document, 0, 70...|[[sentence_embedd...|[[category, 0, 70...|\n",
      "|RT @XLNB: Black p...| negative|[[document, 0, 10...|[[sentence_embedd...|[[category, 0, 10...|\n",
      "|RT @Smethanie: Su...| negative|[[document, 0, 13...|[[sentence_embedd...|[[category, 0, 13...|\n",
      "|RT @palmaceiahome...| negative|[[document, 0, 88...|[[sentence_embedd...|[[category, 0, 88...|\n",
      "|\"RT @palmaceiahom...| negative|[[document, 0, 11...|[[sentence_embedd...|[[category, 0, 11...|\n",
      "|\"RT @realDonaldTr...| negative|[[document, 0, 12...|[[sentence_embedd...|[[category, 0, 12...|\n",
      "|Republicans Debat...| positive|[[document, 0, 11...|[[sentence_embedd...|[[category, 0, 11...|\n",
      "|RT @JamesViser: H...| negative|[[document, 0, 11...|[[sentence_embedd...|[[category, 0, 11...|\n",
      "|\"RT @kraig4u: #GO...| negative|[[document, 0, 60...|[[sentence_embedd...|[[category, 0, 60...|\n",
      "|RT @DiegoUK: Demo...|  neutral|[[document, 0, 56...|[[sentence_embedd...|[[category, 0, 56...|\n",
      "|RT @AmyMek: We al...| negative|[[document, 0, 14...|[[sentence_embedd...|[[category, 0, 14...|\n",
      "|RT @TheBaxterBean...| negative|[[document, 0, 11...|[[sentence_embedd...|[[category, 0, 11...|\n",
      "|You're right Last...| positive|[[document, 0, 11...|[[sentence_embedd...|[[category, 0, 11...|\n",
      "|\"RT @pattonoswalt...|  neutral|[[document, 0, 11...|[[sentence_embedd...|[[category, 0, 11...|\n",
      "|\"RT @FrankConniff...| negative|[[document, 0, 13...|[[sentence_embedd...|[[category, 0, 13...|\n",
      "|RT @LeslieMac: Bu...| negative|[[document, 0, 10...|[[sentence_embedd...|[[category, 0, 10...|\n",
      "|RT @HillaryClinto...|  neutral|[[document, 0, 72...|[[sentence_embedd...|[[category, 0, 72...|\n",
      "|RT @CharlotteLaws...| positive|[[document, 0, 73...|[[sentence_embedd...|[[category, 0, 73...|\n",
      "|\"RT @libertyjibbe...| positive|[[document, 0, 14...|[[sentence_embedd...|[[category, 0, 14...|\n",
      "|You can't be pro-...| negative|[[document, 0, 70...|[[sentence_embedd...|[[category, 0, 70...|\n",
      "|RT @DanScavino: ....| negative|[[document, 0, 28...|[[sentence_embedd...|[[category, 0, 28...|\n",
      "|RT @edstetzer: Bt...| negative|[[document, 0, 85...|[[sentence_embedd...|[[category, 0, 85...|\n",
      "|RT @TeamMarco: Ma...| positive|[[document, 0, 75...|[[sentence_embedd...|[[category, 0, 75...|\n",
      "|@megynkelly @Bret...| negative|[[document, 0, 13...|[[sentence_embedd...|[[category, 0, 13...|\n",
      "|They obviously di...| negative|[[document, 0, 71...|[[sentence_embedd...|[[category, 0, 71...|\n",
      "|RT @VH1: Honestly...| negative|[[document, 0, 95...|[[sentence_embedd...|[[category, 0, 95...|\n",
      "|RT @TuxcedoCat: A...| negative|[[document, 0, 13...|[[sentence_embedd...|[[category, 0, 13...|\n",
      "|Trump gloating ab...| negative|[[document, 0, 11...|[[sentence_embedd...|[[category, 0, 11...|\n",
      "|RT @peddoc63: Go ...| positive|[[document, 0, 23...|[[sentence_embedd...|[[category, 0, 23...|\n",
      "|RT @Daenerys: Lis...| negative|[[document, 0, 45...|[[sentence_embedd...|[[category, 0, 45...|\n",
      "|RT @ScorpionsPrie...| positive|[[document, 0, 11...|[[sentence_embedd...|[[category, 0, 11...|\n",
      "|RT @JohnFugelsang...| negative|[[document, 0, 13...|[[sentence_embedd...|[[category, 0, 13...|\n",
      "|RT @pfikac: .@Jeb...| negative|[[document, 0, 13...|[[sentence_embedd...|[[category, 0, 13...|\n",
      "|RT @DrMartyFox: #...| negative|[[document, 0, 33...|[[sentence_embedd...|[[category, 0, 33...|\n",
      "|\"RT @SiteROI: @Go...| positive|[[document, 0, 10...|[[sentence_embedd...|[[category, 0, 10...|\n",
      "|Summary is the #G...| negative|[[document, 0, 46...|[[sentence_embedd...|[[category, 0, 46...|\n",
      "|RT @ThePatriot143...| negative|[[document, 0, 98...|[[sentence_embedd...|[[category, 0, 98...|\n",
      "|RT @sallykohn: He...| negative|[[document, 0, 13...|[[sentence_embedd...|[[category, 0, 13...|\n",
      "|RT @TheBaxterBean...|  neutral|[[document, 0, 11...|[[sentence_embedd...|[[category, 0, 11...|\n",
      "|RT @ChrisJZullo: ...| negative|[[document, 0, 13...|[[sentence_embedd...|[[category, 0, 13...|\n",
      "|RT @NancyOsborne1...|  neutral|[[document, 0, 98...|[[sentence_embedd...|[[category, 0, 98...|\n",
      "|RT @RFHKerry: If ...| negative|[[document, 0, 86...|[[sentence_embedd...|[[category, 0, 86...|\n",
      "|RT @Bipartisanism...|  neutral|[[document, 0, 91...|[[sentence_embedd...|[[category, 0, 91...|\n",
      "|Who's the real il...| negative|[[document, 0, 99...|[[sentence_embedd...|[[category, 0, 99...|\n",
      "|#GOPDebate The ta...| negative|[[document, 0, 13...|[[sentence_embedd...|[[category, 0, 13...|\n",
      "|RT @STEEL5757: 🎀...|  neutral|[[document, 0, 99...|[[sentence_embedd...|[[category, 0, 99...|\n",
      "|#Trump is right a...| positive|[[document, 0, 92...|[[sentence_embedd...|[[category, 0, 92...|\n",
      "|RT @AC360: It was...|  neutral|[[document, 0, 96...|[[sentence_embedd...|[[category, 0, 96...|\n",
      "|#GOPDebate in one...|  neutral|[[document, 0, 24...|[[sentence_embedd...|[[category, 0, 24...|\n",
      "|\"RT @maureenjohns...| negative|[[document, 0, 11...|[[sentence_embedd...|[[category, 0, 11...|\n",
      "|\"\"\"I think God's ...| negative|[[document, 0, 47...|[[sentence_embedd...|[[category, 0, 47...|\n",
      "|\"RT @NancyLeeGrah...| negative|[[document, 0, 14...|[[sentence_embedd...|[[category, 0, 14...|\n",
      "|#BlackLives don't...| negative|[[document, 0, 11...|[[sentence_embedd...|[[category, 0, 11...|\n",
      "|Overall the main ...| negative|[[document, 0, 94...|[[sentence_embedd...|[[category, 0, 94...|\n",
      "|@USFree4life I th...| positive|[[document, 0, 13...|[[sentence_embedd...|[[category, 0, 13...|\n",
      "|RT @JohnKasich: H...| negative|[[document, 0, 82...|[[sentence_embedd...|[[category, 0, 82...|\n",
      "|\"@megynkelly @Bre...| negative|[[document, 0, 14...|[[sentence_embedd...|[[category, 0, 14...|\n",
      "|\"“@GovMikeHuckabe...| negative|[[document, 0, 46...|[[sentence_embedd...|[[category, 0, 46...|\n",
      "|RT @oftenimpruden...| negative|[[document, 0, 12...|[[sentence_embedd...|[[category, 0, 12...|\n",
      "|RT @AmyMek: Conse...| negative|[[document, 0, 56...|[[sentence_embedd...|[[category, 0, 56...|\n",
      "|RT @BHowl_: How c...| negative|[[document, 0, 13...|[[sentence_embedd...|[[category, 0, 13...|\n",
      "|RT @travisconsidi...|  neutral|[[document, 0, 83...|[[sentence_embedd...|[[category, 0, 83...|\n",
      "|RT @ChrisJZullo: ...| negative|[[document, 0, 13...|[[sentence_embedd...|[[category, 0, 13...|\n",
      "|#GOPDebate 2016 #...| positive|[[document, 0, 10...|[[sentence_embedd...|[[category, 0, 10...|\n",
      "|RT @SooperMexican...|  neutral|[[document, 0, 10...|[[sentence_embedd...|[[category, 0, 10...|\n",
      "|RT @BenJamminWalk...| negative|[[document, 0, 13...|[[sentence_embedd...|[[category, 0, 13...|\n",
      "|RT @DanScavino: #...| positive|[[document, 0, 33...|[[sentence_embedd...|[[category, 0, 33...|\n",
      "|\"RT @JoePrich: .@...| negative|[[document, 0, 13...|[[sentence_embedd...|[[category, 0, 13...|\n",
      "|#GOPDebate @FoxNe...| negative|[[document, 0, 12...|[[sentence_embedd...|[[category, 0, 12...|\n",
      "|RT @renomarky: ☑ ...| negative|[[document, 0, 44...|[[sentence_embedd...|[[category, 0, 44...|\n",
      "|     IMHO #GOPDebate| positive|[[document, 0, 14...|[[sentence_embedd...|[[category, 0, 14...|\n",
      "|RT @JohnKasich: S...| positive|[[document, 0, 10...|[[sentence_embedd...|[[category, 0, 10...|\n",
      "|RT @zellieimani: ...|  neutral|[[document, 0, 91...|[[sentence_embedd...|[[category, 0, 91...|\n",
      "|\"RT @JebBush: \"\"C...| negative|[[document, 0, 10...|[[sentence_embedd...|[[category, 0, 10...|\n",
      "|RT @billyeichner:...|  neutral|[[document, 0, 11...|[[sentence_embedd...|[[category, 0, 11...|\n",
      "|@theblaze The REA...| negative|[[document, 0, 96...|[[sentence_embedd...|[[category, 0, 96...|\n",
      "|\"RT @GovernorPerr...|  neutral|[[document, 0, 97...|[[sentence_embedd...|[[category, 0, 97...|\n",
      "|RT @blowticious: ...|  neutral|[[document, 0, 55...|[[sentence_embedd...|[[category, 0, 55...|\n",
      "|RT @GovernorPerry...|  neutral|[[document, 0, 10...|[[sentence_embedd...|[[category, 0, 10...|\n",
      "|RT @AllThingsFlyn...| negative|[[document, 0, 13...|[[sentence_embedd...|[[category, 0, 13...|\n",
      "|RT @CarlyFiorina:...| positive|[[document, 0, 68...|[[sentence_embedd...|[[category, 0, 68...|\n",
      "|RT @LAXnOREOS: Me...| negative|[[document, 0, 58...|[[sentence_embedd...|[[category, 0, 58...|\n",
      "|#rubio still my p...| positive|[[document, 0, 10...|[[sentence_embedd...|[[category, 0, 10...|\n",
      "|Did @realDonaldTr...| positive|[[document, 0, 11...|[[sentence_embedd...|[[category, 0, 11...|\n",
      "|\"RT @TheTexasPhoe...| positive|[[document, 0, 11...|[[sentence_embedd...|[[category, 0, 11...|\n",
      "|RT @Playing_Dad: ...|  neutral|[[document, 0, 46...|[[sentence_embedd...|[[category, 0, 46...|\n",
      "|\"RT @realDonaldTr...| negative|[[document, 0, 14...|[[sentence_embedd...|[[category, 0, 14...|\n",
      "|\"This literally c...| negative|[[document, 0, 12...|[[sentence_embedd...|[[category, 0, 12...|\n",
      "|#JonVoyage was ha...| negative|[[document, 0, 72...|[[sentence_embedd...|[[category, 0, 72...|\n",
      "|RT @LisaBloom: No...| negative|[[document, 0, 11...|[[sentence_embedd...|[[category, 0, 11...|\n",
      "|\"#GOPDebate What ...| negative|[[document, 0, 14...|[[sentence_embedd...|[[category, 0, 14...|\n",
      "|After the #GOPDeb...| positive|[[document, 0, 10...|[[sentence_embedd...|[[category, 0, 10...|\n",
      "|RT @Roy___Rogers:...| negative|[[document, 0, 13...|[[sentence_embedd...|[[category, 0, 13...|\n",
      "|RT @CarlyFiorina:...|  neutral|[[document, 0, 13...|[[sentence_embedd...|[[category, 0, 13...|\n",
      "|RT @zzcrane: Me w...| negative|[[document, 0, 56...|[[sentence_embedd...|[[category, 0, 56...|\n",
      "|\"RT @deray: Befor...| negative|[[document, 0, 14...|[[sentence_embedd...|[[category, 0, 14...|\n",
      "|RT @feministabulo...| negative|[[document, 0, 13...|[[sentence_embedd...|[[category, 0, 13...|\n",
      "|RT @SenWhitehouse...| negative|[[document, 0, 13...|[[sentence_embedd...|[[category, 0, 13...|\n",
      "|RT @tyriquex: The...| negative|[[document, 0, 14...|[[sentence_embedd...|[[category, 0, 14...|\n",
      "|So we just had an...|  neutral|[[document, 0, 14...|[[sentence_embedd...|[[category, 0, 14...|\n",
      "|Catching up on my...| negative|[[document, 0, 14...|[[sentence_embedd...|[[category, 0, 14...|\n",
      "|RT @TomHall: The ...|  neutral|[[document, 0, 99...|[[sentence_embedd...|[[category, 0, 99...|\n",
      "|RT @kesgardner: A...| negative|[[document, 0, 72...|[[sentence_embedd...|[[category, 0, 72...|\n",
      "|\"RT @GovernorPerr...| negative|[[document, 0, 10...|[[sentence_embedd...|[[category, 0, 10...|\n",
      "|RT @FrankConniff:...|  neutral|[[document, 0, 72...|[[sentence_embedd...|[[category, 0, 72...|\n",
      "|RT @larhunter: If...| negative|[[document, 0, 12...|[[sentence_embedd...|[[category, 0, 12...|\n",
      "|RT @CarlyFiorina:...|  neutral|[[document, 0, 85...|[[sentence_embedd...|[[category, 0, 85...|\n",
      "|RT @cenkuygur: Ch...| negative|[[document, 0, 13...|[[sentence_embedd...|[[category, 0, 13...|\n",
      "|RT @JohnKasich: J...| positive|[[document, 0, 68...|[[sentence_embedd...|[[category, 0, 68...|\n",
      "|RT @edwrather: Th...| negative|[[document, 0, 11...|[[sentence_embedd...|[[category, 0, 11...|\n",
      "|RT @WhitneyNeal: ...| negative|[[document, 0, 13...|[[sentence_embedd...|[[category, 0, 13...|\n",
      "|On my way to the ...|  neutral|[[document, 0, 94...|[[sentence_embedd...|[[category, 0, 94...|\n",
      "|RT @Blkfeminst: I...| negative|[[document, 0, 10...|[[sentence_embedd...|[[category, 0, 10...|\n",
      "|RT @GrnEyedMandy:...| negative|[[document, 0, 12...|[[sentence_embedd...|[[category, 0, 12...|\n",
      "|RT @AmandaJoGomez...|  neutral|[[document, 0, 47...|[[sentence_embedd...|[[category, 0, 47...|\n",
      "|RT @IcarusPundit:...| negative|[[document, 0, 11...|[[sentence_embedd...|[[category, 0, 11...|\n",
      "|\"RT @TheXclass: \"...| negative|[[document, 0, 81...|[[sentence_embedd...|[[category, 0, 81...|\n",
      "|At the #GOPDebate...| negative|[[document, 0, 96...|[[sentence_embedd...|[[category, 0, 96...|\n",
      "|RT @SeaBassThePhi...| negative|[[document, 0, 13...|[[sentence_embedd...|[[category, 0, 13...|\n",
      "|RT @Writeintrump:...|  neutral|[[document, 0, 13...|[[sentence_embedd...|[[category, 0, 13...|\n",
      "|@ChuckNellis @Fox...| negative|[[document, 0, 51...|[[sentence_embedd...|[[category, 0, 51...|\n",
      "|RT @mrskimcam: Tr...| negative|[[document, 0, 10...|[[sentence_embedd...|[[category, 0, 10...|\n",
      "|So excited for @j...| positive|[[document, 0, 10...|[[sentence_embedd...|[[category, 0, 10...|\n",
      "|RT @ChadPergram: ...|  neutral|[[document, 0, 13...|[[sentence_embedd...|[[category, 0, 13...|\n",
      "|Hey look it's my ...| negative|[[document, 0, 75...|[[sentence_embedd...|[[category, 0, 75...|\n",
      "|RT @tommychong: A...|  neutral|[[document, 0, 92...|[[sentence_embedd...|[[category, 0, 92...|\n",
      "|RT @CBeresniova: ...|  neutral|[[document, 0, 51...|[[sentence_embedd...|[[category, 0, 51...|\n",
      "|RT @TheBaxterBean...| negative|[[document, 0, 10...|[[sentence_embedd...|[[category, 0, 10...|\n",
      "|RT @DamienFahey: ...| negative|[[document, 0, 76...|[[sentence_embedd...|[[category, 0, 76...|\n",
      "|#GOPDebate #Closi...| negative|[[document, 0, 13...|[[sentence_embedd...|[[category, 0, 13...|\n",
      "|When cnn, msnbc ,...| negative|[[document, 0, 11...|[[sentence_embedd...|[[category, 0, 11...|\n",
      "|RT @kesgardner: T...| negative|[[document, 0, 45...|[[sentence_embedd...|[[category, 0, 45...|\n",
      "|Cruz has class &a...| positive|[[document, 0, 56...|[[sentence_embedd...|[[category, 0, 56...|\n",
      "|RT @kesgardner: A...| negative|[[document, 0, 12...|[[sentence_embedd...|[[category, 0, 12...|\n",
      "|RT @BernieSanders...| positive|[[document, 0, 97...|[[sentence_embedd...|[[category, 0, 97...|\n",
      "|RT @SouthernHomo:...| negative|[[document, 0, 76...|[[sentence_embedd...|[[category, 0, 76...|\n",
      "|All #GOP candidat...| negative|[[document, 0, 12...|[[sentence_embedd...|[[category, 0, 12...|\n",
      "|RT @kesgardner: H...| negative|[[document, 0, 13...|[[sentence_embedd...|[[category, 0, 13...|\n",
      "|RT @JosephKapsch:...|  neutral|[[document, 0, 85...|[[sentence_embedd...|[[category, 0, 85...|\n",
      "|#GOPDebate #Trump...| positive|[[document, 0, 10...|[[sentence_embedd...|[[category, 0, 10...|\n",
      "|RT @BernieSanders...| negative|[[document, 0, 79...|[[sentence_embedd...|[[category, 0, 79...|\n",
      "|RT @TacticalDisse...| negative|[[document, 0, 14...|[[sentence_embedd...|[[category, 0, 14...|\n",
      "|Why are all the T...| negative|[[document, 0, 73...|[[sentence_embedd...|[[category, 0, 73...|\n",
      "|funniest line com...|  neutral|[[document, 0, 13...|[[sentence_embedd...|[[category, 0, 13...|\n",
      "|And Donald Trump ...| negative|[[document, 0, 66...|[[sentence_embedd...|[[category, 0, 66...|\n",
      "|\"\"\"@thehill: Top ...| negative|[[document, 0, 58...|[[sentence_embedd...|[[category, 0, 58...|\n",
      "|RT @DykstraDame: ...| negative|[[document, 0, 13...|[[sentence_embedd...|[[category, 0, 13...|\n",
      "|RT @DanScavino: ....| negative|[[document, 0, 13...|[[sentence_embedd...|[[category, 0, 13...|\n",
      "|RT @gov: Most-Twe...| negative|[[document, 0, 12...|[[sentence_embedd...|[[category, 0, 12...|\n",
      "|I give him a e fo...| negative|[[document, 0, 90...|[[sentence_embedd...|[[category, 0, 90...|\n",
      "|Passion of the #G...| positive|[[document, 0, 43...|[[sentence_embedd...|[[category, 0, 43...|\n",
      "|\"RT @NRO: \"\"@marc...| positive|[[document, 0, 43...|[[sentence_embedd...|[[category, 0, 43...|\n",
      "|RT @OhNoSheTwitnt...|  neutral|[[document, 0, 99...|[[sentence_embedd...|[[category, 0, 99...|\n",
      "|RT @kesgardner: B...| positive|[[document, 0, 13...|[[sentence_embedd...|[[category, 0, 13...|\n",
      "|RT @TUSK81: Democ...|  neutral|[[document, 0, 45...|[[sentence_embedd...|[[category, 0, 45...|\n",
      "|Trump changed his...| negative|[[document, 0, 14...|[[sentence_embedd...|[[category, 0, 14...|\n",
      "|Best closing stat...| positive|[[document, 0, 48...|[[sentence_embedd...|[[category, 0, 48...|\n",
      "|RT @ChrisChristie...| positive|[[document, 0, 13...|[[sentence_embedd...|[[category, 0, 13...|\n",
      "|\"RT @lesleyabrava...| negative|[[document, 0, 14...|[[sentence_embedd...|[[category, 0, 14...|\n",
      "|The Real #GOPDeba...|  neutral|[[document, 0, 57...|[[sentence_embedd...|[[category, 0, 57...|\n",
      "|Donald Trump is a...| negative|[[document, 0, 83...|[[sentence_embedd...|[[category, 0, 83...|\n",
      "|RT @amaraconda: F...| negative|[[document, 0, 13...|[[sentence_embedd...|[[category, 0, 13...|\n",
      "|RT @mattkbh: Thes...| positive|[[document, 0, 94...|[[sentence_embedd...|[[category, 0, 94...|\n",
      "|I know now who it...|  neutral|[[document, 0, 84...|[[sentence_embedd...|[[category, 0, 84...|\n",
      "|RT @pattonoswalt:...| negative|[[document, 0, 12...|[[sentence_embedd...|[[category, 0, 12...|\n",
      "|RT @Bipartisanism...|  neutral|[[document, 0, 67...|[[sentence_embedd...|[[category, 0, 67...|\n",
      "|@FoxNews did grea...| positive|[[document, 0, 13...|[[sentence_embedd...|[[category, 0, 13...|\n",
      "|RT @k_mcq: I’d sa...| negative|[[document, 0, 12...|[[sentence_embedd...|[[category, 0, 12...|\n",
      "|RT @Conssista: Ri...| positive|[[document, 0, 54...|[[sentence_embedd...|[[category, 0, 54...|\n",
      "|the number of tim...| negative|[[document, 0, 85...|[[sentence_embedd...|[[category, 0, 85...|\n",
      "|\"RT @pattonoswalt...| negative|[[document, 0, 52...|[[sentence_embedd...|[[category, 0, 52...|\n",
      "|RT @carljacksonsh...| positive|[[document, 0, 11...|[[sentence_embedd...|[[category, 0, 11...|\n",
      "|\"RT @Davante_R: W...| negative|[[document, 0, 10...|[[sentence_embedd...|[[category, 0, 10...|\n",
      "|RT @Auntcol54: Ke...| negative|[[document, 0, 55...|[[sentence_embedd...|[[category, 0, 55...|\n",
      "|\"RT @DianneG: \"\"I...|  neutral|[[document, 0, 13...|[[sentence_embedd...|[[category, 0, 13...|\n",
      "|RT @wilw: Boy, I ...| negative|[[document, 0, 10...|[[sentence_embedd...|[[category, 0, 10...|\n",
      "|RT @CampeauElliot...| positive|[[document, 0, 11...|[[sentence_embedd...|[[category, 0, 11...|\n",
      "|RT @RedheadAndRig...|  neutral|[[document, 0, 11...|[[sentence_embedd...|[[category, 0, 11...|\n",
      "|“@foxnewspolitics...| negative|[[document, 0, 10...|[[sentence_embedd...|[[category, 0, 10...|\n",
      "|Did anyone get tr...| negative|[[document, 0, 87...|[[sentence_embedd...|[[category, 0, 87...|\n",
      "|If #DonaldTrump d...| negative|[[document, 0, 91...|[[sentence_embedd...|[[category, 0, 91...|\n",
      "|RT @jediane9: Ugh...| negative|[[document, 0, 13...|[[sentence_embedd...|[[category, 0, 13...|\n",
      "|\"RT @BarracudaMam...|  neutral|[[document, 0, 77...|[[sentence_embedd...|[[category, 0, 77...|\n",
      "|RT @kesgardner: I...| negative|[[document, 0, 12...|[[sentence_embedd...|[[category, 0, 12...|\n",
      "|\"RT @AndrewHClark...|  neutral|[[document, 0, 11...|[[sentence_embedd...|[[category, 0, 11...|\n",
      "+--------------------+---------+--------------------+--------------------+--------------------+\n",
      "only showing top 300 rows\n",
      "\n"
     ]
    }
   ],
   "source": [
    "match_df.show(300)"
   ]
  },
  {
   "cell_type": "code",
   "execution_count": 22,
   "metadata": {
    "ExecuteTime": {
     "end_time": "2020-08-06T22:21:49.690709Z",
     "start_time": "2020-08-06T22:21:49.677077Z"
    }
   },
   "outputs": [],
   "source": [
    "match_df = match_df.select(F.col(\"document.result\").alias('text'),\\\n",
    "                F.col('sentiment'),\\\n",
    "                F.explode('pr_sentiment.result').alias('pr_sentiment'))"
   ]
  },
  {
   "cell_type": "code",
   "execution_count": 23,
   "metadata": {
    "ExecuteTime": {
     "end_time": "2020-08-06T22:21:49.695064Z",
     "start_time": "2020-08-06T22:21:49.691591Z"
    }
   },
   "outputs": [
    {
     "data": {
      "text/plain": [
       "['text', 'sentiment', 'pr_sentiment']"
      ]
     },
     "execution_count": 23,
     "metadata": {},
     "output_type": "execute_result"
    }
   ],
   "source": [
    "match_df.columns"
   ]
  },
  {
   "cell_type": "code",
   "execution_count": 24,
   "metadata": {
    "ExecuteTime": {
     "end_time": "2020-08-06T22:21:49.708186Z",
     "start_time": "2020-08-06T22:21:49.697320Z"
    }
   },
   "outputs": [],
   "source": [
    "match_df = match_df.select(F.explode(\"text\").alias('text'),\\\n",
    "                'sentiment',\\\n",
    "                'pr_sentiment').filter(\"sentiment is not null\")"
   ]
  },
  {
   "cell_type": "code",
   "execution_count": 25,
   "metadata": {
    "ExecuteTime": {
     "end_time": "2020-08-06T22:21:51.444385Z",
     "start_time": "2020-08-06T22:21:49.709339Z"
    },
    "scrolled": true
   },
   "outputs": [
    {
     "name": "stdout",
     "output_type": "stream",
     "text": [
      "+------------------------------------------------------------------------------------------------------------------------------------------------------+---------+------------+\n",
      "|                                                                                                                                                  text|sentiment|pr_sentiment|\n",
      "+------------------------------------------------------------------------------------------------------------------------------------------------------+---------+------------+\n",
      "|                                            RT @NancyLeeGrahn: How did everyone feel about the Climate Change question last night? Exactly. #GOPDebate|  neutral|    positive|\n",
      "|                            RT @ScottWalker: Didn't catch the full #GOPdebate last night. Here are some of Scott's best lines in 90 seconds. #Walker16| positive|    positive|\n",
      "|                                                                  RT @TJMShow: No mention of Tamir Rice and the #GOPDebate was held in Cleveland? Wow.|  neutral|    negative|\n",
      "|            RT @RobGeorge: That Carly Fiorina is trending -- hours after HER debate -- above any of the men in just-completed #GOPdebate says she's on| positive|    negative|\n",
      "|                       RT @DanScavino: #GOPDebate w/ @realDonaldTrump delivered the highest ratings in the history of presidential debates. #Trump2016| positive|    positive|\n",
      "|           \"RT @GregAbbott_TX: @TedCruz: \"\"On my first day I will rescind every illegal executive action taken by Barack Obama.\"\" #GOPDebate @FoxNews\"| positive|    negative|\n",
      "|                     RT @warriorwoman91: I liked her and was happy when I heard she was going to be the moderator. Not anymore. #GOPDebate @megynkelly| negative|    negative|\n",
      "|                                                                                 Going on #MSNBC Live with @ThomasARoberts around 2 PM ET.  #GOPDebate|  neutral|    positive|\n",
      "|                Deer in the headlights RT @lizzwinstead: Ben Carson, may be the only brain surgeon who has performed a lobotomy on himself. #GOPDebate| negative|    negative|\n",
      "|                                                       RT @NancyOsborne180: Last night's debate proved it! #GOPDebate #BATsAsk @BadassTeachersA #TBATs| negative|    positive|\n",
      "|                                                                   @JGreenDC @realDonaldTrump In all fairness #BillClinton owns that phrase.#GOPDebate| negative|    negative|\n",
      "|                                                                                        RT @WayneDupreeShow: Just woke up to tweet this out #GOPDebate| positive|    positive|\n",
      "|                                                                                    Me reading my family's comments about how great the #GOPDebate was| negative|    positive|\n",
      "|                                                                        \"RT @ArcticFox2016: RT @AllenWestRepub \"\"Dear @JebBush #GOPDebate #NotAMistake|  neutral|    positive|\n",
      "|                                       RT @pattonoswalt: I loved Scott Walker as Mark Harmon's romantic rival in SUMMER SCHOOL. Look it up. #GOPDebate| positive|    positive|\n",
      "|                                  Hey @ChrisChristie exploiting the tragedy of 9/11 for your own political gain is @rudygiulianiGOP's thing #GOPDebate| negative|    negative|\n",
      "|                   RT @CarolCNN: #DonaldTrump under fire for comments about women @PeterBeinart @SL_Schaeffer @IWF @@MyRkiger weigh in on #GOPdebate .| negative|    negative|\n",
      "|                                         RT @johncardillo: Guess who had most speaking time at the #GOPDebate. @FoxNews moderators with 31.7% of time.| negative|    positive|\n",
      "|             reason comment is funny 'in case you're ignorant' is the #gop #tcot are the reason the government isn't working for the people #gopdebate| negative|    negative|\n",
      "|            RT @PamelaGeller: Huckabee: Paying for transgender surgery for soldiers, sailors and airmen does not make our country safer #Ha #GOPDebate| negative|    negative|\n",
      "|                                                                            RT @ChuckNellis: Cruz has class &amp; truth, that gets my vote! #GOPDebate| positive|    positive|\n",
      "|                                       RT @mchamric: RT “@TeaTraitors: #GOPDebate was still Clown Show! I'm glad Head Clown Trump helping destroy GOP.| negative|    negative|\n",
      "|                       RT @erinmallorylong: No *I* hate Planned Parenthood and women more! NO I HATE PLANNED PARENTHOOD AND WOMEN MORE!!!!! #GOPDebate| negative|    negative|\n",
      "|                                                                                                 RT @thekevinryder: #GOPDebate (Vine by @dabulldawg88)|  neutral|    positive|\n",
      "|                        RT @MrPooni: Fox News trying to convince us young Black Americans are more worried about ISIS than police terrorism #GOPDebate| negative|    negative|\n",
      "|                            #GOPDebate rankings: worst to be performance - Rubio, Kasich, Christie, Bush, Trump, Cruz, Walker, Paul, Huckabee, Carson.| negative|    negative|\n",
      "|                                 RT @TheBaxterBean: Scott Walker's Abortion Ban Allows Rapist Father To Sue For Emotional Distress  #GOPDebate @Badger| negative|    negative|\n",
      "|           RT @feministabulous: It's not a competition, but how have we moved so far on gay rights but women's rights is worse than it's ever been? #G| negative|    negative|\n",
      "|                                        RT @mch7576: RT “@TeaTraitors: #GOPDebate was still Clown Show! I'm glad Head Clown Trump helping destroy GOP.| negative|    negative|\n",
      "|                                                   RT @HillaryClinton: Watch the #GOPdebate? Bet you feel like donating to a Democrat right about now.| negative|    positive|\n",
      "|                         @fbhw they're going to need to borrow the train horn for the next #GOPDebate ! The little bell was wimpy! #hornmeansyouredone| negative|    positive|\n",
      "|            RT @LisaVikingstad: Ted Cruz at the #GOPDebate will be like Ted Cruz in bed. He will keep a confusingly sad look on his face and refuse to| negative|    negative|\n",
      "|                                                                                                  The First #GOPDebate: Social Media Reaction and More|  neutral|    positive|\n",
      "|                                                                                    #SocialMedia: The First #GOPDebate: Social Media Reaction and More|  neutral|    positive|\n",
      "|                                                                            RT WinesdayPodcast : An update on FoxNews tech failures for the #GOPDebate| negative|    negative|\n",
      "|        RT @AmyMek: The Torched has been passed -&gt;.@CandyCrowley is no longer the most Famous Political Assassin! Congratulations @megynkelly, U Wi| negative|    negative|\n",
      "|                                                                                    RT @stockwizards3: Trump/Carson ticket would win in a landslide...| negative|    positive|\n",
      "|                                                                                                       \"RT @kvxrdashian: Jeb Bush: \"\"Obama is at fault| negative|    negative|\n",
      "|            RT @ali: After the Fox News #GOPDebate, we primary voters are none the wiser on the policy plans these folks are putting forth. Journalism| negative|    positive|\n",
      "|                                RT @itsashlyperez: listening to fetty wap while packing because i'm a true american #GOPDebate #doesthishashtagexpire?|  neutral|    positive|\n",
      "|                                            RT @mgell: Trump is a cross between the shrug emoji and President Business from the Lego movie. #GOPDebate| negative|    positive|\n",
      "|                                                                                      RT @JamelleMyBelle: Meanwhile, in the White House...  #GOPDebate| negative|    positive|\n",
      "|                                            RT @RowdyGentleman: If you’re planning out a #GOPDebate drinking game right now, you’re a Rowdy Gentleman.|  neutral|    positive|\n",
      "|                                                                                                       RT @brownblaze: PLEASE RT. #KKKorGOP #GOPDebate| negative|    negative|\n",
      "|                                                      \"Trump thinks criticism of his misogynistic remarks is a \"\"political correctness\"\" problem. Nope| negative|    negative|\n",
      "|                                                                                        RT @LeKarmaSucre: How the #GOPDebate handled #BlackLivesMatter| negative|    negative|\n",
      "|                 RT @palmaceiahome1: The goal of #FoxNews last night was to take out Trump and pave the way for a RINO like Bush or Kasich. #GOPDebate|  neutral|    negative|\n",
      "|                                 RT @philstockworld: From our Live Chat Room: #GOPDebate #Trump #Futures $SPY #NonFarmPayrolls #Jobs #Netflix --  http|  neutral|    negative|\n",
      "|          “@DanScavino: #GOPDebate w/ @realDonaldTrump delivered the highest ratings in the history of presidential debates. #Trump2016 Fox say thanks| positive|    positive|\n",
      "|        \"RT @gov: Most-Tweeted @GovMikeHuckabee #GOPDebate moment: saying purpose of military \"\"to kill people/break things\"\" re trans servicemembers\"| negative|    negative|\n",
      "|                                                                                               RT @ariannahuff: The best and worst from the #GOPDebate|  neutral|    positive|\n",
      "|           RT @megynkelly: .@ChrisStirewalt: Big moments were @RandPaul vs. @ChrisChristie, and @realDonaldTrump reaction to women question. #KellyFil| positive|    negative|\n",
      "|       RT @STYLEMOM: Here's a question, WHY in the hell are WOMEN &amp; our body parts even in this debate? Foh, stop it, it's not 1965 wtf #GOPDebate| negative|    negative|\n",
      "|           @rushlimbaugh Americans getting beheaded overseas and @megynkelly is worried whether @realDonaldTrump calls Rosie O'Donnell fat? #GOPDebate| negative|    negative|\n",
      "|                    RT @ChuckNellis: I won't defend @FoxNews, they were FAR from fair OR balanced last night, but name calling is juvenile. #GOPDebate| negative|    positive|\n",
      "|       \"RT @theskysgoneout: To non-Christians, #GOPDebate \"\"God\"\" questions underline how little anyone really cares about religious minorities. Chri\"| negative|    negative|\n",
      "|                                                                         RT @Bipartisanism: The #GOPDebate response to #BlackLivesMatter was pathetic.| negative|    negative|\n",
      "|           RT @factcheckdotorg: .@JebBush said he cut FL taxes by $19B. But that includes cuts in estate taxes mandated by federal law. #GOPDebate. ht| negative|    negative|\n",
      "|                                                                                                                        RT @mydaughtersarmy: Dear GOP,| negative|    positive|\n",
      "|                                                                                              RT @KarrattiPaul: Join ISIS and sign your death warrant,| positive|    positive|\n",
      "|                                                                                                             RT @P0TUS: #GOPDebate closing statements:| negative|    negative|\n",
      "|                                                                                                                          RT @AmyMek: Status 👉 Single| negative|     neutral|\n",
      "|                                                       RT @FrankLuntz: Before the #GOPDebate, 14 focus groupers said they had favorable view of Trump.| positive|    negative|\n",
      "|                                                                                       RT @_Holly_Renee: Just made my first donation to @CarlyFiorina.| positive|    positive|\n",
      "|                          RT @TheJimHughes: If we want to stop sending foreign aid to places that burn our flag can we start with Berkeley? #GOPDebate| negative|    positive|\n",
      "|                                                                         RT @frankthorpNBC: The Rand Paul eye roll to Chris Christie at the #GOPDebate|  neutral|    positive|\n",
      "|                                                         RT @JohnKasich: Scrap the President's Iran deal. Iran can’t get a nuke. #Kasich4Us #GOPDebate|  neutral|    negative|\n",
      "|          Trying to decide if it's too early to come back to Twitter fulltime. Was gonna wait closer to election but the #GOPDebate may have me hooked|  neutral|    negative|\n",
      "|                                                   RT @MsPackyetti: Donald Trump's campaign reveals 1 important thing: Twitter Trolls are real people.| positive|    positive|\n",
      "|                                                                                                        \"RT @Bipartisanism: Those saying \"\"don't worry| negative|    positive|\n",
      "|                                                        \"Fox News Had Its Own #GOPDebate Agenda: Promote Carly \"\"never mention fired from HP\"\" Fiorina| negative|    negative|\n",
      "|           RT @HlLLARY: Oh, one more thing. Did anyone hear anything about affordable child care for working families last night in the #GOPDebate ? I| negative|    positive|\n",
      "|                                                                       \"RT @NaughtyBeyotch: RT @AllenWestRepub \"\"Dear @JebBush #GOPDebate #NotAMistake| negative|    positive|\n",
      "|                                @marthamaccallum @billhemmer #gopdebate Bill and Martha were the A Team in the first debate. 2nd debate was an ambush.| positive|    positive|\n",
      "|                                       \"The Country's going to hell and Megyn Kelly on #FoxNews is attacking Trump for a \"\"war on women?\"\" #GOPDebate\"| negative|    positive|\n",
      "|                      RT @Franklin_Graham: 1st #GOPDebate--Encouraging to see several candidates express their faith in God and His Son, Jesus Christ.| positive|    positive|\n",
      "|           RT @SnarkyDemo: #DonaldTrump said he’s not “politically correct.”  Which, of course, is Trumpspeak for “Let’s face it, I’m huge asshole.” #| negative|    positive|\n",
      "|                                                                                            RT @Bipartisanism: A message to the #GOPDebate candidates:| negative|    positive|\n",
      "|                                                       RT @davidcicilline: This is the worst episode of The Apprentice that I've ever seen. #GOPDebate| negative|    negative|\n",
      "|                                                                                                     \"RT @GovMikeHuckabee: Luntz: \"\"As the lines go up|  neutral|    positive|\n",
      "|       \"RT @lolhayley: \"\"The purpose of the military is to kill people and break things.\"\" - something an actual man running for president just said \"| negative|    positive|\n",
      "|              Wondering if I could get the Republican Party to pay for my liver transplant after playing @mtaibbi #GOPDebate drinking game last night.| negative|    negative|\n",
      "|                                                                 RT @BrandonDHowell: Great way to start Friday. #CarlyFiorina @CarlyFiorina #GOPDebate| positive|    positive|\n",
      "|           RT @tedcruz: If elected, on my first day as President, I'll rescind every illegal and unconstitutional executive order enacted by Pres. Oba| positive|    negative|\n",
      "|                                                                                               RT @Ronnie2K: Donald Trump during #GOPDebate be like...|  neutral|    positive|\n",
      "|                       RT @bruneski: Was upstairs putting the kids to bed. How many questions about climate change did I miss? #GOPDebate #GOPClownCar|  neutral|    negative|\n",
      "|                                          They’re all Todd Akin now: How the Planned Parenthood sting backfired on Republicans #GOPDebate #StandwithPP| negative|    negative|\n",
      "|                  RT @learjetter: Hey @Foxnews let #REPUBLICANS digest #GOPDebate before allowing crazy @DWStweets to TRASH OUR #GOP! @LadySandersfarm| negative|    negative|\n",
      "|                                           RT @TheBaxterBean: Watch Donald Trump Receive Enormous Applause for Horribly Misogynistic #GOPDebate Answer| negative|    positive|\n",
      "|                                                                                 A few of my favorite #Twitter responses to the #GOPDebate last night:|  neutral|    positive|\n",
      "|                  Even though she's a super conservative reporter, I actually like Megyn Kelly's interview style &amp; she did great at the #GOPDebate| positive|    positive|\n",
      "|           RT @kingsthings: The #GOPdebate is not a debate at all. It's a series of 1 minute opportunities to avoid answering a question one candidate| negative|    positive|\n",
      "|                                                              RT @MelissaGracey: Credit for this joke goes to someone else but it is funny! #GOPDebate| positive|    positive|\n",
      "|                                 RT @Reince: Simply incredible.  Last night's #GOPDebate doubled the previous record for most-watched primary debate i| positive|    positive|\n",
      "|                       \"RT @KateThomas: This literally couldn't be more true for me. \"\"I Watched the #GOPDebate &amp; All I Got Was a Lousy Hangover\"\"| negative|    negative|\n",
      "|                                     RT @fl_dreamer: Haha a little saas from @voxdotcom this morning towards @realDonaldTrump. #FactChecked #GOPDebate| negative|    negative|\n",
      "|                                                                           \"RT @TexasCruzn: RT @AllenWestRepub \"\"Dear @JebBush #GOPDebate #NotAMistake|  neutral|    positive|\n",
      "|                                                                           RT @zellieimani: What people saw in person vs what we saw on tv. #GOPDebate| negative|    positive|\n",
      "|                                 RT @TheBaxterBean: Marco Rubio Told To His Face He's 'Candidate Of Yesterday' For His Anti-Gay Bigotry  #GOPDebate ht| negative|    negative|\n",
      "|           RT @carIisIe: None of them have made Trump look out of place or foolish yet. Think about that. When you're done crying, think about it agai| negative|    positive|\n",
      "|\"RT @akbarjenkins: Maybe the GOP just got Piven &amp; Cloward confused with Pinkard &amp; Bowden? \"\"She thinks I steal cars...\"\" @kevinbaker @Kevin...|  neutral|    negative|\n",
      "|                                                                                                   Had a great time watching the #GOPDebate last night| positive|    positive|\n",
      "|       \"RT @JRehling: #GOPDebate Donald Trump says that he doesn't have time for political correctness. How does calling women \"\"fat pigs\"\" save him \"| negative|    negative|\n",
      "|                       RT @theonlyadult: This is the @POTUS we have now. One of the people on TV now might be the next one. RIP everything. #GOPDebate| negative|    negative|\n",
      "|                      I think @realDonaldTrump was caught by surprise by that first question and was never able to recover his equilibrium. #GOPDebate|  neutral|    positive|\n",
      "|                                                 \"RT @kirahoffy: \"\"@FoxNews web stream and mobile app fail during #GOPDebate”  Why am I not surprised?| negative|    negative|\n",
      "|                                              RT @JohnKasich: John Kasich helped Ohioans create 350,000 new jobs. He can do it for America. #GOPDebate| positive|    positive|\n",
      "|                                             Please help the Maryknoll Sisters replace windows in their convent  #Catholic #gofundme #trcot #GOPDebate| positive|    positive|\n",
      "|                                       RT @CarlyFiorina: At #GOPDebate, I won over our largest audience yet. Can you chip in $3 to help us keep it up?|  neutral|    positive|\n",
      "|                                                      Trump just said @JebBush is a true gentleman &amp; then they started violently 69ing. #GOPDebate| negative|    positive|\n",
      "|                                                   RT @cameronesposito: Ugh will these guys ever shut up about how much they respect women? #GOPDebate| negative|    negative|\n",
      "|            RT @SnarkyDemo: What did the #GOPDebate teach us about a future President Trump?  America probably won’t be safe, except if we’re attacked| negative|    negative|\n",
      "|                                                                                     RT @congoboy: This is going to be a long, tiring election season.| negative|    positive|\n",
      "|                                                                        \"RT @AmyMek: \"\"God has blessed the Republican party with many great candidates|  neutral|    positive|\n",
      "|                                                             RT @JohnKasich: The miracle can happen to you. Grow opportunity and grow jobs. #GOPDebate|  neutral|    positive|\n",
      "|                                                                               RT @MattyIceAZ: Scott Walker can't even carry his own state. #GOPDebate| negative|    negative|\n",
      "|                                                 RT @XLNB: Black people, if you need anymore indication why Republicans hate us. Peep this. #GOPDebate| negative|    negative|\n",
      "|                 RT @Smethanie: Sure, God told me I should run, and the Tooth Fairy agreed and all the Teletubbies voted yes, so here I am. #GOPDebate| negative|    positive|\n",
      "|                                                             RT @palmaceiahome1: Trump should have told Megyn Kelly to go to HELL! #FoxNews #GOPDebate| negative|    negative|\n",
      "|                                  \"RT @palmaceiahome1: Caller on the Rush Limbaugh show:\"\"I have lost all respect for Fox News.\"\" #FoxNews #GOPDebate\"| negative|    negative|\n",
      "|                        \"RT @realDonaldTrump: \"\"@stinger_inc: @realDonaldTrump  @megynkelly's behaviour at the #GOPDebate was astonishingly biased.\"\"\"| negative|    positive|\n",
      "|                                  Republicans Debate Economics: Rubio Wins, Bush Falters, Huckabee Exaggerates  #GOPdebate #knowmorenotless @GPNAPLang| positive|    positive|\n",
      "|                                 RT @JamesViser: Huh. Half of Clinton's charity went to...the Clintons!  #copolitics #Hillary2016 #StopHillary #UniteB| negative|    positive|\n",
      "|                                                                                         \"RT @kraig4u: #GOPDebate  The order was to \"\"take out Trump\"\"| negative|    negative|\n",
      "|                                                                                             RT @DiegoUK: Democrats watching the #GOPDebate last night|  neutral|    positive|\n",
      "|      RT @AmyMek: We all owe @realDonaldTrump a huge thank you 4 exposing to the world👉@megynkelly, Chris Wallace, &amp; @FrankLuntz are true Rhinos!| negative|    positive|\n",
      "|                                 RT @TheBaxterBean: Scott Walker Lies: Says WI Budget Has $535M Surplus (Actually Has $1.76B Deficit)  #GOPDebate http| negative|    negative|\n",
      "|                                   You're right Last I heard @SenSanders was that only women could give birth to s child. Has that changed? #GOPDebate| positive|    negative|\n",
      "|                                \"RT @pattonoswalt: \"\"Have any of you received a word from God?\"\" = \"\"Are any of you soup-sandwich crazy?\"\" #GOPDebate\"|  neutral|    positive|\n",
      "|                  \"RT @FrankConniff: Fox News #GOPDebate interviewer to candidates: \"\"What's your take on these GOP talking points I'm feeding you?\"\"\"| negative|    positive|\n",
      "|                                           RT @LeslieMac: But the murder of black ppl is just fine- just not unborn black babies? #GOPLogic #GOPDebate| negative|    negative|\n",
      "|                                                                             RT @HillaryClinton: Missing Jon Stewart already. #GOPdebate #JonVoyage -H|  neutral|    negative|\n",
      "|                                                                            RT @CharlotteLaws: Chris Christie is really standing out at the #GOPdebate| positive|    negative|\n",
      "|       \"RT @libertyjibbet: Hey .@realDonaldTrump You know who didn't whine about \"\"unfair\"\" questions? @CarlyFiorina Grow a set why don't ya'. #GOPDe\"| positive|    positive|\n",
      "|                                                                               You can't be pro-life AND have watched that 2 hour abortion last night.| negative|    negative|\n",
      "|                                                                                                                         RT @DanScavino: .@MegynKelly,| negative|    positive|\n",
      "|                                                                RT @edstetzer: Btw... when you mix politics and religion, you get politics. #GOPDebate| negative|    positive|\n",
      "|                                                                          RT @TeamMarco: Marco nailed it on abortion. We must protect life. #GOPDebate| positive|    negative|\n",
      "|             @megynkelly @BretBaier @foxnews WTF was up with Chris Wallace attacking #Trump2016 on bankruptcy then giving Rubio a softball? #GOPDebate| negative|    negative|\n",
      "|                                                                              They obviously didn't get the memo about #SeersuckerThursday. #GOPDebate| negative|    negative|\n",
      "|                                                      RT @VH1: Honestly, Donald Trump you were ALL types of petty at last night's #GOPDebate 😒 --&gt;| negative|    negative|\n",
      "|           RT @TuxcedoCat: All Republican dopefuls who say they'll take US back to 2009 on 'Day One' will never see one day in White House! #GOPDebate| negative|    negative|\n",
      "|                              Trump gloating abt buying GOP+Dem pols &amp;them doing his bidding IS my 2000s Billionaire caricature MyaCash #GOPDebate| negative|    negative|\n",
      "|                                                                                                                              RT @peddoc63: Go Carly📢| positive|    positive|\n",
      "|                                                                                                        RT @Daenerys: Listening to the #GOPDebate like| negative|    positive|\n",
      "|                                RT @ScorpionsPriest: Best moment of the #GOPDebate last night: Rand telling Christie to go get another hug from Obama.| positive|    positive|\n",
      "|             RT @JohnFugelsang: If you missed either #GOPDebate all you need to know is there's no $ for struggling Americans and unlimited $ for war.| negative|    negative|\n",
      "|            RT @pfikac: .@JebBush 'We are on the verge of the greatest time to be alive in this world but Washington is holding us back' #mysa #txlege| negative|    positive|\n",
      "|                                                                                                                    RT @DrMartyFox: #Trump Wins Drudge| negative|    positive|\n",
      "|                                        \"RT @SiteROI: @GovernorPerry fights back against \"\"what will you do abt immigration\"\" Q. Says border is porous| positive|    negative|\n",
      "|                                                                                                       Summary is the #GOPDebate: Status quo shit show| negative|    negative|\n",
      "|                                                   RT @ThePatriot143: Debbie Blocks Tweeter Who Questioned Dem Debate Schedule   #GOPDebate @DWStweets| negative|    negative|\n",
      "|                RT @sallykohn: Hey look, it’s 10 men standing on a stage arguing why they should get to control women’s bodies and choices. #GOPDebate| negative|    negative|\n",
      "|                                 RT @TheBaxterBean: Rubio Budget Raises MiddleClass Taxes, Adds $4.5T Deficit, Cuts InvestmentTax To $0  #GOPDebate ht|  neutral|    negative|\n",
      "|           RT @ChrisJZullo: Last night at the #GOPdebate all I saw was a bunch of Rich and Old despots with ZERO solutions to our nations problems #un| negative|    negative|\n",
      "|                                                   RT @NancyOsborne180: #GOPDebate #BATsAsk @BadassTeachersA #TBATs Debate over We learned nothing new|  neutral|    negative|\n",
      "|                                                               RT @RFHKerry: If you think ANY of these people are qualified...unfollow me.  #GOPDebate| negative|    negative|\n",
      "|                                                          RT @Bipartisanism: Ben Carson spoke about science at the #GOPDebate and @neiltyson was like:|  neutral|    positive|\n",
      "|                                                  Who's the real illegal alien- #GOPDebate  Farrakhan on Immigration  the Mexican Bor...  via @YouTube| negative|    negative|\n",
      "|           #GOPDebate The talking heads put on the debate now the talking heads are telling us how the debates went. Maybe we wasted our time watching| negative|    negative|\n",
      "|                                                  RT @STEEL5757: 🎀 #DonaldTrump Plaza Casino #TeddyBear Plush in #Tuxedo 🎀  🎀 #CoolStuff #GOPDebate|  neutral|    positive|\n",
      "|                                                         #Trump is right about @megynkelly but really needs to study Matthew 7, verses 3-5. #GOPDebate| positive|    negative|\n",
      "|                                                     RT @AC360: It wasn’t all #DonaldTrump. The most memorable #GOPDebate moments right now on #AC360.|  neutral|    positive|\n",
      "|                                                                                                                             #GOPDebate in one picture|  neutral|    positive|\n",
      "|                                  \"RT @maureenjohnson: \"\"Where do you think women should sleep when they have The Curse? The shed? Or in an open field| negative|    positive|\n",
      "|                                                                                                      \"\"\"I think God's a pretty fair guy\"\" -Ben Carson| negative|    positive|\n",
      "|       \"RT @NancyLeeGrahn: The cheers from #GOPDebate  audience afterTrump defiantly named @Rosie as the woman he called \"\"Fat Pig\"\" were the voices \"| negative|    positive|\n",
      "|                                 #BlackLives don't matter, apparently, to Republican candidates for president   / or to @FoxNews #uniteblue #GOPDebate| negative|    negative|\n",
      "|                                                       Overall the main thing we learned from the #GOPDebate is that only straight, white, men matter.| negative|    positive|\n",
      "|          @USFree4life I thought @seanhannity had the best post #GOPDebate interviews of the night, gave them all a chance 2straighten their position.| positive|    positive|\n",
      "|                                                                   RT @JohnKasich: Hey @RealDonaldTrump, if you're still looking to chip in, check out| negative|    positive|\n",
      "|       \"@megynkelly @BretBaier #ChrisWallace, #America is criticizing UR PERFORMANCES during #GOPDebate b/c U did a REALLY bad job as \"\"moderators.\"\"\"| negative|    negative|\n",
      "|                                                                                                       \"“@GovMikeHuckabee: Luntz: \"\"As the lines go up| negative|    positive|\n",
      "|                          RT @oftenimprudent: I wish we could teach teenage girls to love themselves as much as Donald Trump loves himself. #GOPdebate| negative|    positive|\n",
      "|                                                                                             RT @AmyMek: Conservatives are a people without a Network!| negative|    positive|\n",
      "|               RT @BHowl_: How come there's no talk about climate change? Has anyone here even seen California right now? #GOPDebate #DebateWithBernie| negative|    negative|\n",
      "|                                                                  RT @travisconsidine: .@GovernorPerry #GOPDebate Performance Review-Reel:  #Perry2016|  neutral|    positive|\n",
      "|           RT @ChrisJZullo: Last night they could have have raised their hands. I'm a spoiled billionaire, I'm an oligarch, I'm a racist, I'm a religi| negative|    positive|\n",
      "|                                               #GOPDebate 2016 #teamdrbencarson @RealBenCarson  WOW! Brilliant, Cool, Calm &amp; Collected.#empowering| positive|    positive|\n",
      "|                                        RT @SooperMexican: Ted Cruz doesn't appreciate your emphatically sarcastic air quotes, megan kelly. #GOPDebate|  neutral|    positive|\n",
      "|           RT @BenJamminWalker: Under no circumstances should 10 men dictate abortion rights to women. It's the 21st Century, we are better than that.| negative|    negative|\n",
      "|                                                                                                                    RT @DanScavino: #GOPDebate Winner!| positive|    positive|\n",
      "|               \"RT @JoePrich: .@megynkelly  In 2012 you chided @CandyCrowley for \"\"going from objective moderator to active participant\"\" #GOPDebate \"| negative|    positive|\n",
      "|                             #GOPDebate @FoxNews @realDonaldTrump  in1996 you called @billclinton a two timing slut.  Do you stand by that statement!?| negative|    positive|\n",
      "|                                                                                                         RT @renomarky: ☑ never watch #KellyFile again| negative|    negative|\n",
      "|                                                                                                                                       IMHO #GOPDebate| positive|    positive|\n",
      "|                                             RT @JohnKasich: SMALLER GOVT: Ohio government payroll is smaller than it's been in 3 decades.  #GOPDebate| positive|    negative|\n",
      "|                                                          RT @zellieimani: Twitter Users Takeover #GOPDebate Hashtag to Drag GOP Candidates  #KKKorGOP|  neutral|    positive|\n",
      "|                                              \"RT @JebBush: \"\"Challenging the teacher's unions and beating them is the way to go.\"\" – Jeb  #GOPDebate\"| negative|    positive|\n",
      "|                                     RT @billyeichner: Thank you all for watching the #GOPDebate tonight. @julieklausner and I had a blast writing it.|  neutral|    positive|\n",
      "|                                                     @theblaze The REAL war on women!@realDonaldTrump @megynkelly @rushlimbaugh #GOPDebate @AnnCoulter| negative|    positive|\n",
      "|                                                    \"RT @GovernorPerry: .@GovernorPerry's \"\"On Fire\"\" Debate Performance  #GOPDebate #Perry2016 #tcot\"|  neutral|    positive|\n",
      "|                                                                                              RT @blowticious: Pro-life Republicans be like #GOPDebate|  neutral|    negative|\n",
      "|                                          RT @GovernorPerry: ICYMI: @GovernorPerry on Border Security/Illegal Immigration #GOPDebate  #Perry2016 #tcot|  neutral|    positive|\n",
      "|           RT @AllThingsFlynn: This Trump vs. Fox News conflict is quite the conundrum. It’s like the personification of Greed vs. Hate. Who do I root| negative|    positive|\n",
      "|                                                                                 RT @CarlyFiorina: I know how extraordinary this nation is. #GOPDebate| positive|    positive|\n",
      "|                                                                                           RT @LAXnOREOS: Meanwhile, in the White House...  #GOPDebate| negative|    positive|\n",
      "|                                              #rubio still my preference but i can see point of his critics over opportunism, inconsistency #gopdebate| positive|    negative|\n",
      "|                                Did @realDonaldTrump ever tell @megynkelly to go wait in the car? Her bad attitude suggests it. #WarOnWomen #GOPDebate| positive|    negative|\n",
      "|                                       \"RT @TheTexasPhoenix: He was on fire! .@GovernorPerry's \"\"On Fire\"\" Debate Performance:  #GOPDebate #Perry2016\"| positive|    negative|\n",
      "|                                                                                                       RT @Playing_Dad: Settling in for the #GOPDebate|  neutral|    positive|\n",
      "|      \"RT @realDonaldTrump: \"\"@FrankLuntz: I'm getting a lot of @MegynKelly hatemail tonight. 😆 #GOPDebate\"\" She is totally overrated and angry. She\"| negative|    positive|\n",
      "|                         \"This literally couldn't be more true for me. \"\"I Watched the #GOPDebate &amp; All I Got Was a Lousy Hangover\"\"  @robinmarty\"| negative|    negative|\n",
      "|                                                                             #JonVoyage was half as long as the #GOPDebate  but twice as intelligible.| negative|    positive|\n",
      "|                              RT @LisaBloom: Not a single question in last night's #GOPDebate about the most urgent issue of our time: climate change.| negative|    negative|\n",
      "|   \"#GOPDebate What was up with #FoxNews &amp; their \"\"gotcha\"\" questions? They seemed designed to elicit typical political \"\"spin\"\" responses. #tlot\"| negative|    negative|\n",
      "|                                        After the #GOPDebate all of the promises being made by startups at this tech conference seem quite reasonable.| positive|    positive|\n",
      "|                   RT @Roy___Rogers: @KnucklDraginSam @GOP @realDonaldTrump @yobynnad1127 AMEN! #Trump2016 #WakeUpAmerica #GOPDebate #tcot #stoprush .| negative|    positive|\n",
      "|           RT @CarlyFiorina: The highest calling of leadership is to challenge the status quo &amp; unlock potential in others. #GOPDebate. #Carly2016|  neutral|    positive|\n",
      "|                                                                                             RT @zzcrane: Me watching the Donald Trump bandwagon pass.| negative|    negative|\n",
      "|       \"RT @deray: Before the #GOPDebate began, didn't the moderators say that 8 million ppl were discussing \"\"racial issues\"\"? What happened to thos\"| negative|    negative|\n",
      "|            RT @feministabulous: There's nothing like listening to ten dudes who will never need an abortion, talk about whether I should have a right| negative|    negative|\n",
      "|           RT @SenWhitehouse: FOX silenced by Koch billions too? Not a single question at last night's #GOPDebate to #climatechange deniers about Mond| negative|    negative|\n",
      "|       RT @tyriquex: These republicans are rich, they don't care about the poverty of America &amp; they definitely don't care bout the poverty of bla| negative|    negative|\n",
      "|        So we just had an office chat about the #GOPDebate,  &amp; I was outed as both a flaming liberal and a politics geek. Probably not surprising.|  neutral|    positive|\n",
      "|  Catching up on my #GOPDebate @LindseyGrahamSC what a childish &amp; cheap move to call out @billclinton &amp; @HillaryClinton on a 17 year old story| negative|    positive|\n",
      "|                                                  RT @TomHall: The only thing that could've made last night's #GOPDebate more amusing would have been:|  neutral|    negative|\n",
      "|                                                                             RT @kesgardner: All Ted Cruz does is attack other Republicans. #GOPDebate| negative|    negative|\n",
      "|                                                 \"RT @GovernorPerry: ICYMI: Not just no, but \"\"hell no\"\" to the #IranDeal! #GOPDebate #Perry2016 #tcot| negative|    negative|\n",
      "|                                                                             RT @FrankConniff: Hard to say who won the #GOPDebate - Bernie or Hillary?|  neutral|    positive|\n",
      "|                            RT @larhunter: If Donald Trump wins the election, then we'll know we're on the Biff-stole-the-almanac timeline. #GOPDebate| negative|    positive|\n",
      "|                                                                RT @CarlyFiorina: Can you chip in $3 to keep the momentum going? #GOPdebate #Carly2016|  neutral|    positive|\n",
      "|           RT @cenkuygur: Chris Christie just said you have to work two more years before retiring.And that you'll get tens of thousands less you paid| negative|    negative|\n",
      "|                                                                                 RT @JohnKasich: John Kasich is ready to lead. Join the team, Claire!:| positive|    positive|\n",
      "|                                 RT @edwrather: The biggest losers in the debate were the Fox moderators who attacked instead of moderating #GOPDebate| negative|    negative|\n",
      "|           RT @WhitneyNeal: Trump has yet to give a single, evidence-based answer to a direct question about policy. That should frighten you. #GOPDeb| negative|    negative|\n",
      "|                                                       On my way to the studio -- about to appear on @CNN to discuss last night's #GOPDebate. Tune in!|  neutral|    positive|\n",
      "|                                           RT @Blkfeminst: I honestly think sometimes these guys forgot they came from wombs too. #KKKorGOP #GOPDebate| negative|    negative|\n",
      "|                           RT @GrnEyedMandy: Women who shame other women for having abortions deserve to be shamed for having no soul or self respect.| negative|    positive|\n",
      "|                                                                                                      RT @AmandaJoGomez: Me: *watches the #GOPDebate *|  neutral|    positive|\n",
      "|                                 RT @IcarusPundit: Donald Trump’s closing statement is every dinner conversation had at The Villages, ever. #GOPDebate| negative|    negative|\n",
      "|                                                                    \"RT @TheXclass: \"\"When the rich wage war it's the poor who die.\"\" Jean-Paul Sartre| negative|    positive|\n",
      "|                                                     At the #GOPDebate, we saw the candidates completely miss the mark on race &amp; #BlackLivesMatter| negative|    negative|\n",
      "|                  RT @SeaBassThePhish: S/O to the GOP for being proud of defeating teachers union even though they just wanted higher wages #GOPDebate| negative|    negative|\n",
      "|          RT @Writeintrump: Obama better not leave his prayer rug behind in the Oval Office when I get elected because I'll throw it out.   #GOPDebate|  neutral|    positive|\n",
      "|                                                                                                  @ChuckNellis @FoxNews You got that right! #GOPDebate| negative|    positive|\n",
      "|                                                RT @mrskimcam: Trump just said the U.S. is stupid, so let's vote him President. WTF people. #GOPDebate| negative|    negative|\n",
      "|                                            So excited for @johnkasich #GOPDebate #Kasich4Us #Republicandebate #kasich2016 been waiting for 20 years!!| positive|    positive|\n",
      "|          RT @ChadPergram: Rep Engel is 2nd major Jewish Democrat to announce opposition to Iran deal during #GOPDebate, following Schumer opposition.|  neutral|    positive|\n",
      "|                                                                          Hey look it's my feelings about Donald Trump summed up in one gif #GOPDebate| negative|    negative|\n",
      "|                                                         RT @tommychong: Are any of these dudes for the legalization of marijuana, or what? #GOPDebate|  neutral|    positive|\n",
      "|                                                                                                  RT @CBeresniova: What I learned from the #GOPDebate:|  neutral|    positive|\n",
      "|                                          RT @TheBaxterBean: Marco Rubio Briefly Backed Immigration Reform Then Privately Berated DREAMers  #GOPDebate| negative|    negative|\n",
      "|                                                                         RT @DamienFahey: “I french-kissed Jesus Christ!” - Every candidate #GOPDebate| negative|    positive|\n",
      "|                #GOPDebate #Closingstatements @GovMikeHuckabee just be honest. u were defs talking about @realDonaldTrump coz he's stealing ur schtick| negative|    positive|\n",
      "|                                      When cnn, msnbc ,and the new York times praise fox moderators then you know the moderators fucked up. #GOPDebate| negative|    negative|\n",
      "|                                                                                                        RT @kesgardner: Trump is a lunatic. #GOPDebate| negative|    positive|\n",
      "|                                                                                             Cruz has class &amp; truth, that gets my vote! #GOPDebate| positive|    positive|\n",
      "|                      RT @kesgardner: AssClown: I'm the only reason anyone is even talking about illegal immigration. Keep digging, Donald! #GOPDebate| negative|    negative|\n",
      "|                                                    RT @BernieSanders: Tom Hanks. Finally. Somebody who makes some sense. #GOPDebate #DebateWithBernie| positive|    positive|\n",
      "|                                                                         RT @SouthernHomo: Olivia Pope would not vote for any of these guys #GOPDebate| negative|    positive|\n",
      "|                        All #GOP candidates want to reduce taxes while #Huckabee wants to legalize prostitution and drugs so we can tax it. #GOPDebate| negative|    positive|\n",
      "|           RT @kesgardner: Hi Fox panel, can you just ask Donald every single question? Hand him a shovel while you're at it so he can keep digging. #| negative|    positive|\n",
      "|                                                                RT @JosephKapsch: And then hillaryclinton @barackobama joebiden were all... #GOPDebate|  neutral|    positive|\n",
      "|                                           #GOPDebate #Trump is Breaking Records! So what he's not a polished Politician. Makes me love him even more.| positive|    positive|\n",
      "|                                                                      RT @BernieSanders: Oh. It was just a movie trailer. #GOPDebate #DebateWithBernie| negative|     neutral|\n",
      "|        RT @TacticalDissent: So Sally Kohn &amp; Debbie Wasserman Schultz both  praising Megyn Kelly tonight. That should tell you everything you need| negative|    positive|\n",
      "|                                                                            Why are all the Trump accessory women wearing the same shoes?!  #GOPDebate| negative|    negative|\n",
      "|            funniest line coming fr #republican 'People are frustrated, they’re fed up, they don’t think the government’s working for them' #gopdebate|  neutral|    negative|\n",
      "|                                                                                   And Donald Trump is an absolute nut! So entertaining LOL #GOPDebate| negative|    positive|\n",
      "|                                                                                           \"\"\"@thehill: Top GOP pundits pick their #GOPdebate winners:| negative|    positive|\n",
      "|           RT @DykstraDame: Candidates went after @HillaryClinton 32 times in the #GOPdebate-but remained silent about the issues that affect us. http| negative|    negative|\n",
      "|           RT @DanScavino: .@MegynKelly trying 2show up @realDonaldTrump w @FoxNews. Trying 2take him down. Trying 2destroy him. Not happening. #Kelly| negative|    negative|\n",
      "|                    RT @gov: Most-Tweeted #GOPDebate moment for @RealBenCarson: saying he wouldn't publicize to the world his answer on waterboarding.| negative|    negative|\n",
      "|                                                           I give him a e for his big ego. #GOPDebate A's are earned for excellence. Rhymes with rump.| negative|    positive|\n",
      "|                                                                                                          Passion of the #GOPDebate #ReligiousUpaMovie| positive|    positive|\n",
      "|                                                                                                          \"RT @NRO: \"\"@marcorubio got the best reviews| positive|    positive|\n",
      "|                                                  RT @OhNoSheTwitnt: Can't wait to see which Lannister they kill off in the next episode of #GOPDebate|  neutral|    positive|\n",
      "|                   RT @kesgardner: Brutal question to the AssClown from Megan Kelly. The lesson here: be careful what you tweet on Twitter! #GOPDebate| positive|    negative|\n",
      "|                                                                                                        RT @TUSK81: Democrats watching this #GOPDebate|  neutral|    negative|\n",
      "|         Trump changed his mind on supporting PARTIAL BIRTH ABORTION because a friend changed their mind on aborting &amp; had a great kid. #GOPDebate| negative|    negative|\n",
      "|                                                                                                     Best closing statement: @RealBenCarson #GOPDebate| positive|    positive|\n",
      "|               RT @ChrisChristie: We have to stop worrying about being loved &amp; start worrying about being respected. #TellingItLikeItIs #GOPDebate| positive|    positive|\n",
      "|       \"RT @lesleyabravanel: Trump sycophants want to know what @megynkelly's \"\"hidden agenda\"\" was last night. Answer is simple: it's called a vagin\"| negative|    positive|\n",
      "|                                                                                            The Real #GOPDebate Winner: Republican Voters - Fox Nation|  neutral|    positive|\n",
      "|                                                                  Donald Trump is a really nasty piece of work. Hope he disappears quickly. #GOPDebate| negative|    negative|\n",
      "|                   RT @amaraconda: FETUSES ARE NOT UNBORN BABIES THEY ARE CLUSTERS OF CELLS STOP SHAMING PEOPLE WHO WANT/HAVE HAD ABORTIONS #GOPDebate| negative|    negative|\n",
      "|                                                       RT @mattkbh: These were far and away the best tweets of last night #DebateWithBernie #GOPDebate| positive|    negative|\n",
      "|                                                                 I know now who it is that #ChrisChristie reminds me of: actor Andy Devine. #GOPDebate|  neutral|    positive|\n",
      "|                          RT @pattonoswalt: Despite what Huckabee says, I always make sure my prostitute AND her pimp pay FICA and pension. #GOPDebate| negative|    negative|\n",
      "|                                                                                  RT @Bipartisanism: Hillary Clinton was watching the #GOPDebate like:|  neutral|    positive|\n",
      "|           @FoxNews did great by challenging the candidates in #GOPDebate. If these candidates can't handle a tough question they could never b #POTUS| positive|    negative|\n",
      "|                        RT @k_mcq: I’d say it was the opposite. Megan Kelly acted like some SJW on Tumblr whining about feminism. Very sad. #GOPDebate| negative|    negative|\n",
      "|                                                                                               RT @Conssista: Rightly so Frank. Rightly so. #GOPDebate| positive|    positive|\n",
      "|                                                                the number of times that ronald reagan is mentioned in the #GOPDebate is TOO DAMN HIGH| negative|    negative|\n",
      "|                                                                                                 \"RT @pattonoswalt: If Trump is against \"\"p.c. culture| negative|    negative|\n",
      "|                                   RT @carljacksonshow: #BenCarson great close! He operates on brains so he doesn't worry about skin color. #GOPDebate| positive|    positive|\n",
      "|                                             \"RT @Davante_R: Women that would be offended by Trumps \"\"Misogyny\"\" most certainly don't vote Republican.| negative|     neutral|\n",
      "|                                                                                              RT @Auntcol54: Keep religion out of politics! #GOPDebate| negative|    negative|\n",
      "|          \"RT @DianneG: \"\"I won't be bought &amp; I won't be sold\"\" @randpaul after reiterating his points against @realDonaldTrump during #gopdebate\"|  neutral|    negative|\n",
      "|                                            RT @wilw: Boy, I bet the mood in the clown car is going to be TENSE when these jerks leave the #GOPDebate.| negative|    negative|\n",
      "|                                    RT @CampeauElliot: Dr. Ben Carson did a great job tonight! Loved your closing statement! @RealBenCarson #GOPDebate| positive|    positive|\n",
      "|                             RT @RedheadAndRight: Meet the new darling of the left 》 Megyn Gotcha Kelly. #GOPDebate @FoxNews #DonaldTrump #MegynKelly|  neutral|    positive|\n",
      "|                                             “@foxnewspolitics: Behind the Fox debate: How the anchors hashed out the questions #GOPDebate They Failed| negative|    negative|\n",
      "|                                                              Did anyone get trashed playing @RollingStone's #GOPDebate drinking game?   #drinkinggame| negative|    negative|\n",
      "|                                                          If #DonaldTrump donates to U..He can call in a favor years later?? Sounds like #TheGodfather| negative|    positive|\n",
      "|                 RT @jediane9: Ugh to think there were actually people sitting on their couch last night saying YES YES THIS IS REASONABLE. #GOPDebate| negative|    negative|\n",
      "|                                                                        \"RT @BarracudaMama: RT @AllenWestRepub \"\"Dear @JebBush #GOPDebate #NotAMistake|  neutral|    positive|\n",
      "|                            RT @kesgardner: If politics can be even partially rational, Trump's campaign for the GOP nomination just ended. #GOPDebate| negative|    negative|\n",
      "|                                      \"RT @AndrewHClark: .@GayPatriot's takeaway from last night: \"\"America Doesn't Deserve Ben Carson.\"\"  #GOPDebate\"|  neutral|    negative|\n",
      "+------------------------------------------------------------------------------------------------------------------------------------------------------+---------+------------+\n",
      "only showing top 300 rows\n",
      "\n"
     ]
    }
   ],
   "source": [
    "match_df.show(300,truncate=150)"
   ]
  },
  {
   "cell_type": "code",
   "execution_count": 26,
   "metadata": {
    "ExecuteTime": {
     "end_time": "2020-08-06T22:21:51.461984Z",
     "start_time": "2020-08-06T22:21:51.445346Z"
    }
   },
   "outputs": [],
   "source": [
    "#match_df.filter(\"text is not null\").filter(match_df[\"text\"]!='').select('text').take(300)"
   ]
  },
  {
   "cell_type": "code",
   "execution_count": null,
   "metadata": {},
   "outputs": [],
   "source": []
  },
  {
   "cell_type": "code",
   "execution_count": 27,
   "metadata": {
    "ExecuteTime": {
     "end_time": "2020-08-06T22:22:50.274361Z",
     "start_time": "2020-08-06T22:21:51.462948Z"
    }
   },
   "outputs": [
    {
     "data": {
      "text/plain": [
       "5959"
      ]
     },
     "execution_count": 27,
     "metadata": {},
     "output_type": "execute_result"
    }
   ],
   "source": [
    "match_df.filter(F.col(\"sentiment\")==F.col(\"pr_sentiment\")).count()"
   ]
  },
  {
   "cell_type": "code",
   "execution_count": 28,
   "metadata": {
    "ExecuteTime": {
     "end_time": "2020-08-06T22:24:07.162566Z",
     "start_time": "2020-08-06T22:22:50.275930Z"
    }
   },
   "outputs": [
    {
     "data": {
      "text/plain": [
       "7904"
      ]
     },
     "execution_count": 28,
     "metadata": {},
     "output_type": "execute_result"
    }
   ],
   "source": [
    "match_df.filter(match_df[\"pr_sentiment\"]!=match_df[\"sentiment\"]).count()"
   ]
  },
  {
   "cell_type": "code",
   "execution_count": 29,
   "metadata": {
    "ExecuteTime": {
     "end_time": "2020-08-06T22:24:53.906742Z",
     "start_time": "2020-08-06T22:24:53.901288Z"
    }
   },
   "outputs": [
    {
     "data": {
      "text/plain": [
       "0.42984923898146143"
      ]
     },
     "execution_count": 29,
     "metadata": {},
     "output_type": "execute_result"
    }
   ],
   "source": [
    "5959/(5959+7904)"
   ]
  },
  {
   "cell_type": "markdown",
   "metadata": {},
   "source": [
    "### Second Dataset"
   ]
  },
  {
   "cell_type": "code",
   "execution_count": 100,
   "metadata": {
    "ExecuteTime": {
     "end_time": "2020-08-02T15:30:16.598868Z",
     "start_time": "2020-08-02T15:30:16.542842Z"
    }
   },
   "outputs": [],
   "source": [
    "spark_df1 = spark.read.csv('Tweets.csv',header=True)\n",
    "spark_df1 = spark_df1.select('text','airline_sentiment').filter(\"text is not null\")"
   ]
  },
  {
   "cell_type": "code",
   "execution_count": 101,
   "metadata": {
    "ExecuteTime": {
     "end_time": "2020-08-02T15:30:19.095283Z",
     "start_time": "2020-08-02T15:30:19.092685Z"
    }
   },
   "outputs": [],
   "source": [
    "spark_df1 = spark_df1.withColumnRenamed('airline_sentiment', 'sentiment')"
   ]
  },
  {
   "cell_type": "code",
   "execution_count": null,
   "metadata": {},
   "outputs": [],
   "source": []
  },
  {
   "cell_type": "code",
   "execution_count": 103,
   "metadata": {
    "ExecuteTime": {
     "end_time": "2020-08-02T15:30:33.564323Z",
     "start_time": "2020-08-02T15:30:33.541808Z"
    }
   },
   "outputs": [],
   "source": [
    "spark_df1 =  spark_df1.select(F.regexp_replace('text',\"\\w+:\\/{2}[\\d\\w\\-]+(\\.[\\d\\w\\-]+)*(?:(?:\\/[^\\s/]*))*\",\"\").alias('text'),'sentiment').filter(\"text is not null\")\\\n",
    "                .select(F.regexp_replace('text',\"http.{1,10}…\",\"\").alias('text'),'sentiment').select(F.regexp_replace('text',\"…\",\"\").alias('text'),'sentiment')"
   ]
  },
  {
   "cell_type": "code",
   "execution_count": 104,
   "metadata": {
    "ExecuteTime": {
     "end_time": "2020-08-02T15:30:36.121566Z",
     "start_time": "2020-08-02T15:30:36.084414Z"
    }
   },
   "outputs": [
    {
     "name": "stdout",
     "output_type": "stream",
     "text": [
      "+----------------------------------------------------------------------------------------------------------------------------------+---------+\n",
      "|text                                                                                                                              |sentiment|\n",
      "+----------------------------------------------------------------------------------------------------------------------------------+---------+\n",
      "|@VirginAmerica What @dhepburn said.                                                                                               |neutral  |\n",
      "|@VirginAmerica plus you've added commercials to the experience... tacky.                                                          |positive |\n",
      "|@VirginAmerica I didn't today... Must mean I need to take another trip!                                                           |neutral  |\n",
      "|\"@VirginAmerica it's really aggressive to blast obnoxious \"\"entertainment\"\" in your guests' faces &amp; they have little recourse\"|negative |\n",
      "|@VirginAmerica and it's a really big bad thing about it                                                                           |negative |\n",
      "|@VirginAmerica seriously would pay $30 a flight for seats that didn't have this playing.                                          |negative |\n",
      "|@VirginAmerica yes, nearly every time I fly VX this “ear worm” won’t go away :)                                                   |positive |\n",
      "|@VirginAmerica Really missed a prime opportunity for Men Without Hats parody, there.                                              |neutral  |\n",
      "|@virginamerica Well, I didn'tbut NOW I DO! :-D                                                                                    |positive |\n",
      "|@VirginAmerica it was amazing, and arrived an hour early. You're too good to me.                                                  |positive |\n",
      "+----------------------------------------------------------------------------------------------------------------------------------+---------+\n",
      "only showing top 10 rows\n",
      "\n"
     ]
    }
   ],
   "source": [
    "spark_df1.show(10,truncate=False)"
   ]
  },
  {
   "cell_type": "code",
   "execution_count": 106,
   "metadata": {
    "ExecuteTime": {
     "end_time": "2020-08-02T15:31:07.514435Z",
     "start_time": "2020-08-02T15:31:07.505175Z"
    }
   },
   "outputs": [],
   "source": [
    "spark_df1 = spark_df1.select(F.regexp_replace('text',\"RT\\s.*\\:\\s\",\"\").alias('text'),'sentiment').filter(\"text is not null\")\n",
    "                \n"
   ]
  },
  {
   "cell_type": "code",
   "execution_count": 107,
   "metadata": {
    "ExecuteTime": {
     "end_time": "2020-08-02T15:31:09.848498Z",
     "start_time": "2020-08-02T15:31:09.798740Z"
    }
   },
   "outputs": [
    {
     "name": "stdout",
     "output_type": "stream",
     "text": [
      "+--------------------+---------+\n",
      "|                text|sentiment|\n",
      "+--------------------+---------+\n",
      "|@VirginAmerica Wh...|  neutral|\n",
      "|@VirginAmerica pl...| positive|\n",
      "|@VirginAmerica I ...|  neutral|\n",
      "|\"@VirginAmerica i...| negative|\n",
      "|@VirginAmerica an...| negative|\n",
      "|@VirginAmerica se...| negative|\n",
      "|@VirginAmerica ye...| positive|\n",
      "|@VirginAmerica Re...|  neutral|\n",
      "|@virginamerica We...| positive|\n",
      "|@VirginAmerica it...| positive|\n",
      "|@VirginAmerica di...|  neutral|\n",
      "|@VirginAmerica I ...| positive|\n",
      "|@VirginAmerica Th...| positive|\n",
      "|@VirginAmerica @v...| positive|\n",
      "|@VirginAmerica Th...| positive|\n",
      "|@VirginAmerica SF...| negative|\n",
      "|@VirginAmerica So...| positive|\n",
      "|@VirginAmerica  I...| negative|\n",
      "|I ❤️ flying @Virg...| positive|\n",
      "|@VirginAmerica yo...| positive|\n",
      "+--------------------+---------+\n",
      "only showing top 20 rows\n",
      "\n"
     ]
    }
   ],
   "source": [
    "spark_df1.show()"
   ]
  },
  {
   "cell_type": "code",
   "execution_count": 108,
   "metadata": {
    "ExecuteTime": {
     "end_time": "2020-08-02T15:31:11.526170Z",
     "start_time": "2020-08-02T15:31:11.524250Z"
    }
   },
   "outputs": [],
   "source": [
    "MODEL_NAME='sentimentdl_use_twitter'"
   ]
  },
  {
   "cell_type": "code",
   "execution_count": 109,
   "metadata": {
    "ExecuteTime": {
     "end_time": "2020-08-02T15:31:17.531759Z",
     "start_time": "2020-08-02T15:31:11.931954Z"
    }
   },
   "outputs": [
    {
     "name": "stdout",
     "output_type": "stream",
     "text": [
      "tfhub_use download started this may take some time.\n",
      "Approximate size to download 923.7 MB\n",
      "[OK!]\n",
      "sentimentdl_use_twitter download started this may take some time.\n",
      "Approximate size to download 11.9 MB\n",
      "[OK!]\n"
     ]
    }
   ],
   "source": [
    "documentAssembler = DocumentAssembler()\\\n",
    "    .setInputCol(\"text\")\\\n",
    "    .setOutputCol(\"document\")\n",
    "\n",
    "\n",
    "\n",
    "use = UniversalSentenceEncoder.pretrained(name=\"tfhub_use\", lang=\"en\")\\\n",
    " .setInputCols([\"document\"])\\\n",
    " .setOutputCol(\"sentence_embeddings\")\n",
    "\n",
    "\n",
    "sentimentdl = SentimentDLModel.pretrained(name=MODEL_NAME, lang=\"en\")\\\n",
    "    .setInputCols([\"sentence_embeddings\"])\\\n",
    "    .setOutputCol(\"pr_sentiment\")\n",
    "\n",
    "nlpPipeline = Pipeline(\n",
    "      stages = [\n",
    "          documentAssembler,\n",
    "          use,\n",
    "          sentimentdl\n",
    "      ])\n"
   ]
  },
  {
   "cell_type": "code",
   "execution_count": 110,
   "metadata": {
    "ExecuteTime": {
     "end_time": "2020-08-02T15:31:18.507854Z",
     "start_time": "2020-08-02T15:31:18.495080Z"
    }
   },
   "outputs": [],
   "source": [
    "empty_df = spark.createDataFrame([['']]).toDF(\"text\")\n",
    "\n",
    "pipelineModel = nlpPipeline.fit(empty_df)\n",
    "\n"
   ]
  },
  {
   "cell_type": "code",
   "execution_count": 111,
   "metadata": {
    "ExecuteTime": {
     "end_time": "2020-08-02T15:31:19.996908Z",
     "start_time": "2020-08-02T15:31:19.966317Z"
    }
   },
   "outputs": [],
   "source": [
    "#df = spark.createDataFrame(pd.DataFrame({\"text\":text_list}))\n",
    "result3 = pipelineModel.transform(spark_df1)"
   ]
  },
  {
   "cell_type": "code",
   "execution_count": 112,
   "metadata": {
    "ExecuteTime": {
     "end_time": "2020-08-02T15:31:21.141135Z",
     "start_time": "2020-08-02T15:31:21.131727Z"
    }
   },
   "outputs": [],
   "source": [
    "result3=result3.withColumnRenamed('airline_sentiment','sentiment')"
   ]
  },
  {
   "cell_type": "code",
   "execution_count": 113,
   "metadata": {
    "ExecuteTime": {
     "end_time": "2020-08-02T15:31:23.141944Z",
     "start_time": "2020-08-02T15:31:22.974179Z"
    }
   },
   "outputs": [
    {
     "name": "stdout",
     "output_type": "stream",
     "text": [
      "+--------------------+---------+--------------------+--------------------+--------------------+\n",
      "|                text|sentiment|            document| sentence_embeddings|        pr_sentiment|\n",
      "+--------------------+---------+--------------------+--------------------+--------------------+\n",
      "|@VirginAmerica Wh...|  neutral|[[document, 0, 34...|[[sentence_embedd...|[[category, 0, 34...|\n",
      "|@VirginAmerica pl...| positive|[[document, 0, 71...|[[sentence_embedd...|[[category, 0, 71...|\n",
      "|@VirginAmerica I ...|  neutral|[[document, 0, 70...|[[sentence_embedd...|[[category, 0, 70...|\n",
      "|\"@VirginAmerica i...| negative|[[document, 0, 12...|[[sentence_embedd...|[[category, 0, 12...|\n",
      "|@VirginAmerica an...| negative|[[document, 0, 54...|[[sentence_embedd...|[[category, 0, 54...|\n",
      "|@VirginAmerica se...| negative|[[document, 0, 87...|[[sentence_embedd...|[[category, 0, 87...|\n",
      "|@VirginAmerica ye...| positive|[[document, 0, 78...|[[sentence_embedd...|[[category, 0, 78...|\n",
      "|@VirginAmerica Re...|  neutral|[[document, 0, 84...|[[sentence_embedd...|[[category, 0, 84...|\n",
      "|@virginamerica We...| positive|[[document, 0, 45...|[[sentence_embedd...|[[category, 0, 45...|\n",
      "|@VirginAmerica it...| positive|[[document, 0, 79...|[[sentence_embedd...|[[category, 0, 79...|\n",
      "|@VirginAmerica di...|  neutral|[[document, 0, 94...|[[sentence_embedd...|[[category, 0, 94...|\n",
      "|@VirginAmerica I ...| positive|[[document, 0, 82...|[[sentence_embedd...|[[category, 0, 82...|\n",
      "|@VirginAmerica Th...| positive|[[document, 0, 13...|[[sentence_embedd...|[[category, 0, 13...|\n",
      "|@VirginAmerica @v...| positive|[[document, 0, 11...|[[sentence_embedd...|[[category, 0, 11...|\n",
      "|@VirginAmerica Th...| positive|[[document, 0, 21...|[[sentence_embedd...|[[category, 0, 21...|\n",
      "|@VirginAmerica SF...| negative|[[document, 0, 44...|[[sentence_embedd...|[[category, 0, 44...|\n",
      "|@VirginAmerica So...| positive|[[document, 0, 13...|[[sentence_embedd...|[[category, 0, 13...|\n",
      "|@VirginAmerica  I...| negative|[[document, 0, 13...|[[sentence_embedd...|[[category, 0, 13...|\n",
      "|I ❤️ flying @Virg...| positive|[[document, 0, 31...|[[sentence_embedd...|[[category, 0, 31...|\n",
      "|@VirginAmerica yo...| positive|[[document, 0, 10...|[[sentence_embedd...|[[category, 0, 10...|\n",
      "+--------------------+---------+--------------------+--------------------+--------------------+\n",
      "only showing top 20 rows\n",
      "\n"
     ]
    }
   ],
   "source": [
    "result3.show()"
   ]
  },
  {
   "cell_type": "code",
   "execution_count": 114,
   "metadata": {
    "ExecuteTime": {
     "end_time": "2020-08-02T15:31:26.567082Z",
     "start_time": "2020-08-02T15:31:26.528909Z"
    },
    "scrolled": false
   },
   "outputs": [],
   "source": [
    "result4=result3.select(F.explode(F.arrays_zip('document.result', 'pr_sentiment.result')).alias(\"cols\"),'sentiment').filter(\"pr_sentiment is not null\").filter(\"document.result is not null\").filter(\"pr_sentiment.result is not null\") \\\n",
    ".select(F.expr(\"cols['0']\").alias(\"document\"),\n",
    "        F.expr(\"cols['1']\").alias(\"pr_sentiment\"),'sentiment')"
   ]
  },
  {
   "cell_type": "code",
   "execution_count": 115,
   "metadata": {
    "ExecuteTime": {
     "end_time": "2020-08-02T15:31:29.329615Z",
     "start_time": "2020-08-02T15:31:28.687127Z"
    },
    "scrolled": false
   },
   "outputs": [
    {
     "name": "stdout",
     "output_type": "stream",
     "text": [
      "+-------------------------------------------------------------------------------------------------------------------------------------------------------------+------------+---------+\n",
      "|document                                                                                                                                                     |pr_sentiment|sentiment|\n",
      "+-------------------------------------------------------------------------------------------------------------------------------------------------------------+------------+---------+\n",
      "|@VirginAmerica What @dhepburn said.                                                                                                                          |positive    |neutral  |\n",
      "|@VirginAmerica plus you've added commercials to the experience... tacky.                                                                                     |positive    |positive |\n",
      "|@VirginAmerica I didn't today... Must mean I need to take another trip!                                                                                      |negative    |neutral  |\n",
      "|\"@VirginAmerica it's really aggressive to blast obnoxious \"\"entertainment\"\" in your guests' faces &amp; they have little recourse\"                           |positive    |negative |\n",
      "|@VirginAmerica and it's a really big bad thing about it                                                                                                      |positive    |negative |\n",
      "|@VirginAmerica seriously would pay $30 a flight for seats that didn't have this playing.                                                                     |negative    |negative |\n",
      "|@VirginAmerica yes, nearly every time I fly VX this “ear worm” won’t go away :)                                                                              |negative    |positive |\n",
      "|@VirginAmerica Really missed a prime opportunity for Men Without Hats parody, there.                                                                         |negative    |neutral  |\n",
      "|@virginamerica Well, I didn'tbut NOW I DO! :-D                                                                                                               |positive    |positive |\n",
      "|@VirginAmerica it was amazing, and arrived an hour early. You're too good to me.                                                                             |positive    |positive |\n",
      "|@VirginAmerica did you know that suicide is the second leading cause of death among teens 10-24                                                              |positive    |neutral  |\n",
      "|@VirginAmerica I &lt;3 pretty graphics. so much better than minimal iconography. :D                                                                          |positive    |positive |\n",
      "|@VirginAmerica This is such a great deal! Already thinking about my 2nd trip to @Australia &amp; I haven't even gone on my 1st trip yet! ;p                  |negative    |positive |\n",
      "|@VirginAmerica @virginmedia I'm flying your #fabulous #Seductive skies again! U take all the #stress away from travel                                        |positive    |positive |\n",
      "|@VirginAmerica Thanks!                                                                                                                                       |positive    |positive |\n",
      "|@VirginAmerica SFO-PDX schedule is still MIA.                                                                                                                |negative    |negative |\n",
      "|@VirginAmerica So excited for my first cross country flight LAX to MCO I've heard nothing but great things about Virgin America. #29DaysToGo                 |positive    |positive |\n",
      "|@VirginAmerica  I flew from NYC to SFO last week and couldn't fully sit in my seat due to two large gentleman on either side of me. HELP!                    |negative    |negative |\n",
      "|I ❤️ flying @VirginAmerica. ☺️👍                                                                                                                             |positive    |positive |\n",
      "|@VirginAmerica you know what would be amazingly awesome? BOS-FLL PLEASE!!!!!!! I want to fly with only you.                                                  |positive    |positive |\n",
      "|@VirginAmerica why are your first fares in May over three times more than other carriers when all seats are available to select???                           |negative    |negative |\n",
      "|@VirginAmerica I love this graphic.                                                                                                                          |positive    |positive |\n",
      "|@VirginAmerica I love the hipster innovation. You are a feel good brand.                                                                                     |positive    |positive |\n",
      "|@VirginAmerica will you be making BOS&gt;LAS non stop permanently anytime soon?                                                                              |positive    |neutral  |\n",
      "|@VirginAmerica you guys messed up my seating.. I reserved seating with my friends and you guys gave my seat away ... 😡 I want free internet                 |negative    |negative |\n",
      "|@VirginAmerica status match program.  I applied and it's been three weeks.  Called and emailed with no response.                                             |negative    |negative |\n",
      "|@VirginAmerica What happened 2 ur vegan food options?! At least say on ur site so i know I won't be able 2 eat anything for next 6 hrs #fail                 |positive    |negative |\n",
      "|@VirginAmerica do you miss me? Don't worry we'll be together very soon.                                                                                      |negative    |neutral  |\n",
      "|@VirginAmerica amazing to me that we can't get any cold air from the vents. #VX358 #noair #worstflightever #roasted #SFOtoBOS                                |negative    |negative |\n",
      "|@VirginAmerica LAX to EWR - Middle seat on a red eye. Such a noob maneuver. #sendambien #andchexmix                                                          |positive    |neutral  |\n",
      "|@VirginAmerica hi! I just bked a cool birthday trip with you, but i can't add my elevate no. cause i entered my middle name during Flight Booking Problems 😢|negative    |negative |\n",
      "|@VirginAmerica Are the hours of operation for the Club at SFO that are posted online current?                                                                |negative    |neutral  |\n",
      "|@VirginAmerica help, left expensive headphones on flight 89 IAD to LAX today. Seat 2A. No one answering L&amp;F number at LAX!                               |negative    |negative |\n",
      "|@VirginAmerica awaiting my return phone call, just would prefer to use your online self-service option :(                                                    |negative    |negative |\n",
      "|@VirginAmerica this is great news!  America could start flights to Hawaii by end of year  via @Pacificbiznews                                                |positive    |positive |\n",
      "|Nice Vibe with the moodlight from takeoff to touchdown. #MoodlitMonday #ScienceBehindTheExperience                                                           |positive    |neutral  |\n",
      "|@VirginAmerica Moodlighting is the only way to fly! Best experience EVER! Cool and calming. 💜✈ #MoodlitMonday                                               |positive    |positive |\n",
      "|@VirginAmerica @freddieawards Done and done! Best airline around, hands down!                                                                                |positive    |positive |\n",
      "|@VirginAmerica when can I book my flight to Hawaii??                                                                                                         |positive    |neutral  |\n",
      "|@VirginAmerica Your chat support is not working on your site:                                                                                                |negative    |negative |\n",
      "|@VirginAmerica View of downtown Los Angeles, the Hollywood Sign, and beyond that rain in the mountains!                                                      |negative    |positive |\n",
      "|@VirginAmerica Hey, first time flyer next week - excited! But I'm having a hard time getting my flights added to my Elevate account. Help?                   |positive    |negative |\n",
      "|@VirginAmerica plz help me win my bid upgrade for my flight 2/27 LAX---&gt;SEA!!!  🍷👍💺✈️                                                                  |negative    |neutral  |\n",
      "|@VirginAmerica I have an unused ticket but moved to a new city where you don't fly. How can I fly with you before it expires? #travelhelp                    |negative    |neutral  |\n",
      "|@VirginAmerica are flights leaving Dallas for Seattle on time Feb 24?                                                                                        |negative    |neutral  |\n",
      "|@VirginAmerica I'm #elevategold for a good reason: you rock!!                                                                                                |positive    |positive |\n",
      "|@VirginAmerica  DREAM                                                                                                                                        |negative    |neutral  |\n",
      "|@VirginAmerica wow this just blew my mind                                                                                                                    |positive    |positive |\n",
      "|@VirginAmerica @ladygaga @carrieunderwood After last night #tribute #SoundOfMusic #Oscars2015 @ladygaga! I think @carrieunderwood agree                      |positive    |neutral  |\n",
      "|@VirginAmerica @ladygaga @carrieunderwood All were entertaining                                                                                              |positive    |neutral  |\n",
      "|\"@VirginAmerica Is flight 769 on it's way? Was supposed to take off 30 minutes ago. Website still shows \"\"On Time\"\" not \"\"In Flight\"\". Thanks.\"              |negative    |neutral  |\n",
      "|@VirginAmerica @ladygaga @carrieunderwood Julie Andrews all the way though @ladygaga was very impressive! NO to @Carrieunderwood                             |positive    |positive |\n",
      "|@VirginAmerica wish you flew out of Atlanta... Soon?                                                                                                         |negative    |neutral  |\n",
      "|@VirginAmerica @ladygaga @carrieunderwood Julie Andrews. Hands down.                                                                                         |positive    |neutral  |\n",
      "|@VirginAmerica Will flights be leaving Dallas for LA on February 24th?                                                                                       |negative    |neutral  |\n",
      "|@VirginAmerica hi! i'm so excited about your $99 LGA-&gt;DAL deal- but i've been trying 2 book since last week &amp; the page never loads. thx!              |negative    |negative |\n",
      "|@VirginAmerica you know it. Need it on my spotify stat #guiltypleasures                                                                                      |positive    |positive |\n",
      "|@VirginAmerica @ladygaga @carrieunderwood  I'm Lady Gaga!!! She is amazing! 😊                                                                               |positive    |positive |\n",
      "|@VirginAmerica @ladygaga @carrieunderwood - Carrie!                                                                                                          |positive    |neutral  |\n",
      "|@VirginAmerica New marketing song?  let us know what you think?                                                                                              |positive    |neutral  |\n",
      "|@VirginAmerica @ladygaga @carrieunderwood Julie Andrews first but Lady Gaga wow'd me last night. Carrie? Meh.                                                |neutral     |neutral  |\n",
      "|@VirginAmerica I called a 3-4 weeks ago about adding 3 flights from 2014 to my Elevate...they still haven't shown up...help!                                 |negative    |negative |\n",
      "|@VirginAmerica @ladygaga @carrieunderwood all are great , but I have to go with #CarrieUnderwood 😍👌                                                        |positive    |neutral  |\n",
      "|@VirginAmerica @LadyGaga @CarrieUnderwood Sorry, Mary Martin had it first!                                                                                   |positive    |neutral  |\n",
      "|@VirginAmerica @ladygaga @carrieunderwood  love all three but you really can't beat the classics!                                                            |positive    |positive |\n",
      "|@VirginAmerica Flight 0736 DAL to DCA 2/24 2:10pm. Tried to check in could not. Status please.                                                               |negative    |neutral  |\n",
      "|@VirginAmerica heyyyy guyyyys.. been trying to get through for an hour. can someone call me please? :/                                                       |negative    |negative |\n",
      "|@VirginAmerica Hi, Virgin! I'm on hold for 40-50 minutes -- are there any earlier flights from LA to NYC tonight; earlier than 11:50pm?                      |negative    |negative |\n",
      "|@VirginAmerica Congrats on winning the @Travelzoo award for Best Deals from an Airline (US)                                                                  |positive    |positive |\n",
      "|@VirginAmerica everything was fine until you lost my bag                                                                                                     |negative    |negative |\n",
      "|@virginamerica Need to change reservation. Have Virgin credit card. Do I need to modify on phone to waive change fee? Or can I do online?                    |negative    |neutral  |\n",
      "|@VirginAmerica I emailed your customer service team. Let me know if you need the tracking number.                                                            |negative    |neutral  |\n",
      "|@VirginAmerica hi I just booked a flight but need to add baggage, how can I do this?                                                                         |negative    |neutral  |\n",
      "|@VirginAmerica your airline is awesome but your lax loft needs to step up its game. $40 for dirty tables and floors?                                         |negative    |negative |\n",
      "|@VirginAmerica not worried, it's been a great ride in a new plane with great crew. All airlines should be like this.                                         |negative    |positive |\n",
      "|@VirginAmerica awesome. I flew yall Sat morning. Any way we can correct my bill ?                                                                            |positive    |positive |\n",
      "|@VirginAmerica Or watch some of the best student films in the country at 35,000 feet! #CMFat35000feet                                                        |positive    |neutral  |\n",
      "|@VirginAmerica first time flying you all. do you have a different rate/policy for media Bags? Thanks                                                         |positive    |neutral  |\n",
      "|@VirginAmerica what is going on with customer service? Is there anyway to speak to a human asap? Thank you.                                                  |negative    |negative |\n",
      "|@VirginAmerica what happened to Doom?!                                                                                                                       |negative    |neutral  |\n",
      "|@VirginAmerica why can't you supp the biz traveler like @SouthwestAir  and have customer service like @JetBlue #neverflyvirginforbusiness                    |negative    |negative |\n",
      "|@VirginAmerica I've applied more then once to be a member of the #inflight crew team...Im 100% interested. #flightattendant #dreampath -G                    |positive    |positive |\n",
      "|@VirginAmerica you're the best!! Whenever I (begrudgingly) use any other airline I'm delayed and Late Flight :(                                              |positive    |negative |\n",
      "|@VirginAmerica I have no interesting flying with you after this. I will Cancelled Flight my next four flights I planned.#neverflyvirginforbusiness           |negative    |negative |\n",
      "|@VirginAmerica it was a disappointing experience which will be shared with every business traveler I meet. #neverflyvirgin                                   |positive    |negative |\n",
      "|@VirginAmerica I’m having trouble adding this flight my wife booked to my Elevate account. Help?                                                             |negative    |negative |\n",
      "|@VirginAmerica Can't bring up my reservation online using Flight Booking Problems code                                                                       |negative    |neutral  |\n",
      "|@VirginAmerica Random Q: what's the distribution of elevate avatars? I bet that kitty has a disproportionate share                                           |positive    |neutral  |\n",
      "|@VirginAmerica I &lt;3 Flying VA But Life happens and I am trying to #change my trip JPERHI  Can you help.VA home page will not let me ?                     |negative    |neutral  |\n",
      "|@VirginAmerica Why is the site down?  When will it be back up?                                                                                               |negative    |negative |\n",
      "|\"@VirginAmerica \"\"You down with RNP?\"\" \"\"Yeah you know me!\"\"\"                                                                                                |positive    |neutral  |\n",
      "|@VirginAmerica hi, i did not get points on my elevate account for my most recent flight, how do i add the flight and points to my account?                   |negative    |neutral  |\n",
      "|@VirginAmerica I like the TV and interesting video . Just disappointed in Cancelled Flightled flight when other flights went out to jfk on Saturday .        |negative    |negative |\n",
      "|@VirginAmerica just landed in LAX, an hour after I should of been here. Your no Late Flight bag check is not business travel friendly #nomorevirgin          |negative    |negative |\n",
      "|@VirginAmerica why is flight 345 redirected?                                                                                                                 |negative    |neutral  |\n",
      "|@VirginAmerica Is it me, or is your website down?  BTW, your new website isn't a great user experience.  Time for another redesign.                          |negative    |negative |\n",
      "|@VirginAmerica I can't check in or add a bag. Your website isn't working. I've tried both desktop and mobile                                                 |negative    |negative |\n",
      "|@VirginAmerica - Let 2 scanned in passengers leave the plane than told someone to remove their bag from 1st class bin? #uncomfortable                        |negative    |negative |\n",
      "|@virginamerica What is your phone number. I can't find who to call about a flight reservation.                                                               |negative    |negative |\n",
      "|@VirginAmerica is anyone doing anything there today?  Website is useless and no one is answering the phone.                                                  |negative    |negative |\n",
      "+-------------------------------------------------------------------------------------------------------------------------------------------------------------+------------+---------+\n",
      "only showing top 100 rows\n",
      "\n"
     ]
    }
   ],
   "source": [
    "result4.show(100,truncate=False)"
   ]
  },
  {
   "cell_type": "code",
   "execution_count": 281,
   "metadata": {
    "ExecuteTime": {
     "end_time": "2020-08-02T01:05:33.498051Z",
     "start_time": "2020-08-02T01:05:33.483019Z"
    }
   },
   "outputs": [],
   "source": [
    "#result4=result4.withColumn('sentiment', F.lower(F.col('sentiment')))"
   ]
  },
  {
   "cell_type": "code",
   "execution_count": 297,
   "metadata": {
    "ExecuteTime": {
     "end_time": "2020-08-02T01:31:33.223609Z",
     "start_time": "2020-08-02T01:28:50.922143Z"
    },
    "scrolled": false
   },
   "outputs": [
    {
     "data": {
      "text/plain": [
       "9560"
      ]
     },
     "execution_count": 297,
     "metadata": {},
     "output_type": "execute_result"
    }
   ],
   "source": [
    "result4.filter(result4[\"pr_sentiment\"]==result4[\"sentiment\"]).count()"
   ]
  },
  {
   "cell_type": "code",
   "execution_count": 298,
   "metadata": {
    "ExecuteTime": {
     "end_time": "2020-08-02T01:36:10.100588Z",
     "start_time": "2020-08-02T01:31:33.224524Z"
    }
   },
   "outputs": [
    {
     "data": {
      "text/plain": [
       "5072"
      ]
     },
     "execution_count": 298,
     "metadata": {},
     "output_type": "execute_result"
    }
   ],
   "source": [
    "result4.filter(result4[\"pr_sentiment\"]!=result4[\"sentiment\"]).count()"
   ]
  },
  {
   "cell_type": "code",
   "execution_count": 299,
   "metadata": {
    "ExecuteTime": {
     "end_time": "2020-08-02T01:36:44.146302Z",
     "start_time": "2020-08-02T01:36:44.143606Z"
    }
   },
   "outputs": [
    {
     "data": {
      "text/plain": [
       "0.6533624931656643"
      ]
     },
     "execution_count": 299,
     "metadata": {},
     "output_type": "execute_result"
    }
   ],
   "source": [
    "9560/(9560+5072)"
   ]
  },
  {
   "cell_type": "code",
   "execution_count": 213,
   "metadata": {
    "ExecuteTime": {
     "end_time": "2020-08-01T22:11:28.098834Z",
     "start_time": "2020-08-01T22:11:28.090407Z"
    }
   },
   "outputs": [],
   "source": [
    "result4 = result4.withColumn('same',F.col(\"pr_sentiment\")==F.col(\"sentiment\"))"
   ]
  },
  {
   "cell_type": "code",
   "execution_count": 229,
   "metadata": {
    "ExecuteTime": {
     "end_time": "2020-08-01T22:16:57.029687Z",
     "start_time": "2020-08-01T22:15:39.703705Z"
    }
   },
   "outputs": [
    {
     "data": {
      "text/plain": [
       "[Row(count(same)=5939)]"
      ]
     },
     "execution_count": 229,
     "metadata": {},
     "output_type": "execute_result"
    }
   ],
   "source": [
    "result4.filter(F.col('same')==1).select(F.count('same')).collect()"
   ]
  },
  {
   "cell_type": "code",
   "execution_count": 230,
   "metadata": {
    "ExecuteTime": {
     "end_time": "2020-08-01T22:21:56.445097Z",
     "start_time": "2020-08-01T22:17:55.893242Z"
    }
   },
   "outputs": [
    {
     "data": {
      "text/plain": [
       "[Row(count(same)=7926)]"
      ]
     },
     "execution_count": 230,
     "metadata": {},
     "output_type": "execute_result"
    }
   ],
   "source": [
    "result4.filter(F.col('same')==0).select(F.count('same')).collect()"
   ]
  },
  {
   "cell_type": "code",
   "execution_count": 242,
   "metadata": {
    "ExecuteTime": {
     "end_time": "2020-08-02T00:53:00.289285Z",
     "start_time": "2020-08-02T00:53:00.285399Z"
    }
   },
   "outputs": [],
   "source": [
    "MODEL_NAME='classifierdl_use_cyberbullying'"
   ]
  },
  {
   "cell_type": "code",
   "execution_count": 243,
   "metadata": {
    "ExecuteTime": {
     "end_time": "2020-08-02T00:53:09.654768Z",
     "start_time": "2020-08-02T00:53:01.401637Z"
    }
   },
   "outputs": [
    {
     "name": "stdout",
     "output_type": "stream",
     "text": [
      "tfhub_use download started this may take some time.\n",
      "Approximate size to download 923.7 MB\n",
      "[OK!]\n",
      "classifierdl_use_cyberbullying download started this may take some time.\n",
      "Approximate size to download 21.4 MB\n",
      "[OK!]\n"
     ]
    }
   ],
   "source": [
    "documentAssembler = DocumentAssembler()\\\n",
    "    .setInputCol(\"text\")\\\n",
    "    .setOutputCol(\"document\")\n",
    "    \n",
    "use = UniversalSentenceEncoder.pretrained(name=\"tfhub_use\", lang=\"en\")\\\n",
    " .setInputCols([\"document\"])\\\n",
    " .setOutputCol(\"sentence_embeddings\")\n",
    "\n",
    "\n",
    "sentimentdl = ClassifierDLModel.pretrained(name=MODEL_NAME)\\\n",
    "    .setInputCols([\"sentence_embeddings\"])\\\n",
    "    .setOutputCol(\"sentiment\")\n",
    "\n",
    "nlpPipeline = Pipeline(\n",
    "      stages = [\n",
    "          documentAssembler,\n",
    "          use,\n",
    "          sentimentdl\n",
    "      ])"
   ]
  },
  {
   "cell_type": "code",
   "execution_count": 244,
   "metadata": {
    "ExecuteTime": {
     "end_time": "2020-08-02T00:53:10.989601Z",
     "start_time": "2020-08-02T00:53:10.965764Z"
    }
   },
   "outputs": [],
   "source": [
    "pipelineModel = nlpPipeline.fit(empty_df)\n",
    "result3 = pipelineModel.transform(spark_df1)"
   ]
  },
  {
   "cell_type": "code",
   "execution_count": 245,
   "metadata": {
    "ExecuteTime": {
     "end_time": "2020-08-02T00:53:12.326127Z",
     "start_time": "2020-08-02T00:53:11.987941Z"
    }
   },
   "outputs": [
    {
     "name": "stdout",
     "output_type": "stream",
     "text": [
      "+--------------------------------------------------------------------------------------------------------------------------------------------+---------+\n",
      "|document                                                                                                                                    |sentiment|\n",
      "+--------------------------------------------------------------------------------------------------------------------------------------------+---------+\n",
      "|RT @NancyLeeGrahn: How did everyone feel about the Climate Change question last night? Exactly. #GOPDebate                                  |neutral  |\n",
      "|RT @ScottWalker: Didn't catch the full #GOPdebate last night. Here are some of Scott's best lines in 90 seconds. #Walker16 http://t.co/ZSfF…|neutral  |\n",
      "|RT @TJMShow: No mention of Tamir Rice and the #GOPDebate was held in Cleveland? Wow.                                                        |neutral  |\n",
      "|RT @RobGeorge: That Carly Fiorina is trending -- hours after HER debate -- above any of the men in just-completed #GOPdebate says she's on …|sexism   |\n",
      "|RT @DanScavino: #GOPDebate w/ @realDonaldTrump delivered the highest ratings in the history of presidential debates. #Trump2016 http://t.co…|sexism   |\n",
      "|\"RT @GregAbbott_TX: @TedCruz: \"\"On my first day I will rescind every illegal executive action taken by Barack Obama.\"\" #GOPDebate @FoxNews\" |neutral  |\n",
      "|RT @warriorwoman91: I liked her and was happy when I heard she was going to be the moderator. Not anymore. #GOPDebate @megynkelly  https://…|sexism   |\n",
      "|Going on #MSNBC Live with @ThomasARoberts around 2 PM ET.  #GOPDebate                                                                       |neutral  |\n",
      "|Deer in the headlights RT @lizzwinstead: Ben Carson, may be the only brain surgeon who has performed a lobotomy on himself. #GOPDebate      |neutral  |\n",
      "|RT @NancyOsborne180: Last night's debate proved it! #GOPDebate #BATsAsk @BadassTeachersA #TBATs  https://t.co/G2gGjY1bJD                    |sexism   |\n",
      "|@JGreenDC @realDonaldTrump In all fairness #BillClinton owns that phrase.#GOPDebate                                                         |neutral  |\n",
      "|RT @WayneDupreeShow: Just woke up to tweet this out #GOPDebate                                                                              |neutral  |\n",
      "|Me reading my family's comments about how great the #GOPDebate was http://t.co/gIaGjPygXZ                                                   |neutral  |\n",
      "|\"RT @ArcticFox2016: RT @AllenWestRepub \"\"Dear @JebBush #GOPDebate #NotAMistake http://t.co/TtFG7KYcd9\"\"\"                                    |sexism   |\n",
      "|RT @pattonoswalt: I loved Scott Walker as Mark Harmon's romantic rival in SUMMER SCHOOL. Look it up. #GOPDebate                             |neutral  |\n",
      "|Hey @ChrisChristie exploiting the tragedy of 9/11 for your own political gain is @rudygiulianiGOP's thing #GOPDebate                        |neutral  |\n",
      "|RT @CarolCNN: #DonaldTrump under fire for comments about women @PeterBeinart @SL_Schaeffer @IWF @@MyRkiger weigh in on #GOPdebate http://t.…|sexism   |\n",
      "|RT @johncardillo: Guess who had most speaking time at the #GOPDebate. @FoxNews moderators with 31.7% of time. http://t.co/2WSUT0c0Lx        |neutral  |\n",
      "|reason comment is funny 'in case you're ignorant' is the #gop #tcot are the reason the government isn't working for the people #gopdebate   |racism   |\n",
      "|RT @PamelaGeller: Huckabee: Paying for transgender surgery for soldiers, sailors and airmen does not make our country safer #Ha #GOPDebate  |sexism   |\n",
      "+--------------------------------------------------------------------------------------------------------------------------------------------+---------+\n",
      "only showing top 20 rows\n",
      "\n"
     ]
    }
   ],
   "source": [
    "result3.select(F.explode(F.arrays_zip('document.result', 'sentiment.result')).alias(\"cols\")) \\\n",
    ".select(F.expr(\"cols['0']\").alias(\"document\"),\n",
    "        F.expr(\"cols['1']\").alias(\"sentiment\")).show(truncate=False)"
   ]
  },
  {
   "cell_type": "code",
   "execution_count": null,
   "metadata": {},
   "outputs": [],
   "source": [
    "\n",
    "\n"
   ]
  }
 ],
 "metadata": {
  "kernelspec": {
   "display_name": "Python 3",
   "language": "python",
   "name": "python3"
  },
  "language_info": {
   "codemirror_mode": {
    "name": "ipython",
    "version": 3
   },
   "file_extension": ".py",
   "mimetype": "text/x-python",
   "name": "python",
   "nbconvert_exporter": "python",
   "pygments_lexer": "ipython3",
   "version": "3.7.6"
  }
 },
 "nbformat": 4,
 "nbformat_minor": 4
}
