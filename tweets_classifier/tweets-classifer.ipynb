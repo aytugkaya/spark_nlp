{
 "cells": [
  {
   "cell_type": "code",
   "execution_count": 1,
   "metadata": {
    "ExecuteTime": {
     "end_time": "2020-08-12T01:17:33.960273Z",
     "start_time": "2020-08-12T01:17:33.833239Z"
    }
   },
   "outputs": [
    {
     "data": {
      "text/html": [
       "<style>.container { width:100% !important; }</style>"
      ],
      "text/plain": [
       "<IPython.core.display.HTML object>"
      ]
     },
     "metadata": {},
     "output_type": "display_data"
    }
   ],
   "source": [
    "import pyspark.sql.functions as F\n",
    "from pyspark.sql.types import StringType\n",
    "import sparknlp\n",
    "from sparknlp.pretrained import PretrainedPipeline\n",
    "from sparknlp.base import *\n",
    "from sparknlp.annotator import *\n",
    "import gc\n",
    "gc.enable()\n",
    "from contractions import CONTRACTION_MAP\n",
    "import re\n",
    "\n",
    "from IPython.core.display import display, HTML\n",
    "display(HTML(\"<style>.container { width:100% !important; }</style>\"))"
   ]
  },
  {
   "cell_type": "code",
   "execution_count": 2,
   "metadata": {
    "ExecuteTime": {
     "end_time": "2020-08-12T01:17:36.385209Z",
     "start_time": "2020-08-12T01:17:33.961410Z"
    }
   },
   "outputs": [
    {
     "data": {
      "text/plain": [
       "'2.5.5'"
      ]
     },
     "execution_count": 2,
     "metadata": {},
     "output_type": "execute_result"
    }
   ],
   "source": [
    "spark = sparknlp.start(gpu=False)\n",
    "sparknlp.version()"
   ]
  },
  {
   "cell_type": "code",
   "execution_count": 3,
   "metadata": {
    "ExecuteTime": {
     "end_time": "2020-08-12T01:17:36.388093Z",
     "start_time": "2020-08-12T01:17:36.386337Z"
    }
   },
   "outputs": [],
   "source": [
    "# Import Spark NLP \n",
    "from sparknlp.base import *\n",
    "from sparknlp.annotator import *\n",
    "#from sparknlp.embeddings import *\n"
   ]
  },
  {
   "cell_type": "markdown",
   "metadata": {},
   "source": [
    "### Twitter Dataset"
   ]
  },
  {
   "cell_type": "markdown",
   "metadata": {},
   "source": [
    "About this file\n",
    "This is the sentiment140 dataset.\n",
    "It contains 1,600,000 tweets extracted using the twitter api . The tweets have been annotated (0 = negative, 2 = neutral, 4 = positive) and they can be used to detect sentiment .\n",
    "It contains the following 6 fields:\n",
    "\n",
    "target: the polarity of the tweet (0 = negative, 2 = neutral, 4 = positive)\n",
    "ids: The id of the tweet ( 2087)\n",
    "date: the date of the tweet (Sat May 16 23:58:44 UTC 2009)\n",
    "flag: The query (lyx). If there is no query, then this value is NO_QUERY.\n",
    "user: the user that tweeted (robotickilldozr)\n",
    "text: the text of the tweet (Lyx is cool)\n",
    "The official link regarding the dataset with resources about how it was generated is here\n",
    "The official paper detailing the approach is here\n",
    "\n",
    "According to the creators of the dataset:\n",
    "\n",
    "\"Our approach was unique because our training data was automatically created, as opposed to having humans manual annotate tweets. In our approach, we assume that any tweet with positive emoticons, like :), were positive, and tweets with negative emoticons, like :(, were negative. We used the Twitter Search API to collect these tweets by using keyword search\"\n",
    "\n",
    "citation: Go, A., Bhayani, R. and Huang, L., 2009. Twitter sentiment classification using distant supervision. CS224N Project Report, Stanford, 1(2009), p.12."
   ]
  },
  {
   "cell_type": "code",
   "execution_count": 4,
   "metadata": {
    "ExecuteTime": {
     "end_time": "2020-08-12T01:17:39.331120Z",
     "start_time": "2020-08-12T01:17:36.389031Z"
    }
   },
   "outputs": [],
   "source": [
    "spark_df = spark.read.csv('training.1600000.processed.noemoticon.csv',header=False,encoding='utf-8',).toDF(\"polarity\",\"id\",\"date\",\"flag\",\"user\",\"text\")\n",
    "spark_df = spark_df.select('text','polarity').filter(\"text is not null\")"
   ]
  },
  {
   "cell_type": "code",
   "execution_count": 5,
   "metadata": {
    "ExecuteTime": {
     "end_time": "2020-08-12T01:17:39.442843Z",
     "start_time": "2020-08-12T01:17:39.332019Z"
    },
    "scrolled": true
   },
   "outputs": [
    {
     "name": "stdout",
     "output_type": "stream",
     "text": [
      "+----------------------------------------------------------------------+--------+\n",
      "|                                                                  text|polarity|\n",
      "+----------------------------------------------------------------------+--------+\n",
      "|@switchfoot http://twitpic.com/2y1zl - Awww, that's a bummer.  You ...|       0|\n",
      "|is upset that he can't update his Facebook by texting it... and mig...|       0|\n",
      "|@Kenichan I dived many times for the ball. Managed to save 50%  The...|       0|\n",
      "|                       my whole body feels itchy and like its on fire |       0|\n",
      "|@nationwideclass no, it's not behaving at all. i'm mad. why am i he...|       0|\n",
      "|                                         @Kwesidei not the whole crew |       0|\n",
      "|                                                           Need a hug |       0|\n",
      "|@LOLTrish hey  long time no see! Yes.. Rains a bit ,only a bit  LOL...|       0|\n",
      "|                                  @Tatiana_K nope they didn't have it |       0|\n",
      "|                                             @twittera que me muera ? |       0|\n",
      "+----------------------------------------------------------------------+--------+\n",
      "only showing top 10 rows\n",
      "\n"
     ]
    }
   ],
   "source": [
    "spark_df.show(10,truncate=70)"
   ]
  },
  {
   "cell_type": "code",
   "execution_count": 6,
   "metadata": {
    "ExecuteTime": {
     "end_time": "2020-08-12T01:17:40.911552Z",
     "start_time": "2020-08-12T01:17:39.443922Z"
    }
   },
   "outputs": [
    {
     "name": "stdout",
     "output_type": "stream",
     "text": [
      "+--------+------+\n",
      "|polarity| count|\n",
      "+--------+------+\n",
      "|       0|800000|\n",
      "|       4|800000|\n",
      "+--------+------+\n",
      "\n"
     ]
    }
   ],
   "source": [
    "spark_df.groupBy(\"polarity\").count().show()"
   ]
  },
  {
   "cell_type": "code",
   "execution_count": 7,
   "metadata": {
    "ExecuteTime": {
     "end_time": "2020-08-12T01:17:40.914508Z",
     "start_time": "2020-08-12T01:17:40.912607Z"
    }
   },
   "outputs": [],
   "source": [
    "pol = {0: 'negative', 2 :'neutral', 4 : 'positive'}"
   ]
  },
  {
   "cell_type": "code",
   "execution_count": 8,
   "metadata": {
    "ExecuteTime": {
     "end_time": "2020-08-12T01:17:40.960691Z",
     "start_time": "2020-08-12T01:17:40.915951Z"
    }
   },
   "outputs": [],
   "source": [
    "from itertools import chain\n",
    "mapping_expr = F.create_map([F.lit(x) for x in chain(*pol.items())])"
   ]
  },
  {
   "cell_type": "code",
   "execution_count": 9,
   "metadata": {
    "ExecuteTime": {
     "end_time": "2020-08-12T01:17:40.977194Z",
     "start_time": "2020-08-12T01:17:40.961677Z"
    }
   },
   "outputs": [],
   "source": [
    "\n",
    "spark_df = spark_df.withColumn('polarity', mapping_expr[spark_df['polarity']])\n"
   ]
  },
  {
   "cell_type": "code",
   "execution_count": 10,
   "metadata": {
    "ExecuteTime": {
     "end_time": "2020-08-12T01:17:40.982406Z",
     "start_time": "2020-08-12T01:17:40.978222Z"
    }
   },
   "outputs": [],
   "source": [
    "emojis = {\":)\": 'smile', \":-)\": 'smile', \";D\": 'wink', ';d': 'wink', ':-E': 'vampire', ':(': 'sad', \n",
    "          ':-(': 'sad', ':-<': 'sad', ':P': 'raspberry', ':O': 'surprised', \":*(\": \"crying\",\n",
    "          ':-@': 'shocked', ':@': 'shocked',':-$': 'confused', ':\\\\': 'annoyed', \n",
    "          ':#': 'mute', ':X': 'mute', ':^)': 'smile', ':-&': 'confused', '$_$': 'greedy',\n",
    "          '@@': 'eyeroll', ':-!': 'confused', ':-D': 'smile', ':-0': 'yell', 'O.o': 'confused',\n",
    "          '<(-_-)>': 'robot', 'd[-_-]b': 'dj', \":'-)\": 'sadsmile', ';)': 'wink', \n",
    "          ';-)': 'wink', 'O:-)': 'angel','O*-)': 'angel','(:-D': 'gossip', '=^.^=': 'cat'}"
   ]
  },
  {
   "cell_type": "code",
   "execution_count": 11,
   "metadata": {
    "ExecuteTime": {
     "end_time": "2020-08-12T01:17:40.985299Z",
     "start_time": "2020-08-12T01:17:40.983269Z"
    }
   },
   "outputs": [],
   "source": [
    "def replEmo(text,emojis=emojis):\n",
    "\n",
    "    for emoji in emojis.keys():\n",
    "            text = text.replace(emoji, \"EMOJI\" + emojis[emoji])  \n",
    "    return text\n"
   ]
  },
  {
   "cell_type": "code",
   "execution_count": 12,
   "metadata": {
    "ExecuteTime": {
     "end_time": "2020-08-12T01:17:40.988841Z",
     "start_time": "2020-08-12T01:17:40.986270Z"
    }
   },
   "outputs": [],
   "source": [
    "def expand_contractions(text,contraction_mapping=CONTRACTION_MAP):\n",
    "\n",
    "    for cont in contraction_mapping.keys():\n",
    "            text = text.replace(cont, contraction_mapping[cont])  \n",
    "    return text\n"
   ]
  },
  {
   "cell_type": "code",
   "execution_count": 13,
   "metadata": {
    "ExecuteTime": {
     "end_time": "2020-08-12T01:17:40.992965Z",
     "start_time": "2020-08-12T01:17:40.989784Z"
    }
   },
   "outputs": [],
   "source": [
    "expContr = F.udf(expand_contractions,F.StringType())"
   ]
  },
  {
   "cell_type": "code",
   "execution_count": 14,
   "metadata": {
    "ExecuteTime": {
     "end_time": "2020-08-12T01:17:40.996537Z",
     "start_time": "2020-08-12T01:17:40.993794Z"
    }
   },
   "outputs": [],
   "source": [
    "excEmos = F.udf(replEmo,F.StringType())"
   ]
  },
  {
   "cell_type": "code",
   "execution_count": 15,
   "metadata": {
    "ExecuteTime": {
     "end_time": "2020-08-12T01:17:41.023856Z",
     "start_time": "2020-08-12T01:17:40.997347Z"
    }
   },
   "outputs": [],
   "source": [
    "spark_df = spark_df.withColumn('text',expContr('text'))"
   ]
  },
  {
   "cell_type": "code",
   "execution_count": 16,
   "metadata": {
    "ExecuteTime": {
     "end_time": "2020-08-12T01:17:41.041534Z",
     "start_time": "2020-08-12T01:17:41.024675Z"
    }
   },
   "outputs": [],
   "source": [
    "spark_df = spark_df.withColumn('text',excEmos('text'))"
   ]
  },
  {
   "cell_type": "code",
   "execution_count": 18,
   "metadata": {},
   "outputs": [],
   "source": [
    "spark_df = spark_df.withColumn(\"text\", F.regexp_replace('text',\"\\w+:\\/{2}[\\d\\w\\-]+(\\.[\\d\\w\\-]+)*(?:(?:\\/[^\\s/]*))*\",\" URL\").alias('text')).filter(\"text is not null\")"
   ]
  },
  {
   "cell_type": "code",
   "execution_count": 19,
   "metadata": {
    "ExecuteTime": {
     "end_time": "2020-08-12T01:17:41.543529Z",
     "start_time": "2020-08-12T01:17:41.530964Z"
    }
   },
   "outputs": [],
   "source": [
    "spark_df = spark_df.withColumn(\"text\", F.regexp_replace('text',\"http.{1,10}…\",\" URL\")).filter(\"text is not null\")"
   ]
  },
  {
   "cell_type": "code",
   "execution_count": 20,
   "metadata": {
    "ExecuteTime": {
     "end_time": "2020-08-12T01:17:41.574434Z",
     "start_time": "2020-08-12T01:17:41.563441Z"
    }
   },
   "outputs": [],
   "source": [
    "spark_df = spark_df.withColumn(\"text\", F.regexp_replace('text',\"\\@[a-zA-Z0-9_]{0,15}\",\" USER\")).filter(\"text is not null\")"
   ]
  },
  {
   "cell_type": "code",
   "execution_count": 22,
   "metadata": {
    "ExecuteTime": {
     "end_time": "2020-08-12T01:17:41.998759Z",
     "start_time": "2020-08-12T01:17:41.986354Z"
    }
   },
   "outputs": [],
   "source": [
    "spark_df = spark_df.withColumn(\"text\", F.regexp_replace('text',\"RT\\s.*\\:\\s\",\" RETWEET\")).filter(\"text is not null\")"
   ]
  },
  {
   "cell_type": "code",
   "execution_count": 23,
   "metadata": {
    "ExecuteTime": {
     "end_time": "2020-08-12T01:17:42.016006Z",
     "start_time": "2020-08-12T01:17:42.000479Z"
    }
   },
   "outputs": [],
   "source": [
    "spark_df = spark_df.withColumn(\"text\", F.trim(spark_df['text'])).filter(\"text is not null\").filter(F.col(\"text\") !=  \"\").filter(F.col(\"polarity\") !=  \"\")"
   ]
  },
  {
   "cell_type": "code",
   "execution_count": 25,
   "metadata": {
    "ExecuteTime": {
     "end_time": "2020-08-12T01:17:42.730982Z",
     "start_time": "2020-08-12T01:17:42.662303Z"
    }
   },
   "outputs": [],
   "source": [
    "spark_df =  spark_df.withColumn(\"text\", F.regexp_replace('text',\"\\s{2,}\",\" \")).filter(\"text is not null\")\n",
    "spark_df =  spark_df.withColumn(\"text\", F.regexp_replace('text',\"\\&quot\",\"\")).filter(\"text is not null\")\n",
    "spark_df =  spark_df.withColumn(\"text\", F.regexp_replace('text',\"\\&amp\",\" and \")).filter(\"text is not null\")\n",
    "spark_df =  spark_df.withColumn(\"text\", F.regexp_replace('text',\"\\&lt\",\" < \")).filter(\"text is not null\")\n",
    "spark_df =  spark_df.withColumn(\"text\", F.regexp_replace('text',\"\\&gt\",\" > \")).filter(\"text is not null\")"
   ]
  },
  {
   "cell_type": "code",
   "execution_count": 27,
   "metadata": {
    "ExecuteTime": {
     "end_time": "2020-08-12T01:20:16.123542Z",
     "start_time": "2020-08-12T01:17:43.946253Z"
    }
   },
   "outputs": [
    {
     "name": "stdout",
     "output_type": "stream",
     "text": [
      "+----+--------+\n",
      "|text|polarity|\n",
      "+----+--------+\n",
      "+----+--------+\n",
      "\n"
     ]
    }
   ],
   "source": [
    "spark_df.filter(F.length(\"text\") <  3).show()"
   ]
  },
  {
   "cell_type": "code",
   "execution_count": 28,
   "metadata": {
    "ExecuteTime": {
     "end_time": "2020-08-12T01:20:16.137419Z",
     "start_time": "2020-08-12T01:20:16.124404Z"
    }
   },
   "outputs": [],
   "source": [
    "remove_repeaters = lambda s: re.sub(r\"(.)\\1\\1+\",r\"\\1\\1\", s)\n",
    "\n",
    "spark_df = spark_df.withColumn('text', F.udf(remove_repeaters, StringType())('text'))"
   ]
  },
  {
   "cell_type": "code",
   "execution_count": 29,
   "metadata": {
    "ExecuteTime": {
     "end_time": "2020-08-12T01:20:16.148311Z",
     "start_time": "2020-08-12T01:20:16.138526Z"
    }
   },
   "outputs": [],
   "source": [
    "sub=spark_df.orderBy(F.rand()).limit(400*1000)"
   ]
  },
  {
   "cell_type": "code",
   "execution_count": 30,
   "metadata": {
    "ExecuteTime": {
     "end_time": "2020-08-12T01:20:16.159211Z",
     "start_time": "2020-08-12T01:20:16.149477Z"
    }
   },
   "outputs": [],
   "source": [
    "train, test = sub.randomSplit([0.8, 0.2], seed=128)"
   ]
  },
  {
   "cell_type": "code",
   "execution_count": 32,
   "metadata": {
    "ExecuteTime": {
     "end_time": "2020-08-12T01:21:34.585109Z",
     "start_time": "2020-08-12T01:20:16.162319Z"
    }
   },
   "outputs": [
    {
     "name": "stdout",
     "output_type": "stream",
     "text": [
      "+--------------------------------------------------------------------------------------------------------------------------------------------+--------+\n",
      "|text                                                                                                                                        |polarity|\n",
      "+--------------------------------------------------------------------------------------------------------------------------------------------+--------+\n",
      "| < ; 3 for my 22! iClever                                                                                                                   |positive|\n",
      "| < ; < ; < ; < ; made up #do notyouwish                                                                                                     |positive|\n",
      "| < ; USER Will keep on trying.You do not show up in the list of ppl I am following, so can only read you when you USER to me directly       |negative|\n",
      "| < ; has a new avatar on the forum                                                                                                          |positive|\n",
      "| < ;- I am pretty sure MSTRKRFT melted my face off last might but Justin says it is still there.                                            |positive|\n",
      "| < ;- is glad to be back in tucson.                                                                                                         |positive|\n",
      "| < ;-- Fighting the NWO every day.                                                                                                          |positive|\n",
      "| < ;-- Misses USER and USER and USER there is no place like home (click click) ugh, it is not wrkn . .                                      |negative|\n",
      "| < ;-- Should be in Philly                                                                                                                  |negative|\n",
      "| < ;-- This is the way i feel right now..                                                                                                   |negative|\n",
      "| < ;-- Tired of elementary tricks on twitter. This shit needa be 18+ unless u a celeb! ( i am 23)                                           |positive|\n",
      "| < ;-- WinchesterLambourne.etsy.com but the name was too long to tweet.                                                                     |negative|\n",
      "| < ;-- does not want to go fishing today stupid allergies.                                                                                  |negative|\n",
      "| < ;-- excruciating headache, my teeth are killing me..whole face hurts .. wtf!                                                             |negative|\n",
      "| < ;-- feelin a lil pathetic, seems like Im TWEETing 2 myself.                                                                              |negative|\n",
      "| < ;-- has been hit by the twitpocalypse - #twitterific on my iPhone now does not work..                                                    |negative|\n",
      "| < ;-- has fallen in love.. W/ a doxie mix USER dog adoptions 2day. He's currently sleepin curled up in my lap on the way back 2 the kennels|negative|\n",
      "| < ;-- is bored at work ..                                                                                                                  |negative|\n",
      "| < ;-- is freaking out about flying tomorrow.                                                                                               |negative|\n",
      "| < ;--has no internet for the weekend                                                                                                       |negative|\n",
      "+--------------------------------------------------------------------------------------------------------------------------------------------+--------+\n",
      "only showing top 20 rows\n",
      "\n"
     ]
    }
   ],
   "source": [
    "train.show(truncate=False)"
   ]
  },
  {
   "cell_type": "code",
   "execution_count": 33,
   "metadata": {
    "ExecuteTime": {
     "end_time": "2020-08-12T01:22:53.077048Z",
     "start_time": "2020-08-12T01:21:34.586295Z"
    },
    "scrolled": true
   },
   "outputs": [
    {
     "name": "stdout",
     "output_type": "stream",
     "text": [
      "+----------------------------------------------------------------------------------------------------------------------------------------------+--------+\n",
      "|text                                                                                                                                          |polarity|\n",
      "+----------------------------------------------------------------------------------------------------------------------------------------------+--------+\n",
      "| < ; is about to get hit in the head from Karen for this song ? URL                                                                           |positive|\n",
      "| < ; still hungry still have not eatin.                                                                                                       |negative|\n",
      "| < ;*~Free!~* > ;                                                                                                                             |positive|\n",
      "| < ;-- cannot sing, thank you for showing me this, guitar hero                                                                                |negative|\n",
      "| < ;-- feels sad only has 24 followers - I must be boring                                                                                     |negative|\n",
      "| < ;-- is sad he lost his soccer semi tonight. Maybe tomorrow or Thurs will go better.                                                        |negative|\n",
      "| < ;-- this is my face! USER needs to make that shout out to me!! it was my pooh joke!                                                        |negative|\n",
      "| < ;3 Britney last night!! had a fabb weekend! wish it did not have to end!                                                                   |negative|\n",
      "| < ;3 my Frankiee Lampss                                                                                                                      |positive|\n",
      "| < ;3 my Ryo Ohki backpack                                                                                                                    |positive|\n",
      "| < ;i > ;Waiting For Natie to come online I miss him                                                                                          |negative|\n",
      "| < ;sigh > ; I am beginning to think that there is nothing for me here in Kansas, but I have too many ties here to leave now.                 |negative|\n",
      "| < ;~ so upset my calendar on my BB got erased somehow along with all the notes I had written about R's firsts so I could have the dates      |negative|\n",
      "| > ; < ; laptop internet out again, must settle for phone internet                                                                            |negative|\n",
      "| > ; > ; excerpt from Memoirs Of A Teenage Amnesiac by Gabrielle Zevin.                                                                       |positive|\n",
      "| > ; USER: *PERSONALLY CONFIRMED FROM #IRAN* Tanks have rolled in Tehran .. #iranelection #gr88 Flash back to '79 {Images?}                   |negative|\n",
      "| > ; twitter needs to make the character limit 300 or something. 140 isnt enough especially when you got a really funny joke to say           |negative|\n",
      "| > ; was wanderin arnd the whole day.. spent most of the time in ma car.. wher time flows for me faster than itself                           |positive|\n",
      "| > ;KingAussie: For some unknown stupid reason.. The reason is, 'coz you are a SHEEP as well. We all are, mate.                               |positive|\n",
      "| > ;it know that  > ;can you rely on me for everything because you is the person most important in my life in the entire world!! ok is true =D|positive|\n",
      "+----------------------------------------------------------------------------------------------------------------------------------------------+--------+\n",
      "only showing top 20 rows\n",
      "\n"
     ]
    }
   ],
   "source": [
    "test.show(truncate=False)"
   ]
  },
  {
   "cell_type": "code",
   "execution_count": 34,
   "metadata": {
    "ExecuteTime": {
     "end_time": "2020-08-12T01:24:11.930035Z",
     "start_time": "2020-08-12T01:22:53.078001Z"
    }
   },
   "outputs": [
    {
     "name": "stdout",
     "output_type": "stream",
     "text": [
      "+--------+------+\n",
      "|polarity| count|\n",
      "+--------+------+\n",
      "|positive|160666|\n",
      "|negative|159232|\n",
      "+--------+------+\n",
      "\n"
     ]
    }
   ],
   "source": [
    "train.groupBy('polarity').count().show()"
   ]
  },
  {
   "cell_type": "code",
   "execution_count": 35,
   "metadata": {
    "ExecuteTime": {
     "end_time": "2020-08-12T01:25:29.637705Z",
     "start_time": "2020-08-12T01:24:11.931210Z"
    }
   },
   "outputs": [
    {
     "name": "stdout",
     "output_type": "stream",
     "text": [
      "+--------+-----+\n",
      "|polarity|count|\n",
      "+--------+-----+\n",
      "|positive|40060|\n",
      "|negative|40042|\n",
      "+--------+-----+\n",
      "\n"
     ]
    }
   ],
   "source": [
    "test.groupBy('polarity').count().show()"
   ]
  },
  {
   "cell_type": "code",
   "execution_count": 36,
   "metadata": {},
   "outputs": [],
   "source": [
    "def print_latest_log(path):\n",
    "   \n",
    "    from pathlib import Path\n",
    "    import pendulum\n",
    "    \n",
    "    files=[*Path(path).iterdir()]\n",
    "    files=[(file,file.stat().st_ctime) for file in files]\n",
    "    \n",
    "    a=sorted(files, key=lambda x:x[1],reverse=True)[0]\n",
    "    \n",
    "    with open(a[0],'r') as f:\n",
    "        b=f.readlines()\n",
    "    \n",
    "    print(pendulum.from_timestamp(a[1],tz=pendulum.local_timezone()).to_cookie_string(),\"\\n\")\n",
    "    \n",
    "    [print(b_) for b_ in b]\n",
    "    \n",
    "    return"
   ]
  },
  {
   "cell_type": "code",
   "execution_count": 48,
   "metadata": {
    "ExecuteTime": {
     "end_time": "2020-08-12T01:25:45.616881Z",
     "start_time": "2020-08-12T01:25:29.641354Z"
    }
   },
   "outputs": [
    {
     "name": "stdout",
     "output_type": "stream",
     "text": [
      "lemma_antbnc download started this may take some time.\n",
      "Approximate size to download 907.6 KB\n",
      "[OK!]\n",
      "glove_100d download started this may take some time.\n",
      "Approximate size to download 145.3 MB\n",
      "[OK!]\n"
     ]
    }
   ],
   "source": [
    "document_assembler = DocumentAssembler() \\\n",
    "    .setInputCol(\"text\") \\\n",
    "    .setOutputCol(\"document\")\\\n",
    "    .setCleanupMode('shrink') \n",
    "\n",
    "tokenizer = Tokenizer() \\\n",
    "  .setInputCols([\"document\"]) \\\n",
    "  .setOutputCol(\"token\")\n",
    "\n",
    "normalizer = Normalizer() \\\n",
    "    .setInputCols([\"token\"]) \\\n",
    "    .setOutputCol(\"normalized\")\\\n",
    "    .setLowercase(True)\n",
    "    \n",
    "lemma = LemmatizerModel.pretrained('lemma_antbnc') \\\n",
    "    .setInputCols([\"normalized\"]) \\\n",
    "    .setOutputCol(\"lemma\")\n",
    "\n",
    "glove_embeddings = WordEmbeddingsModel().pretrained() \\\n",
    " .setInputCols([\"document\",'lemma'])\\\n",
    " .setOutputCol(\"embeddings\")\\\n",
    " .setCaseSensitive(False)\n",
    "\n",
    "embeddingsSentence = SentenceEmbeddings() \\\n",
    "      .setInputCols([\"document\", \"embeddings\"]) \\\n",
    "      .setOutputCol(\"sentence_embeddings\") \\\n",
    "      .setPoolingStrategy(\"AVERAGE\")\n",
    "\n",
    "\n",
    "sentimentClassifier = SentimentDLApproach()\\\n",
    "      .setInputCols(\"sentence_embeddings\")\\\n",
    "      .setOutputCol(\"prediction\")\\\n",
    "      .setLabelColumn(\"polarity\")\\\n",
    "      .setBatchSize(16)\\\n",
    "      .setMaxEpochs(10)\\\n",
    "      .setDropout(0.65)\\\n",
    "      .setValidationSplit(0.2)\\\n",
    "      .setThreshold(0.0)\\\n",
    "      .setLr(0.003)\n",
    "\n",
    "\n",
    "clf_pipeline = Pipeline(\n",
    "    stages=[document_assembler, \n",
    "            tokenizer,\n",
    "            normalizer,\n",
    "            lemma, \n",
    "            glove_embeddings,\n",
    "            embeddingsSentence,\n",
    "            sentimentClassifier\n",
    "           ])"
   ]
  },
  {
   "cell_type": "code",
   "execution_count": 49,
   "metadata": {
    "ExecuteTime": {
     "end_time": "2020-08-12T02:07:09.521153Z",
     "start_time": "2020-08-12T01:33:56.563091Z"
    }
   },
   "outputs": [],
   "source": [
    "pipelineModel = clf_pipeline.fit(train)\n",
    "\n"
   ]
  },
  {
   "cell_type": "code",
   "execution_count": 53,
   "metadata": {},
   "outputs": [],
   "source": [
    "result = pipelineModel.transform(test)\n",
    "\n"
   ]
  },
  {
   "cell_type": "code",
   "execution_count": 55,
   "metadata": {},
   "outputs": [],
   "source": [
    "result_exp=result.select(F.explode(F.arrays_zip('document.result', 'prediction.result')).alias(\"cols\"),'polarity') \\\n",
    ".select(F.expr(\"cols['0']\").alias(\"document\"),\n",
    "        F.expr(\"cols['1']\").alias(\"sentiment\"),'polarity')"
   ]
  },
  {
   "cell_type": "code",
   "execution_count": 56,
   "metadata": {},
   "outputs": [
    {
     "name": "stdout",
     "output_type": "stream",
     "text": [
      "+--------------------+---------+--------+\n",
      "|            document|sentiment|polarity|\n",
      "+--------------------+---------+--------+\n",
      "|< ; is about to g...| positive|positive|\n",
      "|< ; still hungry ...| negative|negative|\n",
      "|    < ;*~Free!~* > ;| positive|positive|\n",
      "|< ;-- cannot sing...| positive|negative|\n",
      "|< ;-- feels sad o...| negative|negative|\n",
      "|< ;-- is sad he l...| negative|negative|\n",
      "|< ;-- this is my ...| negative|negative|\n",
      "|< ;3 Britney last...| negative|negative|\n",
      "|< ;3 my Frankiee ...| negative|positive|\n",
      "|< ;3 my Ryo Ohki ...| positive|positive|\n",
      "|< ;i > ;Waiting F...| negative|negative|\n",
      "|< ;sigh > ; I am ...| negative|negative|\n",
      "|< ;~ so upset my ...| negative|negative|\n",
      "|> ; < ; laptop in...| negative|negative|\n",
      "|> ; > ; excerpt f...| positive|positive|\n",
      "|> ; USER: *PERSON...| negative|negative|\n",
      "|> ; twitter needs...| positive|negative|\n",
      "|> ; was wanderin ...| positive|positive|\n",
      "|> ;KingAussie: Fo...| positive|positive|\n",
      "|> ;it know that >...| negative|positive|\n",
      "+--------------------+---------+--------+\n",
      "only showing top 20 rows\n",
      "\n"
     ]
    }
   ],
   "source": [
    "result_exp.show()"
   ]
  },
  {
   "cell_type": "code",
   "execution_count": 61,
   "metadata": {},
   "outputs": [
    {
     "name": "stdout",
     "output_type": "stream",
     "text": [
      "tfhub_use download started this may take some time.\n",
      "Approximate size to download 923.7 MB\n",
      "[OK!]\n",
      "sentimentdl_use_twitter download started this may take some time.\n",
      "Approximate size to download 11.9 MB\n",
      "[OK!]\n"
     ]
    }
   ],
   "source": [
    "documentAssembler = DocumentAssembler()\\\n",
    "    .setInputCol(\"text\")\\\n",
    "    .setOutputCol(\"document\")\n",
    "    \n",
    "use = UniversalSentenceEncoder.pretrained(name=\"tfhub_use\", lang=\"en\")\\\n",
    " .setInputCols([\"document\"])\\\n",
    " .setOutputCol(\"sentence_embeddings\")\n",
    "\n",
    "MODEL_NAME='sentimentdl_use_twitter'\n",
    "\n",
    "sentimentdl = SentimentDLModel.pretrained(name=MODEL_NAME, lang=\"en\")\\\n",
    "    .setInputCols([\"sentence_embeddings\"])\\\n",
    "    .setOutputCol(\"pr_polarity\")\n",
    "\n",
    "nlpPipeline = Pipeline(\n",
    "      stages = [\n",
    "          documentAssembler,\n",
    "          use,\n",
    "          sentimentdl\n",
    "      ])\n"
   ]
  },
  {
   "cell_type": "code",
   "execution_count": 63,
   "metadata": {},
   "outputs": [],
   "source": [
    "empty_df = spark.createDataFrame([['']]).toDF(\"text\")\n",
    "\n",
    "pipelineModel = nlpPipeline.fit(empty_df)\n",
    "\n",
    "result = pipelineModel.transform(train)"
   ]
  },
  {
   "cell_type": "code",
   "execution_count": 66,
   "metadata": {},
   "outputs": [
    {
     "name": "stdout",
     "output_type": "stream",
     "text": [
      "+--------------------------------------------------------------------------------------------------------------------------------------------+-----------+--------+\n",
      "|document                                                                                                                                    |pr_polarity|polarity|\n",
      "+--------------------------------------------------------------------------------------------------------------------------------------------+-----------+--------+\n",
      "| < ; 3 for my 22! iClever                                                                                                                   |neutral    |positive|\n",
      "| < ; < ; < ; < ; made up #do notyouwish                                                                                                     |positive   |positive|\n",
      "| < ; USER Will keep on trying.You do not show up in the list of ppl I am following, so can only read you when you USER to me directly       |positive   |negative|\n",
      "| < ; has a new avatar on the forum                                                                                                          |positive   |positive|\n",
      "| < ;- I am pretty sure MSTRKRFT melted my face off last might but Justin says it is still there.                                            |negative   |positive|\n",
      "| < ;- is glad to be back in tucson.                                                                                                         |negative   |positive|\n",
      "| < ;-- Fighting the NWO every day.                                                                                                          |positive   |positive|\n",
      "| < ;-- Misses USER and USER and USER there is no place like home (click click) ugh, it is not wrkn . .                                      |positive   |negative|\n",
      "| < ;-- Should be in Philly                                                                                                                  |negative   |negative|\n",
      "| < ;-- This is the way i feel right now..                                                                                                   |negative   |negative|\n",
      "| < ;-- Tired of elementary tricks on twitter. This shit needa be 18+ unless u a celeb! ( i am 23)                                           |positive   |positive|\n",
      "| < ;-- WinchesterLambourne.etsy.com but the name was too long to tweet.                                                                     |negative   |negative|\n",
      "| < ;-- does not want to go fishing today stupid allergies.                                                                                  |negative   |negative|\n",
      "| < ;-- excruciating headache, my teeth are killing me..whole face hurts .. wtf!                                                             |negative   |negative|\n",
      "| < ;-- feelin a lil pathetic, seems like Im TWEETing 2 myself.                                                                              |negative   |negative|\n",
      "| < ;-- has been hit by the twitpocalypse - #twitterific on my iPhone now does not work..                                                    |negative   |negative|\n",
      "| < ;-- has fallen in love.. W/ a doxie mix USER dog adoptions 2day. He's currently sleepin curled up in my lap on the way back 2 the kennels|negative   |negative|\n",
      "| < ;-- is bored at work ..                                                                                                                  |negative   |negative|\n",
      "| < ;-- is freaking out about flying tomorrow.                                                                                               |positive   |negative|\n",
      "| < ;--has no internet for the weekend                                                                                                       |negative   |negative|\n",
      "+--------------------------------------------------------------------------------------------------------------------------------------------+-----------+--------+\n",
      "only showing top 20 rows\n",
      "\n"
     ]
    }
   ],
   "source": [
    "result.select(F.explode(F.arrays_zip('document.result', 'pr_polarity.result')).alias(\"cols\"),\"polarity\") \\\n",
    ".select(F.expr(\"cols['0']\").alias(\"document\"),\n",
    "        F.expr(\"cols['1']\").alias(\"pr_polarity\"),\"polarity\").show(truncate=False)"
   ]
  },
  {
   "cell_type": "code",
   "execution_count": 67,
   "metadata": {},
   "outputs": [
    {
     "name": "stdout",
     "output_type": "stream",
     "text": [
      "tfhub_use download started this may take some time.\n",
      "Approximate size to download 923.7 MB\n",
      "[OK!]\n",
      "sentimentdl_use_twitter download started this may take some time.\n",
      "Approximate size to download 11.9 MB\n",
      "[OK!]\n"
     ]
    }
   ],
   "source": [
    "documentAssembler = DocumentAssembler()\\\n",
    "    .setInputCol(\"text\")\\\n",
    "    .setOutputCol(\"document\")\n",
    "    \n",
    "use = UniversalSentenceEncoder.pretrained(name=\"tfhub_use\", lang=\"en\")\\\n",
    " .setInputCols([\"document\"])\\\n",
    " .setOutputCol(\"sentence_embeddings\")\n",
    "\n",
    "MODEL_NAME='sentimentdl_use_twitter'\n",
    "\n",
    "sentimentdl = SentimentDLModel.pretrained(name=MODEL_NAME, lang=\"en\")\\\n",
    "    .setInputCols([\"sentence_embeddings\"])\\\n",
    "    .setOutputCol(\"pr_polarity\")\\\n",
    "    .setThreshold(0.0)\n",
    "\n",
    "nlpPipeline = Pipeline(\n",
    "      stages = [\n",
    "          documentAssembler,\n",
    "          use,\n",
    "          sentimentdl\n",
    "      ])"
   ]
  },
  {
   "cell_type": "code",
   "execution_count": 68,
   "metadata": {},
   "outputs": [],
   "source": [
    "empty_df = spark.createDataFrame([['']]).toDF(\"text\")\n",
    "\n",
    "pipelineModel = nlpPipeline.fit(empty_df)\n",
    "\n",
    "result = pipelineModel.transform(train)"
   ]
  },
  {
   "cell_type": "code",
   "execution_count": 69,
   "metadata": {},
   "outputs": [
    {
     "name": "stdout",
     "output_type": "stream",
     "text": [
      "+--------------------------------------------------------------------------------------------------------------------------------------------+-----------+--------+\n",
      "|document                                                                                                                                    |pr_polarity|polarity|\n",
      "+--------------------------------------------------------------------------------------------------------------------------------------------+-----------+--------+\n",
      "| < ; 3 for my 22! iClever                                                                                                                   |negative   |positive|\n",
      "| < ; < ; < ; < ; made up #do notyouwish                                                                                                     |positive   |positive|\n",
      "| < ; USER Will keep on trying.You do not show up in the list of ppl I am following, so can only read you when you USER to me directly       |positive   |negative|\n",
      "| < ; has a new avatar on the forum                                                                                                          |positive   |positive|\n",
      "| < ;- I am pretty sure MSTRKRFT melted my face off last might but Justin says it is still there.                                            |negative   |positive|\n",
      "| < ;- is glad to be back in tucson.                                                                                                         |negative   |positive|\n",
      "| < ;-- Fighting the NWO every day.                                                                                                          |positive   |positive|\n",
      "| < ;-- Misses USER and USER and USER there is no place like home (click click) ugh, it is not wrkn . .                                      |positive   |negative|\n",
      "| < ;-- Should be in Philly                                                                                                                  |negative   |negative|\n",
      "| < ;-- This is the way i feel right now..                                                                                                   |negative   |negative|\n",
      "| < ;-- Tired of elementary tricks on twitter. This shit needa be 18+ unless u a celeb! ( i am 23)                                           |positive   |positive|\n",
      "| < ;-- WinchesterLambourne.etsy.com but the name was too long to tweet.                                                                     |negative   |negative|\n",
      "| < ;-- does not want to go fishing today stupid allergies.                                                                                  |negative   |negative|\n",
      "| < ;-- excruciating headache, my teeth are killing me..whole face hurts .. wtf!                                                             |negative   |negative|\n",
      "| < ;-- feelin a lil pathetic, seems like Im TWEETing 2 myself.                                                                              |negative   |negative|\n",
      "| < ;-- has been hit by the twitpocalypse - #twitterific on my iPhone now does not work..                                                    |negative   |negative|\n",
      "| < ;-- has fallen in love.. W/ a doxie mix USER dog adoptions 2day. He's currently sleepin curled up in my lap on the way back 2 the kennels|negative   |negative|\n",
      "| < ;-- is bored at work ..                                                                                                                  |negative   |negative|\n",
      "| < ;-- is freaking out about flying tomorrow.                                                                                               |positive   |negative|\n",
      "| < ;--has no internet for the weekend                                                                                                       |negative   |negative|\n",
      "+--------------------------------------------------------------------------------------------------------------------------------------------+-----------+--------+\n",
      "only showing top 20 rows\n",
      "\n"
     ]
    }
   ],
   "source": [
    "result.select(F.explode(F.arrays_zip('document.result', 'pr_polarity.result')).alias(\"cols\"),\"polarity\") \\\n",
    ".select(F.expr(\"cols['0']\").alias(\"document\"),\n",
    "        F.expr(\"cols['1']\").alias(\"pr_polarity\"),\"polarity\").show(truncate=False)"
   ]
  },
  {
   "cell_type": "code",
   "execution_count": 70,
   "metadata": {},
   "outputs": [],
   "source": [
    "resdf=result.select(F.explode(F.arrays_zip('document.result', 'pr_polarity.result')).alias(\"cols\"),\"polarity\") \\\n",
    ".select(F.expr(\"cols['0']\").alias(\"document\"),\n",
    "        F.expr(\"cols['1']\").alias(\"pr_polarity\"),\"polarity\").toPandas()"
   ]
  },
  {
   "cell_type": "code",
   "execution_count": 71,
   "metadata": {},
   "outputs": [
    {
     "data": {
      "text/html": [
       "<div>\n",
       "<style scoped>\n",
       "    .dataframe tbody tr th:only-of-type {\n",
       "        vertical-align: middle;\n",
       "    }\n",
       "\n",
       "    .dataframe tbody tr th {\n",
       "        vertical-align: top;\n",
       "    }\n",
       "\n",
       "    .dataframe thead th {\n",
       "        text-align: right;\n",
       "    }\n",
       "</style>\n",
       "<table border=\"1\" class=\"dataframe\">\n",
       "  <thead>\n",
       "    <tr style=\"text-align: right;\">\n",
       "      <th></th>\n",
       "      <th>document</th>\n",
       "      <th>pr_polarity</th>\n",
       "      <th>polarity</th>\n",
       "    </tr>\n",
       "  </thead>\n",
       "  <tbody>\n",
       "    <tr>\n",
       "      <th>0</th>\n",
       "      <td>&lt; ; 3 for my 22! iClever</td>\n",
       "      <td>negative</td>\n",
       "      <td>positive</td>\n",
       "    </tr>\n",
       "    <tr>\n",
       "      <th>1</th>\n",
       "      <td>&lt; ; &lt; ; &lt; ; &lt; ; made up #do notyouwish</td>\n",
       "      <td>positive</td>\n",
       "      <td>positive</td>\n",
       "    </tr>\n",
       "    <tr>\n",
       "      <th>2</th>\n",
       "      <td>&lt; ; USER Will keep on trying.You do not show ...</td>\n",
       "      <td>positive</td>\n",
       "      <td>negative</td>\n",
       "    </tr>\n",
       "    <tr>\n",
       "      <th>3</th>\n",
       "      <td>&lt; ; has a new avatar on the forum</td>\n",
       "      <td>positive</td>\n",
       "      <td>positive</td>\n",
       "    </tr>\n",
       "    <tr>\n",
       "      <th>4</th>\n",
       "      <td>&lt; ;- I am pretty sure MSTRKRFT melted my face...</td>\n",
       "      <td>negative</td>\n",
       "      <td>positive</td>\n",
       "    </tr>\n",
       "    <tr>\n",
       "      <th>...</th>\n",
       "      <td>...</td>\n",
       "      <td>...</td>\n",
       "      <td>...</td>\n",
       "    </tr>\n",
       "    <tr>\n",
       "      <th>319893</th>\n",
       "      <td>�cont) friends beauty at it is best..,,.</td>\n",
       "      <td>positive</td>\n",
       "      <td>positive</td>\n",
       "    </tr>\n",
       "    <tr>\n",
       "      <th>319894</th>\n",
       "      <td>�cont) ticket back to UK*</td>\n",
       "      <td>negative</td>\n",
       "      <td>positive</td>\n",
       "    </tr>\n",
       "    <tr>\n",
       "      <th>319895</th>\n",
       "      <td>�go shawty,it is my birthday!we gonna party li...</td>\n",
       "      <td>positive</td>\n",
       "      <td>positive</td>\n",
       "    </tr>\n",
       "    <tr>\n",
       "      <th>319896</th>\n",
       "      <td>�ter vattenmelon eating watermelon</td>\n",
       "      <td>positive</td>\n",
       "      <td>positive</td>\n",
       "    </tr>\n",
       "    <tr>\n",
       "      <th>319897</th>\n",
       "      <td>��ߧ�ǿ��ж�؜��  &lt; ; &lt; ;--I DID NOT KNOW I CUD or...</td>\n",
       "      <td>negative</td>\n",
       "      <td>positive</td>\n",
       "    </tr>\n",
       "  </tbody>\n",
       "</table>\n",
       "<p>319898 rows × 3 columns</p>\n",
       "</div>"
      ],
      "text/plain": [
       "                                                 document pr_polarity  \\\n",
       "0                                < ; 3 for my 22! iClever    negative   \n",
       "1                  < ; < ; < ; < ; made up #do notyouwish    positive   \n",
       "2        < ; USER Will keep on trying.You do not show ...    positive   \n",
       "3                       < ; has a new avatar on the forum    positive   \n",
       "4        < ;- I am pretty sure MSTRKRFT melted my face...    negative   \n",
       "...                                                   ...         ...   \n",
       "319893           �cont) friends beauty at it is best..,,.    positive   \n",
       "319894                          �cont) ticket back to UK*    negative   \n",
       "319895  �go shawty,it is my birthday!we gonna party li...    positive   \n",
       "319896                 �ter vattenmelon eating watermelon    positive   \n",
       "319897  ��ߧ�ǿ��ж�؜��  < ; < ;--I DID NOT KNOW I CUD or...    negative   \n",
       "\n",
       "        polarity  \n",
       "0       positive  \n",
       "1       positive  \n",
       "2       negative  \n",
       "3       positive  \n",
       "4       positive  \n",
       "...          ...  \n",
       "319893  positive  \n",
       "319894  positive  \n",
       "319895  positive  \n",
       "319896  positive  \n",
       "319897  positive  \n",
       "\n",
       "[319898 rows x 3 columns]"
      ]
     },
     "execution_count": 71,
     "metadata": {},
     "output_type": "execute_result"
    }
   ],
   "source": [
    "resdf\n"
   ]
  },
  {
   "cell_type": "code",
   "execution_count": 72,
   "metadata": {},
   "outputs": [],
   "source": [
    "from sklearn import metrics as met"
   ]
  },
  {
   "cell_type": "code",
   "execution_count": 79,
   "metadata": {},
   "outputs": [
    {
     "name": "stdout",
     "output_type": "stream",
     "text": [
      "              precision    recall  f1-score   support\n",
      "\n",
      "    negative       0.82      0.79      0.81    159232\n",
      "    positive       0.80      0.83      0.82    160666\n",
      "\n",
      "    accuracy                           0.81    319898\n",
      "   macro avg       0.81      0.81      0.81    319898\n",
      "weighted avg       0.81      0.81      0.81    319898\n",
      "\n"
     ]
    }
   ],
   "source": [
    "print(met.classification_report(resdf.polarity,resdf.pr_polarity))"
   ]
  },
  {
   "cell_type": "code",
   "execution_count": null,
   "metadata": {},
   "outputs": [],
   "source": []
  }
 ],
 "metadata": {
  "kernelspec": {
   "display_name": "Python 3",
   "language": "python",
   "name": "python3"
  },
  "language_info": {
   "codemirror_mode": {
    "name": "ipython",
    "version": 3
   },
   "file_extension": ".py",
   "mimetype": "text/x-python",
   "name": "python",
   "nbconvert_exporter": "python",
   "pygments_lexer": "ipython3",
   "version": "3.7.6"
  }
 },
 "nbformat": 4,
 "nbformat_minor": 4
}
